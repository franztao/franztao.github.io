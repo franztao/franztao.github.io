{
 "cells": [
  {
   "cell_type": "code",
   "execution_count": 1,
   "id": "e6a51b61-2ada-4432-b2db-9a84f495a9ce",
   "metadata": {},
   "outputs": [],
   "source": [
    "# Numerical Operations\n",
    "import math\n",
    "import numpy as np\n",
    "\n",
    "# Reading/Writing Data\n",
    "import pandas as pd\n",
    "import os\n",
    "import csv\n",
    "\n",
    "# For Progress Bar\n",
    "from tqdm import tqdm\n",
    "\n",
    "# Pytorch\n",
    "import torch \n",
    "import torch.nn as nn\n",
    "from torch.utils.data import Dataset, DataLoader, random_split\n",
    "\n",
    "# For plotting learning curve\n",
    "from torch.utils.tensorboard import SummaryWriter"
   ]
  },
  {
   "cell_type": "code",
   "execution_count": null,
   "id": "674b72d8-5f04-41ca-800f-68804f1f05cd",
   "metadata": {},
   "outputs": [],
   "source": [
    "# 自动数据生成  https://mp.weixin.qq.com/s/I6dflmo5slXgwhZOLEZeqw"
   ]
  },
  {
   "cell_type": "code",
   "execution_count": 2,
   "id": "6452122e-76e6-4285-ad9b-fdca26749a3b",
   "metadata": {},
   "outputs": [
    {
     "name": "stdout",
     "output_type": "stream",
     "text": [
      "Sat Apr 23 15:19:13 2022       \n",
      "+-----------------------------------------------------------------------------+\n",
      "| NVIDIA-SMI 470.86       Driver Version: 470.86       CUDA Version: 11.4     |\n",
      "|-------------------------------+----------------------+----------------------+\n",
      "| GPU  Name        Persistence-M| Bus-Id        Disp.A | Volatile Uncorr. ECC |\n",
      "| Fan  Temp  Perf  Pwr:Usage/Cap|         Memory-Usage | GPU-Util  Compute M. |\n",
      "|                               |                      |               MIG M. |\n",
      "|===============================+======================+======================|\n",
      "|   0  NVIDIA GeForce ...  Off  | 00000000:1A:00.0 Off |                  N/A |\n",
      "| 77%   71C    P2   183W / 250W |   3326MiB / 11019MiB |     99%      Default |\n",
      "|                               |                      |                  N/A |\n",
      "+-------------------------------+----------------------+----------------------+\n",
      "|   1  NVIDIA GeForce ...  Off  | 00000000:3E:00.0 Off |                  N/A |\n",
      "| 27%   33C    P8     3W / 250W |   1636MiB / 11019MiB |      0%      Default |\n",
      "|                               |                      |                  N/A |\n",
      "+-------------------------------+----------------------+----------------------+\n",
      "|   2  NVIDIA GeForce ...  Off  | 00000000:88:00.0 Off |                  N/A |\n",
      "| 27%   28C    P8    15W / 250W |      3MiB / 11019MiB |      0%      Default |\n",
      "|                               |                      |                  N/A |\n",
      "+-------------------------------+----------------------+----------------------+\n",
      "|   3  NVIDIA GeForce ...  Off  | 00000000:89:00.0 Off |                  N/A |\n",
      "| 27%   27C    P8     2W / 250W |      3MiB / 11019MiB |      0%      Default |\n",
      "|                               |                      |                  N/A |\n",
      "+-------------------------------+----------------------+----------------------+\n",
      "|   4  NVIDIA GeForce ...  Off  | 00000000:B2:00.0 Off |                  N/A |\n",
      "| 22%   28C    P8    20W / 250W |   1020MiB / 11019MiB |      0%      Default |\n",
      "|                               |                      |                  N/A |\n",
      "+-------------------------------+----------------------+----------------------+\n",
      "                                                                               \n",
      "+-----------------------------------------------------------------------------+\n",
      "| Processes:                                                                  |\n",
      "|  GPU   GI   CI        PID   Type   Process name                  GPU Memory |\n",
      "|        ID   ID                                                   Usage      |\n",
      "|=============================================================================|\n",
      "|    0   N/A  N/A      5721      C   ...phcommon-py3.8/bin/python      923MiB |\n",
      "|    0   N/A  N/A     31377      C   ...phcommon-py3.8/bin/python     1307MiB |\n",
      "|    0   N/A  N/A     44088      C   ...phcommon-py3.8/bin/python     1093MiB |\n",
      "|    1   N/A  N/A     17048      C   ...phcommon-py3.8/bin/python     1633MiB |\n",
      "|    4   N/A  N/A      5721      C   ...phcommon-py3.8/bin/python     1017MiB |\n",
      "+-----------------------------------------------------------------------------+\n"
     ]
    }
   ],
   "source": [
    "!nvidia-smi"
   ]
  },
  {
   "cell_type": "code",
   "execution_count": 3,
   "id": "76f23468-ad39-4f63-8ef5-8271be07075c",
   "metadata": {},
   "outputs": [],
   "source": [
    "def same_seed(seed): \n",
    "    '''Fixes random number generator seeds for reproducibility.'''\n",
    "    torch.backends.cudnn.deterministic = True\n",
    "    torch.backends.cudnn.benchmark = False\n",
    "    np.random.seed(seed)\n",
    "    torch.manual_seed(seed)\n",
    "    if torch.cuda.is_available():\n",
    "        torch.cuda.manual_seed_all(seed)\n",
    "\n",
    "def train_valid_split(data_set, valid_ratio, seed):\n",
    "    '''Split provided training data into training set and validation set'''\n",
    "    valid_set_size = int(valid_ratio * len(data_set)) \n",
    "    train_set_size = len(data_set) - valid_set_size\n",
    "    train_set, valid_set = random_split(data_set, [train_set_size, valid_set_size], generator=torch.Generator().manual_seed(seed))\n",
    "    return np.array(train_set), np.array(valid_set)\n",
    "\n",
    "def predict(test_loader, model, device):\n",
    "    model.eval() # Set your model to evaluation mode.\n",
    "    preds = []\n",
    "    for x in tqdm(test_loader):\n",
    "        x = x.to(device)                        \n",
    "        with torch.no_grad():                   \n",
    "            pred = model(x)                     \n",
    "            preds.append(pred.detach().cpu())   \n",
    "    preds = torch.cat(preds, dim=0).numpy()  \n",
    "    return preds"
   ]
  },
  {
   "cell_type": "code",
   "execution_count": 4,
   "id": "3d9d53ea-9909-4a11-a89a-ea3e2a2283c5",
   "metadata": {},
   "outputs": [],
   "source": [
    "class COVID19Dataset(Dataset):\n",
    "    '''\n",
    "    x: Features.\n",
    "    y: Targets, if none, do prediction.\n",
    "    '''\n",
    "    def __init__(self, x, y=None):\n",
    "        if y is None:\n",
    "            self.y = y\n",
    "        else:\n",
    "            self.y = torch.FloatTensor(y)\n",
    "        self.x = torch.FloatTensor(x)\n",
    "\n",
    "    def __getitem__(self, idx):\n",
    "        if self.y is None:\n",
    "            return self.x[idx]\n",
    "        else:\n",
    "            return self.x[idx], self.y[idx]\n",
    "\n",
    "    def __len__(self):\n",
    "        return len(self.x)"
   ]
  },
  {
   "cell_type": "code",
   "execution_count": 5,
   "id": "8a0ee7d8-6145-45f9-902e-249b0412c6a4",
   "metadata": {},
   "outputs": [],
   "source": [
    "class My_Model(nn.Module):\n",
    "    def __init__(self, input_dim):\n",
    "        super(My_Model, self).__init__()\n",
    "        # TODO: modify model's structure, be aware of dimensions. \n",
    "        # self.layers = nn.Sequential(\n",
    "        #     nn.Linear(input_dim, 16),\n",
    "        #     nn.ReLU(),\n",
    "        #     nn.Linear(16, 8),\n",
    "        #     nn.ReLU(),\n",
    "        #     nn.Linear(8, 1)\n",
    "        # )\n",
    "        self.layers = nn.Sequential(\n",
    "            nn.Linear(input_dim, 64),\n",
    "            nn.LeakyReLU(0.2),\n",
    "            nn.BatchNorm1d(64),\n",
    "            nn.Dropout(0.2),\n",
    "            \n",
    "            nn.Linear(64, 16),\n",
    "            nn.LeakyReLU(0.2),\n",
    "            #nn.BatchNorm1d(10),\n",
    "            nn.Dropout(0.1),\n",
    "            \n",
    "            nn.Linear(16, 1)\n",
    "        )\n",
    "\n",
    "    def forward(self, x):\n",
    "        x = self.layers(x)\n",
    "        x = x.squeeze(1) # (B, 1) -> (B)\n",
    "        return x"
   ]
  },
  {
   "cell_type": "code",
   "execution_count": 6,
   "id": "8e6648c7-46e6-49ac-b162-11ab9115fd1d",
   "metadata": {},
   "outputs": [
    {
     "name": "stdout",
     "output_type": "stream",
     "text": [
      "                id           AL           AK           AZ           AR  \\\n",
      "count  2700.000000  2700.000000  2700.000000  2700.000000  2700.000000   \n",
      "mean   1349.500000     0.024815     0.024815     0.024815     0.024815   \n",
      "std     779.567188     0.155589     0.155589     0.155589     0.155589   \n",
      "min       0.000000     0.000000     0.000000     0.000000     0.000000   \n",
      "25%     674.750000     0.000000     0.000000     0.000000     0.000000   \n",
      "50%    1349.500000     0.000000     0.000000     0.000000     0.000000   \n",
      "75%    2024.250000     0.000000     0.000000     0.000000     0.000000   \n",
      "max    2699.000000     1.000000     1.000000     1.000000     1.000000   \n",
      "\n",
      "                CA           CO           CT           FL           GA  ...  \\\n",
      "count  2700.000000  2700.000000  2700.000000  2700.000000  2700.000000  ...   \n",
      "mean      0.024815     0.024815     0.024815     0.024815     0.024815  ...   \n",
      "std       0.155589     0.155589     0.155589     0.155589     0.155589  ...   \n",
      "min       0.000000     0.000000     0.000000     0.000000     0.000000  ...   \n",
      "25%       0.000000     0.000000     0.000000     0.000000     0.000000  ...   \n",
      "50%       0.000000     0.000000     0.000000     0.000000     0.000000  ...   \n",
      "75%       0.000000     0.000000     0.000000     0.000000     0.000000  ...   \n",
      "max       1.000000     1.000000     1.000000     1.000000     1.000000  ...   \n",
      "\n",
      "       restaurant.2  spent_time.2  large_event.2  public_transit.2  \\\n",
      "count   2700.000000   2700.000000    2700.000000       2700.000000   \n",
      "mean      16.578290     36.074941      10.257474          2.385735   \n",
      "std        5.651583      6.655166       4.686263          1.053147   \n",
      "min        3.637414     21.485815       2.118674          0.728770   \n",
      "25%       13.200532     30.606711       6.532543          1.714080   \n",
      "50%       16.227010     36.041389       9.700368          2.199521   \n",
      "75%       21.207162     41.508520      13.602566          2.730469   \n",
      "max       28.488220     50.606465      24.496711          8.162275   \n",
      "\n",
      "         anxious.2  depressed.2  felt_isolated.2  worried_become_ill.2  \\\n",
      "count  2700.000000  2700.000000      2700.000000           2700.000000   \n",
      "mean     18.067635    13.058828        19.243283             64.834307   \n",
      "std       2.250081     1.628589         2.708339              6.220087   \n",
      "min      12.980786     8.370536        13.400399             48.225603   \n",
      "25%      16.420485    11.914167        17.322912             59.782876   \n",
      "50%      17.684197    12.948749        18.760267             65.932259   \n",
      "75%      19.503419    14.214320        20.713638             69.719651   \n",
      "max      28.574091    18.715944        28.366270             77.701014   \n",
      "\n",
      "       worried_finances.2  tested_positive.2  \n",
      "count         2700.000000        2700.000000  \n",
      "mean            44.568440          16.431280  \n",
      "std              5.232030           7.619354  \n",
      "min             33.113882           2.338708  \n",
      "25%             40.549987          10.327314  \n",
      "50%             43.997637          15.646480  \n",
      "75%             48.118283          22.535165  \n",
      "max             58.433600          40.959495  \n",
      "\n",
      "[8 rows x 95 columns]\n",
      "   id   AL   AK   AZ   AR   CA   CO   CT   FL   GA  ...  restaurant.2  \\\n",
      "0   0  1.0  0.0  0.0  0.0  0.0  0.0  0.0  0.0  0.0  ...     23.812411   \n",
      "1   1  1.0  0.0  0.0  0.0  0.0  0.0  0.0  0.0  0.0  ...     23.682974   \n",
      "2   2  1.0  0.0  0.0  0.0  0.0  0.0  0.0  0.0  0.0  ...     23.593983   \n",
      "3   3  1.0  0.0  0.0  0.0  0.0  0.0  0.0  0.0  0.0  ...     22.576992   \n",
      "4   4  1.0  0.0  0.0  0.0  0.0  0.0  0.0  0.0  0.0  ...     22.091433   \n",
      "\n",
      "   spent_time.2  large_event.2  public_transit.2  anxious.2  depressed.2  \\\n",
      "0     43.430423      16.151527          1.602635  15.409449    12.088688   \n",
      "1     43.196313      16.123386          1.641863  15.230063    11.809047   \n",
      "2     43.362200      16.159971          1.677523  15.717207    12.355918   \n",
      "3     42.954574      15.544373          1.578030  15.295650    12.218123   \n",
      "4     43.290957      15.214655          1.641667  14.778802    12.417256   \n",
      "\n",
      "   felt_isolated.2  worried_become_ill.2  worried_finances.2  \\\n",
      "0        16.702086             53.991549           43.604229   \n",
      "1        16.506973             54.185521           42.665766   \n",
      "2        16.273294             53.637069           42.972417   \n",
      "3        16.045504             52.446223           42.907472   \n",
      "4        16.134238             52.560315           43.321985   \n",
      "\n",
      "   tested_positive.2  \n",
      "0          20.704935  \n",
      "1          21.292911  \n",
      "2          21.166656  \n",
      "3          19.896607  \n",
      "4          20.178428  \n",
      "\n",
      "[5 rows x 95 columns]\n",
      "(2700, 95)\n",
      "Top 24 Best feature score \n",
      "[148069.65827795  69603.87259124   9235.49209446   9209.01955785\n",
      "   9097.37517171   8395.42129963   8343.2559274    8208.17643471\n",
      "   6388.90684911   6374.54799995   6250.00870173   5998.9228802\n",
      "   5937.58857644   5796.94767179    833.61319117    811.91646005\n",
      "    788.07693082    686.73653865    681.56290219    678.83478857\n",
      "    561.76405071    553.87672742    546.55339549    328.68231125]\n",
      "\n",
      "Top 24 Best feature index \n",
      "[76 58 43 61 79 44 62 80 41 59 77 42 60 78 93 75 57 88 70 52 84 66 48  0]\n",
      "\n",
      "Top 24 Best feature name\n",
      "Index(['tested_positive.1', 'tested_positive', 'hh_cmnty_cli',\n",
      "       'hh_cmnty_cli.1', 'hh_cmnty_cli.2', 'nohh_cmnty_cli',\n",
      "       'nohh_cmnty_cli.1', 'nohh_cmnty_cli.2', 'cli', 'cli.1', 'cli.2', 'ili',\n",
      "       'ili.1', 'ili.2', 'worried_finances.2', 'worried_finances.1',\n",
      "       'worried_finances', 'public_transit.2', 'public_transit.1',\n",
      "       'public_transit', 'shop.2', 'shop.1', 'shop', 'id'],\n",
      "      dtype='object')\n",
      "[0, 41, 42, 43, 44, 48, 52, 57, 58, 59, 60, 61, 62, 66, 70, 75, 76, 77, 78, 79, 80, 84, 88, 93]\n",
      "Index(['id', 'cli', 'ili', 'hh_cmnty_cli', 'nohh_cmnty_cli', 'shop',\n",
      "       'public_transit', 'worried_finances', 'tested_positive', 'cli.1',\n",
      "       'ili.1', 'hh_cmnty_cli.1', 'nohh_cmnty_cli.1', 'shop.1',\n",
      "       'public_transit.1', 'worried_finances.1', 'tested_positive.1', 'cli.2',\n",
      "       'ili.2', 'hh_cmnty_cli.2', 'nohh_cmnty_cli.2', 'shop.2',\n",
      "       'public_transit.2', 'worried_finances.2'],\n",
      "      dtype='object')\n"
     ]
    }
   ],
   "source": [
    "from sklearn.feature_selection import SelectKBest\n",
    "from sklearn.feature_selection import f_regression\n",
    "\n",
    "features = pd.read_csv('./covid.train.csv')\n",
    "print(features.describe())\n",
    "print(features.head())\n",
    "print(features.shape)\n",
    "x_data, y_data = features.iloc[:, 0:94], features.iloc[:, 94]\n",
    "\n",
    "#try choose your k best features\n",
    "k = 24\n",
    "selector = SelectKBest(score_func=f_regression, k=k)\n",
    "result = selector.fit(x_data, y_data)\n",
    "\n",
    "#result.scores_ inclues scores for each features\n",
    "#np.argsort sort scores in ascending order by index, we reverse it to make it descending.\n",
    "idx = np.argsort(result.scores_)[::-1]\n",
    "print(f'Top {k} Best feature score ')\n",
    "print(result.scores_[idx[:k]])\n",
    "\n",
    "print(f'\\nTop {k} Best feature index ')\n",
    "print(idx[:k])\n",
    "\n",
    "print(f'\\nTop {k} Best feature name')\n",
    "print(x_data.columns[idx[:k]])\n",
    "\n",
    "selected_idx = list(np.sort(idx[:k]))\n",
    "print(selected_idx)\n",
    "print(x_data.columns[selected_idx])"
   ]
  },
  {
   "cell_type": "code",
   "execution_count": 7,
   "id": "19be8f3c-9a68-442c-97ce-46cb786a3120",
   "metadata": {},
   "outputs": [],
   "source": [
    "def select_feat(train_data, valid_data, test_data, select_all=True):\n",
    "    '''Selects useful features to perform regression'''\n",
    "    y_train, y_valid = train_data[:,-1], valid_data[:,-1]\n",
    "    raw_x_train, raw_x_valid, raw_x_test = train_data[:,:-1], valid_data[:,:-1], test_data\n",
    "\n",
    "    if select_all:\n",
    "        feat_idx = list(range(raw_x_train.shape[1]))\n",
    "    else:\n",
    "        # feat_idx = [0,1,2,3,4] # TODO: Select suitable feature columns.\n",
    "        feat_idx = selected_idx\n",
    "        \n",
    "    return raw_x_train[:,feat_idx], raw_x_valid[:,feat_idx], raw_x_test[:,feat_idx], y_train, y_valid"
   ]
  },
  {
   "cell_type": "code",
   "execution_count": 8,
   "id": "7475b6ff-d373-45d3-b046-e7c2bd006938",
   "metadata": {},
   "outputs": [],
   "source": [
    "def trainer(train_loader, valid_loader, model, config, device):\n",
    "\n",
    "    criterion = nn.MSELoss(reduction='mean') # Define your loss function, do not modify this.\n",
    "\n",
    "    # Define your optimization algorithm. \n",
    "    # TODO: Please check https://pytorch.org/docs/stable/optim.html to get more available algorithms.\n",
    "    # TODO: L2 regularization (optimizer(weight decay...) or implement by your self).\n",
    "    optimizer = torch.optim.SGD(model.parameters(), lr=config['learning_rate'], momentum=0.9) \n",
    "    \n",
    "    scheduler = torch.optim.lr_scheduler.CosineAnnealingWarmRestarts(optimizer, \n",
    "                                        T_0=2, T_mult=2, eta_min=config['learning_rate'])\n",
    "\n",
    "    writer = SummaryWriter() # Writer of tensoboard.\n",
    "\n",
    "    if not os.path.isdir('./models'):\n",
    "        os.mkdir('./models') # Create directory of saving models.\n",
    "\n",
    "    n_epochs, best_loss, step, early_stop_count = config['n_epochs'], math.inf, 0, 0\n",
    "\n",
    "    for epoch in range(n_epochs):\n",
    "        model.train() # Set your model to train mode.\n",
    "        loss_record = []\n",
    "\n",
    "        # tqdm is a package to visualize your training progress.\n",
    "        train_pbar = tqdm(train_loader, position=0, leave=True)\n",
    "\n",
    "        for x, y in train_pbar:\n",
    "            optimizer.zero_grad()               # Set gradient to zero.\n",
    "            x, y = x.to(device), y.to(device)   # Move your data to device. \n",
    "            pred = model(x)             \n",
    "            loss = criterion(pred, y)\n",
    "            loss.backward()                     # Compute gradient(backpropagation).\n",
    "            optimizer.step()                    # Update parameters.\n",
    "            step += 1\n",
    "            loss_record.append(loss.detach().item())\n",
    "            \n",
    "            # Display current epoch number and loss on tqdm progress bar.\n",
    "            train_pbar.set_description(f'Epoch [{epoch+1}/{n_epochs}]')\n",
    "            train_pbar.set_postfix({'loss': loss.detach().item()})\n",
    "\n",
    "        scheduler.step() \n",
    "            \n",
    "        mean_train_loss = sum(loss_record)/len(loss_record)\n",
    "        writer.add_scalar('Loss/train', mean_train_loss, step)\n",
    "\n",
    "        model.eval() # Set your model to evaluation mode.\n",
    "        loss_record = []\n",
    "        for x, y in valid_loader:\n",
    "            x, y = x.to(device), y.to(device)\n",
    "            with torch.no_grad():\n",
    "                pred = model(x)\n",
    "                loss = criterion(pred, y)\n",
    "\n",
    "            loss_record.append(loss.item())\n",
    "            \n",
    "        mean_valid_loss = sum(loss_record)/len(loss_record)\n",
    "        print(f'Epoch [{epoch+1}/{n_epochs}]: Train loss: {mean_train_loss:.4f}, Valid loss: {mean_valid_loss:.4f}')\n",
    "        writer.add_scalar('Loss/valid', mean_valid_loss, step)\n",
    "\n",
    "        if mean_valid_loss < best_loss:\n",
    "            best_loss = mean_valid_loss\n",
    "            torch.save(model.state_dict(), config['save_path']) # Save your best model\n",
    "            print('Saving model with loss {:.3f}...'.format(best_loss))\n",
    "            early_stop_count = 0\n",
    "        else: \n",
    "            early_stop_count += 1\n",
    "\n",
    "        if early_stop_count >= config['early_stop']:\n",
    "            print('\\nModel is not improving, so we halt the training session.')\n",
    "            return"
   ]
  },
  {
   "cell_type": "code",
   "execution_count": 9,
   "id": "a521c734-9ace-4979-8d8a-db66d90c0dee",
   "metadata": {},
   "outputs": [],
   "source": [
    "# device = 'cuda' if torch.cuda.is_available() else 'cpu'\n",
    "i=1\n",
    "device =torch.device(f'cuda:{i}')\n",
    "\n",
    "config = {\n",
    "    'seed': 5201314,      # Your seed number, you can pick your lucky number. :)\n",
    "    'select_all': True,   # Whether to use all features.\n",
    "    'valid_ratio': 0.2,   # validation_size = train_size * valid_ratio\n",
    "    'n_epochs': 5000,     # Number of epochs.            \n",
    "    'batch_size': 64, \n",
    "    'learning_rate': 1e-5,              \n",
    "    'early_stop': 500,    # If model has not improved for this many consecutive epochs, stop training.     \n",
    "    'save_path': './models/model.ckpt'  # Your model will be saved here.\n",
    "}"
   ]
  },
  {
   "cell_type": "code",
   "execution_count": 10,
   "id": "69f252cd-0ab8-41f3-a165-40fcbdf35438",
   "metadata": {},
   "outputs": [
    {
     "name": "stdout",
     "output_type": "stream",
     "text": [
      "train_data size: (2160, 95) \n",
      "valid_data size: (540, 95) \n",
      "test_data size: (893, 94)\n",
      "number of features: 94\n"
     ]
    }
   ],
   "source": [
    "# Set seed for reproducibility\n",
    "same_seed(config['seed'])\n",
    "\n",
    "\n",
    "# train_data size: 2699 x 118 (id + 37 states + 16 features x 5 days) \n",
    "# test_data size: 1078 x 117 (without last day's positive rate)\n",
    "train_data, test_data = pd.read_csv('./covid.train.csv').values, pd.read_csv('./covid.test.csv').values\n",
    "train_data, valid_data = train_valid_split(train_data, config['valid_ratio'], config['seed'])\n",
    "\n",
    "# Print out the data size.\n",
    "print(f\"\"\"train_data size: {train_data.shape} \n",
    "valid_data size: {valid_data.shape} \n",
    "test_data size: {test_data.shape}\"\"\")\n",
    "\n",
    "# Select features\n",
    "x_train, x_valid, x_test, y_train, y_valid = select_feat(train_data, valid_data, test_data, config['select_all'])\n",
    "\n",
    "# Print out the number of features.\n",
    "print(f'number of features: {x_train.shape[1]}')\n",
    "\n",
    "train_dataset, valid_dataset, test_dataset = COVID19Dataset(x_train, y_train), \\\n",
    "                                            COVID19Dataset(x_valid, y_valid), \\\n",
    "                                            COVID19Dataset(x_test)\n",
    "\n",
    "# Pytorch data loader loads pytorch dataset into batches.\n",
    "train_loader = DataLoader(train_dataset, batch_size=config['batch_size'], shuffle=True, pin_memory=True)\n",
    "valid_loader = DataLoader(valid_dataset, batch_size=config['batch_size'], shuffle=True, pin_memory=True)\n",
    "test_loader = DataLoader(test_dataset, batch_size=config['batch_size'], shuffle=False, pin_memory=True)"
   ]
  },
  {
   "cell_type": "code",
   "execution_count": null,
   "id": "ece6c929-debf-47f3-968c-61dfb1712d44",
   "metadata": {},
   "outputs": [
    {
     "name": "stderr",
     "output_type": "stream",
     "text": [
      "Epoch [1/5000]: 100%|██████████| 34/34 [00:00<00:00, 87.21it/s, loss=267]\n"
     ]
    },
    {
     "name": "stdout",
     "output_type": "stream",
     "text": [
      "Epoch [1/5000]: Train loss: 314.0589, Valid loss: 306.5201\n",
      "Saving model with loss 306.520...\n"
     ]
    },
    {
     "name": "stderr",
     "output_type": "stream",
     "text": [
      "Epoch [2/5000]: 100%|██████████| 34/34 [00:00<00:00, 268.42it/s, loss=256]\n"
     ]
    },
    {
     "name": "stdout",
     "output_type": "stream",
     "text": [
      "Epoch [2/5000]: Train loss: 296.8540, Valid loss: 296.2214\n",
      "Saving model with loss 296.221...\n"
     ]
    },
    {
     "name": "stderr",
     "output_type": "stream",
     "text": [
      "Epoch [3/5000]: 100%|██████████| 34/34 [00:00<00:00, 237.02it/s, loss=283]\n"
     ]
    },
    {
     "name": "stdout",
     "output_type": "stream",
     "text": [
      "Epoch [3/5000]: Train loss: 272.8821, Valid loss: 273.4886\n",
      "Saving model with loss 273.489...\n"
     ]
    },
    {
     "name": "stderr",
     "output_type": "stream",
     "text": [
      "Epoch [4/5000]: 100%|██████████| 34/34 [00:00<00:00, 215.29it/s, loss=209]"
     ]
    },
    {
     "name": "stdout",
     "output_type": "stream",
     "text": [
      "Epoch [4/5000]: Train loss: 242.3474, Valid loss: 248.4359\n"
     ]
    },
    {
     "name": "stderr",
     "output_type": "stream",
     "text": [
      "\n"
     ]
    },
    {
     "name": "stdout",
     "output_type": "stream",
     "text": [
      "Saving model with loss 248.436...\n"
     ]
    },
    {
     "name": "stderr",
     "output_type": "stream",
     "text": [
      "Epoch [5/5000]: 100%|██████████| 34/34 [00:00<00:00, 240.96it/s, loss=213]"
     ]
    },
    {
     "name": "stdout",
     "output_type": "stream",
     "text": [
      "Epoch [5/5000]: Train loss: 209.0686, Valid loss: 212.0443\n"
     ]
    },
    {
     "name": "stderr",
     "output_type": "stream",
     "text": [
      "\n"
     ]
    },
    {
     "name": "stdout",
     "output_type": "stream",
     "text": [
      "Saving model with loss 212.044...\n"
     ]
    },
    {
     "name": "stderr",
     "output_type": "stream",
     "text": [
      "Epoch [6/5000]: 100%|██████████| 34/34 [00:00<00:00, 236.57it/s, loss=226]"
     ]
    },
    {
     "name": "stdout",
     "output_type": "stream",
     "text": [
      "Epoch [6/5000]: Train loss: 178.1916, Valid loss: 193.8008\n"
     ]
    },
    {
     "name": "stderr",
     "output_type": "stream",
     "text": [
      "\n"
     ]
    },
    {
     "name": "stdout",
     "output_type": "stream",
     "text": [
      "Saving model with loss 193.801...\n"
     ]
    },
    {
     "name": "stderr",
     "output_type": "stream",
     "text": [
      "Epoch [7/5000]: 100%|██████████| 34/34 [00:00<00:00, 225.59it/s, loss=160] "
     ]
    },
    {
     "name": "stdout",
     "output_type": "stream",
     "text": [
      "Epoch [7/5000]: Train loss: 153.2558, Valid loss: 168.8557\n"
     ]
    },
    {
     "name": "stderr",
     "output_type": "stream",
     "text": [
      "\n"
     ]
    },
    {
     "name": "stdout",
     "output_type": "stream",
     "text": [
      "Saving model with loss 168.856...\n"
     ]
    },
    {
     "name": "stderr",
     "output_type": "stream",
     "text": [
      "Epoch [8/5000]: 100%|██████████| 34/34 [00:00<00:00, 249.78it/s, loss=95.7]"
     ]
    },
    {
     "name": "stdout",
     "output_type": "stream",
     "text": [
      "Epoch [8/5000]: Train loss: 130.8263, Valid loss: 112.9144\n"
     ]
    },
    {
     "name": "stderr",
     "output_type": "stream",
     "text": [
      "\n"
     ]
    },
    {
     "name": "stdout",
     "output_type": "stream",
     "text": [
      "Saving model with loss 112.914...\n"
     ]
    },
    {
     "name": "stderr",
     "output_type": "stream",
     "text": [
      "Epoch [9/5000]: 100%|██████████| 34/34 [00:00<00:00, 212.06it/s, loss=99.2]\n"
     ]
    },
    {
     "name": "stdout",
     "output_type": "stream",
     "text": [
      "Epoch [9/5000]: Train loss: 112.8416, Valid loss: 120.2132\n"
     ]
    },
    {
     "name": "stderr",
     "output_type": "stream",
     "text": [
      "Epoch [10/5000]: 100%|██████████| 34/34 [00:00<00:00, 218.00it/s, loss=130] \n"
     ]
    },
    {
     "name": "stdout",
     "output_type": "stream",
     "text": [
      "Epoch [10/5000]: Train loss: 103.5621, Valid loss: 117.3884\n"
     ]
    },
    {
     "name": "stderr",
     "output_type": "stream",
     "text": [
      "Epoch [11/5000]: 100%|██████████| 34/34 [00:00<00:00, 256.04it/s, loss=81.7]\n"
     ]
    },
    {
     "name": "stdout",
     "output_type": "stream",
     "text": [
      "Epoch [11/5000]: Train loss: 86.8613, Valid loss: 117.9536\n"
     ]
    },
    {
     "name": "stderr",
     "output_type": "stream",
     "text": [
      "Epoch [12/5000]: 100%|██████████| 34/34 [00:00<00:00, 252.93it/s, loss=75]  \n"
     ]
    },
    {
     "name": "stdout",
     "output_type": "stream",
     "text": [
      "Epoch [12/5000]: Train loss: 71.2834, Valid loss: 87.4827\n",
      "Saving model with loss 87.483...\n"
     ]
    },
    {
     "name": "stderr",
     "output_type": "stream",
     "text": [
      "Epoch [13/5000]: 100%|██████████| 34/34 [00:00<00:00, 241.10it/s, loss=60.1]\n"
     ]
    },
    {
     "name": "stdout",
     "output_type": "stream",
     "text": [
      "Epoch [13/5000]: Train loss: 60.2180, Valid loss: 209.6320\n"
     ]
    },
    {
     "name": "stderr",
     "output_type": "stream",
     "text": [
      "Epoch [14/5000]: 100%|██████████| 34/34 [00:00<00:00, 244.83it/s, loss=48.5]\n"
     ]
    },
    {
     "name": "stdout",
     "output_type": "stream",
     "text": [
      "Epoch [14/5000]: Train loss: 61.5830, Valid loss: 51.3148\n",
      "Saving model with loss 51.315...\n"
     ]
    },
    {
     "name": "stderr",
     "output_type": "stream",
     "text": [
      "Epoch [15/5000]: 100%|██████████| 34/34 [00:00<00:00, 240.08it/s, loss=40.3]\n"
     ]
    },
    {
     "name": "stdout",
     "output_type": "stream",
     "text": [
      "Epoch [15/5000]: Train loss: 50.3657, Valid loss: 34.9711\n",
      "Saving model with loss 34.971...\n"
     ]
    },
    {
     "name": "stderr",
     "output_type": "stream",
     "text": [
      "Epoch [16/5000]: 100%|██████████| 34/34 [00:00<00:00, 248.27it/s, loss=48]  \n"
     ]
    },
    {
     "name": "stdout",
     "output_type": "stream",
     "text": [
      "Epoch [16/5000]: Train loss: 50.7148, Valid loss: 34.4761\n",
      "Saving model with loss 34.476...\n"
     ]
    },
    {
     "name": "stderr",
     "output_type": "stream",
     "text": [
      "Epoch [17/5000]: 100%|██████████| 34/34 [00:00<00:00, 230.67it/s, loss=36.5]\n"
     ]
    },
    {
     "name": "stdout",
     "output_type": "stream",
     "text": [
      "Epoch [17/5000]: Train loss: 47.2993, Valid loss: 24.1698\n",
      "Saving model with loss 24.170...\n"
     ]
    },
    {
     "name": "stderr",
     "output_type": "stream",
     "text": [
      "Epoch [18/5000]: 100%|██████████| 34/34 [00:00<00:00, 228.75it/s, loss=39.4]\n"
     ]
    },
    {
     "name": "stdout",
     "output_type": "stream",
     "text": [
      "Epoch [18/5000]: Train loss: 40.1012, Valid loss: 28.7420\n"
     ]
    },
    {
     "name": "stderr",
     "output_type": "stream",
     "text": [
      "Epoch [19/5000]: 100%|██████████| 34/34 [00:00<00:00, 236.55it/s, loss=44.8]\n"
     ]
    },
    {
     "name": "stdout",
     "output_type": "stream",
     "text": [
      "Epoch [19/5000]: Train loss: 37.8310, Valid loss: 41.6127\n"
     ]
    },
    {
     "name": "stderr",
     "output_type": "stream",
     "text": [
      "Epoch [20/5000]: 100%|██████████| 34/34 [00:00<00:00, 250.28it/s, loss=25]  \n"
     ]
    },
    {
     "name": "stdout",
     "output_type": "stream",
     "text": [
      "Epoch [20/5000]: Train loss: 34.6497, Valid loss: 16.2908\n",
      "Saving model with loss 16.291...\n"
     ]
    },
    {
     "name": "stderr",
     "output_type": "stream",
     "text": [
      "Epoch [21/5000]: 100%|██████████| 34/34 [00:00<00:00, 250.40it/s, loss=26.1]\n"
     ]
    },
    {
     "name": "stdout",
     "output_type": "stream",
     "text": [
      "Epoch [21/5000]: Train loss: 29.2638, Valid loss: 36.7647\n"
     ]
    },
    {
     "name": "stderr",
     "output_type": "stream",
     "text": [
      "Epoch [22/5000]: 100%|██████████| 34/34 [00:00<00:00, 280.26it/s, loss=26.7]\n"
     ]
    },
    {
     "name": "stdout",
     "output_type": "stream",
     "text": [
      "Epoch [22/5000]: Train loss: 28.7450, Valid loss: 14.1578\n",
      "Saving model with loss 14.158...\n"
     ]
    },
    {
     "name": "stderr",
     "output_type": "stream",
     "text": [
      "Epoch [23/5000]: 100%|██████████| 34/34 [00:00<00:00, 246.24it/s, loss=36.1]\n"
     ]
    },
    {
     "name": "stdout",
     "output_type": "stream",
     "text": [
      "Epoch [23/5000]: Train loss: 29.5489, Valid loss: 25.2749\n"
     ]
    },
    {
     "name": "stderr",
     "output_type": "stream",
     "text": [
      "Epoch [24/5000]: 100%|██████████| 34/34 [00:00<00:00, 233.70it/s, loss=36.5]\n"
     ]
    },
    {
     "name": "stdout",
     "output_type": "stream",
     "text": [
      "Epoch [24/5000]: Train loss: 27.3968, Valid loss: 13.4681\n",
      "Saving model with loss 13.468...\n"
     ]
    },
    {
     "name": "stderr",
     "output_type": "stream",
     "text": [
      "Epoch [25/5000]: 100%|██████████| 34/34 [00:00<00:00, 222.43it/s, loss=29.1]\n"
     ]
    },
    {
     "name": "stdout",
     "output_type": "stream",
     "text": [
      "Epoch [25/5000]: Train loss: 25.2111, Valid loss: 19.8229\n"
     ]
    },
    {
     "name": "stderr",
     "output_type": "stream",
     "text": [
      "Epoch [26/5000]: 100%|██████████| 34/34 [00:00<00:00, 255.61it/s, loss=38.2]\n"
     ]
    },
    {
     "name": "stdout",
     "output_type": "stream",
     "text": [
      "Epoch [26/5000]: Train loss: 25.2390, Valid loss: 23.8393\n"
     ]
    },
    {
     "name": "stderr",
     "output_type": "stream",
     "text": [
      "Epoch [27/5000]: 100%|██████████| 34/34 [00:00<00:00, 253.16it/s, loss=34.5]\n"
     ]
    },
    {
     "name": "stdout",
     "output_type": "stream",
     "text": [
      "Epoch [27/5000]: Train loss: 26.0474, Valid loss: 9.4976\n",
      "Saving model with loss 9.498...\n"
     ]
    },
    {
     "name": "stderr",
     "output_type": "stream",
     "text": [
      "Epoch [28/5000]: 100%|██████████| 34/34 [00:00<00:00, 216.88it/s, loss=32.6]\n"
     ]
    },
    {
     "name": "stdout",
     "output_type": "stream",
     "text": [
      "Epoch [28/5000]: Train loss: 25.4018, Valid loss: 30.2151\n"
     ]
    },
    {
     "name": "stderr",
     "output_type": "stream",
     "text": [
      "Epoch [29/5000]: 100%|██████████| 34/34 [00:00<00:00, 262.75it/s, loss=30.4]\n"
     ]
    },
    {
     "name": "stdout",
     "output_type": "stream",
     "text": [
      "Epoch [29/5000]: Train loss: 25.0186, Valid loss: 22.7796\n"
     ]
    },
    {
     "name": "stderr",
     "output_type": "stream",
     "text": [
      "Epoch [30/5000]: 100%|██████████| 34/34 [00:00<00:00, 239.30it/s, loss=17.8]\n"
     ]
    },
    {
     "name": "stdout",
     "output_type": "stream",
     "text": [
      "Epoch [30/5000]: Train loss: 23.7467, Valid loss: 16.8256\n"
     ]
    },
    {
     "name": "stderr",
     "output_type": "stream",
     "text": [
      "Epoch [31/5000]: 100%|██████████| 34/34 [00:00<00:00, 224.28it/s, loss=29.5]\n"
     ]
    },
    {
     "name": "stdout",
     "output_type": "stream",
     "text": [
      "Epoch [31/5000]: Train loss: 22.5872, Valid loss: 11.4351\n"
     ]
    },
    {
     "name": "stderr",
     "output_type": "stream",
     "text": [
      "Epoch [32/5000]: 100%|██████████| 34/34 [00:00<00:00, 271.70it/s, loss=14.1]\n"
     ]
    },
    {
     "name": "stdout",
     "output_type": "stream",
     "text": [
      "Epoch [32/5000]: Train loss: 23.0545, Valid loss: 28.5325\n"
     ]
    },
    {
     "name": "stderr",
     "output_type": "stream",
     "text": [
      "Epoch [33/5000]: 100%|██████████| 34/34 [00:00<00:00, 252.99it/s, loss=16]  \n"
     ]
    },
    {
     "name": "stdout",
     "output_type": "stream",
     "text": [
      "Epoch [33/5000]: Train loss: 23.7296, Valid loss: 48.6859\n"
     ]
    },
    {
     "name": "stderr",
     "output_type": "stream",
     "text": [
      "Epoch [34/5000]: 100%|██████████| 34/34 [00:00<00:00, 249.36it/s, loss=20.6]\n"
     ]
    },
    {
     "name": "stdout",
     "output_type": "stream",
     "text": [
      "Epoch [34/5000]: Train loss: 22.1424, Valid loss: 14.2930\n"
     ]
    },
    {
     "name": "stderr",
     "output_type": "stream",
     "text": [
      "Epoch [35/5000]: 100%|██████████| 34/34 [00:00<00:00, 244.26it/s, loss=23.7]\n"
     ]
    },
    {
     "name": "stdout",
     "output_type": "stream",
     "text": [
      "Epoch [35/5000]: Train loss: 22.8234, Valid loss: 14.3514\n"
     ]
    },
    {
     "name": "stderr",
     "output_type": "stream",
     "text": [
      "Epoch [36/5000]: 100%|██████████| 34/34 [00:00<00:00, 222.85it/s, loss=16.9]\n"
     ]
    },
    {
     "name": "stdout",
     "output_type": "stream",
     "text": [
      "Epoch [36/5000]: Train loss: 23.3610, Valid loss: 11.3513\n"
     ]
    },
    {
     "name": "stderr",
     "output_type": "stream",
     "text": [
      "Epoch [37/5000]: 100%|██████████| 34/34 [00:00<00:00, 255.56it/s, loss=24.3]\n"
     ]
    },
    {
     "name": "stdout",
     "output_type": "stream",
     "text": [
      "Epoch [37/5000]: Train loss: 23.5249, Valid loss: 13.3984\n"
     ]
    },
    {
     "name": "stderr",
     "output_type": "stream",
     "text": [
      "Epoch [38/5000]: 100%|██████████| 34/34 [00:00<00:00, 264.42it/s, loss=16.9]\n"
     ]
    },
    {
     "name": "stdout",
     "output_type": "stream",
     "text": [
      "Epoch [38/5000]: Train loss: 23.1828, Valid loss: 20.5880\n"
     ]
    },
    {
     "name": "stderr",
     "output_type": "stream",
     "text": [
      "Epoch [39/5000]: 100%|██████████| 34/34 [00:00<00:00, 231.86it/s, loss=18]  \n"
     ]
    },
    {
     "name": "stdout",
     "output_type": "stream",
     "text": [
      "Epoch [39/5000]: Train loss: 23.5688, Valid loss: 18.1254\n"
     ]
    },
    {
     "name": "stderr",
     "output_type": "stream",
     "text": [
      "Epoch [40/5000]: 100%|██████████| 34/34 [00:00<00:00, 252.27it/s, loss=20.1]\n"
     ]
    },
    {
     "name": "stdout",
     "output_type": "stream",
     "text": [
      "Epoch [40/5000]: Train loss: 22.2524, Valid loss: 83.6849\n"
     ]
    },
    {
     "name": "stderr",
     "output_type": "stream",
     "text": [
      "Epoch [41/5000]: 100%|██████████| 34/34 [00:00<00:00, 226.90it/s, loss=22.2]\n"
     ]
    },
    {
     "name": "stdout",
     "output_type": "stream",
     "text": [
      "Epoch [41/5000]: Train loss: 22.7698, Valid loss: 22.5950\n"
     ]
    },
    {
     "name": "stderr",
     "output_type": "stream",
     "text": [
      "Epoch [42/5000]: 100%|██████████| 34/34 [00:00<00:00, 295.39it/s, loss=25.3]\n"
     ]
    },
    {
     "name": "stdout",
     "output_type": "stream",
     "text": [
      "Epoch [42/5000]: Train loss: 21.7506, Valid loss: 14.1244\n"
     ]
    },
    {
     "name": "stderr",
     "output_type": "stream",
     "text": [
      "Epoch [43/5000]: 100%|██████████| 34/34 [00:00<00:00, 286.89it/s, loss=18.5]\n"
     ]
    },
    {
     "name": "stdout",
     "output_type": "stream",
     "text": [
      "Epoch [43/5000]: Train loss: 21.8989, Valid loss: 11.0144\n"
     ]
    },
    {
     "name": "stderr",
     "output_type": "stream",
     "text": [
      "Epoch [44/5000]: 100%|██████████| 34/34 [00:00<00:00, 250.04it/s, loss=24.8]\n"
     ]
    },
    {
     "name": "stdout",
     "output_type": "stream",
     "text": [
      "Epoch [44/5000]: Train loss: 22.2675, Valid loss: 22.3574\n"
     ]
    },
    {
     "name": "stderr",
     "output_type": "stream",
     "text": [
      "Epoch [45/5000]: 100%|██████████| 34/34 [00:00<00:00, 280.49it/s, loss=14.1]\n"
     ]
    },
    {
     "name": "stdout",
     "output_type": "stream",
     "text": [
      "Epoch [45/5000]: Train loss: 19.3852, Valid loss: 9.0722\n",
      "Saving model with loss 9.072...\n"
     ]
    },
    {
     "name": "stderr",
     "output_type": "stream",
     "text": [
      "Epoch [46/5000]: 100%|██████████| 34/34 [00:00<00:00, 245.67it/s, loss=30.5]\n"
     ]
    },
    {
     "name": "stdout",
     "output_type": "stream",
     "text": [
      "Epoch [46/5000]: Train loss: 20.2252, Valid loss: 8.0795\n",
      "Saving model with loss 8.080...\n"
     ]
    },
    {
     "name": "stderr",
     "output_type": "stream",
     "text": [
      "Epoch [47/5000]: 100%|██████████| 34/34 [00:00<00:00, 248.55it/s, loss=22.8]\n"
     ]
    },
    {
     "name": "stdout",
     "output_type": "stream",
     "text": [
      "Epoch [47/5000]: Train loss: 22.2995, Valid loss: 8.7955\n"
     ]
    },
    {
     "name": "stderr",
     "output_type": "stream",
     "text": [
      "Epoch [48/5000]: 100%|██████████| 34/34 [00:00<00:00, 228.92it/s, loss=24.2]\n"
     ]
    },
    {
     "name": "stdout",
     "output_type": "stream",
     "text": [
      "Epoch [48/5000]: Train loss: 21.1817, Valid loss: 8.4734\n"
     ]
    },
    {
     "name": "stderr",
     "output_type": "stream",
     "text": [
      "Epoch [49/5000]: 100%|██████████| 34/34 [00:00<00:00, 261.27it/s, loss=19.9]\n"
     ]
    },
    {
     "name": "stdout",
     "output_type": "stream",
     "text": [
      "Epoch [49/5000]: Train loss: 22.0371, Valid loss: 6.7320\n",
      "Saving model with loss 6.732...\n"
     ]
    },
    {
     "name": "stderr",
     "output_type": "stream",
     "text": [
      "Epoch [50/5000]: 100%|██████████| 34/34 [00:00<00:00, 277.84it/s, loss=17.7]\n"
     ]
    },
    {
     "name": "stdout",
     "output_type": "stream",
     "text": [
      "Epoch [50/5000]: Train loss: 20.8603, Valid loss: 17.4395\n"
     ]
    },
    {
     "name": "stderr",
     "output_type": "stream",
     "text": [
      "Epoch [51/5000]: 100%|██████████| 34/34 [00:00<00:00, 275.01it/s, loss=19.5]\n"
     ]
    },
    {
     "name": "stdout",
     "output_type": "stream",
     "text": [
      "Epoch [51/5000]: Train loss: 20.2832, Valid loss: 56.0055\n"
     ]
    },
    {
     "name": "stderr",
     "output_type": "stream",
     "text": [
      "Epoch [52/5000]: 100%|██████████| 34/34 [00:00<00:00, 286.89it/s, loss=17.7]\n"
     ]
    },
    {
     "name": "stdout",
     "output_type": "stream",
     "text": [
      "Epoch [52/5000]: Train loss: 22.0057, Valid loss: 14.8930\n"
     ]
    },
    {
     "name": "stderr",
     "output_type": "stream",
     "text": [
      "Epoch [53/5000]: 100%|██████████| 34/34 [00:00<00:00, 253.67it/s, loss=30.7]\n"
     ]
    },
    {
     "name": "stdout",
     "output_type": "stream",
     "text": [
      "Epoch [53/5000]: Train loss: 21.9620, Valid loss: 9.0231\n"
     ]
    },
    {
     "name": "stderr",
     "output_type": "stream",
     "text": [
      "Epoch [54/5000]: 100%|██████████| 34/34 [00:00<00:00, 269.60it/s, loss=25.8]\n"
     ]
    },
    {
     "name": "stdout",
     "output_type": "stream",
     "text": [
      "Epoch [54/5000]: Train loss: 20.1516, Valid loss: 7.4030\n"
     ]
    },
    {
     "name": "stderr",
     "output_type": "stream",
     "text": [
      "Epoch [55/5000]: 100%|██████████| 34/34 [00:00<00:00, 268.85it/s, loss=30.2]\n"
     ]
    },
    {
     "name": "stdout",
     "output_type": "stream",
     "text": [
      "Epoch [55/5000]: Train loss: 20.1329, Valid loss: 54.2283\n"
     ]
    },
    {
     "name": "stderr",
     "output_type": "stream",
     "text": [
      "Epoch [56/5000]: 100%|██████████| 34/34 [00:00<00:00, 237.52it/s, loss=16.8]\n"
     ]
    },
    {
     "name": "stdout",
     "output_type": "stream",
     "text": [
      "Epoch [56/5000]: Train loss: 20.1616, Valid loss: 36.3464\n"
     ]
    },
    {
     "name": "stderr",
     "output_type": "stream",
     "text": [
      "Epoch [57/5000]: 100%|██████████| 34/34 [00:00<00:00, 245.73it/s, loss=18.9]\n"
     ]
    },
    {
     "name": "stdout",
     "output_type": "stream",
     "text": [
      "Epoch [57/5000]: Train loss: 19.8424, Valid loss: 5.8870\n",
      "Saving model with loss 5.887...\n"
     ]
    },
    {
     "name": "stderr",
     "output_type": "stream",
     "text": [
      "Epoch [58/5000]: 100%|██████████| 34/34 [00:00<00:00, 228.90it/s, loss=12.3]\n"
     ]
    },
    {
     "name": "stdout",
     "output_type": "stream",
     "text": [
      "Epoch [58/5000]: Train loss: 18.5978, Valid loss: 21.9310\n"
     ]
    },
    {
     "name": "stderr",
     "output_type": "stream",
     "text": [
      "Epoch [59/5000]: 100%|██████████| 34/34 [00:00<00:00, 250.05it/s, loss=28.3]\n"
     ]
    },
    {
     "name": "stdout",
     "output_type": "stream",
     "text": [
      "Epoch [59/5000]: Train loss: 20.4015, Valid loss: 9.5504\n"
     ]
    },
    {
     "name": "stderr",
     "output_type": "stream",
     "text": [
      "Epoch [60/5000]: 100%|██████████| 34/34 [00:00<00:00, 243.27it/s, loss=31.6]\n"
     ]
    },
    {
     "name": "stdout",
     "output_type": "stream",
     "text": [
      "Epoch [60/5000]: Train loss: 19.6707, Valid loss: 5.3668\n",
      "Saving model with loss 5.367...\n"
     ]
    },
    {
     "name": "stderr",
     "output_type": "stream",
     "text": [
      "Epoch [61/5000]: 100%|██████████| 34/34 [00:00<00:00, 231.76it/s, loss=25.7]"
     ]
    },
    {
     "name": "stdout",
     "output_type": "stream",
     "text": [
      "Epoch [61/5000]: Train loss: 19.0044, Valid loss: 5.2046\n"
     ]
    },
    {
     "name": "stderr",
     "output_type": "stream",
     "text": [
      "\n"
     ]
    },
    {
     "name": "stdout",
     "output_type": "stream",
     "text": [
      "Saving model with loss 5.205...\n"
     ]
    },
    {
     "name": "stderr",
     "output_type": "stream",
     "text": [
      "Epoch [62/5000]: 100%|██████████| 34/34 [00:00<00:00, 218.85it/s, loss=31.8]\n"
     ]
    },
    {
     "name": "stdout",
     "output_type": "stream",
     "text": [
      "Epoch [62/5000]: Train loss: 19.2435, Valid loss: 13.5048\n"
     ]
    },
    {
     "name": "stderr",
     "output_type": "stream",
     "text": [
      "Epoch [63/5000]: 100%|██████████| 34/34 [00:00<00:00, 223.21it/s, loss=18.5]\n"
     ]
    },
    {
     "name": "stdout",
     "output_type": "stream",
     "text": [
      "Epoch [63/5000]: Train loss: 18.5542, Valid loss: 6.8993\n"
     ]
    },
    {
     "name": "stderr",
     "output_type": "stream",
     "text": [
      "Epoch [64/5000]: 100%|██████████| 34/34 [00:00<00:00, 248.51it/s, loss=22.4]\n"
     ]
    },
    {
     "name": "stdout",
     "output_type": "stream",
     "text": [
      "Epoch [64/5000]: Train loss: 20.5492, Valid loss: 21.6296\n"
     ]
    },
    {
     "name": "stderr",
     "output_type": "stream",
     "text": [
      "Epoch [65/5000]: 100%|██████████| 34/34 [00:00<00:00, 225.40it/s, loss=16.6]\n"
     ]
    },
    {
     "name": "stdout",
     "output_type": "stream",
     "text": [
      "Epoch [65/5000]: Train loss: 17.8919, Valid loss: 5.7267\n"
     ]
    },
    {
     "name": "stderr",
     "output_type": "stream",
     "text": [
      "Epoch [66/5000]: 100%|██████████| 34/34 [00:00<00:00, 247.07it/s, loss=15.8]\n"
     ]
    },
    {
     "name": "stdout",
     "output_type": "stream",
     "text": [
      "Epoch [66/5000]: Train loss: 16.5109, Valid loss: 6.8802\n"
     ]
    },
    {
     "name": "stderr",
     "output_type": "stream",
     "text": [
      "Epoch [67/5000]: 100%|██████████| 34/34 [00:00<00:00, 256.37it/s, loss=14.1]\n"
     ]
    },
    {
     "name": "stdout",
     "output_type": "stream",
     "text": [
      "Epoch [67/5000]: Train loss: 18.0365, Valid loss: 10.1498\n"
     ]
    },
    {
     "name": "stderr",
     "output_type": "stream",
     "text": [
      "Epoch [68/5000]: 100%|██████████| 34/34 [00:00<00:00, 262.94it/s, loss=18.9]\n"
     ]
    },
    {
     "name": "stdout",
     "output_type": "stream",
     "text": [
      "Epoch [68/5000]: Train loss: 18.2413, Valid loss: 13.1659\n"
     ]
    },
    {
     "name": "stderr",
     "output_type": "stream",
     "text": [
      "Epoch [69/5000]: 100%|██████████| 34/34 [00:00<00:00, 276.28it/s, loss=17.1]\n"
     ]
    },
    {
     "name": "stdout",
     "output_type": "stream",
     "text": [
      "Epoch [69/5000]: Train loss: 17.3816, Valid loss: 16.7176\n"
     ]
    },
    {
     "name": "stderr",
     "output_type": "stream",
     "text": [
      "Epoch [70/5000]: 100%|██████████| 34/34 [00:00<00:00, 275.62it/s, loss=15.6]\n"
     ]
    },
    {
     "name": "stdout",
     "output_type": "stream",
     "text": [
      "Epoch [70/5000]: Train loss: 16.4715, Valid loss: 4.4834\n",
      "Saving model with loss 4.483...\n"
     ]
    },
    {
     "name": "stderr",
     "output_type": "stream",
     "text": [
      "Epoch [71/5000]: 100%|██████████| 34/34 [00:00<00:00, 255.85it/s, loss=16.2]\n"
     ]
    },
    {
     "name": "stdout",
     "output_type": "stream",
     "text": [
      "Epoch [71/5000]: Train loss: 18.2798, Valid loss: 20.2119\n"
     ]
    },
    {
     "name": "stderr",
     "output_type": "stream",
     "text": [
      "Epoch [72/5000]: 100%|██████████| 34/34 [00:00<00:00, 251.88it/s, loss=12.5]\n"
     ]
    },
    {
     "name": "stdout",
     "output_type": "stream",
     "text": [
      "Epoch [72/5000]: Train loss: 16.7973, Valid loss: 5.8634\n"
     ]
    },
    {
     "name": "stderr",
     "output_type": "stream",
     "text": [
      "Epoch [73/5000]: 100%|██████████| 34/34 [00:00<00:00, 240.67it/s, loss=20.5]\n"
     ]
    },
    {
     "name": "stdout",
     "output_type": "stream",
     "text": [
      "Epoch [73/5000]: Train loss: 16.9084, Valid loss: 5.4734\n"
     ]
    },
    {
     "name": "stderr",
     "output_type": "stream",
     "text": [
      "Epoch [74/5000]: 100%|██████████| 34/34 [00:00<00:00, 241.35it/s, loss=16]  \n"
     ]
    },
    {
     "name": "stdout",
     "output_type": "stream",
     "text": [
      "Epoch [74/5000]: Train loss: 17.3179, Valid loss: 4.8444\n"
     ]
    },
    {
     "name": "stderr",
     "output_type": "stream",
     "text": [
      "Epoch [75/5000]: 100%|██████████| 34/34 [00:00<00:00, 242.44it/s, loss=20.7]\n"
     ]
    },
    {
     "name": "stdout",
     "output_type": "stream",
     "text": [
      "Epoch [75/5000]: Train loss: 16.6584, Valid loss: 9.5424\n"
     ]
    },
    {
     "name": "stderr",
     "output_type": "stream",
     "text": [
      "Epoch [76/5000]: 100%|██████████| 34/34 [00:00<00:00, 228.37it/s, loss=24.9]\n"
     ]
    },
    {
     "name": "stdout",
     "output_type": "stream",
     "text": [
      "Epoch [76/5000]: Train loss: 17.4593, Valid loss: 7.4941\n"
     ]
    },
    {
     "name": "stderr",
     "output_type": "stream",
     "text": [
      "Epoch [77/5000]: 100%|██████████| 34/34 [00:00<00:00, 237.30it/s, loss=19.3]\n"
     ]
    },
    {
     "name": "stdout",
     "output_type": "stream",
     "text": [
      "Epoch [77/5000]: Train loss: 16.5628, Valid loss: 11.8598\n"
     ]
    },
    {
     "name": "stderr",
     "output_type": "stream",
     "text": [
      "Epoch [78/5000]: 100%|██████████| 34/34 [00:00<00:00, 245.85it/s, loss=12.8]\n"
     ]
    },
    {
     "name": "stdout",
     "output_type": "stream",
     "text": [
      "Epoch [78/5000]: Train loss: 17.1353, Valid loss: 11.6919\n"
     ]
    },
    {
     "name": "stderr",
     "output_type": "stream",
     "text": [
      "Epoch [79/5000]: 100%|██████████| 34/34 [00:00<00:00, 221.35it/s, loss=22.5]\n"
     ]
    },
    {
     "name": "stdout",
     "output_type": "stream",
     "text": [
      "Epoch [79/5000]: Train loss: 17.2979, Valid loss: 43.9095\n"
     ]
    },
    {
     "name": "stderr",
     "output_type": "stream",
     "text": [
      "Epoch [80/5000]: 100%|██████████| 34/34 [00:00<00:00, 218.76it/s, loss=23.1]\n"
     ]
    },
    {
     "name": "stdout",
     "output_type": "stream",
     "text": [
      "Epoch [80/5000]: Train loss: 17.1095, Valid loss: 34.1719\n"
     ]
    },
    {
     "name": "stderr",
     "output_type": "stream",
     "text": [
      "Epoch [81/5000]: 100%|██████████| 34/34 [00:00<00:00, 227.71it/s, loss=12]  \n"
     ]
    },
    {
     "name": "stdout",
     "output_type": "stream",
     "text": [
      "Epoch [81/5000]: Train loss: 16.5648, Valid loss: 7.1615\n"
     ]
    },
    {
     "name": "stderr",
     "output_type": "stream",
     "text": [
      "Epoch [82/5000]: 100%|██████████| 34/34 [00:00<00:00, 241.20it/s, loss=19.9]\n"
     ]
    },
    {
     "name": "stdout",
     "output_type": "stream",
     "text": [
      "Epoch [82/5000]: Train loss: 15.9807, Valid loss: 6.0416\n"
     ]
    },
    {
     "name": "stderr",
     "output_type": "stream",
     "text": [
      "Epoch [83/5000]: 100%|██████████| 34/34 [00:00<00:00, 247.14it/s, loss=17.6]\n"
     ]
    },
    {
     "name": "stdout",
     "output_type": "stream",
     "text": [
      "Epoch [83/5000]: Train loss: 15.6259, Valid loss: 5.9016\n"
     ]
    },
    {
     "name": "stderr",
     "output_type": "stream",
     "text": [
      "Epoch [84/5000]: 100%|██████████| 34/34 [00:00<00:00, 251.44it/s, loss=19.7]\n"
     ]
    },
    {
     "name": "stdout",
     "output_type": "stream",
     "text": [
      "Epoch [84/5000]: Train loss: 16.7527, Valid loss: 10.3876\n"
     ]
    },
    {
     "name": "stderr",
     "output_type": "stream",
     "text": [
      "Epoch [85/5000]: 100%|██████████| 34/34 [00:00<00:00, 227.24it/s, loss=14.7]\n"
     ]
    },
    {
     "name": "stdout",
     "output_type": "stream",
     "text": [
      "Epoch [85/5000]: Train loss: 16.2136, Valid loss: 6.0225\n"
     ]
    },
    {
     "name": "stderr",
     "output_type": "stream",
     "text": [
      "Epoch [86/5000]: 100%|██████████| 34/34 [00:00<00:00, 232.23it/s, loss=17.4]\n"
     ]
    },
    {
     "name": "stdout",
     "output_type": "stream",
     "text": [
      "Epoch [86/5000]: Train loss: 16.7378, Valid loss: 17.7695\n"
     ]
    },
    {
     "name": "stderr",
     "output_type": "stream",
     "text": [
      "Epoch [87/5000]: 100%|██████████| 34/34 [00:00<00:00, 228.06it/s, loss=27.1]\n"
     ]
    },
    {
     "name": "stdout",
     "output_type": "stream",
     "text": [
      "Epoch [87/5000]: Train loss: 16.8331, Valid loss: 36.6120\n"
     ]
    },
    {
     "name": "stderr",
     "output_type": "stream",
     "text": [
      "Epoch [88/5000]: 100%|██████████| 34/34 [00:00<00:00, 250.20it/s, loss=15.9]\n"
     ]
    },
    {
     "name": "stdout",
     "output_type": "stream",
     "text": [
      "Epoch [88/5000]: Train loss: 16.8703, Valid loss: 6.0854\n"
     ]
    },
    {
     "name": "stderr",
     "output_type": "stream",
     "text": [
      "Epoch [89/5000]: 100%|██████████| 34/34 [00:00<00:00, 238.48it/s, loss=15.9]\n"
     ]
    },
    {
     "name": "stdout",
     "output_type": "stream",
     "text": [
      "Epoch [89/5000]: Train loss: 17.3763, Valid loss: 10.2117\n"
     ]
    },
    {
     "name": "stderr",
     "output_type": "stream",
     "text": [
      "Epoch [90/5000]: 100%|██████████| 34/34 [00:00<00:00, 241.67it/s, loss=10.4]\n"
     ]
    },
    {
     "name": "stdout",
     "output_type": "stream",
     "text": [
      "Epoch [90/5000]: Train loss: 16.3796, Valid loss: 14.3937\n"
     ]
    },
    {
     "name": "stderr",
     "output_type": "stream",
     "text": [
      "Epoch [91/5000]: 100%|██████████| 34/34 [00:00<00:00, 232.42it/s, loss=12.2]\n"
     ]
    },
    {
     "name": "stdout",
     "output_type": "stream",
     "text": [
      "Epoch [91/5000]: Train loss: 15.4860, Valid loss: 11.7633\n"
     ]
    },
    {
     "name": "stderr",
     "output_type": "stream",
     "text": [
      "Epoch [92/5000]: 100%|██████████| 34/34 [00:00<00:00, 237.01it/s, loss=11.1]\n"
     ]
    },
    {
     "name": "stdout",
     "output_type": "stream",
     "text": [
      "Epoch [92/5000]: Train loss: 17.3624, Valid loss: 5.9292\n"
     ]
    },
    {
     "name": "stderr",
     "output_type": "stream",
     "text": [
      "Epoch [93/5000]: 100%|██████████| 34/34 [00:00<00:00, 251.75it/s, loss=16.7]\n"
     ]
    },
    {
     "name": "stdout",
     "output_type": "stream",
     "text": [
      "Epoch [93/5000]: Train loss: 15.1572, Valid loss: 21.9408\n"
     ]
    },
    {
     "name": "stderr",
     "output_type": "stream",
     "text": [
      "Epoch [94/5000]: 100%|██████████| 34/34 [00:00<00:00, 239.63it/s, loss=13.2]\n"
     ]
    },
    {
     "name": "stdout",
     "output_type": "stream",
     "text": [
      "Epoch [94/5000]: Train loss: 16.1178, Valid loss: 14.2186\n"
     ]
    },
    {
     "name": "stderr",
     "output_type": "stream",
     "text": [
      "Epoch [95/5000]: 100%|██████████| 34/34 [00:00<00:00, 256.87it/s, loss=19.1]\n"
     ]
    },
    {
     "name": "stdout",
     "output_type": "stream",
     "text": [
      "Epoch [95/5000]: Train loss: 14.4485, Valid loss: 29.7748\n"
     ]
    },
    {
     "name": "stderr",
     "output_type": "stream",
     "text": [
      "Epoch [96/5000]: 100%|██████████| 34/34 [00:00<00:00, 249.18it/s, loss=18.8]\n"
     ]
    },
    {
     "name": "stdout",
     "output_type": "stream",
     "text": [
      "Epoch [96/5000]: Train loss: 14.5010, Valid loss: 27.1164\n"
     ]
    },
    {
     "name": "stderr",
     "output_type": "stream",
     "text": [
      "Epoch [97/5000]: 100%|██████████| 34/34 [00:00<00:00, 270.30it/s, loss=13.3]\n"
     ]
    },
    {
     "name": "stdout",
     "output_type": "stream",
     "text": [
      "Epoch [97/5000]: Train loss: 15.0195, Valid loss: 4.4379\n",
      "Saving model with loss 4.438...\n"
     ]
    },
    {
     "name": "stderr",
     "output_type": "stream",
     "text": [
      "Epoch [98/5000]: 100%|██████████| 34/34 [00:00<00:00, 236.97it/s, loss=20.9]\n"
     ]
    },
    {
     "name": "stdout",
     "output_type": "stream",
     "text": [
      "Epoch [98/5000]: Train loss: 15.4137, Valid loss: 11.3753\n"
     ]
    },
    {
     "name": "stderr",
     "output_type": "stream",
     "text": [
      "Epoch [99/5000]: 100%|██████████| 34/34 [00:00<00:00, 246.07it/s, loss=20.1]\n"
     ]
    },
    {
     "name": "stdout",
     "output_type": "stream",
     "text": [
      "Epoch [99/5000]: Train loss: 16.0534, Valid loss: 13.4708\n"
     ]
    },
    {
     "name": "stderr",
     "output_type": "stream",
     "text": [
      "Epoch [100/5000]: 100%|██████████| 34/34 [00:00<00:00, 243.82it/s, loss=21.5]\n"
     ]
    },
    {
     "name": "stdout",
     "output_type": "stream",
     "text": [
      "Epoch [100/5000]: Train loss: 15.2041, Valid loss: 5.8098\n"
     ]
    },
    {
     "name": "stderr",
     "output_type": "stream",
     "text": [
      "Epoch [101/5000]: 100%|██████████| 34/34 [00:00<00:00, 249.59it/s, loss=9.79]\n"
     ]
    },
    {
     "name": "stdout",
     "output_type": "stream",
     "text": [
      "Epoch [101/5000]: Train loss: 14.2087, Valid loss: 9.5226\n"
     ]
    },
    {
     "name": "stderr",
     "output_type": "stream",
     "text": [
      "Epoch [102/5000]: 100%|██████████| 34/34 [00:00<00:00, 237.73it/s, loss=32.1]\n"
     ]
    },
    {
     "name": "stdout",
     "output_type": "stream",
     "text": [
      "Epoch [102/5000]: Train loss: 15.9120, Valid loss: 7.1894\n"
     ]
    },
    {
     "name": "stderr",
     "output_type": "stream",
     "text": [
      "Epoch [103/5000]: 100%|██████████| 34/34 [00:00<00:00, 244.98it/s, loss=7.14]\n"
     ]
    },
    {
     "name": "stdout",
     "output_type": "stream",
     "text": [
      "Epoch [103/5000]: Train loss: 14.0559, Valid loss: 15.3158\n"
     ]
    },
    {
     "name": "stderr",
     "output_type": "stream",
     "text": [
      "Epoch [104/5000]: 100%|██████████| 34/34 [00:00<00:00, 253.05it/s, loss=15.1]\n"
     ]
    },
    {
     "name": "stdout",
     "output_type": "stream",
     "text": [
      "Epoch [104/5000]: Train loss: 14.7858, Valid loss: 15.2688\n"
     ]
    },
    {
     "name": "stderr",
     "output_type": "stream",
     "text": [
      "Epoch [105/5000]: 100%|██████████| 34/34 [00:00<00:00, 248.37it/s, loss=7.96]\n"
     ]
    },
    {
     "name": "stdout",
     "output_type": "stream",
     "text": [
      "Epoch [105/5000]: Train loss: 14.3381, Valid loss: 3.8238\n",
      "Saving model with loss 3.824...\n"
     ]
    },
    {
     "name": "stderr",
     "output_type": "stream",
     "text": [
      "Epoch [106/5000]: 100%|██████████| 34/34 [00:00<00:00, 233.32it/s, loss=7.69]\n"
     ]
    },
    {
     "name": "stdout",
     "output_type": "stream",
     "text": [
      "Epoch [106/5000]: Train loss: 15.1600, Valid loss: 3.9293\n"
     ]
    },
    {
     "name": "stderr",
     "output_type": "stream",
     "text": [
      "Epoch [107/5000]: 100%|██████████| 34/34 [00:00<00:00, 254.13it/s, loss=7.46]\n"
     ]
    },
    {
     "name": "stdout",
     "output_type": "stream",
     "text": [
      "Epoch [107/5000]: Train loss: 14.5895, Valid loss: 54.8766\n"
     ]
    },
    {
     "name": "stderr",
     "output_type": "stream",
     "text": [
      "Epoch [108/5000]: 100%|██████████| 34/34 [00:00<00:00, 213.59it/s, loss=20.7]\n"
     ]
    },
    {
     "name": "stdout",
     "output_type": "stream",
     "text": [
      "Epoch [108/5000]: Train loss: 15.5021, Valid loss: 4.9248\n"
     ]
    },
    {
     "name": "stderr",
     "output_type": "stream",
     "text": [
      "Epoch [109/5000]: 100%|██████████| 34/34 [00:00<00:00, 243.44it/s, loss=8.48]\n"
     ]
    },
    {
     "name": "stdout",
     "output_type": "stream",
     "text": [
      "Epoch [109/5000]: Train loss: 14.3179, Valid loss: 6.1438\n"
     ]
    },
    {
     "name": "stderr",
     "output_type": "stream",
     "text": [
      "Epoch [110/5000]: 100%|██████████| 34/34 [00:00<00:00, 243.07it/s, loss=12.1]\n"
     ]
    },
    {
     "name": "stdout",
     "output_type": "stream",
     "text": [
      "Epoch [110/5000]: Train loss: 15.0374, Valid loss: 17.5739\n"
     ]
    },
    {
     "name": "stderr",
     "output_type": "stream",
     "text": [
      "Epoch [111/5000]: 100%|██████████| 34/34 [00:00<00:00, 265.53it/s, loss=18.9]\n"
     ]
    },
    {
     "name": "stdout",
     "output_type": "stream",
     "text": [
      "Epoch [111/5000]: Train loss: 14.1979, Valid loss: 10.3843\n"
     ]
    },
    {
     "name": "stderr",
     "output_type": "stream",
     "text": [
      "Epoch [112/5000]: 100%|██████████| 34/34 [00:00<00:00, 238.89it/s, loss=14.1]\n"
     ]
    },
    {
     "name": "stdout",
     "output_type": "stream",
     "text": [
      "Epoch [112/5000]: Train loss: 13.6959, Valid loss: 5.4734\n"
     ]
    },
    {
     "name": "stderr",
     "output_type": "stream",
     "text": [
      "Epoch [113/5000]: 100%|██████████| 34/34 [00:00<00:00, 236.27it/s, loss=17.3]\n"
     ]
    },
    {
     "name": "stdout",
     "output_type": "stream",
     "text": [
      "Epoch [113/5000]: Train loss: 14.4276, Valid loss: 4.5717\n"
     ]
    },
    {
     "name": "stderr",
     "output_type": "stream",
     "text": [
      "Epoch [114/5000]: 100%|██████████| 34/34 [00:00<00:00, 228.24it/s, loss=15.1]\n"
     ]
    },
    {
     "name": "stdout",
     "output_type": "stream",
     "text": [
      "Epoch [114/5000]: Train loss: 15.0571, Valid loss: 10.9749\n"
     ]
    },
    {
     "name": "stderr",
     "output_type": "stream",
     "text": [
      "Epoch [115/5000]: 100%|██████████| 34/34 [00:00<00:00, 205.13it/s, loss=7.89]\n"
     ]
    },
    {
     "name": "stdout",
     "output_type": "stream",
     "text": [
      "Epoch [115/5000]: Train loss: 14.6297, Valid loss: 7.6907\n"
     ]
    },
    {
     "name": "stderr",
     "output_type": "stream",
     "text": [
      "Epoch [116/5000]: 100%|██████████| 34/34 [00:00<00:00, 249.97it/s, loss=27.3]\n"
     ]
    },
    {
     "name": "stdout",
     "output_type": "stream",
     "text": [
      "Epoch [116/5000]: Train loss: 14.2000, Valid loss: 3.9328\n"
     ]
    },
    {
     "name": "stderr",
     "output_type": "stream",
     "text": [
      "Epoch [117/5000]: 100%|██████████| 34/34 [00:00<00:00, 220.68it/s, loss=13.8]\n"
     ]
    },
    {
     "name": "stdout",
     "output_type": "stream",
     "text": [
      "Epoch [117/5000]: Train loss: 14.1873, Valid loss: 5.7833\n"
     ]
    },
    {
     "name": "stderr",
     "output_type": "stream",
     "text": [
      "Epoch [118/5000]: 100%|██████████| 34/34 [00:00<00:00, 219.69it/s, loss=9.61]\n"
     ]
    },
    {
     "name": "stdout",
     "output_type": "stream",
     "text": [
      "Epoch [118/5000]: Train loss: 13.6942, Valid loss: 5.1762\n"
     ]
    },
    {
     "name": "stderr",
     "output_type": "stream",
     "text": [
      "Epoch [119/5000]: 100%|██████████| 34/34 [00:00<00:00, 231.65it/s, loss=10.4]\n"
     ]
    },
    {
     "name": "stdout",
     "output_type": "stream",
     "text": [
      "Epoch [119/5000]: Train loss: 14.6404, Valid loss: 5.1600\n"
     ]
    },
    {
     "name": "stderr",
     "output_type": "stream",
     "text": [
      "Epoch [120/5000]: 100%|██████████| 34/34 [00:00<00:00, 213.20it/s, loss=15.8]\n"
     ]
    },
    {
     "name": "stdout",
     "output_type": "stream",
     "text": [
      "Epoch [120/5000]: Train loss: 13.4075, Valid loss: 4.2154\n"
     ]
    },
    {
     "name": "stderr",
     "output_type": "stream",
     "text": [
      "Epoch [121/5000]: 100%|██████████| 34/34 [00:00<00:00, 221.94it/s, loss=10.7]\n"
     ]
    },
    {
     "name": "stdout",
     "output_type": "stream",
     "text": [
      "Epoch [121/5000]: Train loss: 12.6973, Valid loss: 5.2593\n"
     ]
    },
    {
     "name": "stderr",
     "output_type": "stream",
     "text": [
      "Epoch [122/5000]: 100%|██████████| 34/34 [00:00<00:00, 210.95it/s, loss=11.9]\n"
     ]
    },
    {
     "name": "stdout",
     "output_type": "stream",
     "text": [
      "Epoch [122/5000]: Train loss: 12.9037, Valid loss: 6.8283\n"
     ]
    },
    {
     "name": "stderr",
     "output_type": "stream",
     "text": [
      "Epoch [123/5000]: 100%|██████████| 34/34 [00:00<00:00, 216.21it/s, loss=17.9]\n"
     ]
    },
    {
     "name": "stdout",
     "output_type": "stream",
     "text": [
      "Epoch [123/5000]: Train loss: 12.7487, Valid loss: 14.9401\n"
     ]
    },
    {
     "name": "stderr",
     "output_type": "stream",
     "text": [
      "Epoch [124/5000]: 100%|██████████| 34/34 [00:00<00:00, 215.80it/s, loss=15.1]\n"
     ]
    },
    {
     "name": "stdout",
     "output_type": "stream",
     "text": [
      "Epoch [124/5000]: Train loss: 11.9371, Valid loss: 33.9171\n"
     ]
    },
    {
     "name": "stderr",
     "output_type": "stream",
     "text": [
      "Epoch [125/5000]: 100%|██████████| 34/34 [00:00<00:00, 231.08it/s, loss=8.82]\n"
     ]
    },
    {
     "name": "stdout",
     "output_type": "stream",
     "text": [
      "Epoch [125/5000]: Train loss: 14.0288, Valid loss: 7.3888\n"
     ]
    },
    {
     "name": "stderr",
     "output_type": "stream",
     "text": [
      "Epoch [126/5000]: 100%|██████████| 34/34 [00:00<00:00, 223.81it/s, loss=12.9]\n"
     ]
    },
    {
     "name": "stdout",
     "output_type": "stream",
     "text": [
      "Epoch [126/5000]: Train loss: 13.1191, Valid loss: 5.9697\n"
     ]
    },
    {
     "name": "stderr",
     "output_type": "stream",
     "text": [
      "Epoch [127/5000]: 100%|██████████| 34/34 [00:00<00:00, 204.51it/s, loss=10.8]\n"
     ]
    },
    {
     "name": "stdout",
     "output_type": "stream",
     "text": [
      "Epoch [127/5000]: Train loss: 13.7657, Valid loss: 3.4698\n",
      "Saving model with loss 3.470...\n"
     ]
    },
    {
     "name": "stderr",
     "output_type": "stream",
     "text": [
      "Epoch [128/5000]: 100%|██████████| 34/34 [00:00<00:00, 230.40it/s, loss=14]  \n"
     ]
    },
    {
     "name": "stdout",
     "output_type": "stream",
     "text": [
      "Epoch [128/5000]: Train loss: 13.9106, Valid loss: 7.8836\n"
     ]
    },
    {
     "name": "stderr",
     "output_type": "stream",
     "text": [
      "Epoch [129/5000]: 100%|██████████| 34/34 [00:00<00:00, 242.30it/s, loss=12.8]\n"
     ]
    },
    {
     "name": "stdout",
     "output_type": "stream",
     "text": [
      "Epoch [129/5000]: Train loss: 12.5756, Valid loss: 7.0650\n"
     ]
    },
    {
     "name": "stderr",
     "output_type": "stream",
     "text": [
      "Epoch [130/5000]: 100%|██████████| 34/34 [00:00<00:00, 250.51it/s, loss=11.7]\n"
     ]
    },
    {
     "name": "stdout",
     "output_type": "stream",
     "text": [
      "Epoch [130/5000]: Train loss: 13.5972, Valid loss: 7.5471\n"
     ]
    },
    {
     "name": "stderr",
     "output_type": "stream",
     "text": [
      "Epoch [131/5000]: 100%|██████████| 34/34 [00:00<00:00, 199.83it/s, loss=13.7]\n"
     ]
    },
    {
     "name": "stdout",
     "output_type": "stream",
     "text": [
      "Epoch [131/5000]: Train loss: 12.8035, Valid loss: 3.1460\n",
      "Saving model with loss 3.146...\n"
     ]
    },
    {
     "name": "stderr",
     "output_type": "stream",
     "text": [
      "Epoch [132/5000]: 100%|██████████| 34/34 [00:00<00:00, 245.82it/s, loss=9.56]\n"
     ]
    },
    {
     "name": "stdout",
     "output_type": "stream",
     "text": [
      "Epoch [132/5000]: Train loss: 12.9215, Valid loss: 6.8139\n"
     ]
    },
    {
     "name": "stderr",
     "output_type": "stream",
     "text": [
      "Epoch [133/5000]: 100%|██████████| 34/34 [00:00<00:00, 287.89it/s, loss=14.3]\n"
     ]
    },
    {
     "name": "stdout",
     "output_type": "stream",
     "text": [
      "Epoch [133/5000]: Train loss: 13.8914, Valid loss: 11.4457\n"
     ]
    },
    {
     "name": "stderr",
     "output_type": "stream",
     "text": [
      "Epoch [134/5000]: 100%|██████████| 34/34 [00:00<00:00, 257.68it/s, loss=8.38]\n"
     ]
    },
    {
     "name": "stdout",
     "output_type": "stream",
     "text": [
      "Epoch [134/5000]: Train loss: 12.4069, Valid loss: 6.1976\n"
     ]
    },
    {
     "name": "stderr",
     "output_type": "stream",
     "text": [
      "Epoch [135/5000]: 100%|██████████| 34/34 [00:00<00:00, 249.16it/s, loss=18.4]\n"
     ]
    },
    {
     "name": "stdout",
     "output_type": "stream",
     "text": [
      "Epoch [135/5000]: Train loss: 12.3893, Valid loss: 8.7300\n"
     ]
    },
    {
     "name": "stderr",
     "output_type": "stream",
     "text": [
      "Epoch [136/5000]: 100%|██████████| 34/34 [00:00<00:00, 230.55it/s, loss=14.6]\n"
     ]
    },
    {
     "name": "stdout",
     "output_type": "stream",
     "text": [
      "Epoch [136/5000]: Train loss: 12.9737, Valid loss: 4.6319\n"
     ]
    },
    {
     "name": "stderr",
     "output_type": "stream",
     "text": [
      "Epoch [137/5000]: 100%|██████████| 34/34 [00:00<00:00, 240.77it/s, loss=13.2]\n"
     ]
    },
    {
     "name": "stdout",
     "output_type": "stream",
     "text": [
      "Epoch [137/5000]: Train loss: 12.2981, Valid loss: 4.6113\n"
     ]
    },
    {
     "name": "stderr",
     "output_type": "stream",
     "text": [
      "Epoch [138/5000]: 100%|██████████| 34/34 [00:00<00:00, 253.02it/s, loss=9.47]\n"
     ]
    },
    {
     "name": "stdout",
     "output_type": "stream",
     "text": [
      "Epoch [138/5000]: Train loss: 11.9374, Valid loss: 6.8650\n"
     ]
    },
    {
     "name": "stderr",
     "output_type": "stream",
     "text": [
      "Epoch [139/5000]: 100%|██████████| 34/34 [00:00<00:00, 250.22it/s, loss=18.2]\n"
     ]
    },
    {
     "name": "stdout",
     "output_type": "stream",
     "text": [
      "Epoch [139/5000]: Train loss: 12.8766, Valid loss: 4.2852\n"
     ]
    },
    {
     "name": "stderr",
     "output_type": "stream",
     "text": [
      "Epoch [140/5000]: 100%|██████████| 34/34 [00:00<00:00, 231.57it/s, loss=16.4]\n"
     ]
    },
    {
     "name": "stdout",
     "output_type": "stream",
     "text": [
      "Epoch [140/5000]: Train loss: 12.9952, Valid loss: 27.6193\n"
     ]
    },
    {
     "name": "stderr",
     "output_type": "stream",
     "text": [
      "Epoch [141/5000]: 100%|██████████| 34/34 [00:00<00:00, 219.70it/s, loss=10.5]\n"
     ]
    },
    {
     "name": "stdout",
     "output_type": "stream",
     "text": [
      "Epoch [141/5000]: Train loss: 13.6379, Valid loss: 4.3847\n"
     ]
    },
    {
     "name": "stderr",
     "output_type": "stream",
     "text": [
      "Epoch [142/5000]: 100%|██████████| 34/34 [00:00<00:00, 241.82it/s, loss=10.2]\n"
     ]
    },
    {
     "name": "stdout",
     "output_type": "stream",
     "text": [
      "Epoch [142/5000]: Train loss: 12.1161, Valid loss: 3.8821\n"
     ]
    },
    {
     "name": "stderr",
     "output_type": "stream",
     "text": [
      "Epoch [143/5000]: 100%|██████████| 34/34 [00:00<00:00, 205.08it/s, loss=11.2]\n"
     ]
    },
    {
     "name": "stdout",
     "output_type": "stream",
     "text": [
      "Epoch [143/5000]: Train loss: 12.7083, Valid loss: 8.4549\n"
     ]
    },
    {
     "name": "stderr",
     "output_type": "stream",
     "text": [
      "Epoch [144/5000]: 100%|██████████| 34/34 [00:00<00:00, 226.21it/s, loss=10]  \n"
     ]
    },
    {
     "name": "stdout",
     "output_type": "stream",
     "text": [
      "Epoch [144/5000]: Train loss: 12.0756, Valid loss: 8.9200\n"
     ]
    },
    {
     "name": "stderr",
     "output_type": "stream",
     "text": [
      "Epoch [145/5000]: 100%|██████████| 34/34 [00:00<00:00, 258.52it/s, loss=12.2]\n"
     ]
    },
    {
     "name": "stdout",
     "output_type": "stream",
     "text": [
      "Epoch [145/5000]: Train loss: 13.6954, Valid loss: 5.4990\n"
     ]
    },
    {
     "name": "stderr",
     "output_type": "stream",
     "text": [
      "Epoch [146/5000]: 100%|██████████| 34/34 [00:00<00:00, 247.17it/s, loss=14.8]\n"
     ]
    },
    {
     "name": "stdout",
     "output_type": "stream",
     "text": [
      "Epoch [146/5000]: Train loss: 12.5551, Valid loss: 7.4449\n"
     ]
    },
    {
     "name": "stderr",
     "output_type": "stream",
     "text": [
      "Epoch [147/5000]: 100%|██████████| 34/34 [00:00<00:00, 235.93it/s, loss=8.95]\n"
     ]
    },
    {
     "name": "stdout",
     "output_type": "stream",
     "text": [
      "Epoch [147/5000]: Train loss: 13.3949, Valid loss: 2.8644\n",
      "Saving model with loss 2.864...\n"
     ]
    },
    {
     "name": "stderr",
     "output_type": "stream",
     "text": [
      "Epoch [148/5000]: 100%|██████████| 34/34 [00:00<00:00, 235.99it/s, loss=12]  \n"
     ]
    },
    {
     "name": "stdout",
     "output_type": "stream",
     "text": [
      "Epoch [148/5000]: Train loss: 12.9556, Valid loss: 4.2827\n"
     ]
    },
    {
     "name": "stderr",
     "output_type": "stream",
     "text": [
      "Epoch [149/5000]: 100%|██████████| 34/34 [00:00<00:00, 271.62it/s, loss=19]  \n"
     ]
    },
    {
     "name": "stdout",
     "output_type": "stream",
     "text": [
      "Epoch [149/5000]: Train loss: 12.4553, Valid loss: 8.3008\n"
     ]
    },
    {
     "name": "stderr",
     "output_type": "stream",
     "text": [
      "Epoch [150/5000]: 100%|██████████| 34/34 [00:00<00:00, 251.31it/s, loss=15]  \n"
     ]
    },
    {
     "name": "stdout",
     "output_type": "stream",
     "text": [
      "Epoch [150/5000]: Train loss: 13.1148, Valid loss: 15.1112\n"
     ]
    },
    {
     "name": "stderr",
     "output_type": "stream",
     "text": [
      "Epoch [151/5000]: 100%|██████████| 34/34 [00:00<00:00, 250.35it/s, loss=23.6]\n"
     ]
    },
    {
     "name": "stdout",
     "output_type": "stream",
     "text": [
      "Epoch [151/5000]: Train loss: 12.6598, Valid loss: 5.2166\n"
     ]
    },
    {
     "name": "stderr",
     "output_type": "stream",
     "text": [
      "Epoch [152/5000]: 100%|██████████| 34/34 [00:00<00:00, 255.75it/s, loss=9.51]\n"
     ]
    },
    {
     "name": "stdout",
     "output_type": "stream",
     "text": [
      "Epoch [152/5000]: Train loss: 11.5238, Valid loss: 4.1289\n"
     ]
    },
    {
     "name": "stderr",
     "output_type": "stream",
     "text": [
      "Epoch [153/5000]: 100%|██████████| 34/34 [00:00<00:00, 239.59it/s, loss=21]  \n"
     ]
    },
    {
     "name": "stdout",
     "output_type": "stream",
     "text": [
      "Epoch [153/5000]: Train loss: 12.1398, Valid loss: 4.4497\n"
     ]
    },
    {
     "name": "stderr",
     "output_type": "stream",
     "text": [
      "Epoch [154/5000]: 100%|██████████| 34/34 [00:00<00:00, 235.37it/s, loss=13.8]\n"
     ]
    },
    {
     "name": "stdout",
     "output_type": "stream",
     "text": [
      "Epoch [154/5000]: Train loss: 13.2006, Valid loss: 6.0082\n"
     ]
    },
    {
     "name": "stderr",
     "output_type": "stream",
     "text": [
      "Epoch [155/5000]: 100%|██████████| 34/34 [00:00<00:00, 254.61it/s, loss=12.2]\n"
     ]
    },
    {
     "name": "stdout",
     "output_type": "stream",
     "text": [
      "Epoch [155/5000]: Train loss: 11.7206, Valid loss: 5.6743\n"
     ]
    },
    {
     "name": "stderr",
     "output_type": "stream",
     "text": [
      "Epoch [156/5000]: 100%|██████████| 34/34 [00:00<00:00, 255.36it/s, loss=17.8]\n"
     ]
    },
    {
     "name": "stdout",
     "output_type": "stream",
     "text": [
      "Epoch [156/5000]: Train loss: 12.8125, Valid loss: 10.9048\n"
     ]
    },
    {
     "name": "stderr",
     "output_type": "stream",
     "text": [
      "Epoch [157/5000]: 100%|██████████| 34/34 [00:00<00:00, 237.37it/s, loss=19.7]\n"
     ]
    },
    {
     "name": "stdout",
     "output_type": "stream",
     "text": [
      "Epoch [157/5000]: Train loss: 13.8021, Valid loss: 13.7435\n"
     ]
    },
    {
     "name": "stderr",
     "output_type": "stream",
     "text": [
      "Epoch [158/5000]: 100%|██████████| 34/34 [00:00<00:00, 252.61it/s, loss=12.6]\n"
     ]
    },
    {
     "name": "stdout",
     "output_type": "stream",
     "text": [
      "Epoch [158/5000]: Train loss: 13.2090, Valid loss: 12.9042\n"
     ]
    },
    {
     "name": "stderr",
     "output_type": "stream",
     "text": [
      "Epoch [159/5000]: 100%|██████████| 34/34 [00:00<00:00, 247.90it/s, loss=11]  \n"
     ]
    },
    {
     "name": "stdout",
     "output_type": "stream",
     "text": [
      "Epoch [159/5000]: Train loss: 12.0525, Valid loss: 4.6582\n"
     ]
    },
    {
     "name": "stderr",
     "output_type": "stream",
     "text": [
      "Epoch [160/5000]: 100%|██████████| 34/34 [00:00<00:00, 248.84it/s, loss=11.2]\n"
     ]
    },
    {
     "name": "stdout",
     "output_type": "stream",
     "text": [
      "Epoch [160/5000]: Train loss: 12.8476, Valid loss: 4.9834\n"
     ]
    },
    {
     "name": "stderr",
     "output_type": "stream",
     "text": [
      "Epoch [161/5000]: 100%|██████████| 34/34 [00:00<00:00, 227.53it/s, loss=15.1]\n"
     ]
    },
    {
     "name": "stdout",
     "output_type": "stream",
     "text": [
      "Epoch [161/5000]: Train loss: 12.3365, Valid loss: 5.2351\n"
     ]
    },
    {
     "name": "stderr",
     "output_type": "stream",
     "text": [
      "Epoch [162/5000]: 100%|██████████| 34/34 [00:00<00:00, 260.23it/s, loss=7.65]\n"
     ]
    },
    {
     "name": "stdout",
     "output_type": "stream",
     "text": [
      "Epoch [162/5000]: Train loss: 11.9857, Valid loss: 12.1639\n"
     ]
    },
    {
     "name": "stderr",
     "output_type": "stream",
     "text": [
      "Epoch [163/5000]: 100%|██████████| 34/34 [00:00<00:00, 281.74it/s, loss=12.3]\n"
     ]
    },
    {
     "name": "stdout",
     "output_type": "stream",
     "text": [
      "Epoch [163/5000]: Train loss: 13.0150, Valid loss: 7.7228\n"
     ]
    },
    {
     "name": "stderr",
     "output_type": "stream",
     "text": [
      "Epoch [164/5000]: 100%|██████████| 34/34 [00:00<00:00, 254.41it/s, loss=16.6]\n"
     ]
    },
    {
     "name": "stdout",
     "output_type": "stream",
     "text": [
      "Epoch [164/5000]: Train loss: 13.2831, Valid loss: 4.7461\n"
     ]
    },
    {
     "name": "stderr",
     "output_type": "stream",
     "text": [
      "Epoch [165/5000]: 100%|██████████| 34/34 [00:00<00:00, 218.44it/s, loss=9.7] \n"
     ]
    },
    {
     "name": "stdout",
     "output_type": "stream",
     "text": [
      "Epoch [165/5000]: Train loss: 12.5999, Valid loss: 8.5673\n"
     ]
    },
    {
     "name": "stderr",
     "output_type": "stream",
     "text": [
      "Epoch [166/5000]: 100%|██████████| 34/34 [00:00<00:00, 225.12it/s, loss=16]  \n"
     ]
    },
    {
     "name": "stdout",
     "output_type": "stream",
     "text": [
      "Epoch [166/5000]: Train loss: 12.4526, Valid loss: 4.0876\n"
     ]
    },
    {
     "name": "stderr",
     "output_type": "stream",
     "text": [
      "Epoch [167/5000]: 100%|██████████| 34/34 [00:00<00:00, 237.77it/s, loss=11.9]\n"
     ]
    },
    {
     "name": "stdout",
     "output_type": "stream",
     "text": [
      "Epoch [167/5000]: Train loss: 12.2830, Valid loss: 5.7348\n"
     ]
    },
    {
     "name": "stderr",
     "output_type": "stream",
     "text": [
      "Epoch [168/5000]: 100%|██████████| 34/34 [00:00<00:00, 271.37it/s, loss=20.3]\n"
     ]
    },
    {
     "name": "stdout",
     "output_type": "stream",
     "text": [
      "Epoch [168/5000]: Train loss: 11.6327, Valid loss: 3.9646\n"
     ]
    },
    {
     "name": "stderr",
     "output_type": "stream",
     "text": [
      "Epoch [169/5000]: 100%|██████████| 34/34 [00:00<00:00, 285.43it/s, loss=12.7]\n"
     ]
    },
    {
     "name": "stdout",
     "output_type": "stream",
     "text": [
      "Epoch [169/5000]: Train loss: 10.7907, Valid loss: 3.9613\n"
     ]
    },
    {
     "name": "stderr",
     "output_type": "stream",
     "text": [
      "Epoch [170/5000]: 100%|██████████| 34/34 [00:00<00:00, 219.93it/s, loss=17.8]\n"
     ]
    },
    {
     "name": "stdout",
     "output_type": "stream",
     "text": [
      "Epoch [170/5000]: Train loss: 12.2545, Valid loss: 11.6275\n"
     ]
    },
    {
     "name": "stderr",
     "output_type": "stream",
     "text": [
      "Epoch [171/5000]: 100%|██████████| 34/34 [00:00<00:00, 237.86it/s, loss=8.34]\n"
     ]
    },
    {
     "name": "stdout",
     "output_type": "stream",
     "text": [
      "Epoch [171/5000]: Train loss: 11.9586, Valid loss: 4.0775\n"
     ]
    },
    {
     "name": "stderr",
     "output_type": "stream",
     "text": [
      "Epoch [172/5000]: 100%|██████████| 34/34 [00:00<00:00, 243.22it/s, loss=9.11]\n"
     ]
    },
    {
     "name": "stdout",
     "output_type": "stream",
     "text": [
      "Epoch [172/5000]: Train loss: 11.9461, Valid loss: 9.9948\n"
     ]
    },
    {
     "name": "stderr",
     "output_type": "stream",
     "text": [
      "Epoch [173/5000]: 100%|██████████| 34/34 [00:00<00:00, 221.52it/s, loss=9.75]\n"
     ]
    },
    {
     "name": "stdout",
     "output_type": "stream",
     "text": [
      "Epoch [173/5000]: Train loss: 11.8364, Valid loss: 3.3413\n"
     ]
    },
    {
     "name": "stderr",
     "output_type": "stream",
     "text": [
      "Epoch [174/5000]: 100%|██████████| 34/34 [00:00<00:00, 233.25it/s, loss=10.2]\n"
     ]
    },
    {
     "name": "stdout",
     "output_type": "stream",
     "text": [
      "Epoch [174/5000]: Train loss: 11.6335, Valid loss: 12.4441\n"
     ]
    },
    {
     "name": "stderr",
     "output_type": "stream",
     "text": [
      "Epoch [175/5000]: 100%|██████████| 34/34 [00:00<00:00, 219.60it/s, loss=12.6]\n"
     ]
    },
    {
     "name": "stdout",
     "output_type": "stream",
     "text": [
      "Epoch [175/5000]: Train loss: 12.1045, Valid loss: 7.1815\n"
     ]
    },
    {
     "name": "stderr",
     "output_type": "stream",
     "text": [
      "Epoch [176/5000]: 100%|██████████| 34/34 [00:00<00:00, 273.55it/s, loss=10.1]\n"
     ]
    },
    {
     "name": "stdout",
     "output_type": "stream",
     "text": [
      "Epoch [176/5000]: Train loss: 11.8660, Valid loss: 4.5293\n"
     ]
    },
    {
     "name": "stderr",
     "output_type": "stream",
     "text": [
      "Epoch [177/5000]: 100%|██████████| 34/34 [00:00<00:00, 240.52it/s, loss=13]  \n"
     ]
    },
    {
     "name": "stdout",
     "output_type": "stream",
     "text": [
      "Epoch [177/5000]: Train loss: 12.5692, Valid loss: 8.1903\n"
     ]
    },
    {
     "name": "stderr",
     "output_type": "stream",
     "text": [
      "Epoch [178/5000]: 100%|██████████| 34/34 [00:00<00:00, 249.11it/s, loss=19.8]\n"
     ]
    },
    {
     "name": "stdout",
     "output_type": "stream",
     "text": [
      "Epoch [178/5000]: Train loss: 11.2456, Valid loss: 4.2489\n"
     ]
    },
    {
     "name": "stderr",
     "output_type": "stream",
     "text": [
      "Epoch [179/5000]: 100%|██████████| 34/34 [00:00<00:00, 227.85it/s, loss=10.3]\n"
     ]
    },
    {
     "name": "stdout",
     "output_type": "stream",
     "text": [
      "Epoch [179/5000]: Train loss: 11.7390, Valid loss: 4.7352\n"
     ]
    },
    {
     "name": "stderr",
     "output_type": "stream",
     "text": [
      "Epoch [180/5000]: 100%|██████████| 34/34 [00:00<00:00, 238.67it/s, loss=16.4]\n"
     ]
    },
    {
     "name": "stdout",
     "output_type": "stream",
     "text": [
      "Epoch [180/5000]: Train loss: 11.2231, Valid loss: 21.5288\n"
     ]
    },
    {
     "name": "stderr",
     "output_type": "stream",
     "text": [
      "Epoch [181/5000]: 100%|██████████| 34/34 [00:00<00:00, 274.56it/s, loss=9.53]\n"
     ]
    },
    {
     "name": "stdout",
     "output_type": "stream",
     "text": [
      "Epoch [181/5000]: Train loss: 11.0023, Valid loss: 6.0637\n"
     ]
    },
    {
     "name": "stderr",
     "output_type": "stream",
     "text": [
      "Epoch [182/5000]: 100%|██████████| 34/34 [00:00<00:00, 233.50it/s, loss=8.05]\n"
     ]
    },
    {
     "name": "stdout",
     "output_type": "stream",
     "text": [
      "Epoch [182/5000]: Train loss: 11.1039, Valid loss: 3.4976\n"
     ]
    },
    {
     "name": "stderr",
     "output_type": "stream",
     "text": [
      "Epoch [183/5000]: 100%|██████████| 34/34 [00:00<00:00, 238.64it/s, loss=17.4]\n"
     ]
    },
    {
     "name": "stdout",
     "output_type": "stream",
     "text": [
      "Epoch [183/5000]: Train loss: 11.6565, Valid loss: 4.1926\n"
     ]
    },
    {
     "name": "stderr",
     "output_type": "stream",
     "text": [
      "Epoch [184/5000]: 100%|██████████| 34/34 [00:00<00:00, 258.51it/s, loss=10.6]\n"
     ]
    },
    {
     "name": "stdout",
     "output_type": "stream",
     "text": [
      "Epoch [184/5000]: Train loss: 11.2780, Valid loss: 4.1829\n"
     ]
    },
    {
     "name": "stderr",
     "output_type": "stream",
     "text": [
      "Epoch [185/5000]: 100%|██████████| 34/34 [00:00<00:00, 270.15it/s, loss=13.8]\n"
     ]
    },
    {
     "name": "stdout",
     "output_type": "stream",
     "text": [
      "Epoch [185/5000]: Train loss: 11.5933, Valid loss: 5.9921\n"
     ]
    },
    {
     "name": "stderr",
     "output_type": "stream",
     "text": [
      "Epoch [186/5000]: 100%|██████████| 34/34 [00:00<00:00, 228.80it/s, loss=12.7]\n"
     ]
    },
    {
     "name": "stdout",
     "output_type": "stream",
     "text": [
      "Epoch [186/5000]: Train loss: 11.8954, Valid loss: 6.1869\n"
     ]
    },
    {
     "name": "stderr",
     "output_type": "stream",
     "text": [
      "Epoch [187/5000]: 100%|██████████| 34/34 [00:00<00:00, 228.23it/s, loss=14.5]\n"
     ]
    },
    {
     "name": "stdout",
     "output_type": "stream",
     "text": [
      "Epoch [187/5000]: Train loss: 11.4707, Valid loss: 6.3967\n"
     ]
    },
    {
     "name": "stderr",
     "output_type": "stream",
     "text": [
      "Epoch [188/5000]: 100%|██████████| 34/34 [00:00<00:00, 228.51it/s, loss=9.78]\n"
     ]
    },
    {
     "name": "stdout",
     "output_type": "stream",
     "text": [
      "Epoch [188/5000]: Train loss: 11.3583, Valid loss: 4.3286\n"
     ]
    },
    {
     "name": "stderr",
     "output_type": "stream",
     "text": [
      "Epoch [189/5000]: 100%|██████████| 34/34 [00:00<00:00, 228.81it/s, loss=9.14]\n"
     ]
    },
    {
     "name": "stdout",
     "output_type": "stream",
     "text": [
      "Epoch [189/5000]: Train loss: 11.0068, Valid loss: 3.5686\n"
     ]
    },
    {
     "name": "stderr",
     "output_type": "stream",
     "text": [
      "Epoch [190/5000]: 100%|██████████| 34/34 [00:00<00:00, 226.25it/s, loss=12.7]\n"
     ]
    },
    {
     "name": "stdout",
     "output_type": "stream",
     "text": [
      "Epoch [190/5000]: Train loss: 11.6211, Valid loss: 13.1351\n"
     ]
    },
    {
     "name": "stderr",
     "output_type": "stream",
     "text": [
      "Epoch [191/5000]: 100%|██████████| 34/34 [00:00<00:00, 225.86it/s, loss=6.3] \n"
     ]
    },
    {
     "name": "stdout",
     "output_type": "stream",
     "text": [
      "Epoch [191/5000]: Train loss: 11.5125, Valid loss: 5.7194\n"
     ]
    },
    {
     "name": "stderr",
     "output_type": "stream",
     "text": [
      "Epoch [192/5000]: 100%|██████████| 34/34 [00:00<00:00, 222.50it/s, loss=15.1]\n"
     ]
    },
    {
     "name": "stdout",
     "output_type": "stream",
     "text": [
      "Epoch [192/5000]: Train loss: 11.0147, Valid loss: 13.3138\n"
     ]
    },
    {
     "name": "stderr",
     "output_type": "stream",
     "text": [
      "Epoch [193/5000]: 100%|██████████| 34/34 [00:00<00:00, 225.90it/s, loss=7.97]\n"
     ]
    },
    {
     "name": "stdout",
     "output_type": "stream",
     "text": [
      "Epoch [193/5000]: Train loss: 12.0338, Valid loss: 16.9559\n"
     ]
    },
    {
     "name": "stderr",
     "output_type": "stream",
     "text": [
      "Epoch [194/5000]: 100%|██████████| 34/34 [00:00<00:00, 258.27it/s, loss=12.7]\n"
     ]
    },
    {
     "name": "stdout",
     "output_type": "stream",
     "text": [
      "Epoch [194/5000]: Train loss: 10.7708, Valid loss: 3.9443\n"
     ]
    },
    {
     "name": "stderr",
     "output_type": "stream",
     "text": [
      "Epoch [195/5000]: 100%|██████████| 34/34 [00:00<00:00, 279.60it/s, loss=10.1]\n"
     ]
    },
    {
     "name": "stdout",
     "output_type": "stream",
     "text": [
      "Epoch [195/5000]: Train loss: 10.7643, Valid loss: 2.8691\n"
     ]
    },
    {
     "name": "stderr",
     "output_type": "stream",
     "text": [
      "Epoch [196/5000]: 100%|██████████| 34/34 [00:00<00:00, 240.78it/s, loss=17.5]\n"
     ]
    },
    {
     "name": "stdout",
     "output_type": "stream",
     "text": [
      "Epoch [196/5000]: Train loss: 12.4653, Valid loss: 12.2093\n"
     ]
    },
    {
     "name": "stderr",
     "output_type": "stream",
     "text": [
      "Epoch [197/5000]: 100%|██████████| 34/34 [00:00<00:00, 255.95it/s, loss=13]  \n"
     ]
    },
    {
     "name": "stdout",
     "output_type": "stream",
     "text": [
      "Epoch [197/5000]: Train loss: 11.3582, Valid loss: 3.9891\n"
     ]
    },
    {
     "name": "stderr",
     "output_type": "stream",
     "text": [
      "Epoch [198/5000]: 100%|██████████| 34/34 [00:00<00:00, 233.35it/s, loss=8.12]\n"
     ]
    },
    {
     "name": "stdout",
     "output_type": "stream",
     "text": [
      "Epoch [198/5000]: Train loss: 10.5476, Valid loss: 4.0630\n"
     ]
    },
    {
     "name": "stderr",
     "output_type": "stream",
     "text": [
      "Epoch [199/5000]: 100%|██████████| 34/34 [00:00<00:00, 246.35it/s, loss=10.9]\n"
     ]
    },
    {
     "name": "stdout",
     "output_type": "stream",
     "text": [
      "Epoch [199/5000]: Train loss: 10.2655, Valid loss: 15.6853\n"
     ]
    },
    {
     "name": "stderr",
     "output_type": "stream",
     "text": [
      "Epoch [200/5000]: 100%|██████████| 34/34 [00:00<00:00, 243.38it/s, loss=8.68]\n"
     ]
    },
    {
     "name": "stdout",
     "output_type": "stream",
     "text": [
      "Epoch [200/5000]: Train loss: 10.6542, Valid loss: 3.4215\n"
     ]
    },
    {
     "name": "stderr",
     "output_type": "stream",
     "text": [
      "Epoch [201/5000]: 100%|██████████| 34/34 [00:00<00:00, 276.81it/s, loss=10.6]\n"
     ]
    },
    {
     "name": "stdout",
     "output_type": "stream",
     "text": [
      "Epoch [201/5000]: Train loss: 10.6301, Valid loss: 2.2709\n",
      "Saving model with loss 2.271...\n"
     ]
    },
    {
     "name": "stderr",
     "output_type": "stream",
     "text": [
      "Epoch [202/5000]: 100%|██████████| 34/34 [00:00<00:00, 243.88it/s, loss=9.01]\n"
     ]
    },
    {
     "name": "stdout",
     "output_type": "stream",
     "text": [
      "Epoch [202/5000]: Train loss: 10.2585, Valid loss: 2.5617\n"
     ]
    },
    {
     "name": "stderr",
     "output_type": "stream",
     "text": [
      "Epoch [203/5000]: 100%|██████████| 34/34 [00:00<00:00, 229.76it/s, loss=10.3]\n"
     ]
    },
    {
     "name": "stdout",
     "output_type": "stream",
     "text": [
      "Epoch [203/5000]: Train loss: 11.0813, Valid loss: 2.6890\n"
     ]
    },
    {
     "name": "stderr",
     "output_type": "stream",
     "text": [
      "Epoch [204/5000]: 100%|██████████| 34/34 [00:00<00:00, 252.39it/s, loss=15.1]\n"
     ]
    },
    {
     "name": "stdout",
     "output_type": "stream",
     "text": [
      "Epoch [204/5000]: Train loss: 10.9306, Valid loss: 3.7279\n"
     ]
    },
    {
     "name": "stderr",
     "output_type": "stream",
     "text": [
      "Epoch [205/5000]: 100%|██████████| 34/34 [00:00<00:00, 285.95it/s, loss=16.9]\n"
     ]
    },
    {
     "name": "stdout",
     "output_type": "stream",
     "text": [
      "Epoch [205/5000]: Train loss: 10.5807, Valid loss: 2.9067\n"
     ]
    },
    {
     "name": "stderr",
     "output_type": "stream",
     "text": [
      "Epoch [206/5000]: 100%|██████████| 34/34 [00:00<00:00, 241.73it/s, loss=11.3]\n"
     ]
    },
    {
     "name": "stdout",
     "output_type": "stream",
     "text": [
      "Epoch [206/5000]: Train loss: 10.3983, Valid loss: 16.9943\n"
     ]
    },
    {
     "name": "stderr",
     "output_type": "stream",
     "text": [
      "Epoch [207/5000]: 100%|██████████| 34/34 [00:00<00:00, 225.87it/s, loss=16.5]\n"
     ]
    },
    {
     "name": "stdout",
     "output_type": "stream",
     "text": [
      "Epoch [207/5000]: Train loss: 10.0426, Valid loss: 2.4565\n"
     ]
    },
    {
     "name": "stderr",
     "output_type": "stream",
     "text": [
      "Epoch [208/5000]: 100%|██████████| 34/34 [00:00<00:00, 246.88it/s, loss=6.02]\n"
     ]
    },
    {
     "name": "stdout",
     "output_type": "stream",
     "text": [
      "Epoch [208/5000]: Train loss: 9.9641, Valid loss: 2.9576\n"
     ]
    },
    {
     "name": "stderr",
     "output_type": "stream",
     "text": [
      "Epoch [209/5000]: 100%|██████████| 34/34 [00:00<00:00, 248.60it/s, loss=10.5]\n"
     ]
    },
    {
     "name": "stdout",
     "output_type": "stream",
     "text": [
      "Epoch [209/5000]: Train loss: 10.9792, Valid loss: 3.8519\n"
     ]
    },
    {
     "name": "stderr",
     "output_type": "stream",
     "text": [
      "Epoch [210/5000]: 100%|██████████| 34/34 [00:00<00:00, 249.26it/s, loss=13.4]\n"
     ]
    },
    {
     "name": "stdout",
     "output_type": "stream",
     "text": [
      "Epoch [210/5000]: Train loss: 10.8756, Valid loss: 6.0928\n"
     ]
    },
    {
     "name": "stderr",
     "output_type": "stream",
     "text": [
      "Epoch [211/5000]: 100%|██████████| 34/34 [00:00<00:00, 241.08it/s, loss=10.3]\n"
     ]
    },
    {
     "name": "stdout",
     "output_type": "stream",
     "text": [
      "Epoch [211/5000]: Train loss: 9.5421, Valid loss: 3.5776\n"
     ]
    },
    {
     "name": "stderr",
     "output_type": "stream",
     "text": [
      "Epoch [212/5000]: 100%|██████████| 34/34 [00:00<00:00, 225.01it/s, loss=8.89]\n"
     ]
    },
    {
     "name": "stdout",
     "output_type": "stream",
     "text": [
      "Epoch [212/5000]: Train loss: 10.7459, Valid loss: 4.3000\n"
     ]
    },
    {
     "name": "stderr",
     "output_type": "stream",
     "text": [
      "Epoch [213/5000]: 100%|██████████| 34/34 [00:00<00:00, 266.43it/s, loss=14.7]\n"
     ]
    },
    {
     "name": "stdout",
     "output_type": "stream",
     "text": [
      "Epoch [213/5000]: Train loss: 10.2174, Valid loss: 3.4255\n"
     ]
    },
    {
     "name": "stderr",
     "output_type": "stream",
     "text": [
      "Epoch [214/5000]: 100%|██████████| 34/34 [00:00<00:00, 213.16it/s, loss=12.1]\n"
     ]
    },
    {
     "name": "stdout",
     "output_type": "stream",
     "text": [
      "Epoch [214/5000]: Train loss: 10.1262, Valid loss: 2.6960\n"
     ]
    },
    {
     "name": "stderr",
     "output_type": "stream",
     "text": [
      "Epoch [215/5000]: 100%|██████████| 34/34 [00:00<00:00, 252.95it/s, loss=8.43]\n"
     ]
    },
    {
     "name": "stdout",
     "output_type": "stream",
     "text": [
      "Epoch [215/5000]: Train loss: 11.2915, Valid loss: 6.9145\n"
     ]
    },
    {
     "name": "stderr",
     "output_type": "stream",
     "text": [
      "Epoch [216/5000]: 100%|██████████| 34/34 [00:00<00:00, 216.85it/s, loss=11]  \n"
     ]
    },
    {
     "name": "stdout",
     "output_type": "stream",
     "text": [
      "Epoch [216/5000]: Train loss: 10.7330, Valid loss: 3.8111\n"
     ]
    },
    {
     "name": "stderr",
     "output_type": "stream",
     "text": [
      "Epoch [217/5000]: 100%|██████████| 34/34 [00:00<00:00, 219.96it/s, loss=18.2]\n"
     ]
    },
    {
     "name": "stdout",
     "output_type": "stream",
     "text": [
      "Epoch [217/5000]: Train loss: 10.7250, Valid loss: 6.5407\n"
     ]
    },
    {
     "name": "stderr",
     "output_type": "stream",
     "text": [
      "Epoch [218/5000]: 100%|██████████| 34/34 [00:00<00:00, 241.49it/s, loss=9.01]\n"
     ]
    },
    {
     "name": "stdout",
     "output_type": "stream",
     "text": [
      "Epoch [218/5000]: Train loss: 10.7824, Valid loss: 4.4330\n"
     ]
    },
    {
     "name": "stderr",
     "output_type": "stream",
     "text": [
      "Epoch [219/5000]: 100%|██████████| 34/34 [00:00<00:00, 270.78it/s, loss=8.48]\n"
     ]
    },
    {
     "name": "stdout",
     "output_type": "stream",
     "text": [
      "Epoch [219/5000]: Train loss: 10.7088, Valid loss: 2.4146\n"
     ]
    },
    {
     "name": "stderr",
     "output_type": "stream",
     "text": [
      "Epoch [220/5000]: 100%|██████████| 34/34 [00:00<00:00, 277.27it/s, loss=9.84]\n"
     ]
    },
    {
     "name": "stdout",
     "output_type": "stream",
     "text": [
      "Epoch [220/5000]: Train loss: 10.3838, Valid loss: 3.5261\n"
     ]
    },
    {
     "name": "stderr",
     "output_type": "stream",
     "text": [
      "Epoch [221/5000]: 100%|██████████| 34/34 [00:00<00:00, 223.92it/s, loss=8.36]\n"
     ]
    },
    {
     "name": "stdout",
     "output_type": "stream",
     "text": [
      "Epoch [221/5000]: Train loss: 10.1644, Valid loss: 4.4005\n"
     ]
    },
    {
     "name": "stderr",
     "output_type": "stream",
     "text": [
      "Epoch [222/5000]: 100%|██████████| 34/34 [00:00<00:00, 248.61it/s, loss=15.1]\n"
     ]
    },
    {
     "name": "stdout",
     "output_type": "stream",
     "text": [
      "Epoch [222/5000]: Train loss: 12.1999, Valid loss: 3.5256\n"
     ]
    },
    {
     "name": "stderr",
     "output_type": "stream",
     "text": [
      "Epoch [223/5000]: 100%|██████████| 34/34 [00:00<00:00, 236.79it/s, loss=9.92]\n"
     ]
    },
    {
     "name": "stdout",
     "output_type": "stream",
     "text": [
      "Epoch [223/5000]: Train loss: 9.7679, Valid loss: 3.7171\n"
     ]
    },
    {
     "name": "stderr",
     "output_type": "stream",
     "text": [
      "Epoch [224/5000]: 100%|██████████| 34/34 [00:00<00:00, 257.56it/s, loss=6.54]\n"
     ]
    },
    {
     "name": "stdout",
     "output_type": "stream",
     "text": [
      "Epoch [224/5000]: Train loss: 10.0073, Valid loss: 8.8400\n"
     ]
    },
    {
     "name": "stderr",
     "output_type": "stream",
     "text": [
      "Epoch [225/5000]: 100%|██████████| 34/34 [00:00<00:00, 252.76it/s, loss=13.6]\n"
     ]
    },
    {
     "name": "stdout",
     "output_type": "stream",
     "text": [
      "Epoch [225/5000]: Train loss: 10.6489, Valid loss: 4.3824\n"
     ]
    },
    {
     "name": "stderr",
     "output_type": "stream",
     "text": [
      "Epoch [226/5000]: 100%|██████████| 34/34 [00:00<00:00, 242.68it/s, loss=8.79]\n"
     ]
    },
    {
     "name": "stdout",
     "output_type": "stream",
     "text": [
      "Epoch [226/5000]: Train loss: 10.3009, Valid loss: 14.1621\n"
     ]
    },
    {
     "name": "stderr",
     "output_type": "stream",
     "text": [
      "Epoch [227/5000]: 100%|██████████| 34/34 [00:00<00:00, 243.47it/s, loss=8.13]\n"
     ]
    },
    {
     "name": "stdout",
     "output_type": "stream",
     "text": [
      "Epoch [227/5000]: Train loss: 10.1137, Valid loss: 4.3849\n"
     ]
    },
    {
     "name": "stderr",
     "output_type": "stream",
     "text": [
      "Epoch [228/5000]: 100%|██████████| 34/34 [00:00<00:00, 229.59it/s, loss=11.3]\n"
     ]
    },
    {
     "name": "stdout",
     "output_type": "stream",
     "text": [
      "Epoch [228/5000]: Train loss: 10.1233, Valid loss: 5.1517\n"
     ]
    },
    {
     "name": "stderr",
     "output_type": "stream",
     "text": [
      "Epoch [229/5000]: 100%|██████████| 34/34 [00:00<00:00, 214.53it/s, loss=25]  \n"
     ]
    },
    {
     "name": "stdout",
     "output_type": "stream",
     "text": [
      "Epoch [229/5000]: Train loss: 10.9217, Valid loss: 5.9978\n"
     ]
    },
    {
     "name": "stderr",
     "output_type": "stream",
     "text": [
      "Epoch [230/5000]: 100%|██████████| 34/34 [00:00<00:00, 210.09it/s, loss=8.98]\n"
     ]
    },
    {
     "name": "stdout",
     "output_type": "stream",
     "text": [
      "Epoch [230/5000]: Train loss: 11.1734, Valid loss: 2.8796\n"
     ]
    },
    {
     "name": "stderr",
     "output_type": "stream",
     "text": [
      "Epoch [231/5000]: 100%|██████████| 34/34 [00:00<00:00, 284.75it/s, loss=12.4]\n"
     ]
    },
    {
     "name": "stdout",
     "output_type": "stream",
     "text": [
      "Epoch [231/5000]: Train loss: 9.9158, Valid loss: 3.1715\n"
     ]
    },
    {
     "name": "stderr",
     "output_type": "stream",
     "text": [
      "Epoch [232/5000]: 100%|██████████| 34/34 [00:00<00:00, 239.61it/s, loss=9.56]\n"
     ]
    },
    {
     "name": "stdout",
     "output_type": "stream",
     "text": [
      "Epoch [232/5000]: Train loss: 9.9359, Valid loss: 7.0389\n"
     ]
    },
    {
     "name": "stderr",
     "output_type": "stream",
     "text": [
      "Epoch [233/5000]: 100%|██████████| 34/34 [00:00<00:00, 249.28it/s, loss=17.1]\n"
     ]
    },
    {
     "name": "stdout",
     "output_type": "stream",
     "text": [
      "Epoch [233/5000]: Train loss: 10.1534, Valid loss: 2.7538\n"
     ]
    },
    {
     "name": "stderr",
     "output_type": "stream",
     "text": [
      "Epoch [234/5000]: 100%|██████████| 34/34 [00:00<00:00, 252.29it/s, loss=8.19]\n"
     ]
    },
    {
     "name": "stdout",
     "output_type": "stream",
     "text": [
      "Epoch [234/5000]: Train loss: 9.9570, Valid loss: 15.9804\n"
     ]
    },
    {
     "name": "stderr",
     "output_type": "stream",
     "text": [
      "Epoch [235/5000]: 100%|██████████| 34/34 [00:00<00:00, 265.09it/s, loss=13.4]\n"
     ]
    },
    {
     "name": "stdout",
     "output_type": "stream",
     "text": [
      "Epoch [235/5000]: Train loss: 10.6130, Valid loss: 5.3738\n"
     ]
    },
    {
     "name": "stderr",
     "output_type": "stream",
     "text": [
      "Epoch [236/5000]: 100%|██████████| 34/34 [00:00<00:00, 256.14it/s, loss=11]  \n"
     ]
    },
    {
     "name": "stdout",
     "output_type": "stream",
     "text": [
      "Epoch [236/5000]: Train loss: 9.7554, Valid loss: 7.1643\n"
     ]
    },
    {
     "name": "stderr",
     "output_type": "stream",
     "text": [
      "Epoch [237/5000]: 100%|██████████| 34/34 [00:00<00:00, 286.29it/s, loss=11.4]\n"
     ]
    },
    {
     "name": "stdout",
     "output_type": "stream",
     "text": [
      "Epoch [237/5000]: Train loss: 10.0356, Valid loss: 15.0671\n"
     ]
    },
    {
     "name": "stderr",
     "output_type": "stream",
     "text": [
      "Epoch [238/5000]: 100%|██████████| 34/34 [00:00<00:00, 275.52it/s, loss=11.3]\n"
     ]
    },
    {
     "name": "stdout",
     "output_type": "stream",
     "text": [
      "Epoch [238/5000]: Train loss: 9.7564, Valid loss: 5.2973\n"
     ]
    },
    {
     "name": "stderr",
     "output_type": "stream",
     "text": [
      "Epoch [239/5000]: 100%|██████████| 34/34 [00:00<00:00, 276.92it/s, loss=9.23]\n"
     ]
    },
    {
     "name": "stdout",
     "output_type": "stream",
     "text": [
      "Epoch [239/5000]: Train loss: 10.2950, Valid loss: 2.8835\n"
     ]
    },
    {
     "name": "stderr",
     "output_type": "stream",
     "text": [
      "Epoch [240/5000]: 100%|██████████| 34/34 [00:00<00:00, 267.60it/s, loss=7.29]\n"
     ]
    },
    {
     "name": "stdout",
     "output_type": "stream",
     "text": [
      "Epoch [240/5000]: Train loss: 9.7813, Valid loss: 3.2063\n"
     ]
    },
    {
     "name": "stderr",
     "output_type": "stream",
     "text": [
      "Epoch [241/5000]: 100%|██████████| 34/34 [00:00<00:00, 266.71it/s, loss=3.91]\n"
     ]
    },
    {
     "name": "stdout",
     "output_type": "stream",
     "text": [
      "Epoch [241/5000]: Train loss: 10.0563, Valid loss: 5.7976\n"
     ]
    },
    {
     "name": "stderr",
     "output_type": "stream",
     "text": [
      "Epoch [242/5000]: 100%|██████████| 34/34 [00:00<00:00, 231.48it/s, loss=9.62]\n"
     ]
    },
    {
     "name": "stdout",
     "output_type": "stream",
     "text": [
      "Epoch [242/5000]: Train loss: 10.2684, Valid loss: 2.6089\n"
     ]
    },
    {
     "name": "stderr",
     "output_type": "stream",
     "text": [
      "Epoch [243/5000]: 100%|██████████| 34/34 [00:00<00:00, 222.26it/s, loss=7.24]\n"
     ]
    },
    {
     "name": "stdout",
     "output_type": "stream",
     "text": [
      "Epoch [243/5000]: Train loss: 9.7573, Valid loss: 3.0049\n"
     ]
    },
    {
     "name": "stderr",
     "output_type": "stream",
     "text": [
      "Epoch [244/5000]: 100%|██████████| 34/34 [00:00<00:00, 231.16it/s, loss=13.9]\n"
     ]
    },
    {
     "name": "stdout",
     "output_type": "stream",
     "text": [
      "Epoch [244/5000]: Train loss: 9.8058, Valid loss: 2.8707\n"
     ]
    },
    {
     "name": "stderr",
     "output_type": "stream",
     "text": [
      "Epoch [245/5000]: 100%|██████████| 34/34 [00:00<00:00, 245.91it/s, loss=11.4]\n"
     ]
    },
    {
     "name": "stdout",
     "output_type": "stream",
     "text": [
      "Epoch [245/5000]: Train loss: 10.0984, Valid loss: 2.7950\n"
     ]
    },
    {
     "name": "stderr",
     "output_type": "stream",
     "text": [
      "Epoch [246/5000]: 100%|██████████| 34/34 [00:00<00:00, 236.47it/s, loss=6.21]\n"
     ]
    },
    {
     "name": "stdout",
     "output_type": "stream",
     "text": [
      "Epoch [246/5000]: Train loss: 9.8339, Valid loss: 2.5989\n"
     ]
    },
    {
     "name": "stderr",
     "output_type": "stream",
     "text": [
      "Epoch [247/5000]: 100%|██████████| 34/34 [00:00<00:00, 243.13it/s, loss=9.71]\n"
     ]
    },
    {
     "name": "stdout",
     "output_type": "stream",
     "text": [
      "Epoch [247/5000]: Train loss: 10.4257, Valid loss: 3.1090\n"
     ]
    },
    {
     "name": "stderr",
     "output_type": "stream",
     "text": [
      "Epoch [248/5000]: 100%|██████████| 34/34 [00:00<00:00, 224.10it/s, loss=6.35]\n"
     ]
    },
    {
     "name": "stdout",
     "output_type": "stream",
     "text": [
      "Epoch [248/5000]: Train loss: 9.4907, Valid loss: 9.0130\n"
     ]
    },
    {
     "name": "stderr",
     "output_type": "stream",
     "text": [
      "Epoch [249/5000]: 100%|██████████| 34/34 [00:00<00:00, 217.83it/s, loss=10.8]\n"
     ]
    },
    {
     "name": "stdout",
     "output_type": "stream",
     "text": [
      "Epoch [249/5000]: Train loss: 10.3328, Valid loss: 5.3119\n"
     ]
    },
    {
     "name": "stderr",
     "output_type": "stream",
     "text": [
      "Epoch [250/5000]: 100%|██████████| 34/34 [00:00<00:00, 219.58it/s, loss=7.17]\n"
     ]
    },
    {
     "name": "stdout",
     "output_type": "stream",
     "text": [
      "Epoch [250/5000]: Train loss: 8.6331, Valid loss: 4.3181\n"
     ]
    },
    {
     "name": "stderr",
     "output_type": "stream",
     "text": [
      "Epoch [251/5000]: 100%|██████████| 34/34 [00:00<00:00, 264.77it/s, loss=9.48]\n"
     ]
    },
    {
     "name": "stdout",
     "output_type": "stream",
     "text": [
      "Epoch [251/5000]: Train loss: 9.3739, Valid loss: 8.2024\n"
     ]
    },
    {
     "name": "stderr",
     "output_type": "stream",
     "text": [
      "Epoch [252/5000]: 100%|██████████| 34/34 [00:00<00:00, 255.70it/s, loss=7.89]\n"
     ]
    },
    {
     "name": "stdout",
     "output_type": "stream",
     "text": [
      "Epoch [252/5000]: Train loss: 10.3237, Valid loss: 4.8472\n"
     ]
    },
    {
     "name": "stderr",
     "output_type": "stream",
     "text": [
      "Epoch [253/5000]: 100%|██████████| 34/34 [00:00<00:00, 228.25it/s, loss=9.21]\n"
     ]
    },
    {
     "name": "stdout",
     "output_type": "stream",
     "text": [
      "Epoch [253/5000]: Train loss: 9.5424, Valid loss: 2.8009\n"
     ]
    },
    {
     "name": "stderr",
     "output_type": "stream",
     "text": [
      "Epoch [254/5000]: 100%|██████████| 34/34 [00:00<00:00, 234.69it/s, loss=7.12]\n"
     ]
    },
    {
     "name": "stdout",
     "output_type": "stream",
     "text": [
      "Epoch [254/5000]: Train loss: 9.6999, Valid loss: 6.0108\n"
     ]
    },
    {
     "name": "stderr",
     "output_type": "stream",
     "text": [
      "Epoch [255/5000]: 100%|██████████| 34/34 [00:00<00:00, 240.32it/s, loss=15.4]\n"
     ]
    },
    {
     "name": "stdout",
     "output_type": "stream",
     "text": [
      "Epoch [255/5000]: Train loss: 9.9444, Valid loss: 7.7826\n"
     ]
    },
    {
     "name": "stderr",
     "output_type": "stream",
     "text": [
      "Epoch [256/5000]: 100%|██████████| 34/34 [00:00<00:00, 220.49it/s, loss=7.71]\n"
     ]
    },
    {
     "name": "stdout",
     "output_type": "stream",
     "text": [
      "Epoch [256/5000]: Train loss: 9.6066, Valid loss: 3.3888\n"
     ]
    },
    {
     "name": "stderr",
     "output_type": "stream",
     "text": [
      "Epoch [257/5000]: 100%|██████████| 34/34 [00:00<00:00, 263.62it/s, loss=8.15]\n"
     ]
    },
    {
     "name": "stdout",
     "output_type": "stream",
     "text": [
      "Epoch [257/5000]: Train loss: 10.5113, Valid loss: 5.8920\n"
     ]
    },
    {
     "name": "stderr",
     "output_type": "stream",
     "text": [
      "Epoch [258/5000]: 100%|██████████| 34/34 [00:00<00:00, 256.40it/s, loss=13.3]\n"
     ]
    },
    {
     "name": "stdout",
     "output_type": "stream",
     "text": [
      "Epoch [258/5000]: Train loss: 10.2593, Valid loss: 2.9308\n"
     ]
    },
    {
     "name": "stderr",
     "output_type": "stream",
     "text": [
      "Epoch [259/5000]: 100%|██████████| 34/34 [00:00<00:00, 249.67it/s, loss=10.9]\n"
     ]
    },
    {
     "name": "stdout",
     "output_type": "stream",
     "text": [
      "Epoch [259/5000]: Train loss: 10.2760, Valid loss: 4.3114\n"
     ]
    },
    {
     "name": "stderr",
     "output_type": "stream",
     "text": [
      "Epoch [260/5000]: 100%|██████████| 34/34 [00:00<00:00, 212.45it/s, loss=10.9]\n"
     ]
    },
    {
     "name": "stdout",
     "output_type": "stream",
     "text": [
      "Epoch [260/5000]: Train loss: 9.8198, Valid loss: 3.2713\n"
     ]
    },
    {
     "name": "stderr",
     "output_type": "stream",
     "text": [
      "Epoch [261/5000]: 100%|██████████| 34/34 [00:00<00:00, 217.50it/s, loss=6.58]\n"
     ]
    },
    {
     "name": "stdout",
     "output_type": "stream",
     "text": [
      "Epoch [261/5000]: Train loss: 9.4337, Valid loss: 2.7822\n"
     ]
    },
    {
     "name": "stderr",
     "output_type": "stream",
     "text": [
      "Epoch [262/5000]: 100%|██████████| 34/34 [00:00<00:00, 242.23it/s, loss=6.76]\n"
     ]
    },
    {
     "name": "stdout",
     "output_type": "stream",
     "text": [
      "Epoch [262/5000]: Train loss: 9.8412, Valid loss: 3.3765\n"
     ]
    },
    {
     "name": "stderr",
     "output_type": "stream",
     "text": [
      "Epoch [263/5000]: 100%|██████████| 34/34 [00:00<00:00, 260.85it/s, loss=7.12]\n"
     ]
    },
    {
     "name": "stdout",
     "output_type": "stream",
     "text": [
      "Epoch [263/5000]: Train loss: 9.5002, Valid loss: 2.2225\n",
      "Saving model with loss 2.223...\n"
     ]
    },
    {
     "name": "stderr",
     "output_type": "stream",
     "text": [
      "Epoch [264/5000]: 100%|██████████| 34/34 [00:00<00:00, 251.35it/s, loss=9.6] \n"
     ]
    },
    {
     "name": "stdout",
     "output_type": "stream",
     "text": [
      "Epoch [264/5000]: Train loss: 9.4069, Valid loss: 4.0550\n"
     ]
    },
    {
     "name": "stderr",
     "output_type": "stream",
     "text": [
      "Epoch [265/5000]: 100%|██████████| 34/34 [00:00<00:00, 233.72it/s, loss=13.7]\n"
     ]
    },
    {
     "name": "stdout",
     "output_type": "stream",
     "text": [
      "Epoch [265/5000]: Train loss: 9.5105, Valid loss: 2.4706\n"
     ]
    },
    {
     "name": "stderr",
     "output_type": "stream",
     "text": [
      "Epoch [266/5000]: 100%|██████████| 34/34 [00:00<00:00, 226.03it/s, loss=10.8]\n"
     ]
    },
    {
     "name": "stdout",
     "output_type": "stream",
     "text": [
      "Epoch [266/5000]: Train loss: 8.7182, Valid loss: 5.0884\n"
     ]
    },
    {
     "name": "stderr",
     "output_type": "stream",
     "text": [
      "Epoch [267/5000]: 100%|██████████| 34/34 [00:00<00:00, 248.17it/s, loss=14.9]\n"
     ]
    },
    {
     "name": "stdout",
     "output_type": "stream",
     "text": [
      "Epoch [267/5000]: Train loss: 8.9425, Valid loss: 2.3770\n"
     ]
    },
    {
     "name": "stderr",
     "output_type": "stream",
     "text": [
      "Epoch [268/5000]: 100%|██████████| 34/34 [00:00<00:00, 237.36it/s, loss=11.3]\n"
     ]
    },
    {
     "name": "stdout",
     "output_type": "stream",
     "text": [
      "Epoch [268/5000]: Train loss: 9.2894, Valid loss: 4.0789\n"
     ]
    },
    {
     "name": "stderr",
     "output_type": "stream",
     "text": [
      "Epoch [269/5000]: 100%|██████████| 34/34 [00:00<00:00, 280.26it/s, loss=10.6]\n"
     ]
    },
    {
     "name": "stdout",
     "output_type": "stream",
     "text": [
      "Epoch [269/5000]: Train loss: 8.8146, Valid loss: 4.3385\n"
     ]
    },
    {
     "name": "stderr",
     "output_type": "stream",
     "text": [
      "Epoch [270/5000]: 100%|██████████| 34/34 [00:00<00:00, 257.36it/s, loss=7.47]\n"
     ]
    },
    {
     "name": "stdout",
     "output_type": "stream",
     "text": [
      "Epoch [270/5000]: Train loss: 9.5775, Valid loss: 3.7767\n"
     ]
    },
    {
     "name": "stderr",
     "output_type": "stream",
     "text": [
      "Epoch [271/5000]: 100%|██████████| 34/34 [00:00<00:00, 290.26it/s, loss=6.51]\n"
     ]
    },
    {
     "name": "stdout",
     "output_type": "stream",
     "text": [
      "Epoch [271/5000]: Train loss: 9.3690, Valid loss: 5.2066\n"
     ]
    },
    {
     "name": "stderr",
     "output_type": "stream",
     "text": [
      "Epoch [272/5000]: 100%|██████████| 34/34 [00:00<00:00, 245.48it/s, loss=4.65]\n"
     ]
    },
    {
     "name": "stdout",
     "output_type": "stream",
     "text": [
      "Epoch [272/5000]: Train loss: 8.7328, Valid loss: 7.7916\n"
     ]
    },
    {
     "name": "stderr",
     "output_type": "stream",
     "text": [
      "Epoch [273/5000]: 100%|██████████| 34/34 [00:00<00:00, 302.63it/s, loss=9]   \n"
     ]
    },
    {
     "name": "stdout",
     "output_type": "stream",
     "text": [
      "Epoch [273/5000]: Train loss: 9.6805, Valid loss: 4.1259\n"
     ]
    },
    {
     "name": "stderr",
     "output_type": "stream",
     "text": [
      "Epoch [274/5000]: 100%|██████████| 34/34 [00:00<00:00, 308.76it/s, loss=12.9]\n"
     ]
    },
    {
     "name": "stdout",
     "output_type": "stream",
     "text": [
      "Epoch [274/5000]: Train loss: 10.4771, Valid loss: 6.1211\n"
     ]
    },
    {
     "name": "stderr",
     "output_type": "stream",
     "text": [
      "Epoch [275/5000]: 100%|██████████| 34/34 [00:00<00:00, 314.05it/s, loss=10.8]\n"
     ]
    },
    {
     "name": "stdout",
     "output_type": "stream",
     "text": [
      "Epoch [275/5000]: Train loss: 9.4946, Valid loss: 2.6901\n"
     ]
    },
    {
     "name": "stderr",
     "output_type": "stream",
     "text": [
      "Epoch [276/5000]: 100%|██████████| 34/34 [00:00<00:00, 303.95it/s, loss=7.2] \n"
     ]
    },
    {
     "name": "stdout",
     "output_type": "stream",
     "text": [
      "Epoch [276/5000]: Train loss: 8.8087, Valid loss: 2.5558\n"
     ]
    },
    {
     "name": "stderr",
     "output_type": "stream",
     "text": [
      "Epoch [277/5000]: 100%|██████████| 34/34 [00:00<00:00, 310.98it/s, loss=9.37]\n"
     ]
    },
    {
     "name": "stdout",
     "output_type": "stream",
     "text": [
      "Epoch [277/5000]: Train loss: 9.3452, Valid loss: 2.0320\n",
      "Saving model with loss 2.032...\n"
     ]
    },
    {
     "name": "stderr",
     "output_type": "stream",
     "text": [
      "Epoch [278/5000]: 100%|██████████| 34/34 [00:00<00:00, 275.78it/s, loss=14.5]\n"
     ]
    },
    {
     "name": "stdout",
     "output_type": "stream",
     "text": [
      "Epoch [278/5000]: Train loss: 9.6811, Valid loss: 3.8761\n"
     ]
    },
    {
     "name": "stderr",
     "output_type": "stream",
     "text": [
      "Epoch [279/5000]: 100%|██████████| 34/34 [00:00<00:00, 249.12it/s, loss=10.1]\n"
     ]
    },
    {
     "name": "stdout",
     "output_type": "stream",
     "text": [
      "Epoch [279/5000]: Train loss: 9.0085, Valid loss: 5.3576\n"
     ]
    },
    {
     "name": "stderr",
     "output_type": "stream",
     "text": [
      "Epoch [280/5000]: 100%|██████████| 34/34 [00:00<00:00, 243.01it/s, loss=12.6]\n"
     ]
    },
    {
     "name": "stdout",
     "output_type": "stream",
     "text": [
      "Epoch [280/5000]: Train loss: 9.0072, Valid loss: 3.3543\n"
     ]
    },
    {
     "name": "stderr",
     "output_type": "stream",
     "text": [
      "Epoch [281/5000]: 100%|██████████| 34/34 [00:00<00:00, 215.13it/s, loss=8.75]\n"
     ]
    },
    {
     "name": "stdout",
     "output_type": "stream",
     "text": [
      "Epoch [281/5000]: Train loss: 9.4026, Valid loss: 2.9528\n"
     ]
    },
    {
     "name": "stderr",
     "output_type": "stream",
     "text": [
      "Epoch [282/5000]: 100%|██████████| 34/34 [00:00<00:00, 248.29it/s, loss=14.5]\n"
     ]
    },
    {
     "name": "stdout",
     "output_type": "stream",
     "text": [
      "Epoch [282/5000]: Train loss: 8.5128, Valid loss: 2.9395\n"
     ]
    },
    {
     "name": "stderr",
     "output_type": "stream",
     "text": [
      "Epoch [283/5000]: 100%|██████████| 34/34 [00:00<00:00, 243.05it/s, loss=11.4]\n"
     ]
    },
    {
     "name": "stdout",
     "output_type": "stream",
     "text": [
      "Epoch [283/5000]: Train loss: 8.7646, Valid loss: 2.8383\n"
     ]
    },
    {
     "name": "stderr",
     "output_type": "stream",
     "text": [
      "Epoch [284/5000]: 100%|██████████| 34/34 [00:00<00:00, 222.66it/s, loss=5.59]\n"
     ]
    },
    {
     "name": "stdout",
     "output_type": "stream",
     "text": [
      "Epoch [284/5000]: Train loss: 9.4600, Valid loss: 14.3720\n"
     ]
    },
    {
     "name": "stderr",
     "output_type": "stream",
     "text": [
      "Epoch [285/5000]: 100%|██████████| 34/34 [00:00<00:00, 226.79it/s, loss=9.69]\n"
     ]
    },
    {
     "name": "stdout",
     "output_type": "stream",
     "text": [
      "Epoch [285/5000]: Train loss: 8.9256, Valid loss: 4.2461\n"
     ]
    },
    {
     "name": "stderr",
     "output_type": "stream",
     "text": [
      "Epoch [286/5000]: 100%|██████████| 34/34 [00:00<00:00, 241.94it/s, loss=12.6]\n"
     ]
    },
    {
     "name": "stdout",
     "output_type": "stream",
     "text": [
      "Epoch [286/5000]: Train loss: 8.4865, Valid loss: 2.6134\n"
     ]
    },
    {
     "name": "stderr",
     "output_type": "stream",
     "text": [
      "Epoch [287/5000]: 100%|██████████| 34/34 [00:00<00:00, 242.08it/s, loss=12.5]\n"
     ]
    },
    {
     "name": "stdout",
     "output_type": "stream",
     "text": [
      "Epoch [287/5000]: Train loss: 8.8507, Valid loss: 2.6664\n"
     ]
    },
    {
     "name": "stderr",
     "output_type": "stream",
     "text": [
      "Epoch [288/5000]: 100%|██████████| 34/34 [00:00<00:00, 241.18it/s, loss=8.47]\n"
     ]
    },
    {
     "name": "stdout",
     "output_type": "stream",
     "text": [
      "Epoch [288/5000]: Train loss: 9.0988, Valid loss: 4.3033\n"
     ]
    },
    {
     "name": "stderr",
     "output_type": "stream",
     "text": [
      "Epoch [289/5000]: 100%|██████████| 34/34 [00:00<00:00, 233.59it/s, loss=11.8]\n"
     ]
    },
    {
     "name": "stdout",
     "output_type": "stream",
     "text": [
      "Epoch [289/5000]: Train loss: 9.2701, Valid loss: 6.6010\n"
     ]
    },
    {
     "name": "stderr",
     "output_type": "stream",
     "text": [
      "Epoch [290/5000]: 100%|██████████| 34/34 [00:00<00:00, 269.98it/s, loss=7.93]\n"
     ]
    },
    {
     "name": "stdout",
     "output_type": "stream",
     "text": [
      "Epoch [290/5000]: Train loss: 8.9076, Valid loss: 4.3674\n"
     ]
    },
    {
     "name": "stderr",
     "output_type": "stream",
     "text": [
      "Epoch [291/5000]: 100%|██████████| 34/34 [00:00<00:00, 239.49it/s, loss=8.3] \n"
     ]
    },
    {
     "name": "stdout",
     "output_type": "stream",
     "text": [
      "Epoch [291/5000]: Train loss: 9.0993, Valid loss: 3.2867\n"
     ]
    },
    {
     "name": "stderr",
     "output_type": "stream",
     "text": [
      "Epoch [292/5000]: 100%|██████████| 34/34 [00:00<00:00, 256.41it/s, loss=15.2]\n"
     ]
    },
    {
     "name": "stdout",
     "output_type": "stream",
     "text": [
      "Epoch [292/5000]: Train loss: 8.6693, Valid loss: 2.5006\n"
     ]
    },
    {
     "name": "stderr",
     "output_type": "stream",
     "text": [
      "Epoch [293/5000]: 100%|██████████| 34/34 [00:00<00:00, 237.52it/s, loss=6.84]\n"
     ]
    },
    {
     "name": "stdout",
     "output_type": "stream",
     "text": [
      "Epoch [293/5000]: Train loss: 8.7140, Valid loss: 2.5307\n"
     ]
    },
    {
     "name": "stderr",
     "output_type": "stream",
     "text": [
      "Epoch [294/5000]: 100%|██████████| 34/34 [00:00<00:00, 220.10it/s, loss=20]  \n"
     ]
    },
    {
     "name": "stdout",
     "output_type": "stream",
     "text": [
      "Epoch [294/5000]: Train loss: 9.4368, Valid loss: 11.1539\n"
     ]
    },
    {
     "name": "stderr",
     "output_type": "stream",
     "text": [
      "Epoch [295/5000]: 100%|██████████| 34/34 [00:00<00:00, 228.44it/s, loss=6.86]\n"
     ]
    },
    {
     "name": "stdout",
     "output_type": "stream",
     "text": [
      "Epoch [295/5000]: Train loss: 8.6116, Valid loss: 2.2998\n"
     ]
    },
    {
     "name": "stderr",
     "output_type": "stream",
     "text": [
      "Epoch [296/5000]: 100%|██████████| 34/34 [00:00<00:00, 241.24it/s, loss=8.7] \n"
     ]
    },
    {
     "name": "stdout",
     "output_type": "stream",
     "text": [
      "Epoch [296/5000]: Train loss: 8.6424, Valid loss: 2.5235\n"
     ]
    },
    {
     "name": "stderr",
     "output_type": "stream",
     "text": [
      "Epoch [297/5000]: 100%|██████████| 34/34 [00:00<00:00, 226.08it/s, loss=15]  \n"
     ]
    },
    {
     "name": "stdout",
     "output_type": "stream",
     "text": [
      "Epoch [297/5000]: Train loss: 8.8091, Valid loss: 2.3355\n"
     ]
    },
    {
     "name": "stderr",
     "output_type": "stream",
     "text": [
      "Epoch [298/5000]: 100%|██████████| 34/34 [00:00<00:00, 234.01it/s, loss=15.1]\n"
     ]
    },
    {
     "name": "stdout",
     "output_type": "stream",
     "text": [
      "Epoch [298/5000]: Train loss: 8.6262, Valid loss: 2.3082\n"
     ]
    },
    {
     "name": "stderr",
     "output_type": "stream",
     "text": [
      "Epoch [299/5000]: 100%|██████████| 34/34 [00:00<00:00, 221.96it/s, loss=8.64]\n"
     ]
    },
    {
     "name": "stdout",
     "output_type": "stream",
     "text": [
      "Epoch [299/5000]: Train loss: 9.0151, Valid loss: 17.7185\n"
     ]
    },
    {
     "name": "stderr",
     "output_type": "stream",
     "text": [
      "Epoch [300/5000]: 100%|██████████| 34/34 [00:00<00:00, 206.97it/s, loss=13.3]\n"
     ]
    },
    {
     "name": "stdout",
     "output_type": "stream",
     "text": [
      "Epoch [300/5000]: Train loss: 8.7424, Valid loss: 3.3407\n"
     ]
    },
    {
     "name": "stderr",
     "output_type": "stream",
     "text": [
      "Epoch [301/5000]: 100%|██████████| 34/34 [00:00<00:00, 240.67it/s, loss=7.69]\n"
     ]
    },
    {
     "name": "stdout",
     "output_type": "stream",
     "text": [
      "Epoch [301/5000]: Train loss: 8.7331, Valid loss: 2.1344\n"
     ]
    },
    {
     "name": "stderr",
     "output_type": "stream",
     "text": [
      "Epoch [302/5000]: 100%|██████████| 34/34 [00:00<00:00, 212.32it/s, loss=8.57]\n"
     ]
    },
    {
     "name": "stdout",
     "output_type": "stream",
     "text": [
      "Epoch [302/5000]: Train loss: 8.5308, Valid loss: 4.3443\n"
     ]
    },
    {
     "name": "stderr",
     "output_type": "stream",
     "text": [
      "Epoch [303/5000]: 100%|██████████| 34/34 [00:00<00:00, 219.07it/s, loss=5.39]\n"
     ]
    },
    {
     "name": "stdout",
     "output_type": "stream",
     "text": [
      "Epoch [303/5000]: Train loss: 9.2897, Valid loss: 8.6112\n"
     ]
    },
    {
     "name": "stderr",
     "output_type": "stream",
     "text": [
      "Epoch [304/5000]: 100%|██████████| 34/34 [00:00<00:00, 258.71it/s, loss=8.08]\n"
     ]
    },
    {
     "name": "stdout",
     "output_type": "stream",
     "text": [
      "Epoch [304/5000]: Train loss: 8.5368, Valid loss: 6.1248\n"
     ]
    },
    {
     "name": "stderr",
     "output_type": "stream",
     "text": [
      "Epoch [305/5000]: 100%|██████████| 34/34 [00:00<00:00, 249.92it/s, loss=12.1]\n"
     ]
    },
    {
     "name": "stdout",
     "output_type": "stream",
     "text": [
      "Epoch [305/5000]: Train loss: 9.0064, Valid loss: 2.3002\n"
     ]
    },
    {
     "name": "stderr",
     "output_type": "stream",
     "text": [
      "Epoch [306/5000]: 100%|██████████| 34/34 [00:00<00:00, 253.09it/s, loss=7.14]\n"
     ]
    },
    {
     "name": "stdout",
     "output_type": "stream",
     "text": [
      "Epoch [306/5000]: Train loss: 8.0591, Valid loss: 2.4214\n"
     ]
    },
    {
     "name": "stderr",
     "output_type": "stream",
     "text": [
      "Epoch [307/5000]: 100%|██████████| 34/34 [00:00<00:00, 250.34it/s, loss=6.89]\n"
     ]
    },
    {
     "name": "stdout",
     "output_type": "stream",
     "text": [
      "Epoch [307/5000]: Train loss: 8.7359, Valid loss: 4.6510\n"
     ]
    },
    {
     "name": "stderr",
     "output_type": "stream",
     "text": [
      "Epoch [308/5000]: 100%|██████████| 34/34 [00:00<00:00, 260.53it/s, loss=12.2]\n"
     ]
    },
    {
     "name": "stdout",
     "output_type": "stream",
     "text": [
      "Epoch [308/5000]: Train loss: 9.0830, Valid loss: 2.7157\n"
     ]
    },
    {
     "name": "stderr",
     "output_type": "stream",
     "text": [
      "Epoch [309/5000]: 100%|██████████| 34/34 [00:00<00:00, 237.97it/s, loss=7.59]\n"
     ]
    },
    {
     "name": "stdout",
     "output_type": "stream",
     "text": [
      "Epoch [309/5000]: Train loss: 8.1999, Valid loss: 8.7698\n"
     ]
    },
    {
     "name": "stderr",
     "output_type": "stream",
     "text": [
      "Epoch [310/5000]: 100%|██████████| 34/34 [00:00<00:00, 244.46it/s, loss=13.2]\n"
     ]
    },
    {
     "name": "stdout",
     "output_type": "stream",
     "text": [
      "Epoch [310/5000]: Train loss: 8.8511, Valid loss: 3.0873\n"
     ]
    },
    {
     "name": "stderr",
     "output_type": "stream",
     "text": [
      "Epoch [311/5000]: 100%|██████████| 34/34 [00:00<00:00, 244.56it/s, loss=20.1]\n"
     ]
    },
    {
     "name": "stdout",
     "output_type": "stream",
     "text": [
      "Epoch [311/5000]: Train loss: 8.4680, Valid loss: 4.4634\n"
     ]
    },
    {
     "name": "stderr",
     "output_type": "stream",
     "text": [
      "Epoch [312/5000]: 100%|██████████| 34/34 [00:00<00:00, 256.51it/s, loss=7.61]\n"
     ]
    },
    {
     "name": "stdout",
     "output_type": "stream",
     "text": [
      "Epoch [312/5000]: Train loss: 8.5062, Valid loss: 2.8558\n"
     ]
    },
    {
     "name": "stderr",
     "output_type": "stream",
     "text": [
      "Epoch [313/5000]: 100%|██████████| 34/34 [00:00<00:00, 293.70it/s, loss=5.51]\n"
     ]
    },
    {
     "name": "stdout",
     "output_type": "stream",
     "text": [
      "Epoch [313/5000]: Train loss: 8.4262, Valid loss: 19.7980\n"
     ]
    },
    {
     "name": "stderr",
     "output_type": "stream",
     "text": [
      "Epoch [314/5000]: 100%|██████████| 34/34 [00:00<00:00, 250.92it/s, loss=7.58]\n"
     ]
    },
    {
     "name": "stdout",
     "output_type": "stream",
     "text": [
      "Epoch [314/5000]: Train loss: 8.5816, Valid loss: 2.2330\n"
     ]
    },
    {
     "name": "stderr",
     "output_type": "stream",
     "text": [
      "Epoch [315/5000]: 100%|██████████| 34/34 [00:00<00:00, 257.73it/s, loss=7.18]\n"
     ]
    },
    {
     "name": "stdout",
     "output_type": "stream",
     "text": [
      "Epoch [315/5000]: Train loss: 8.3422, Valid loss: 2.0033\n",
      "Saving model with loss 2.003...\n"
     ]
    },
    {
     "name": "stderr",
     "output_type": "stream",
     "text": [
      "Epoch [316/5000]: 100%|██████████| 34/34 [00:00<00:00, 243.43it/s, loss=7.46]\n"
     ]
    },
    {
     "name": "stdout",
     "output_type": "stream",
     "text": [
      "Epoch [316/5000]: Train loss: 8.3215, Valid loss: 6.1962\n"
     ]
    },
    {
     "name": "stderr",
     "output_type": "stream",
     "text": [
      "Epoch [317/5000]: 100%|██████████| 34/34 [00:00<00:00, 253.09it/s, loss=10.4]\n"
     ]
    },
    {
     "name": "stdout",
     "output_type": "stream",
     "text": [
      "Epoch [317/5000]: Train loss: 8.3533, Valid loss: 2.9982\n"
     ]
    },
    {
     "name": "stderr",
     "output_type": "stream",
     "text": [
      "Epoch [318/5000]: 100%|██████████| 34/34 [00:00<00:00, 246.00it/s, loss=9.43]\n"
     ]
    },
    {
     "name": "stdout",
     "output_type": "stream",
     "text": [
      "Epoch [318/5000]: Train loss: 8.7369, Valid loss: 12.7619\n"
     ]
    },
    {
     "name": "stderr",
     "output_type": "stream",
     "text": [
      "Epoch [319/5000]: 100%|██████████| 34/34 [00:00<00:00, 275.18it/s, loss=10.7]\n"
     ]
    },
    {
     "name": "stdout",
     "output_type": "stream",
     "text": [
      "Epoch [319/5000]: Train loss: 9.1811, Valid loss: 6.4838\n"
     ]
    },
    {
     "name": "stderr",
     "output_type": "stream",
     "text": [
      "Epoch [320/5000]: 100%|██████████| 34/34 [00:00<00:00, 291.96it/s, loss=9.05]\n"
     ]
    },
    {
     "name": "stdout",
     "output_type": "stream",
     "text": [
      "Epoch [320/5000]: Train loss: 8.6068, Valid loss: 2.5756\n"
     ]
    },
    {
     "name": "stderr",
     "output_type": "stream",
     "text": [
      "Epoch [321/5000]: 100%|██████████| 34/34 [00:00<00:00, 291.73it/s, loss=8.12]\n"
     ]
    },
    {
     "name": "stdout",
     "output_type": "stream",
     "text": [
      "Epoch [321/5000]: Train loss: 7.7446, Valid loss: 2.1253\n"
     ]
    },
    {
     "name": "stderr",
     "output_type": "stream",
     "text": [
      "Epoch [322/5000]: 100%|██████████| 34/34 [00:00<00:00, 287.93it/s, loss=6.63]\n"
     ]
    },
    {
     "name": "stdout",
     "output_type": "stream",
     "text": [
      "Epoch [322/5000]: Train loss: 8.5423, Valid loss: 2.1700\n"
     ]
    },
    {
     "name": "stderr",
     "output_type": "stream",
     "text": [
      "Epoch [323/5000]: 100%|██████████| 34/34 [00:00<00:00, 237.71it/s, loss=8.67]\n"
     ]
    },
    {
     "name": "stdout",
     "output_type": "stream",
     "text": [
      "Epoch [323/5000]: Train loss: 8.1911, Valid loss: 4.1459\n"
     ]
    },
    {
     "name": "stderr",
     "output_type": "stream",
     "text": [
      "Epoch [324/5000]: 100%|██████████| 34/34 [00:00<00:00, 235.77it/s, loss=13.2]\n"
     ]
    },
    {
     "name": "stdout",
     "output_type": "stream",
     "text": [
      "Epoch [324/5000]: Train loss: 8.8488, Valid loss: 8.4335\n"
     ]
    },
    {
     "name": "stderr",
     "output_type": "stream",
     "text": [
      "Epoch [325/5000]: 100%|██████████| 34/34 [00:00<00:00, 221.79it/s, loss=7.54]\n"
     ]
    },
    {
     "name": "stdout",
     "output_type": "stream",
     "text": [
      "Epoch [325/5000]: Train loss: 8.0658, Valid loss: 3.1084\n"
     ]
    },
    {
     "name": "stderr",
     "output_type": "stream",
     "text": [
      "Epoch [326/5000]: 100%|██████████| 34/34 [00:00<00:00, 231.32it/s, loss=9.75]\n"
     ]
    },
    {
     "name": "stdout",
     "output_type": "stream",
     "text": [
      "Epoch [326/5000]: Train loss: 8.4764, Valid loss: 12.7808\n"
     ]
    },
    {
     "name": "stderr",
     "output_type": "stream",
     "text": [
      "Epoch [327/5000]: 100%|██████████| 34/34 [00:00<00:00, 209.66it/s, loss=10.4]\n"
     ]
    },
    {
     "name": "stdout",
     "output_type": "stream",
     "text": [
      "Epoch [327/5000]: Train loss: 9.4734, Valid loss: 14.8044\n"
     ]
    },
    {
     "name": "stderr",
     "output_type": "stream",
     "text": [
      "Epoch [328/5000]: 100%|██████████| 34/34 [00:00<00:00, 241.76it/s, loss=8.26]\n"
     ]
    },
    {
     "name": "stdout",
     "output_type": "stream",
     "text": [
      "Epoch [328/5000]: Train loss: 8.3012, Valid loss: 6.8092\n"
     ]
    },
    {
     "name": "stderr",
     "output_type": "stream",
     "text": [
      "Epoch [329/5000]: 100%|██████████| 34/34 [00:00<00:00, 235.76it/s, loss=5.95]\n"
     ]
    },
    {
     "name": "stdout",
     "output_type": "stream",
     "text": [
      "Epoch [329/5000]: Train loss: 7.9828, Valid loss: 2.0240\n"
     ]
    },
    {
     "name": "stderr",
     "output_type": "stream",
     "text": [
      "Epoch [330/5000]: 100%|██████████| 34/34 [00:00<00:00, 272.93it/s, loss=5.82]\n"
     ]
    },
    {
     "name": "stdout",
     "output_type": "stream",
     "text": [
      "Epoch [330/5000]: Train loss: 8.1867, Valid loss: 6.8726\n"
     ]
    },
    {
     "name": "stderr",
     "output_type": "stream",
     "text": [
      "Epoch [331/5000]: 100%|██████████| 34/34 [00:00<00:00, 236.84it/s, loss=13.8]\n"
     ]
    },
    {
     "name": "stdout",
     "output_type": "stream",
     "text": [
      "Epoch [331/5000]: Train loss: 8.7316, Valid loss: 5.2474\n"
     ]
    },
    {
     "name": "stderr",
     "output_type": "stream",
     "text": [
      "Epoch [332/5000]: 100%|██████████| 34/34 [00:00<00:00, 255.64it/s, loss=8.99]\n"
     ]
    },
    {
     "name": "stdout",
     "output_type": "stream",
     "text": [
      "Epoch [332/5000]: Train loss: 7.6849, Valid loss: 4.5832\n"
     ]
    },
    {
     "name": "stderr",
     "output_type": "stream",
     "text": [
      "Epoch [333/5000]: 100%|██████████| 34/34 [00:00<00:00, 260.60it/s, loss=6.5] \n"
     ]
    },
    {
     "name": "stdout",
     "output_type": "stream",
     "text": [
      "Epoch [333/5000]: Train loss: 8.0359, Valid loss: 3.1448\n"
     ]
    },
    {
     "name": "stderr",
     "output_type": "stream",
     "text": [
      "Epoch [334/5000]: 100%|██████████| 34/34 [00:00<00:00, 277.70it/s, loss=5.26]\n"
     ]
    },
    {
     "name": "stdout",
     "output_type": "stream",
     "text": [
      "Epoch [334/5000]: Train loss: 8.1410, Valid loss: 5.4486\n"
     ]
    },
    {
     "name": "stderr",
     "output_type": "stream",
     "text": [
      "Epoch [335/5000]: 100%|██████████| 34/34 [00:00<00:00, 268.60it/s, loss=7.57]\n"
     ]
    },
    {
     "name": "stdout",
     "output_type": "stream",
     "text": [
      "Epoch [335/5000]: Train loss: 8.1120, Valid loss: 2.6909\n"
     ]
    },
    {
     "name": "stderr",
     "output_type": "stream",
     "text": [
      "Epoch [336/5000]: 100%|██████████| 34/34 [00:00<00:00, 247.74it/s, loss=4.5] \n"
     ]
    },
    {
     "name": "stdout",
     "output_type": "stream",
     "text": [
      "Epoch [336/5000]: Train loss: 8.8661, Valid loss: 3.1124\n"
     ]
    },
    {
     "name": "stderr",
     "output_type": "stream",
     "text": [
      "Epoch [337/5000]: 100%|██████████| 34/34 [00:00<00:00, 248.53it/s, loss=13.4]\n"
     ]
    },
    {
     "name": "stdout",
     "output_type": "stream",
     "text": [
      "Epoch [337/5000]: Train loss: 7.8103, Valid loss: 2.4995\n"
     ]
    },
    {
     "name": "stderr",
     "output_type": "stream",
     "text": [
      "Epoch [338/5000]: 100%|██████████| 34/34 [00:00<00:00, 246.27it/s, loss=11.1]\n"
     ]
    },
    {
     "name": "stdout",
     "output_type": "stream",
     "text": [
      "Epoch [338/5000]: Train loss: 7.7993, Valid loss: 2.5305\n"
     ]
    },
    {
     "name": "stderr",
     "output_type": "stream",
     "text": [
      "Epoch [339/5000]: 100%|██████████| 34/34 [00:00<00:00, 249.83it/s, loss=8.29]\n"
     ]
    },
    {
     "name": "stdout",
     "output_type": "stream",
     "text": [
      "Epoch [339/5000]: Train loss: 8.0203, Valid loss: 2.2206\n"
     ]
    },
    {
     "name": "stderr",
     "output_type": "stream",
     "text": [
      "Epoch [340/5000]: 100%|██████████| 34/34 [00:00<00:00, 237.64it/s, loss=7.3] \n"
     ]
    },
    {
     "name": "stdout",
     "output_type": "stream",
     "text": [
      "Epoch [340/5000]: Train loss: 7.6831, Valid loss: 5.9278\n"
     ]
    },
    {
     "name": "stderr",
     "output_type": "stream",
     "text": [
      "Epoch [341/5000]: 100%|██████████| 34/34 [00:00<00:00, 221.22it/s, loss=6.86]\n"
     ]
    },
    {
     "name": "stdout",
     "output_type": "stream",
     "text": [
      "Epoch [341/5000]: Train loss: 7.7502, Valid loss: 12.4560\n"
     ]
    },
    {
     "name": "stderr",
     "output_type": "stream",
     "text": [
      "Epoch [342/5000]: 100%|██████████| 34/34 [00:00<00:00, 218.68it/s, loss=6.28]\n"
     ]
    },
    {
     "name": "stdout",
     "output_type": "stream",
     "text": [
      "Epoch [342/5000]: Train loss: 7.9160, Valid loss: 7.4944\n"
     ]
    },
    {
     "name": "stderr",
     "output_type": "stream",
     "text": [
      "Epoch [343/5000]: 100%|██████████| 34/34 [00:00<00:00, 243.91it/s, loss=7.57]\n"
     ]
    },
    {
     "name": "stdout",
     "output_type": "stream",
     "text": [
      "Epoch [343/5000]: Train loss: 8.1468, Valid loss: 6.9935\n"
     ]
    },
    {
     "name": "stderr",
     "output_type": "stream",
     "text": [
      "Epoch [344/5000]: 100%|██████████| 34/34 [00:00<00:00, 238.17it/s, loss=10]  \n"
     ]
    },
    {
     "name": "stdout",
     "output_type": "stream",
     "text": [
      "Epoch [344/5000]: Train loss: 7.7010, Valid loss: 1.6659\n",
      "Saving model with loss 1.666...\n"
     ]
    },
    {
     "name": "stderr",
     "output_type": "stream",
     "text": [
      "Epoch [345/5000]: 100%|██████████| 34/34 [00:00<00:00, 201.19it/s, loss=3.96]\n"
     ]
    },
    {
     "name": "stdout",
     "output_type": "stream",
     "text": [
      "Epoch [345/5000]: Train loss: 8.1637, Valid loss: 2.2026\n"
     ]
    },
    {
     "name": "stderr",
     "output_type": "stream",
     "text": [
      "Epoch [346/5000]: 100%|██████████| 34/34 [00:00<00:00, 254.78it/s, loss=7.82]\n"
     ]
    },
    {
     "name": "stdout",
     "output_type": "stream",
     "text": [
      "Epoch [346/5000]: Train loss: 8.6238, Valid loss: 8.4732\n"
     ]
    },
    {
     "name": "stderr",
     "output_type": "stream",
     "text": [
      "Epoch [347/5000]: 100%|██████████| 34/34 [00:00<00:00, 227.03it/s, loss=11.5]\n"
     ]
    },
    {
     "name": "stdout",
     "output_type": "stream",
     "text": [
      "Epoch [347/5000]: Train loss: 8.6337, Valid loss: 2.7545\n"
     ]
    },
    {
     "name": "stderr",
     "output_type": "stream",
     "text": [
      "Epoch [348/5000]: 100%|██████████| 34/34 [00:00<00:00, 236.05it/s, loss=6.93]\n"
     ]
    },
    {
     "name": "stdout",
     "output_type": "stream",
     "text": [
      "Epoch [348/5000]: Train loss: 8.5603, Valid loss: 9.1992\n"
     ]
    },
    {
     "name": "stderr",
     "output_type": "stream",
     "text": [
      "Epoch [349/5000]: 100%|██████████| 34/34 [00:00<00:00, 284.44it/s, loss=10.7]\n"
     ]
    },
    {
     "name": "stdout",
     "output_type": "stream",
     "text": [
      "Epoch [349/5000]: Train loss: 7.8395, Valid loss: 1.8937\n"
     ]
    },
    {
     "name": "stderr",
     "output_type": "stream",
     "text": [
      "Epoch [350/5000]: 100%|██████████| 34/34 [00:00<00:00, 277.30it/s, loss=6.56]\n"
     ]
    },
    {
     "name": "stdout",
     "output_type": "stream",
     "text": [
      "Epoch [350/5000]: Train loss: 7.8967, Valid loss: 1.7080\n"
     ]
    },
    {
     "name": "stderr",
     "output_type": "stream",
     "text": [
      "Epoch [351/5000]: 100%|██████████| 34/34 [00:00<00:00, 247.22it/s, loss=10.5]\n"
     ]
    },
    {
     "name": "stdout",
     "output_type": "stream",
     "text": [
      "Epoch [351/5000]: Train loss: 7.9395, Valid loss: 3.1835\n"
     ]
    },
    {
     "name": "stderr",
     "output_type": "stream",
     "text": [
      "Epoch [352/5000]: 100%|██████████| 34/34 [00:00<00:00, 270.00it/s, loss=11.2]\n"
     ]
    },
    {
     "name": "stdout",
     "output_type": "stream",
     "text": [
      "Epoch [352/5000]: Train loss: 8.5285, Valid loss: 2.6758\n"
     ]
    },
    {
     "name": "stderr",
     "output_type": "stream",
     "text": [
      "Epoch [353/5000]: 100%|██████████| 34/34 [00:00<00:00, 281.59it/s, loss=12.6]\n"
     ]
    },
    {
     "name": "stdout",
     "output_type": "stream",
     "text": [
      "Epoch [353/5000]: Train loss: 7.9467, Valid loss: 4.2976\n"
     ]
    },
    {
     "name": "stderr",
     "output_type": "stream",
     "text": [
      "Epoch [354/5000]: 100%|██████████| 34/34 [00:00<00:00, 289.80it/s, loss=8.33]\n"
     ]
    },
    {
     "name": "stdout",
     "output_type": "stream",
     "text": [
      "Epoch [354/5000]: Train loss: 7.8088, Valid loss: 4.1856\n"
     ]
    },
    {
     "name": "stderr",
     "output_type": "stream",
     "text": [
      "Epoch [355/5000]: 100%|██████████| 34/34 [00:00<00:00, 235.67it/s, loss=6.93]\n"
     ]
    },
    {
     "name": "stdout",
     "output_type": "stream",
     "text": [
      "Epoch [355/5000]: Train loss: 8.2181, Valid loss: 5.0337\n"
     ]
    },
    {
     "name": "stderr",
     "output_type": "stream",
     "text": [
      "Epoch [356/5000]: 100%|██████████| 34/34 [00:00<00:00, 243.67it/s, loss=9.88]\n"
     ]
    },
    {
     "name": "stdout",
     "output_type": "stream",
     "text": [
      "Epoch [356/5000]: Train loss: 8.2589, Valid loss: 3.2213\n"
     ]
    },
    {
     "name": "stderr",
     "output_type": "stream",
     "text": [
      "Epoch [357/5000]: 100%|██████████| 34/34 [00:00<00:00, 299.53it/s, loss=4.68]\n"
     ]
    },
    {
     "name": "stdout",
     "output_type": "stream",
     "text": [
      "Epoch [357/5000]: Train loss: 8.5143, Valid loss: 5.0480\n"
     ]
    },
    {
     "name": "stderr",
     "output_type": "stream",
     "text": [
      "Epoch [358/5000]: 100%|██████████| 34/34 [00:00<00:00, 296.09it/s, loss=5.07]\n"
     ]
    },
    {
     "name": "stdout",
     "output_type": "stream",
     "text": [
      "Epoch [358/5000]: Train loss: 7.7847, Valid loss: 3.0581\n"
     ]
    },
    {
     "name": "stderr",
     "output_type": "stream",
     "text": [
      "Epoch [359/5000]: 100%|██████████| 34/34 [00:00<00:00, 233.06it/s, loss=6.62]\n"
     ]
    },
    {
     "name": "stdout",
     "output_type": "stream",
     "text": [
      "Epoch [359/5000]: Train loss: 7.5636, Valid loss: 4.2536\n"
     ]
    },
    {
     "name": "stderr",
     "output_type": "stream",
     "text": [
      "Epoch [360/5000]: 100%|██████████| 34/34 [00:00<00:00, 250.80it/s, loss=9.74]\n"
     ]
    },
    {
     "name": "stdout",
     "output_type": "stream",
     "text": [
      "Epoch [360/5000]: Train loss: 7.9597, Valid loss: 2.4033\n"
     ]
    },
    {
     "name": "stderr",
     "output_type": "stream",
     "text": [
      "Epoch [361/5000]: 100%|██████████| 34/34 [00:00<00:00, 220.63it/s, loss=5.19]\n"
     ]
    },
    {
     "name": "stdout",
     "output_type": "stream",
     "text": [
      "Epoch [361/5000]: Train loss: 8.6690, Valid loss: 4.0457\n"
     ]
    },
    {
     "name": "stderr",
     "output_type": "stream",
     "text": [
      "Epoch [362/5000]: 100%|██████████| 34/34 [00:00<00:00, 232.64it/s, loss=6.21]\n"
     ]
    },
    {
     "name": "stdout",
     "output_type": "stream",
     "text": [
      "Epoch [362/5000]: Train loss: 8.0469, Valid loss: 13.2416\n"
     ]
    },
    {
     "name": "stderr",
     "output_type": "stream",
     "text": [
      "Epoch [363/5000]: 100%|██████████| 34/34 [00:00<00:00, 228.00it/s, loss=7.93]\n"
     ]
    },
    {
     "name": "stdout",
     "output_type": "stream",
     "text": [
      "Epoch [363/5000]: Train loss: 7.1711, Valid loss: 2.8785\n"
     ]
    },
    {
     "name": "stderr",
     "output_type": "stream",
     "text": [
      "Epoch [364/5000]: 100%|██████████| 34/34 [00:00<00:00, 219.07it/s, loss=11.9]\n"
     ]
    },
    {
     "name": "stdout",
     "output_type": "stream",
     "text": [
      "Epoch [364/5000]: Train loss: 8.0823, Valid loss: 5.0033\n"
     ]
    },
    {
     "name": "stderr",
     "output_type": "stream",
     "text": [
      "Epoch [365/5000]: 100%|██████████| 34/34 [00:00<00:00, 224.10it/s, loss=4.98]\n"
     ]
    },
    {
     "name": "stdout",
     "output_type": "stream",
     "text": [
      "Epoch [365/5000]: Train loss: 7.6856, Valid loss: 9.7280\n"
     ]
    },
    {
     "name": "stderr",
     "output_type": "stream",
     "text": [
      "Epoch [366/5000]: 100%|██████████| 34/34 [00:00<00:00, 235.00it/s, loss=6.88]\n"
     ]
    },
    {
     "name": "stdout",
     "output_type": "stream",
     "text": [
      "Epoch [366/5000]: Train loss: 7.4654, Valid loss: 5.9862\n"
     ]
    },
    {
     "name": "stderr",
     "output_type": "stream",
     "text": [
      "Epoch [367/5000]: 100%|██████████| 34/34 [00:00<00:00, 233.51it/s, loss=6.33]\n"
     ]
    },
    {
     "name": "stdout",
     "output_type": "stream",
     "text": [
      "Epoch [367/5000]: Train loss: 6.9066, Valid loss: 3.1653\n"
     ]
    },
    {
     "name": "stderr",
     "output_type": "stream",
     "text": [
      "Epoch [368/5000]: 100%|██████████| 34/34 [00:00<00:00, 242.17it/s, loss=6.99]\n"
     ]
    },
    {
     "name": "stdout",
     "output_type": "stream",
     "text": [
      "Epoch [368/5000]: Train loss: 7.3780, Valid loss: 2.1819\n"
     ]
    },
    {
     "name": "stderr",
     "output_type": "stream",
     "text": [
      "Epoch [369/5000]: 100%|██████████| 34/34 [00:00<00:00, 242.82it/s, loss=7.7] \n"
     ]
    },
    {
     "name": "stdout",
     "output_type": "stream",
     "text": [
      "Epoch [369/5000]: Train loss: 7.6250, Valid loss: 4.0056\n"
     ]
    },
    {
     "name": "stderr",
     "output_type": "stream",
     "text": [
      "Epoch [370/5000]: 100%|██████████| 34/34 [00:00<00:00, 247.19it/s, loss=9.02]\n"
     ]
    },
    {
     "name": "stdout",
     "output_type": "stream",
     "text": [
      "Epoch [370/5000]: Train loss: 8.3286, Valid loss: 3.8997\n"
     ]
    },
    {
     "name": "stderr",
     "output_type": "stream",
     "text": [
      "Epoch [371/5000]: 100%|██████████| 34/34 [00:00<00:00, 241.62it/s, loss=7.63]\n"
     ]
    },
    {
     "name": "stdout",
     "output_type": "stream",
     "text": [
      "Epoch [371/5000]: Train loss: 7.8289, Valid loss: 2.3201\n"
     ]
    },
    {
     "name": "stderr",
     "output_type": "stream",
     "text": [
      "Epoch [372/5000]: 100%|██████████| 34/34 [00:00<00:00, 221.65it/s, loss=8.42]\n"
     ]
    },
    {
     "name": "stdout",
     "output_type": "stream",
     "text": [
      "Epoch [372/5000]: Train loss: 7.7998, Valid loss: 6.2912\n"
     ]
    },
    {
     "name": "stderr",
     "output_type": "stream",
     "text": [
      "Epoch [373/5000]: 100%|██████████| 34/34 [00:00<00:00, 220.52it/s, loss=8.58]\n"
     ]
    },
    {
     "name": "stdout",
     "output_type": "stream",
     "text": [
      "Epoch [373/5000]: Train loss: 7.6601, Valid loss: 4.1911\n"
     ]
    },
    {
     "name": "stderr",
     "output_type": "stream",
     "text": [
      "Epoch [374/5000]: 100%|██████████| 34/34 [00:00<00:00, 247.28it/s, loss=9.67]\n"
     ]
    },
    {
     "name": "stdout",
     "output_type": "stream",
     "text": [
      "Epoch [374/5000]: Train loss: 7.7562, Valid loss: 3.5201\n"
     ]
    },
    {
     "name": "stderr",
     "output_type": "stream",
     "text": [
      "Epoch [375/5000]: 100%|██████████| 34/34 [00:00<00:00, 246.03it/s, loss=7.5] \n"
     ]
    },
    {
     "name": "stdout",
     "output_type": "stream",
     "text": [
      "Epoch [375/5000]: Train loss: 7.4548, Valid loss: 3.8696\n"
     ]
    },
    {
     "name": "stderr",
     "output_type": "stream",
     "text": [
      "Epoch [376/5000]: 100%|██████████| 34/34 [00:00<00:00, 236.69it/s, loss=7.58]\n"
     ]
    },
    {
     "name": "stdout",
     "output_type": "stream",
     "text": [
      "Epoch [376/5000]: Train loss: 7.5044, Valid loss: 1.9214\n"
     ]
    },
    {
     "name": "stderr",
     "output_type": "stream",
     "text": [
      "Epoch [377/5000]: 100%|██████████| 34/34 [00:00<00:00, 224.61it/s, loss=10.1]\n"
     ]
    },
    {
     "name": "stdout",
     "output_type": "stream",
     "text": [
      "Epoch [377/5000]: Train loss: 7.4353, Valid loss: 16.8929\n"
     ]
    },
    {
     "name": "stderr",
     "output_type": "stream",
     "text": [
      "Epoch [378/5000]: 100%|██████████| 34/34 [00:00<00:00, 243.82it/s, loss=8.86]\n"
     ]
    },
    {
     "name": "stdout",
     "output_type": "stream",
     "text": [
      "Epoch [378/5000]: Train loss: 7.6643, Valid loss: 2.8516\n"
     ]
    },
    {
     "name": "stderr",
     "output_type": "stream",
     "text": [
      "Epoch [379/5000]: 100%|██████████| 34/34 [00:00<00:00, 227.48it/s, loss=6.77]\n"
     ]
    },
    {
     "name": "stdout",
     "output_type": "stream",
     "text": [
      "Epoch [379/5000]: Train loss: 7.9129, Valid loss: 6.6962\n"
     ]
    },
    {
     "name": "stderr",
     "output_type": "stream",
     "text": [
      "Epoch [380/5000]: 100%|██████████| 34/34 [00:00<00:00, 225.39it/s, loss=7.42]\n"
     ]
    },
    {
     "name": "stdout",
     "output_type": "stream",
     "text": [
      "Epoch [380/5000]: Train loss: 7.2229, Valid loss: 2.4846\n"
     ]
    },
    {
     "name": "stderr",
     "output_type": "stream",
     "text": [
      "Epoch [381/5000]: 100%|██████████| 34/34 [00:00<00:00, 234.31it/s, loss=8.8] \n"
     ]
    },
    {
     "name": "stdout",
     "output_type": "stream",
     "text": [
      "Epoch [381/5000]: Train loss: 7.0836, Valid loss: 4.8251\n"
     ]
    },
    {
     "name": "stderr",
     "output_type": "stream",
     "text": [
      "Epoch [382/5000]: 100%|██████████| 34/34 [00:00<00:00, 244.09it/s, loss=6.53]\n"
     ]
    },
    {
     "name": "stdout",
     "output_type": "stream",
     "text": [
      "Epoch [382/5000]: Train loss: 8.1292, Valid loss: 2.0569\n"
     ]
    },
    {
     "name": "stderr",
     "output_type": "stream",
     "text": [
      "Epoch [383/5000]: 100%|██████████| 34/34 [00:00<00:00, 267.71it/s, loss=7.08]\n"
     ]
    },
    {
     "name": "stdout",
     "output_type": "stream",
     "text": [
      "Epoch [383/5000]: Train loss: 7.1342, Valid loss: 2.1873\n"
     ]
    },
    {
     "name": "stderr",
     "output_type": "stream",
     "text": [
      "Epoch [384/5000]: 100%|██████████| 34/34 [00:00<00:00, 222.14it/s, loss=15.7]\n"
     ]
    },
    {
     "name": "stdout",
     "output_type": "stream",
     "text": [
      "Epoch [384/5000]: Train loss: 7.8202, Valid loss: 2.5458\n"
     ]
    },
    {
     "name": "stderr",
     "output_type": "stream",
     "text": [
      "Epoch [385/5000]: 100%|██████████| 34/34 [00:00<00:00, 248.82it/s, loss=6.29]\n"
     ]
    },
    {
     "name": "stdout",
     "output_type": "stream",
     "text": [
      "Epoch [385/5000]: Train loss: 8.0663, Valid loss: 2.2964\n"
     ]
    },
    {
     "name": "stderr",
     "output_type": "stream",
     "text": [
      "Epoch [386/5000]: 100%|██████████| 34/34 [00:00<00:00, 217.48it/s, loss=7.47]\n"
     ]
    },
    {
     "name": "stdout",
     "output_type": "stream",
     "text": [
      "Epoch [386/5000]: Train loss: 7.7277, Valid loss: 3.1676\n"
     ]
    },
    {
     "name": "stderr",
     "output_type": "stream",
     "text": [
      "Epoch [387/5000]: 100%|██████████| 34/34 [00:00<00:00, 224.07it/s, loss=5.27]\n"
     ]
    },
    {
     "name": "stdout",
     "output_type": "stream",
     "text": [
      "Epoch [387/5000]: Train loss: 7.4580, Valid loss: 4.6563\n"
     ]
    },
    {
     "name": "stderr",
     "output_type": "stream",
     "text": [
      "Epoch [388/5000]: 100%|██████████| 34/34 [00:00<00:00, 212.79it/s, loss=7.81]\n"
     ]
    },
    {
     "name": "stdout",
     "output_type": "stream",
     "text": [
      "Epoch [388/5000]: Train loss: 7.1379, Valid loss: 4.6820\n"
     ]
    },
    {
     "name": "stderr",
     "output_type": "stream",
     "text": [
      "Epoch [389/5000]: 100%|██████████| 34/34 [00:00<00:00, 238.34it/s, loss=6.87]\n"
     ]
    },
    {
     "name": "stdout",
     "output_type": "stream",
     "text": [
      "Epoch [389/5000]: Train loss: 7.1114, Valid loss: 3.7993\n"
     ]
    },
    {
     "name": "stderr",
     "output_type": "stream",
     "text": [
      "Epoch [390/5000]: 100%|██████████| 34/34 [00:00<00:00, 221.77it/s, loss=6.87]\n"
     ]
    },
    {
     "name": "stdout",
     "output_type": "stream",
     "text": [
      "Epoch [390/5000]: Train loss: 8.1692, Valid loss: 2.6081\n"
     ]
    },
    {
     "name": "stderr",
     "output_type": "stream",
     "text": [
      "Epoch [391/5000]: 100%|██████████| 34/34 [00:00<00:00, 269.92it/s, loss=4.62]\n"
     ]
    },
    {
     "name": "stdout",
     "output_type": "stream",
     "text": [
      "Epoch [391/5000]: Train loss: 7.2172, Valid loss: 3.1554\n"
     ]
    },
    {
     "name": "stderr",
     "output_type": "stream",
     "text": [
      "Epoch [392/5000]: 100%|██████████| 34/34 [00:00<00:00, 303.12it/s, loss=7.77]\n"
     ]
    },
    {
     "name": "stdout",
     "output_type": "stream",
     "text": [
      "Epoch [392/5000]: Train loss: 7.4333, Valid loss: 3.8951\n"
     ]
    },
    {
     "name": "stderr",
     "output_type": "stream",
     "text": [
      "Epoch [393/5000]: 100%|██████████| 34/34 [00:00<00:00, 257.66it/s, loss=7.16]\n"
     ]
    },
    {
     "name": "stdout",
     "output_type": "stream",
     "text": [
      "Epoch [393/5000]: Train loss: 7.1009, Valid loss: 2.1609\n"
     ]
    },
    {
     "name": "stderr",
     "output_type": "stream",
     "text": [
      "Epoch [394/5000]: 100%|██████████| 34/34 [00:00<00:00, 254.90it/s, loss=14.6]\n"
     ]
    },
    {
     "name": "stdout",
     "output_type": "stream",
     "text": [
      "Epoch [394/5000]: Train loss: 7.8903, Valid loss: 2.0291\n"
     ]
    },
    {
     "name": "stderr",
     "output_type": "stream",
     "text": [
      "Epoch [395/5000]: 100%|██████████| 34/34 [00:00<00:00, 271.06it/s, loss=19.8]\n"
     ]
    },
    {
     "name": "stdout",
     "output_type": "stream",
     "text": [
      "Epoch [395/5000]: Train loss: 7.6158, Valid loss: 2.1247\n"
     ]
    },
    {
     "name": "stderr",
     "output_type": "stream",
     "text": [
      "Epoch [396/5000]: 100%|██████████| 34/34 [00:00<00:00, 251.03it/s, loss=14.3]\n"
     ]
    },
    {
     "name": "stdout",
     "output_type": "stream",
     "text": [
      "Epoch [396/5000]: Train loss: 7.5836, Valid loss: 10.8831\n"
     ]
    },
    {
     "name": "stderr",
     "output_type": "stream",
     "text": [
      "Epoch [397/5000]: 100%|██████████| 34/34 [00:00<00:00, 316.28it/s, loss=11.9]\n"
     ]
    },
    {
     "name": "stdout",
     "output_type": "stream",
     "text": [
      "Epoch [397/5000]: Train loss: 7.5485, Valid loss: 5.1272\n"
     ]
    },
    {
     "name": "stderr",
     "output_type": "stream",
     "text": [
      "Epoch [398/5000]: 100%|██████████| 34/34 [00:00<00:00, 312.70it/s, loss=7.61]\n"
     ]
    },
    {
     "name": "stdout",
     "output_type": "stream",
     "text": [
      "Epoch [398/5000]: Train loss: 7.3489, Valid loss: 17.5650\n"
     ]
    },
    {
     "name": "stderr",
     "output_type": "stream",
     "text": [
      "Epoch [399/5000]: 100%|██████████| 34/34 [00:00<00:00, 305.93it/s, loss=3.75]\n"
     ]
    },
    {
     "name": "stdout",
     "output_type": "stream",
     "text": [
      "Epoch [399/5000]: Train loss: 7.0692, Valid loss: 1.9098\n"
     ]
    },
    {
     "name": "stderr",
     "output_type": "stream",
     "text": [
      "Epoch [400/5000]: 100%|██████████| 34/34 [00:00<00:00, 308.50it/s, loss=6.38]\n"
     ]
    },
    {
     "name": "stdout",
     "output_type": "stream",
     "text": [
      "Epoch [400/5000]: Train loss: 7.2432, Valid loss: 1.7026\n"
     ]
    },
    {
     "name": "stderr",
     "output_type": "stream",
     "text": [
      "Epoch [401/5000]: 100%|██████████| 34/34 [00:00<00:00, 309.14it/s, loss=4.8] \n"
     ]
    },
    {
     "name": "stdout",
     "output_type": "stream",
     "text": [
      "Epoch [401/5000]: Train loss: 7.6487, Valid loss: 1.6994\n"
     ]
    },
    {
     "name": "stderr",
     "output_type": "stream",
     "text": [
      "Epoch [402/5000]: 100%|██████████| 34/34 [00:00<00:00, 311.61it/s, loss=8.15]\n"
     ]
    },
    {
     "name": "stdout",
     "output_type": "stream",
     "text": [
      "Epoch [402/5000]: Train loss: 6.8431, Valid loss: 4.6855\n"
     ]
    },
    {
     "name": "stderr",
     "output_type": "stream",
     "text": [
      "Epoch [403/5000]: 100%|██████████| 34/34 [00:00<00:00, 289.82it/s, loss=8.96]\n"
     ]
    },
    {
     "name": "stdout",
     "output_type": "stream",
     "text": [
      "Epoch [403/5000]: Train loss: 7.0525, Valid loss: 3.9821\n"
     ]
    },
    {
     "name": "stderr",
     "output_type": "stream",
     "text": [
      "Epoch [404/5000]: 100%|██████████| 34/34 [00:00<00:00, 232.11it/s, loss=6.07]\n"
     ]
    },
    {
     "name": "stdout",
     "output_type": "stream",
     "text": [
      "Epoch [404/5000]: Train loss: 6.8863, Valid loss: 6.6838\n"
     ]
    },
    {
     "name": "stderr",
     "output_type": "stream",
     "text": [
      "Epoch [405/5000]: 100%|██████████| 34/34 [00:00<00:00, 241.66it/s, loss=10.5]\n"
     ]
    },
    {
     "name": "stdout",
     "output_type": "stream",
     "text": [
      "Epoch [405/5000]: Train loss: 7.1302, Valid loss: 6.0518\n"
     ]
    },
    {
     "name": "stderr",
     "output_type": "stream",
     "text": [
      "Epoch [406/5000]: 100%|██████████| 34/34 [00:00<00:00, 241.67it/s, loss=5.89]\n"
     ]
    },
    {
     "name": "stdout",
     "output_type": "stream",
     "text": [
      "Epoch [406/5000]: Train loss: 6.7513, Valid loss: 1.8294\n"
     ]
    },
    {
     "name": "stderr",
     "output_type": "stream",
     "text": [
      "Epoch [407/5000]: 100%|██████████| 34/34 [00:00<00:00, 227.75it/s, loss=5.5] \n"
     ]
    },
    {
     "name": "stdout",
     "output_type": "stream",
     "text": [
      "Epoch [407/5000]: Train loss: 6.3724, Valid loss: 2.8777\n"
     ]
    },
    {
     "name": "stderr",
     "output_type": "stream",
     "text": [
      "Epoch [408/5000]: 100%|██████████| 34/34 [00:00<00:00, 213.58it/s, loss=14.1]\n"
     ]
    },
    {
     "name": "stdout",
     "output_type": "stream",
     "text": [
      "Epoch [408/5000]: Train loss: 7.3585, Valid loss: 2.4102\n"
     ]
    },
    {
     "name": "stderr",
     "output_type": "stream",
     "text": [
      "Epoch [409/5000]: 100%|██████████| 34/34 [00:00<00:00, 218.90it/s, loss=5.43]\n"
     ]
    },
    {
     "name": "stdout",
     "output_type": "stream",
     "text": [
      "Epoch [409/5000]: Train loss: 7.0074, Valid loss: 2.5457\n"
     ]
    },
    {
     "name": "stderr",
     "output_type": "stream",
     "text": [
      "Epoch [410/5000]: 100%|██████████| 34/34 [00:00<00:00, 228.05it/s, loss=8.32]\n"
     ]
    },
    {
     "name": "stdout",
     "output_type": "stream",
     "text": [
      "Epoch [410/5000]: Train loss: 7.6343, Valid loss: 1.8254\n"
     ]
    },
    {
     "name": "stderr",
     "output_type": "stream",
     "text": [
      "Epoch [411/5000]: 100%|██████████| 34/34 [00:00<00:00, 255.55it/s, loss=6.98]\n"
     ]
    },
    {
     "name": "stdout",
     "output_type": "stream",
     "text": [
      "Epoch [411/5000]: Train loss: 7.0281, Valid loss: 1.6467\n",
      "Saving model with loss 1.647...\n"
     ]
    },
    {
     "name": "stderr",
     "output_type": "stream",
     "text": [
      "Epoch [412/5000]: 100%|██████████| 34/34 [00:00<00:00, 207.69it/s, loss=5.6] \n"
     ]
    },
    {
     "name": "stdout",
     "output_type": "stream",
     "text": [
      "Epoch [412/5000]: Train loss: 7.7207, Valid loss: 4.4886\n"
     ]
    },
    {
     "name": "stderr",
     "output_type": "stream",
     "text": [
      "Epoch [413/5000]: 100%|██████████| 34/34 [00:00<00:00, 228.87it/s, loss=16.6]\n"
     ]
    },
    {
     "name": "stdout",
     "output_type": "stream",
     "text": [
      "Epoch [413/5000]: Train loss: 7.6956, Valid loss: 3.2796\n"
     ]
    },
    {
     "name": "stderr",
     "output_type": "stream",
     "text": [
      "Epoch [414/5000]: 100%|██████████| 34/34 [00:00<00:00, 219.76it/s, loss=5.92]\n"
     ]
    },
    {
     "name": "stdout",
     "output_type": "stream",
     "text": [
      "Epoch [414/5000]: Train loss: 6.9420, Valid loss: 1.7332\n"
     ]
    },
    {
     "name": "stderr",
     "output_type": "stream",
     "text": [
      "Epoch [415/5000]: 100%|██████████| 34/34 [00:00<00:00, 222.59it/s, loss=8.01]\n"
     ]
    },
    {
     "name": "stdout",
     "output_type": "stream",
     "text": [
      "Epoch [415/5000]: Train loss: 6.9800, Valid loss: 2.3425\n"
     ]
    },
    {
     "name": "stderr",
     "output_type": "stream",
     "text": [
      "Epoch [416/5000]: 100%|██████████| 34/34 [00:00<00:00, 241.47it/s, loss=12.4]\n"
     ]
    },
    {
     "name": "stdout",
     "output_type": "stream",
     "text": [
      "Epoch [416/5000]: Train loss: 7.1957, Valid loss: 2.3491\n"
     ]
    },
    {
     "name": "stderr",
     "output_type": "stream",
     "text": [
      "Epoch [417/5000]: 100%|██████████| 34/34 [00:00<00:00, 242.69it/s, loss=14]  \n"
     ]
    },
    {
     "name": "stdout",
     "output_type": "stream",
     "text": [
      "Epoch [417/5000]: Train loss: 7.0265, Valid loss: 2.6498\n"
     ]
    },
    {
     "name": "stderr",
     "output_type": "stream",
     "text": [
      "Epoch [418/5000]: 100%|██████████| 34/34 [00:00<00:00, 252.29it/s, loss=6.29]\n"
     ]
    },
    {
     "name": "stdout",
     "output_type": "stream",
     "text": [
      "Epoch [418/5000]: Train loss: 7.4319, Valid loss: 3.8223\n"
     ]
    },
    {
     "name": "stderr",
     "output_type": "stream",
     "text": [
      "Epoch [419/5000]: 100%|██████████| 34/34 [00:00<00:00, 250.60it/s, loss=9.29]\n"
     ]
    },
    {
     "name": "stdout",
     "output_type": "stream",
     "text": [
      "Epoch [419/5000]: Train loss: 7.1749, Valid loss: 2.3866\n"
     ]
    },
    {
     "name": "stderr",
     "output_type": "stream",
     "text": [
      "Epoch [420/5000]: 100%|██████████| 34/34 [00:00<00:00, 244.74it/s, loss=5.94]\n"
     ]
    },
    {
     "name": "stdout",
     "output_type": "stream",
     "text": [
      "Epoch [420/5000]: Train loss: 7.2369, Valid loss: 2.8541\n"
     ]
    },
    {
     "name": "stderr",
     "output_type": "stream",
     "text": [
      "Epoch [421/5000]: 100%|██████████| 34/34 [00:00<00:00, 241.88it/s, loss=9.81]\n"
     ]
    },
    {
     "name": "stdout",
     "output_type": "stream",
     "text": [
      "Epoch [421/5000]: Train loss: 7.0908, Valid loss: 2.3840\n"
     ]
    },
    {
     "name": "stderr",
     "output_type": "stream",
     "text": [
      "Epoch [422/5000]: 100%|██████████| 34/34 [00:00<00:00, 260.92it/s, loss=9.62]\n"
     ]
    },
    {
     "name": "stdout",
     "output_type": "stream",
     "text": [
      "Epoch [422/5000]: Train loss: 7.0067, Valid loss: 14.0599\n"
     ]
    },
    {
     "name": "stderr",
     "output_type": "stream",
     "text": [
      "Epoch [423/5000]: 100%|██████████| 34/34 [00:00<00:00, 246.43it/s, loss=10.6]\n"
     ]
    },
    {
     "name": "stdout",
     "output_type": "stream",
     "text": [
      "Epoch [423/5000]: Train loss: 8.1709, Valid loss: 2.2701\n"
     ]
    },
    {
     "name": "stderr",
     "output_type": "stream",
     "text": [
      "Epoch [424/5000]: 100%|██████████| 34/34 [00:00<00:00, 276.34it/s, loss=7.52]\n"
     ]
    },
    {
     "name": "stdout",
     "output_type": "stream",
     "text": [
      "Epoch [424/5000]: Train loss: 6.7966, Valid loss: 2.5114\n"
     ]
    },
    {
     "name": "stderr",
     "output_type": "stream",
     "text": [
      "Epoch [425/5000]: 100%|██████████| 34/34 [00:00<00:00, 224.45it/s, loss=11]  \n"
     ]
    },
    {
     "name": "stdout",
     "output_type": "stream",
     "text": [
      "Epoch [425/5000]: Train loss: 6.7435, Valid loss: 3.4559\n"
     ]
    },
    {
     "name": "stderr",
     "output_type": "stream",
     "text": [
      "Epoch [426/5000]: 100%|██████████| 34/34 [00:00<00:00, 253.57it/s, loss=6.41]\n"
     ]
    },
    {
     "name": "stdout",
     "output_type": "stream",
     "text": [
      "Epoch [426/5000]: Train loss: 7.3308, Valid loss: 2.2592\n"
     ]
    },
    {
     "name": "stderr",
     "output_type": "stream",
     "text": [
      "Epoch [427/5000]: 100%|██████████| 34/34 [00:00<00:00, 248.59it/s, loss=5.47]\n"
     ]
    },
    {
     "name": "stdout",
     "output_type": "stream",
     "text": [
      "Epoch [427/5000]: Train loss: 7.1018, Valid loss: 1.7741\n"
     ]
    },
    {
     "name": "stderr",
     "output_type": "stream",
     "text": [
      "Epoch [428/5000]: 100%|██████████| 34/34 [00:00<00:00, 232.12it/s, loss=6.44]\n"
     ]
    },
    {
     "name": "stdout",
     "output_type": "stream",
     "text": [
      "Epoch [428/5000]: Train loss: 7.0605, Valid loss: 2.0931\n"
     ]
    },
    {
     "name": "stderr",
     "output_type": "stream",
     "text": [
      "Epoch [429/5000]: 100%|██████████| 34/34 [00:00<00:00, 242.98it/s, loss=6.55]\n"
     ]
    },
    {
     "name": "stdout",
     "output_type": "stream",
     "text": [
      "Epoch [429/5000]: Train loss: 6.6654, Valid loss: 1.9212\n"
     ]
    },
    {
     "name": "stderr",
     "output_type": "stream",
     "text": [
      "Epoch [430/5000]: 100%|██████████| 34/34 [00:00<00:00, 242.94it/s, loss=12.3]\n"
     ]
    },
    {
     "name": "stdout",
     "output_type": "stream",
     "text": [
      "Epoch [430/5000]: Train loss: 7.3371, Valid loss: 1.7517\n"
     ]
    },
    {
     "name": "stderr",
     "output_type": "stream",
     "text": [
      "Epoch [431/5000]: 100%|██████████| 34/34 [00:00<00:00, 263.25it/s, loss=6.35]\n"
     ]
    },
    {
     "name": "stdout",
     "output_type": "stream",
     "text": [
      "Epoch [431/5000]: Train loss: 7.0023, Valid loss: 1.9570\n"
     ]
    },
    {
     "name": "stderr",
     "output_type": "stream",
     "text": [
      "Epoch [432/5000]: 100%|██████████| 34/34 [00:00<00:00, 241.26it/s, loss=12.6]\n"
     ]
    },
    {
     "name": "stdout",
     "output_type": "stream",
     "text": [
      "Epoch [432/5000]: Train loss: 7.3572, Valid loss: 2.5747\n"
     ]
    },
    {
     "name": "stderr",
     "output_type": "stream",
     "text": [
      "Epoch [433/5000]: 100%|██████████| 34/34 [00:00<00:00, 250.33it/s, loss=6.02]\n"
     ]
    },
    {
     "name": "stdout",
     "output_type": "stream",
     "text": [
      "Epoch [433/5000]: Train loss: 6.8708, Valid loss: 3.7304\n"
     ]
    },
    {
     "name": "stderr",
     "output_type": "stream",
     "text": [
      "Epoch [434/5000]: 100%|██████████| 34/34 [00:00<00:00, 248.63it/s, loss=11.1]\n"
     ]
    },
    {
     "name": "stdout",
     "output_type": "stream",
     "text": [
      "Epoch [434/5000]: Train loss: 6.9347, Valid loss: 2.2193\n"
     ]
    },
    {
     "name": "stderr",
     "output_type": "stream",
     "text": [
      "Epoch [435/5000]: 100%|██████████| 34/34 [00:00<00:00, 250.31it/s, loss=8.41]\n"
     ]
    },
    {
     "name": "stdout",
     "output_type": "stream",
     "text": [
      "Epoch [435/5000]: Train loss: 7.3716, Valid loss: 3.8548\n"
     ]
    },
    {
     "name": "stderr",
     "output_type": "stream",
     "text": [
      "Epoch [436/5000]: 100%|██████████| 34/34 [00:00<00:00, 248.49it/s, loss=6.96]\n"
     ]
    },
    {
     "name": "stdout",
     "output_type": "stream",
     "text": [
      "Epoch [436/5000]: Train loss: 7.1930, Valid loss: 4.0525\n"
     ]
    },
    {
     "name": "stderr",
     "output_type": "stream",
     "text": [
      "Epoch [437/5000]: 100%|██████████| 34/34 [00:00<00:00, 297.05it/s, loss=3.75]\n"
     ]
    },
    {
     "name": "stdout",
     "output_type": "stream",
     "text": [
      "Epoch [437/5000]: Train loss: 7.1284, Valid loss: 3.7743\n"
     ]
    },
    {
     "name": "stderr",
     "output_type": "stream",
     "text": [
      "Epoch [438/5000]: 100%|██████████| 34/34 [00:00<00:00, 256.72it/s, loss=3.76]\n"
     ]
    },
    {
     "name": "stdout",
     "output_type": "stream",
     "text": [
      "Epoch [438/5000]: Train loss: 7.2664, Valid loss: 5.9673\n"
     ]
    },
    {
     "name": "stderr",
     "output_type": "stream",
     "text": [
      "Epoch [439/5000]: 100%|██████████| 34/34 [00:00<00:00, 212.06it/s, loss=6.95]\n"
     ]
    },
    {
     "name": "stdout",
     "output_type": "stream",
     "text": [
      "Epoch [439/5000]: Train loss: 7.5272, Valid loss: 1.5278\n",
      "Saving model with loss 1.528...\n"
     ]
    },
    {
     "name": "stderr",
     "output_type": "stream",
     "text": [
      "Epoch [440/5000]: 100%|██████████| 34/34 [00:00<00:00, 267.32it/s, loss=10.5]\n"
     ]
    },
    {
     "name": "stdout",
     "output_type": "stream",
     "text": [
      "Epoch [440/5000]: Train loss: 7.3306, Valid loss: 8.0022\n"
     ]
    },
    {
     "name": "stderr",
     "output_type": "stream",
     "text": [
      "Epoch [441/5000]: 100%|██████████| 34/34 [00:00<00:00, 303.94it/s, loss=5.35]\n"
     ]
    },
    {
     "name": "stdout",
     "output_type": "stream",
     "text": [
      "Epoch [441/5000]: Train loss: 7.2527, Valid loss: 2.3464\n"
     ]
    },
    {
     "name": "stderr",
     "output_type": "stream",
     "text": [
      "Epoch [442/5000]: 100%|██████████| 34/34 [00:00<00:00, 221.98it/s, loss=5.47]\n"
     ]
    },
    {
     "name": "stdout",
     "output_type": "stream",
     "text": [
      "Epoch [442/5000]: Train loss: 6.1713, Valid loss: 3.6306\n"
     ]
    },
    {
     "name": "stderr",
     "output_type": "stream",
     "text": [
      "Epoch [443/5000]: 100%|██████████| 34/34 [00:00<00:00, 221.33it/s, loss=8.25]\n"
     ]
    },
    {
     "name": "stdout",
     "output_type": "stream",
     "text": [
      "Epoch [443/5000]: Train loss: 6.6210, Valid loss: 9.9857\n"
     ]
    },
    {
     "name": "stderr",
     "output_type": "stream",
     "text": [
      "Epoch [444/5000]: 100%|██████████| 34/34 [00:00<00:00, 220.35it/s, loss=5.47]\n"
     ]
    },
    {
     "name": "stdout",
     "output_type": "stream",
     "text": [
      "Epoch [444/5000]: Train loss: 7.0823, Valid loss: 2.2182\n"
     ]
    },
    {
     "name": "stderr",
     "output_type": "stream",
     "text": [
      "Epoch [445/5000]: 100%|██████████| 34/34 [00:00<00:00, 250.50it/s, loss=4.56]\n"
     ]
    },
    {
     "name": "stdout",
     "output_type": "stream",
     "text": [
      "Epoch [445/5000]: Train loss: 6.5547, Valid loss: 1.6878\n"
     ]
    },
    {
     "name": "stderr",
     "output_type": "stream",
     "text": [
      "Epoch [446/5000]: 100%|██████████| 34/34 [00:00<00:00, 238.43it/s, loss=3.88]\n"
     ]
    },
    {
     "name": "stdout",
     "output_type": "stream",
     "text": [
      "Epoch [446/5000]: Train loss: 7.0238, Valid loss: 7.4190\n"
     ]
    },
    {
     "name": "stderr",
     "output_type": "stream",
     "text": [
      "Epoch [447/5000]: 100%|██████████| 34/34 [00:00<00:00, 235.43it/s, loss=5]   \n"
     ]
    },
    {
     "name": "stdout",
     "output_type": "stream",
     "text": [
      "Epoch [447/5000]: Train loss: 7.2949, Valid loss: 1.6545\n"
     ]
    },
    {
     "name": "stderr",
     "output_type": "stream",
     "text": [
      "Epoch [448/5000]: 100%|██████████| 34/34 [00:00<00:00, 243.24it/s, loss=6.37]\n"
     ]
    },
    {
     "name": "stdout",
     "output_type": "stream",
     "text": [
      "Epoch [448/5000]: Train loss: 6.3155, Valid loss: 4.0847\n"
     ]
    },
    {
     "name": "stderr",
     "output_type": "stream",
     "text": [
      "Epoch [449/5000]: 100%|██████████| 34/34 [00:00<00:00, 247.80it/s, loss=10.2]\n"
     ]
    },
    {
     "name": "stdout",
     "output_type": "stream",
     "text": [
      "Epoch [449/5000]: Train loss: 6.7598, Valid loss: 8.6472\n"
     ]
    },
    {
     "name": "stderr",
     "output_type": "stream",
     "text": [
      "Epoch [450/5000]: 100%|██████████| 34/34 [00:00<00:00, 238.59it/s, loss=6.11]\n"
     ]
    },
    {
     "name": "stdout",
     "output_type": "stream",
     "text": [
      "Epoch [450/5000]: Train loss: 7.7076, Valid loss: 6.4266\n"
     ]
    },
    {
     "name": "stderr",
     "output_type": "stream",
     "text": [
      "Epoch [451/5000]: 100%|██████████| 34/34 [00:00<00:00, 245.51it/s, loss=8.39]\n"
     ]
    },
    {
     "name": "stdout",
     "output_type": "stream",
     "text": [
      "Epoch [451/5000]: Train loss: 6.7606, Valid loss: 1.9516\n"
     ]
    },
    {
     "name": "stderr",
     "output_type": "stream",
     "text": [
      "Epoch [452/5000]: 100%|██████████| 34/34 [00:00<00:00, 254.57it/s, loss=6.14]\n"
     ]
    },
    {
     "name": "stdout",
     "output_type": "stream",
     "text": [
      "Epoch [452/5000]: Train loss: 6.7427, Valid loss: 2.4055\n"
     ]
    },
    {
     "name": "stderr",
     "output_type": "stream",
     "text": [
      "Epoch [453/5000]: 100%|██████████| 34/34 [00:00<00:00, 234.34it/s, loss=6.46]\n"
     ]
    },
    {
     "name": "stdout",
     "output_type": "stream",
     "text": [
      "Epoch [453/5000]: Train loss: 6.9503, Valid loss: 1.9566\n"
     ]
    },
    {
     "name": "stderr",
     "output_type": "stream",
     "text": [
      "Epoch [454/5000]: 100%|██████████| 34/34 [00:00<00:00, 235.45it/s, loss=7.26]\n"
     ]
    },
    {
     "name": "stdout",
     "output_type": "stream",
     "text": [
      "Epoch [454/5000]: Train loss: 7.0166, Valid loss: 2.1539\n"
     ]
    },
    {
     "name": "stderr",
     "output_type": "stream",
     "text": [
      "Epoch [455/5000]: 100%|██████████| 34/34 [00:00<00:00, 244.44it/s, loss=8.99]\n"
     ]
    },
    {
     "name": "stdout",
     "output_type": "stream",
     "text": [
      "Epoch [455/5000]: Train loss: 6.8496, Valid loss: 1.9828\n"
     ]
    },
    {
     "name": "stderr",
     "output_type": "stream",
     "text": [
      "Epoch [456/5000]: 100%|██████████| 34/34 [00:00<00:00, 238.48it/s, loss=6.74]\n"
     ]
    },
    {
     "name": "stdout",
     "output_type": "stream",
     "text": [
      "Epoch [456/5000]: Train loss: 6.9673, Valid loss: 5.0123\n"
     ]
    },
    {
     "name": "stderr",
     "output_type": "stream",
     "text": [
      "Epoch [457/5000]: 100%|██████████| 34/34 [00:00<00:00, 235.47it/s, loss=8.77]\n"
     ]
    },
    {
     "name": "stdout",
     "output_type": "stream",
     "text": [
      "Epoch [457/5000]: Train loss: 7.6484, Valid loss: 2.9031\n"
     ]
    },
    {
     "name": "stderr",
     "output_type": "stream",
     "text": [
      "Epoch [458/5000]: 100%|██████████| 34/34 [00:00<00:00, 221.55it/s, loss=7.33]\n"
     ]
    },
    {
     "name": "stdout",
     "output_type": "stream",
     "text": [
      "Epoch [458/5000]: Train loss: 6.7528, Valid loss: 1.8092\n"
     ]
    },
    {
     "name": "stderr",
     "output_type": "stream",
     "text": [
      "Epoch [459/5000]: 100%|██████████| 34/34 [00:00<00:00, 247.51it/s, loss=9.05]\n"
     ]
    },
    {
     "name": "stdout",
     "output_type": "stream",
     "text": [
      "Epoch [459/5000]: Train loss: 6.8148, Valid loss: 1.9165\n"
     ]
    },
    {
     "name": "stderr",
     "output_type": "stream",
     "text": [
      "Epoch [460/5000]: 100%|██████████| 34/34 [00:00<00:00, 239.25it/s, loss=4.62]\n"
     ]
    },
    {
     "name": "stdout",
     "output_type": "stream",
     "text": [
      "Epoch [460/5000]: Train loss: 7.3592, Valid loss: 2.1280\n"
     ]
    },
    {
     "name": "stderr",
     "output_type": "stream",
     "text": [
      "Epoch [461/5000]: 100%|██████████| 34/34 [00:00<00:00, 246.68it/s, loss=10.2]\n"
     ]
    },
    {
     "name": "stdout",
     "output_type": "stream",
     "text": [
      "Epoch [461/5000]: Train loss: 6.7927, Valid loss: 5.8043\n"
     ]
    },
    {
     "name": "stderr",
     "output_type": "stream",
     "text": [
      "Epoch [462/5000]: 100%|██████████| 34/34 [00:00<00:00, 247.86it/s, loss=5.12]\n"
     ]
    },
    {
     "name": "stdout",
     "output_type": "stream",
     "text": [
      "Epoch [462/5000]: Train loss: 6.7265, Valid loss: 2.6912\n"
     ]
    },
    {
     "name": "stderr",
     "output_type": "stream",
     "text": [
      "Epoch [463/5000]: 100%|██████████| 34/34 [00:00<00:00, 221.08it/s, loss=9.13]\n"
     ]
    },
    {
     "name": "stdout",
     "output_type": "stream",
     "text": [
      "Epoch [463/5000]: Train loss: 6.8492, Valid loss: 3.7074\n"
     ]
    },
    {
     "name": "stderr",
     "output_type": "stream",
     "text": [
      "Epoch [464/5000]: 100%|██████████| 34/34 [00:00<00:00, 221.56it/s, loss=5.44]\n"
     ]
    },
    {
     "name": "stdout",
     "output_type": "stream",
     "text": [
      "Epoch [464/5000]: Train loss: 7.0202, Valid loss: 2.1768\n"
     ]
    },
    {
     "name": "stderr",
     "output_type": "stream",
     "text": [
      "Epoch [465/5000]: 100%|██████████| 34/34 [00:00<00:00, 254.92it/s, loss=11.4]\n"
     ]
    },
    {
     "name": "stdout",
     "output_type": "stream",
     "text": [
      "Epoch [465/5000]: Train loss: 6.8545, Valid loss: 1.5769\n"
     ]
    },
    {
     "name": "stderr",
     "output_type": "stream",
     "text": [
      "Epoch [466/5000]: 100%|██████████| 34/34 [00:00<00:00, 260.74it/s, loss=8.67]\n"
     ]
    },
    {
     "name": "stdout",
     "output_type": "stream",
     "text": [
      "Epoch [466/5000]: Train loss: 6.9160, Valid loss: 4.2361\n"
     ]
    },
    {
     "name": "stderr",
     "output_type": "stream",
     "text": [
      "Epoch [467/5000]: 100%|██████████| 34/34 [00:00<00:00, 225.12it/s, loss=6.93]\n"
     ]
    },
    {
     "name": "stdout",
     "output_type": "stream",
     "text": [
      "Epoch [467/5000]: Train loss: 7.5186, Valid loss: 5.8167\n"
     ]
    },
    {
     "name": "stderr",
     "output_type": "stream",
     "text": [
      "Epoch [468/5000]: 100%|██████████| 34/34 [00:00<00:00, 197.29it/s, loss=7.32]\n"
     ]
    },
    {
     "name": "stdout",
     "output_type": "stream",
     "text": [
      "Epoch [468/5000]: Train loss: 6.6425, Valid loss: 2.6392\n"
     ]
    },
    {
     "name": "stderr",
     "output_type": "stream",
     "text": [
      "Epoch [469/5000]: 100%|██████████| 34/34 [00:00<00:00, 268.15it/s, loss=7.54]\n"
     ]
    },
    {
     "name": "stdout",
     "output_type": "stream",
     "text": [
      "Epoch [469/5000]: Train loss: 7.5795, Valid loss: 29.0879\n"
     ]
    },
    {
     "name": "stderr",
     "output_type": "stream",
     "text": [
      "Epoch [470/5000]: 100%|██████████| 34/34 [00:00<00:00, 223.26it/s, loss=4.05]\n"
     ]
    },
    {
     "name": "stdout",
     "output_type": "stream",
     "text": [
      "Epoch [470/5000]: Train loss: 7.7756, Valid loss: 9.0259\n"
     ]
    },
    {
     "name": "stderr",
     "output_type": "stream",
     "text": [
      "Epoch [471/5000]: 100%|██████████| 34/34 [00:00<00:00, 235.01it/s, loss=10.6]\n"
     ]
    },
    {
     "name": "stdout",
     "output_type": "stream",
     "text": [
      "Epoch [471/5000]: Train loss: 7.8022, Valid loss: 3.0975\n"
     ]
    },
    {
     "name": "stderr",
     "output_type": "stream",
     "text": [
      "Epoch [472/5000]: 100%|██████████| 34/34 [00:00<00:00, 240.33it/s, loss=12.1]\n"
     ]
    },
    {
     "name": "stdout",
     "output_type": "stream",
     "text": [
      "Epoch [472/5000]: Train loss: 7.6386, Valid loss: 3.9685\n"
     ]
    },
    {
     "name": "stderr",
     "output_type": "stream",
     "text": [
      "Epoch [473/5000]: 100%|██████████| 34/34 [00:00<00:00, 227.28it/s, loss=7.88]\n"
     ]
    },
    {
     "name": "stdout",
     "output_type": "stream",
     "text": [
      "Epoch [473/5000]: Train loss: 7.2748, Valid loss: 1.9696\n"
     ]
    },
    {
     "name": "stderr",
     "output_type": "stream",
     "text": [
      "Epoch [474/5000]: 100%|██████████| 34/34 [00:00<00:00, 256.05it/s, loss=5.76]\n"
     ]
    },
    {
     "name": "stdout",
     "output_type": "stream",
     "text": [
      "Epoch [474/5000]: Train loss: 6.8786, Valid loss: 9.7230\n"
     ]
    },
    {
     "name": "stderr",
     "output_type": "stream",
     "text": [
      "Epoch [475/5000]: 100%|██████████| 34/34 [00:00<00:00, 243.70it/s, loss=17.3]\n"
     ]
    },
    {
     "name": "stdout",
     "output_type": "stream",
     "text": [
      "Epoch [475/5000]: Train loss: 7.2276, Valid loss: 3.5518\n"
     ]
    },
    {
     "name": "stderr",
     "output_type": "stream",
     "text": [
      "Epoch [476/5000]: 100%|██████████| 34/34 [00:00<00:00, 268.92it/s, loss=10.6]\n"
     ]
    },
    {
     "name": "stdout",
     "output_type": "stream",
     "text": [
      "Epoch [476/5000]: Train loss: 7.2961, Valid loss: 1.9634\n"
     ]
    },
    {
     "name": "stderr",
     "output_type": "stream",
     "text": [
      "Epoch [477/5000]: 100%|██████████| 34/34 [00:00<00:00, 246.49it/s, loss=10.1]\n"
     ]
    },
    {
     "name": "stdout",
     "output_type": "stream",
     "text": [
      "Epoch [477/5000]: Train loss: 6.6357, Valid loss: 7.0854\n"
     ]
    },
    {
     "name": "stderr",
     "output_type": "stream",
     "text": [
      "Epoch [478/5000]: 100%|██████████| 34/34 [00:00<00:00, 219.65it/s, loss=4.93]\n"
     ]
    },
    {
     "name": "stdout",
     "output_type": "stream",
     "text": [
      "Epoch [478/5000]: Train loss: 6.6643, Valid loss: 1.7989\n"
     ]
    },
    {
     "name": "stderr",
     "output_type": "stream",
     "text": [
      "Epoch [479/5000]: 100%|██████████| 34/34 [00:00<00:00, 252.76it/s, loss=6.31]\n"
     ]
    },
    {
     "name": "stdout",
     "output_type": "stream",
     "text": [
      "Epoch [479/5000]: Train loss: 6.7020, Valid loss: 6.5399\n"
     ]
    },
    {
     "name": "stderr",
     "output_type": "stream",
     "text": [
      "Epoch [480/5000]: 100%|██████████| 34/34 [00:00<00:00, 256.50it/s, loss=7.51]\n"
     ]
    },
    {
     "name": "stdout",
     "output_type": "stream",
     "text": [
      "Epoch [480/5000]: Train loss: 7.5851, Valid loss: 7.6223\n"
     ]
    },
    {
     "name": "stderr",
     "output_type": "stream",
     "text": [
      "Epoch [481/5000]: 100%|██████████| 34/34 [00:00<00:00, 231.32it/s, loss=7.72]\n"
     ]
    },
    {
     "name": "stdout",
     "output_type": "stream",
     "text": [
      "Epoch [481/5000]: Train loss: 6.6271, Valid loss: 2.4578\n"
     ]
    },
    {
     "name": "stderr",
     "output_type": "stream",
     "text": [
      "Epoch [482/5000]: 100%|██████████| 34/34 [00:00<00:00, 241.50it/s, loss=3.68]\n"
     ]
    },
    {
     "name": "stdout",
     "output_type": "stream",
     "text": [
      "Epoch [482/5000]: Train loss: 6.4722, Valid loss: 2.5204\n"
     ]
    },
    {
     "name": "stderr",
     "output_type": "stream",
     "text": [
      "Epoch [483/5000]: 100%|██████████| 34/34 [00:00<00:00, 224.65it/s, loss=6.34]\n"
     ]
    },
    {
     "name": "stdout",
     "output_type": "stream",
     "text": [
      "Epoch [483/5000]: Train loss: 6.7061, Valid loss: 9.3058\n"
     ]
    },
    {
     "name": "stderr",
     "output_type": "stream",
     "text": [
      "Epoch [484/5000]: 100%|██████████| 34/34 [00:00<00:00, 227.75it/s, loss=6.91]\n"
     ]
    },
    {
     "name": "stdout",
     "output_type": "stream",
     "text": [
      "Epoch [484/5000]: Train loss: 6.7262, Valid loss: 9.0088\n"
     ]
    },
    {
     "name": "stderr",
     "output_type": "stream",
     "text": [
      "Epoch [485/5000]: 100%|██████████| 34/34 [00:00<00:00, 230.32it/s, loss=7.9] \n"
     ]
    },
    {
     "name": "stdout",
     "output_type": "stream",
     "text": [
      "Epoch [485/5000]: Train loss: 6.7641, Valid loss: 16.4722\n"
     ]
    },
    {
     "name": "stderr",
     "output_type": "stream",
     "text": [
      "Epoch [486/5000]: 100%|██████████| 34/34 [00:00<00:00, 246.01it/s, loss=5.15]\n"
     ]
    },
    {
     "name": "stdout",
     "output_type": "stream",
     "text": [
      "Epoch [486/5000]: Train loss: 6.9247, Valid loss: 1.8591\n"
     ]
    },
    {
     "name": "stderr",
     "output_type": "stream",
     "text": [
      "Epoch [487/5000]: 100%|██████████| 34/34 [00:00<00:00, 234.97it/s, loss=5.82]\n"
     ]
    },
    {
     "name": "stdout",
     "output_type": "stream",
     "text": [
      "Epoch [487/5000]: Train loss: 6.7412, Valid loss: 4.8185\n"
     ]
    },
    {
     "name": "stderr",
     "output_type": "stream",
     "text": [
      "Epoch [488/5000]: 100%|██████████| 34/34 [00:00<00:00, 205.27it/s, loss=6.2] \n"
     ]
    },
    {
     "name": "stdout",
     "output_type": "stream",
     "text": [
      "Epoch [488/5000]: Train loss: 6.6622, Valid loss: 2.7013\n"
     ]
    },
    {
     "name": "stderr",
     "output_type": "stream",
     "text": [
      "Epoch [489/5000]: 100%|██████████| 34/34 [00:00<00:00, 263.56it/s, loss=4.84]\n"
     ]
    },
    {
     "name": "stdout",
     "output_type": "stream",
     "text": [
      "Epoch [489/5000]: Train loss: 6.9587, Valid loss: 5.4043\n"
     ]
    },
    {
     "name": "stderr",
     "output_type": "stream",
     "text": [
      "Epoch [490/5000]: 100%|██████████| 34/34 [00:00<00:00, 285.67it/s, loss=10.2]\n"
     ]
    },
    {
     "name": "stdout",
     "output_type": "stream",
     "text": [
      "Epoch [490/5000]: Train loss: 7.1868, Valid loss: 3.6465\n"
     ]
    },
    {
     "name": "stderr",
     "output_type": "stream",
     "text": [
      "Epoch [491/5000]: 100%|██████████| 34/34 [00:00<00:00, 303.98it/s, loss=11.4]\n"
     ]
    },
    {
     "name": "stdout",
     "output_type": "stream",
     "text": [
      "Epoch [491/5000]: Train loss: 6.9724, Valid loss: 1.8723\n"
     ]
    },
    {
     "name": "stderr",
     "output_type": "stream",
     "text": [
      "Epoch [492/5000]: 100%|██████████| 34/34 [00:00<00:00, 225.94it/s, loss=6.56]\n"
     ]
    },
    {
     "name": "stdout",
     "output_type": "stream",
     "text": [
      "Epoch [492/5000]: Train loss: 7.0723, Valid loss: 3.4450\n"
     ]
    },
    {
     "name": "stderr",
     "output_type": "stream",
     "text": [
      "Epoch [493/5000]: 100%|██████████| 34/34 [00:00<00:00, 223.98it/s, loss=8.39]\n"
     ]
    },
    {
     "name": "stdout",
     "output_type": "stream",
     "text": [
      "Epoch [493/5000]: Train loss: 7.2321, Valid loss: 11.1985\n"
     ]
    },
    {
     "name": "stderr",
     "output_type": "stream",
     "text": [
      "Epoch [494/5000]: 100%|██████████| 34/34 [00:00<00:00, 213.19it/s, loss=5.37]\n"
     ]
    },
    {
     "name": "stdout",
     "output_type": "stream",
     "text": [
      "Epoch [494/5000]: Train loss: 7.1258, Valid loss: 1.8961\n"
     ]
    },
    {
     "name": "stderr",
     "output_type": "stream",
     "text": [
      "Epoch [495/5000]: 100%|██████████| 34/34 [00:00<00:00, 271.48it/s, loss=6.22]\n"
     ]
    },
    {
     "name": "stdout",
     "output_type": "stream",
     "text": [
      "Epoch [495/5000]: Train loss: 6.3005, Valid loss: 1.6473\n"
     ]
    },
    {
     "name": "stderr",
     "output_type": "stream",
     "text": [
      "Epoch [496/5000]: 100%|██████████| 34/34 [00:00<00:00, 237.76it/s, loss=4.38]\n"
     ]
    },
    {
     "name": "stdout",
     "output_type": "stream",
     "text": [
      "Epoch [496/5000]: Train loss: 6.2549, Valid loss: 2.4853\n"
     ]
    },
    {
     "name": "stderr",
     "output_type": "stream",
     "text": [
      "Epoch [497/5000]: 100%|██████████| 34/34 [00:00<00:00, 263.25it/s, loss=8.34]\n"
     ]
    },
    {
     "name": "stdout",
     "output_type": "stream",
     "text": [
      "Epoch [497/5000]: Train loss: 6.4377, Valid loss: 3.3499\n"
     ]
    },
    {
     "name": "stderr",
     "output_type": "stream",
     "text": [
      "Epoch [498/5000]: 100%|██████████| 34/34 [00:00<00:00, 241.12it/s, loss=5.87]\n"
     ]
    },
    {
     "name": "stdout",
     "output_type": "stream",
     "text": [
      "Epoch [498/5000]: Train loss: 6.6670, Valid loss: 1.7766\n"
     ]
    },
    {
     "name": "stderr",
     "output_type": "stream",
     "text": [
      "Epoch [499/5000]: 100%|██████████| 34/34 [00:00<00:00, 245.81it/s, loss=6.54]\n"
     ]
    },
    {
     "name": "stdout",
     "output_type": "stream",
     "text": [
      "Epoch [499/5000]: Train loss: 6.5205, Valid loss: 2.9199\n"
     ]
    },
    {
     "name": "stderr",
     "output_type": "stream",
     "text": [
      "Epoch [500/5000]: 100%|██████████| 34/34 [00:00<00:00, 245.55it/s, loss=5.93]\n"
     ]
    },
    {
     "name": "stdout",
     "output_type": "stream",
     "text": [
      "Epoch [500/5000]: Train loss: 6.4543, Valid loss: 1.5584\n"
     ]
    },
    {
     "name": "stderr",
     "output_type": "stream",
     "text": [
      "Epoch [501/5000]: 100%|██████████| 34/34 [00:00<00:00, 236.59it/s, loss=4.71]\n"
     ]
    },
    {
     "name": "stdout",
     "output_type": "stream",
     "text": [
      "Epoch [501/5000]: Train loss: 6.7124, Valid loss: 3.3809\n"
     ]
    },
    {
     "name": "stderr",
     "output_type": "stream",
     "text": [
      "Epoch [502/5000]: 100%|██████████| 34/34 [00:00<00:00, 216.68it/s, loss=5.55]\n"
     ]
    },
    {
     "name": "stdout",
     "output_type": "stream",
     "text": [
      "Epoch [502/5000]: Train loss: 6.6330, Valid loss: 6.9727\n"
     ]
    },
    {
     "name": "stderr",
     "output_type": "stream",
     "text": [
      "Epoch [503/5000]: 100%|██████████| 34/34 [00:00<00:00, 261.72it/s, loss=5.74]\n"
     ]
    },
    {
     "name": "stdout",
     "output_type": "stream",
     "text": [
      "Epoch [503/5000]: Train loss: 6.7878, Valid loss: 1.7858\n"
     ]
    },
    {
     "name": "stderr",
     "output_type": "stream",
     "text": [
      "Epoch [504/5000]: 100%|██████████| 34/34 [00:00<00:00, 242.34it/s, loss=4.51]\n"
     ]
    },
    {
     "name": "stdout",
     "output_type": "stream",
     "text": [
      "Epoch [504/5000]: Train loss: 6.5611, Valid loss: 3.0495\n"
     ]
    },
    {
     "name": "stderr",
     "output_type": "stream",
     "text": [
      "Epoch [505/5000]: 100%|██████████| 34/34 [00:00<00:00, 244.40it/s, loss=10.7]\n"
     ]
    },
    {
     "name": "stdout",
     "output_type": "stream",
     "text": [
      "Epoch [505/5000]: Train loss: 6.9487, Valid loss: 1.8228\n"
     ]
    },
    {
     "name": "stderr",
     "output_type": "stream",
     "text": [
      "Epoch [506/5000]: 100%|██████████| 34/34 [00:00<00:00, 246.89it/s, loss=4.68]\n"
     ]
    },
    {
     "name": "stdout",
     "output_type": "stream",
     "text": [
      "Epoch [506/5000]: Train loss: 6.8285, Valid loss: 5.4785\n"
     ]
    },
    {
     "name": "stderr",
     "output_type": "stream",
     "text": [
      "Epoch [507/5000]: 100%|██████████| 34/34 [00:00<00:00, 244.61it/s, loss=6.17]\n"
     ]
    },
    {
     "name": "stdout",
     "output_type": "stream",
     "text": [
      "Epoch [507/5000]: Train loss: 7.5320, Valid loss: 4.9748\n"
     ]
    },
    {
     "name": "stderr",
     "output_type": "stream",
     "text": [
      "Epoch [508/5000]: 100%|██████████| 34/34 [00:00<00:00, 235.72it/s, loss=7.67]\n"
     ]
    },
    {
     "name": "stdout",
     "output_type": "stream",
     "text": [
      "Epoch [508/5000]: Train loss: 6.6331, Valid loss: 1.9421\n"
     ]
    },
    {
     "name": "stderr",
     "output_type": "stream",
     "text": [
      "Epoch [509/5000]: 100%|██████████| 34/34 [00:00<00:00, 279.49it/s, loss=8.85]\n"
     ]
    },
    {
     "name": "stdout",
     "output_type": "stream",
     "text": [
      "Epoch [509/5000]: Train loss: 6.9238, Valid loss: 3.9779\n"
     ]
    },
    {
     "name": "stderr",
     "output_type": "stream",
     "text": [
      "Epoch [510/5000]: 100%|██████████| 34/34 [00:00<00:00, 222.40it/s, loss=10]  \n"
     ]
    },
    {
     "name": "stdout",
     "output_type": "stream",
     "text": [
      "Epoch [510/5000]: Train loss: 6.7499, Valid loss: 4.0113\n"
     ]
    },
    {
     "name": "stderr",
     "output_type": "stream",
     "text": [
      "Epoch [511/5000]: 100%|██████████| 34/34 [00:00<00:00, 248.86it/s, loss=7.41]\n"
     ]
    },
    {
     "name": "stdout",
     "output_type": "stream",
     "text": [
      "Epoch [511/5000]: Train loss: 6.6275, Valid loss: 4.7026\n"
     ]
    },
    {
     "name": "stderr",
     "output_type": "stream",
     "text": [
      "Epoch [512/5000]: 100%|██████████| 34/34 [00:00<00:00, 248.89it/s, loss=13]  \n"
     ]
    },
    {
     "name": "stdout",
     "output_type": "stream",
     "text": [
      "Epoch [512/5000]: Train loss: 6.9165, Valid loss: 4.4383\n"
     ]
    },
    {
     "name": "stderr",
     "output_type": "stream",
     "text": [
      "Epoch [513/5000]: 100%|██████████| 34/34 [00:00<00:00, 256.78it/s, loss=7.15]\n"
     ]
    },
    {
     "name": "stdout",
     "output_type": "stream",
     "text": [
      "Epoch [513/5000]: Train loss: 6.4985, Valid loss: 2.3588\n"
     ]
    },
    {
     "name": "stderr",
     "output_type": "stream",
     "text": [
      "Epoch [514/5000]: 100%|██████████| 34/34 [00:00<00:00, 245.54it/s, loss=7.74]\n"
     ]
    },
    {
     "name": "stdout",
     "output_type": "stream",
     "text": [
      "Epoch [514/5000]: Train loss: 6.8653, Valid loss: 3.2914\n"
     ]
    },
    {
     "name": "stderr",
     "output_type": "stream",
     "text": [
      "Epoch [515/5000]: 100%|██████████| 34/34 [00:00<00:00, 252.33it/s, loss=6.64]\n"
     ]
    },
    {
     "name": "stdout",
     "output_type": "stream",
     "text": [
      "Epoch [515/5000]: Train loss: 6.9500, Valid loss: 3.3456\n"
     ]
    },
    {
     "name": "stderr",
     "output_type": "stream",
     "text": [
      "Epoch [516/5000]: 100%|██████████| 34/34 [00:00<00:00, 242.90it/s, loss=10]  \n"
     ]
    },
    {
     "name": "stdout",
     "output_type": "stream",
     "text": [
      "Epoch [516/5000]: Train loss: 7.1010, Valid loss: 2.1985\n"
     ]
    },
    {
     "name": "stderr",
     "output_type": "stream",
     "text": [
      "Epoch [517/5000]: 100%|██████████| 34/34 [00:00<00:00, 257.64it/s, loss=5.7] \n"
     ]
    },
    {
     "name": "stdout",
     "output_type": "stream",
     "text": [
      "Epoch [517/5000]: Train loss: 6.3841, Valid loss: 1.9829\n"
     ]
    },
    {
     "name": "stderr",
     "output_type": "stream",
     "text": [
      "Epoch [518/5000]: 100%|██████████| 34/34 [00:00<00:00, 225.10it/s, loss=5.14]\n"
     ]
    },
    {
     "name": "stdout",
     "output_type": "stream",
     "text": [
      "Epoch [518/5000]: Train loss: 6.4055, Valid loss: 1.8551\n"
     ]
    },
    {
     "name": "stderr",
     "output_type": "stream",
     "text": [
      "Epoch [519/5000]: 100%|██████████| 34/34 [00:00<00:00, 228.61it/s, loss=5.46]\n"
     ]
    },
    {
     "name": "stdout",
     "output_type": "stream",
     "text": [
      "Epoch [519/5000]: Train loss: 6.0567, Valid loss: 1.6630\n"
     ]
    },
    {
     "name": "stderr",
     "output_type": "stream",
     "text": [
      "Epoch [520/5000]: 100%|██████████| 34/34 [00:00<00:00, 255.93it/s, loss=5]   \n"
     ]
    },
    {
     "name": "stdout",
     "output_type": "stream",
     "text": [
      "Epoch [520/5000]: Train loss: 6.4132, Valid loss: 5.7336\n"
     ]
    },
    {
     "name": "stderr",
     "output_type": "stream",
     "text": [
      "Epoch [521/5000]: 100%|██████████| 34/34 [00:00<00:00, 236.28it/s, loss=6.39]\n"
     ]
    },
    {
     "name": "stdout",
     "output_type": "stream",
     "text": [
      "Epoch [521/5000]: Train loss: 6.1454, Valid loss: 5.9252\n"
     ]
    },
    {
     "name": "stderr",
     "output_type": "stream",
     "text": [
      "Epoch [522/5000]: 100%|██████████| 34/34 [00:00<00:00, 252.17it/s, loss=8.01]\n"
     ]
    },
    {
     "name": "stdout",
     "output_type": "stream",
     "text": [
      "Epoch [522/5000]: Train loss: 6.4212, Valid loss: 1.6674\n"
     ]
    },
    {
     "name": "stderr",
     "output_type": "stream",
     "text": [
      "Epoch [523/5000]: 100%|██████████| 34/34 [00:00<00:00, 247.82it/s, loss=9.96]\n"
     ]
    },
    {
     "name": "stdout",
     "output_type": "stream",
     "text": [
      "Epoch [523/5000]: Train loss: 6.5463, Valid loss: 4.5400\n"
     ]
    },
    {
     "name": "stderr",
     "output_type": "stream",
     "text": [
      "Epoch [524/5000]: 100%|██████████| 34/34 [00:00<00:00, 254.84it/s, loss=6.19]\n"
     ]
    },
    {
     "name": "stdout",
     "output_type": "stream",
     "text": [
      "Epoch [524/5000]: Train loss: 6.8164, Valid loss: 2.9132\n"
     ]
    },
    {
     "name": "stderr",
     "output_type": "stream",
     "text": [
      "Epoch [525/5000]: 100%|██████████| 34/34 [00:00<00:00, 247.76it/s, loss=5.88]\n"
     ]
    },
    {
     "name": "stdout",
     "output_type": "stream",
     "text": [
      "Epoch [525/5000]: Train loss: 6.6900, Valid loss: 6.1670\n"
     ]
    },
    {
     "name": "stderr",
     "output_type": "stream",
     "text": [
      "Epoch [526/5000]: 100%|██████████| 34/34 [00:00<00:00, 214.85it/s, loss=5.59]\n"
     ]
    },
    {
     "name": "stdout",
     "output_type": "stream",
     "text": [
      "Epoch [526/5000]: Train loss: 6.0937, Valid loss: 6.0118\n"
     ]
    },
    {
     "name": "stderr",
     "output_type": "stream",
     "text": [
      "Epoch [527/5000]: 100%|██████████| 34/34 [00:00<00:00, 252.84it/s, loss=16.9]\n"
     ]
    },
    {
     "name": "stdout",
     "output_type": "stream",
     "text": [
      "Epoch [527/5000]: Train loss: 7.1449, Valid loss: 1.7140\n"
     ]
    },
    {
     "name": "stderr",
     "output_type": "stream",
     "text": [
      "Epoch [528/5000]: 100%|██████████| 34/34 [00:00<00:00, 253.86it/s, loss=4.32]\n"
     ]
    },
    {
     "name": "stdout",
     "output_type": "stream",
     "text": [
      "Epoch [528/5000]: Train loss: 5.9640, Valid loss: 1.8023\n"
     ]
    },
    {
     "name": "stderr",
     "output_type": "stream",
     "text": [
      "Epoch [529/5000]: 100%|██████████| 34/34 [00:00<00:00, 246.43it/s, loss=7.13]\n"
     ]
    },
    {
     "name": "stdout",
     "output_type": "stream",
     "text": [
      "Epoch [529/5000]: Train loss: 6.3680, Valid loss: 1.8704\n"
     ]
    },
    {
     "name": "stderr",
     "output_type": "stream",
     "text": [
      "Epoch [530/5000]: 100%|██████████| 34/34 [00:00<00:00, 248.91it/s, loss=8.08]\n"
     ]
    },
    {
     "name": "stdout",
     "output_type": "stream",
     "text": [
      "Epoch [530/5000]: Train loss: 6.5729, Valid loss: 7.6775\n"
     ]
    },
    {
     "name": "stderr",
     "output_type": "stream",
     "text": [
      "Epoch [531/5000]: 100%|██████████| 34/34 [00:00<00:00, 254.39it/s, loss=5.42]\n"
     ]
    },
    {
     "name": "stdout",
     "output_type": "stream",
     "text": [
      "Epoch [531/5000]: Train loss: 6.6810, Valid loss: 2.2772\n"
     ]
    },
    {
     "name": "stderr",
     "output_type": "stream",
     "text": [
      "Epoch [532/5000]: 100%|██████████| 34/34 [00:00<00:00, 251.68it/s, loss=5.21]\n"
     ]
    },
    {
     "name": "stdout",
     "output_type": "stream",
     "text": [
      "Epoch [532/5000]: Train loss: 5.9308, Valid loss: 2.0770\n"
     ]
    },
    {
     "name": "stderr",
     "output_type": "stream",
     "text": [
      "Epoch [533/5000]: 100%|██████████| 34/34 [00:00<00:00, 253.38it/s, loss=4.29]\n"
     ]
    },
    {
     "name": "stdout",
     "output_type": "stream",
     "text": [
      "Epoch [533/5000]: Train loss: 7.5040, Valid loss: 6.9002\n"
     ]
    },
    {
     "name": "stderr",
     "output_type": "stream",
     "text": [
      "Epoch [534/5000]: 100%|██████████| 34/34 [00:00<00:00, 237.84it/s, loss=5.81]\n"
     ]
    },
    {
     "name": "stdout",
     "output_type": "stream",
     "text": [
      "Epoch [534/5000]: Train loss: 6.3242, Valid loss: 7.9954\n"
     ]
    },
    {
     "name": "stderr",
     "output_type": "stream",
     "text": [
      "Epoch [535/5000]: 100%|██████████| 34/34 [00:00<00:00, 232.48it/s, loss=3.75]\n"
     ]
    },
    {
     "name": "stdout",
     "output_type": "stream",
     "text": [
      "Epoch [535/5000]: Train loss: 7.1007, Valid loss: 2.1391\n"
     ]
    },
    {
     "name": "stderr",
     "output_type": "stream",
     "text": [
      "Epoch [536/5000]: 100%|██████████| 34/34 [00:00<00:00, 214.42it/s, loss=12.9]\n"
     ]
    },
    {
     "name": "stdout",
     "output_type": "stream",
     "text": [
      "Epoch [536/5000]: Train loss: 7.0565, Valid loss: 2.2033\n"
     ]
    },
    {
     "name": "stderr",
     "output_type": "stream",
     "text": [
      "Epoch [537/5000]: 100%|██████████| 34/34 [00:00<00:00, 235.50it/s, loss=10.7]\n"
     ]
    },
    {
     "name": "stdout",
     "output_type": "stream",
     "text": [
      "Epoch [537/5000]: Train loss: 6.6462, Valid loss: 2.9463\n"
     ]
    },
    {
     "name": "stderr",
     "output_type": "stream",
     "text": [
      "Epoch [538/5000]: 100%|██████████| 34/34 [00:00<00:00, 244.92it/s, loss=13.1]\n"
     ]
    },
    {
     "name": "stdout",
     "output_type": "stream",
     "text": [
      "Epoch [538/5000]: Train loss: 6.2493, Valid loss: 1.6042\n"
     ]
    },
    {
     "name": "stderr",
     "output_type": "stream",
     "text": [
      "Epoch [539/5000]: 100%|██████████| 34/34 [00:00<00:00, 247.01it/s, loss=6.83]\n"
     ]
    },
    {
     "name": "stdout",
     "output_type": "stream",
     "text": [
      "Epoch [539/5000]: Train loss: 6.5105, Valid loss: 1.7054\n"
     ]
    },
    {
     "name": "stderr",
     "output_type": "stream",
     "text": [
      "Epoch [540/5000]: 100%|██████████| 34/34 [00:00<00:00, 234.57it/s, loss=5.65]\n"
     ]
    },
    {
     "name": "stdout",
     "output_type": "stream",
     "text": [
      "Epoch [540/5000]: Train loss: 6.6803, Valid loss: 2.8417\n"
     ]
    },
    {
     "name": "stderr",
     "output_type": "stream",
     "text": [
      "Epoch [541/5000]: 100%|██████████| 34/34 [00:00<00:00, 254.35it/s, loss=6.19]\n"
     ]
    },
    {
     "name": "stdout",
     "output_type": "stream",
     "text": [
      "Epoch [541/5000]: Train loss: 6.2807, Valid loss: 3.8918\n"
     ]
    },
    {
     "name": "stderr",
     "output_type": "stream",
     "text": [
      "Epoch [542/5000]: 100%|██████████| 34/34 [00:00<00:00, 234.68it/s, loss=5.2] \n"
     ]
    },
    {
     "name": "stdout",
     "output_type": "stream",
     "text": [
      "Epoch [542/5000]: Train loss: 7.2890, Valid loss: 7.4260\n"
     ]
    },
    {
     "name": "stderr",
     "output_type": "stream",
     "text": [
      "Epoch [543/5000]: 100%|██████████| 34/34 [00:00<00:00, 237.32it/s, loss=12.4]\n"
     ]
    },
    {
     "name": "stdout",
     "output_type": "stream",
     "text": [
      "Epoch [543/5000]: Train loss: 6.8227, Valid loss: 1.9111\n"
     ]
    },
    {
     "name": "stderr",
     "output_type": "stream",
     "text": [
      "Epoch [544/5000]: 100%|██████████| 34/34 [00:00<00:00, 248.22it/s, loss=5.16]\n"
     ]
    },
    {
     "name": "stdout",
     "output_type": "stream",
     "text": [
      "Epoch [544/5000]: Train loss: 7.0208, Valid loss: 3.4110\n"
     ]
    },
    {
     "name": "stderr",
     "output_type": "stream",
     "text": [
      "Epoch [545/5000]: 100%|██████████| 34/34 [00:00<00:00, 248.63it/s, loss=8.19]\n"
     ]
    },
    {
     "name": "stdout",
     "output_type": "stream",
     "text": [
      "Epoch [545/5000]: Train loss: 6.4942, Valid loss: 3.4420\n"
     ]
    },
    {
     "name": "stderr",
     "output_type": "stream",
     "text": [
      "Epoch [546/5000]:  74%|███████▎  | 25/34 [00:00<00:00, 242.02it/s, loss=4.8] "
     ]
    }
   ],
   "source": [
    "model = My_Model(input_dim=x_train.shape[1]).to(device) # put your model and data on the same computation device.\n",
    "trainer(train_loader, valid_loader, model, config, device)"
   ]
  },
  {
   "cell_type": "code",
   "execution_count": null,
   "id": "8570dbb9-c919-4da5-be52-182d7f7d8123",
   "metadata": {},
   "outputs": [],
   "source": [
    "# %reload_ext tensorboard\n",
    "# %tensorboard --logdir=./runs/"
   ]
  },
  {
   "cell_type": "code",
   "execution_count": null,
   "id": "b18fb89a-a805-4c41-b506-f3ae52fa494c",
   "metadata": {},
   "outputs": [],
   "source": [
    "def save_pred(preds, file):\n",
    "    ''' Save predictions to specified file '''\n",
    "    with open(file, 'w') as fp:\n",
    "        writer = csv.writer(fp)\n",
    "        writer.writerow(['id', 'tested_positive'])\n",
    "        for i, p in enumerate(preds):\n",
    "            writer.writerow([i, p])\n",
    "\n",
    "model = My_Model(input_dim=x_train.shape[1]).to(device)\n",
    "model.load_state_dict(torch.load(config['save_path']))\n",
    "preds = predict(test_loader, model, device) \n",
    "save_pred(preds, 'pred.csv')         "
   ]
  },
  {
   "cell_type": "code",
   "execution_count": null,
   "id": "6b9b8b8b-4520-47bd-af07-8b98bb61571e",
   "metadata": {},
   "outputs": [],
   "source": [
    "!pwd"
   ]
  }
 ],
 "metadata": {
  "kernelspec": {
   "display_name": "knowledgegraphcommon-py3.8",
   "language": "python",
   "name": "knowledgegraphcommon-py3.8"
  },
  "language_info": {
   "codemirror_mode": {
    "name": "ipython",
    "version": 3
   },
   "file_extension": ".py",
   "mimetype": "text/x-python",
   "name": "python",
   "nbconvert_exporter": "python",
   "pygments_lexer": "ipython3",
   "version": "3.8.12"
  }
 },
 "nbformat": 4,
 "nbformat_minor": 5
}
