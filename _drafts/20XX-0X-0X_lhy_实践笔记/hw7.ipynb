{
 "cells": [
  {
   "cell_type": "markdown",
   "id": "318b72b9-0e7d-4874-8d1c-aa15eeff05c3",
   "metadata": {},
   "source": [
    "Todo\n",
    "\n",
    "Fine tune a pretrained chinese BERT model\n",
    "Change hyperparameters (e.g. doc_stride)\n",
    "Apply linear learning rate decay\n",
    "Try other pretrained models\n",
    "Improve preprocessing\n",
    "Improve postprocessing\n",
    "\n",
    "https://kozodoi.me/python/deep%20learning/pytorch/tutorial/2021/02/19/gradient-accumulation.html\n",
    "https://huggingface.co/docs/accelerate/index\n",
    "https://pytorch.org/blog/accelerating-training-on-nvidia-gpus-with-pytorch-automatic-mixed-precision/\n",
    "\n",
    "TODO  Error displaying widget: model not found\n"
   ]
  },
  {
   "cell_type": "code",
   "execution_count": null,
   "id": "ebcad2d3-8583-41e5-a0ac-9ab7e0309e10",
   "metadata": {},
   "outputs": [],
   "source": [
    "!nvidia-smi"
   ]
  },
  {
   "cell_type": "code",
   "execution_count": 4,
   "id": "17261a22-ea72-429d-b08f-f250be4be340",
   "metadata": {},
   "outputs": [
    {
     "name": "stdout",
     "output_type": "stream",
     "text": [
      "Requirement already satisfied: transformers==4.5.0 in /opt/conda/lib/python3.7/site-packages (4.5.0)\n",
      "Requirement already satisfied: regex!=2019.12.17 in /opt/conda/lib/python3.7/site-packages (from transformers==4.5.0) (2022.3.15)\n",
      "Requirement already satisfied: tqdm>=4.27 in /opt/conda/lib/python3.7/site-packages (from transformers==4.5.0) (4.39.0)\n",
      "Requirement already satisfied: numpy>=1.17 in /opt/conda/lib/python3.7/site-packages (from transformers==4.5.0) (1.17.0)\n",
      "Requirement already satisfied: requests in /opt/conda/lib/python3.7/site-packages (from transformers==4.5.0) (2.24.0)\n",
      "Requirement already satisfied: packaging in /opt/conda/lib/python3.7/site-packages (from transformers==4.5.0) (21.3)\n",
      "Requirement already satisfied: tokenizers<0.11,>=0.10.1 in /opt/conda/lib/python3.7/site-packages (from transformers==4.5.0) (0.10.3)\n",
      "Requirement already satisfied: filelock in /opt/conda/lib/python3.7/site-packages (from transformers==4.5.0) (3.0.12)\n",
      "Requirement already satisfied: sacremoses in /opt/conda/lib/python3.7/site-packages (from transformers==4.5.0) (0.0.49)\n",
      "Requirement already satisfied: importlib-metadata in /opt/conda/lib/python3.7/site-packages (from transformers==4.5.0) (4.10.0)\n",
      "Requirement already satisfied: zipp>=0.5 in /opt/conda/lib/python3.7/site-packages (from importlib-metadata->transformers==4.5.0) (3.6.0)\n",
      "Requirement already satisfied: typing-extensions>=3.6.4 in /opt/conda/lib/python3.7/site-packages (from importlib-metadata->transformers==4.5.0) (3.7.4.3)\n",
      "Requirement already satisfied: pyparsing!=3.0.5,>=2.0.2 in /opt/conda/lib/python3.7/site-packages (from packaging->transformers==4.5.0) (3.0.6)\n",
      "Requirement already satisfied: certifi>=2017.4.17 in /opt/conda/lib/python3.7/site-packages (from requests->transformers==4.5.0) (2021.5.30)\n",
      "Requirement already satisfied: urllib3!=1.25.0,!=1.25.1,<1.26,>=1.21.1 in /opt/conda/lib/python3.7/site-packages (from requests->transformers==4.5.0) (1.25.11)\n",
      "Requirement already satisfied: chardet<4,>=3.0.2 in /opt/conda/lib/python3.7/site-packages (from requests->transformers==4.5.0) (3.0.4)\n",
      "Requirement already satisfied: idna<3,>=2.5 in /opt/conda/lib/python3.7/site-packages (from requests->transformers==4.5.0) (2.10)\n",
      "Requirement already satisfied: six in /opt/conda/lib/python3.7/site-packages (from sacremoses->transformers==4.5.0) (1.15.0)\n",
      "Requirement already satisfied: joblib in /opt/conda/lib/python3.7/site-packages (from sacremoses->transformers==4.5.0) (1.1.0)\n",
      "Requirement already satisfied: click in /opt/conda/lib/python3.7/site-packages (from sacremoses->transformers==4.5.0) (8.0.3)\n",
      "\u001b[33mWARNING: Running pip as the 'root' user can result in broken permissions and conflicting behaviour with the system package manager. It is recommended to use a virtual environment instead: https://pip.pypa.io/warnings/venv\u001b[0m\u001b[33m\n",
      "\u001b[0m"
     ]
    }
   ],
   "source": [
    "# You are allowed to change version of transformers or use other toolkits\n",
    "!pip install transformers==4.5.0"
   ]
  },
  {
   "cell_type": "code",
   "execution_count": 5,
   "id": "d0fcb377-4ad9-479c-8d49-b40608f6784e",
   "metadata": {},
   "outputs": [],
   "source": [
    "import json\n",
    "import numpy as np\n",
    "import random\n",
    "import torch\n",
    "from torch.utils.data import DataLoader, Dataset \n",
    "from transformers import AdamW, BertForQuestionAnswering, BertTokenizerFast\n",
    "\n",
    "from tqdm.auto import tqdm\n",
    "\n",
    "# device = \"cuda\" if torch.cuda.is_available() else \"cpu\"\n",
    "i=6\n",
    "device =torch.device(f'cuda:{i}')\n",
    "# Fix random seed for reproducibility\n",
    "def same_seeds(seed):\n",
    "\t  torch.manual_seed(seed)\n",
    "\t  if torch.cuda.is_available():\n",
    "\t\t    torch.cuda.manual_seed(seed)\n",
    "\t\t    torch.cuda.manual_seed_all(seed)\n",
    "\t  np.random.seed(seed)\n",
    "\t  random.seed(seed)\n",
    "\t  torch.backends.cudnn.benchmark = False\n",
    "\t  torch.backends.cudnn.deterministic = True\n",
    "same_seeds(0)"
   ]
  },
  {
   "cell_type": "code",
   "execution_count": null,
   "id": "882133fc-e2b9-4d7b-a4d5-26b57da4a05e",
   "metadata": {},
   "outputs": [],
   "source": []
  },
  {
   "cell_type": "code",
   "execution_count": 6,
   "id": "787368f0-c1b0-4e75-847e-a583e82536b6",
   "metadata": {},
   "outputs": [
    {
     "name": "stdout",
     "output_type": "stream",
     "text": [
      "Requirement already satisfied: pip in /opt/conda/lib/python3.7/site-packages (22.0.4)\n",
      "\u001b[33mWARNING: Running pip as the 'root' user can result in broken permissions and conflicting behaviour with the system package manager. It is recommended to use a virtual environment instead: https://pip.pypa.io/warnings/venv\u001b[0m\u001b[33m\n",
      "\u001b[0mRequirement already satisfied: accelerate==0.2.0 in /opt/conda/lib/python3.7/site-packages (0.2.0)\n",
      "Requirement already satisfied: pyaml>=20.4.0 in /opt/conda/lib/python3.7/site-packages (from accelerate==0.2.0) (21.10.1)\n",
      "Requirement already satisfied: torch>=1.4.0 in /opt/conda/lib/python3.7/site-packages (from accelerate==0.2.0) (1.8.1)\n",
      "Requirement already satisfied: PyYAML in /opt/conda/lib/python3.7/site-packages (from pyaml>=20.4.0->accelerate==0.2.0) (5.4.1)\n",
      "Requirement already satisfied: typing_extensions in /opt/conda/lib/python3.7/site-packages (from torch>=1.4.0->accelerate==0.2.0) (3.7.4.3)\n",
      "Requirement already satisfied: numpy in /opt/conda/lib/python3.7/site-packages (from torch>=1.4.0->accelerate==0.2.0) (1.17.0)\n",
      "\u001b[33mWARNING: Running pip as the 'root' user can result in broken permissions and conflicting behaviour with the system package manager. It is recommended to use a virtual environment instead: https://pip.pypa.io/warnings/venv\u001b[0m\u001b[33m\n",
      "\u001b[0m"
     ]
    }
   ],
   "source": [
    "!pip install --upgrade pip\n",
    "!pip install accelerate==0.2.0"
   ]
  },
  {
   "cell_type": "code",
   "execution_count": 7,
   "id": "293d6046-0293-48bb-9f7e-49f293099642",
   "metadata": {},
   "outputs": [
    {
     "name": "stdout",
     "output_type": "stream",
     "text": [
      "Requirement already satisfied: accelerate in /opt/conda/lib/python3.7/site-packages (0.2.0)\n",
      "Requirement already satisfied: pyaml>=20.4.0 in /opt/conda/lib/python3.7/site-packages (from accelerate) (21.10.1)\n",
      "Requirement already satisfied: torch>=1.4.0 in /opt/conda/lib/python3.7/site-packages (from accelerate) (1.8.1)\n",
      "Requirement already satisfied: PyYAML in /opt/conda/lib/python3.7/site-packages (from pyaml>=20.4.0->accelerate) (5.4.1)\n",
      "Requirement already satisfied: typing_extensions in /opt/conda/lib/python3.7/site-packages (from torch>=1.4.0->accelerate) (3.7.4.3)\n",
      "Requirement already satisfied: numpy in /opt/conda/lib/python3.7/site-packages (from torch>=1.4.0->accelerate) (1.17.0)\n",
      "\u001b[33mWARNING: Running pip as the 'root' user can result in broken permissions and conflicting behaviour with the system package manager. It is recommended to use a virtual environment instead: https://pip.pypa.io/warnings/venv\u001b[0m\u001b[33m\n",
      "\u001b[0m"
     ]
    }
   ],
   "source": [
    "\n",
    "!pip install accelerate"
   ]
  },
  {
   "cell_type": "code",
   "execution_count": 8,
   "id": "9468db81-20f0-4ae5-9236-15e7462ad540",
   "metadata": {},
   "outputs": [],
   "source": [
    "from accelerate import Accelerator"
   ]
  },
  {
   "cell_type": "code",
   "execution_count": 9,
   "id": "58058ee7-309e-42dd-9c94-f820c5ae9618",
   "metadata": {},
   "outputs": [],
   "source": [
    "# Change \"fp16_training\" to True to support automatic mixed precision training (fp16)\t\n",
    "fp16_training = True\n",
    "\n",
    "if fp16_training:\n",
    "    \n",
    "    \n",
    "    accelerator = Accelerator(fp16=True)\n",
    "    device = accelerator.device\n",
    "\n",
    "# Documentation for the toolkit:  https://huggingface.co/docs/accelerate/"
   ]
  },
  {
   "cell_type": "code",
   "execution_count": 10,
   "id": "9b9ee8e6-04d2-4ca2-bf7b-27fd289bbc61",
   "metadata": {},
   "outputs": [
    {
     "name": "stderr",
     "output_type": "stream",
     "text": [
      "Some weights of the model checkpoint at bert-base-chinese were not used when initializing BertForQuestionAnswering: ['cls.seq_relationship.weight', 'cls.predictions.transform.dense.weight', 'cls.predictions.transform.LayerNorm.bias', 'cls.predictions.transform.LayerNorm.weight', 'cls.predictions.bias', 'cls.predictions.decoder.weight', 'cls.seq_relationship.bias', 'cls.predictions.transform.dense.bias']\n",
      "- This IS expected if you are initializing BertForQuestionAnswering from the checkpoint of a model trained on another task or with another architecture (e.g. initializing a BertForSequenceClassification model from a BertForPreTraining model).\n",
      "- This IS NOT expected if you are initializing BertForQuestionAnswering from the checkpoint of a model that you expect to be exactly identical (initializing a BertForSequenceClassification model from a BertForSequenceClassification model).\n",
      "Some weights of BertForQuestionAnswering were not initialized from the model checkpoint at bert-base-chinese and are newly initialized: ['qa_outputs.weight', 'qa_outputs.bias']\n",
      "You should probably TRAIN this model on a down-stream task to be able to use it for predictions and inference.\n"
     ]
    }
   ],
   "source": [
    "model = BertForQuestionAnswering.from_pretrained(\"bert-base-chinese\").to(device)\n",
    "tokenizer = BertTokenizerFast.from_pretrained(\"bert-base-chinese\")\n",
    "\n",
    "# You can safely ignore the warning message (it pops up because new prediction heads for QA are initialized randomly)"
   ]
  },
  {
   "cell_type": "code",
   "execution_count": 11,
   "id": "6203362a-a3da-4c7c-b83e-d88150f55822",
   "metadata": {},
   "outputs": [],
   "source": [
    "import os\n",
    "def read_data(file):\n",
    "    with open(file, 'r', encoding=\"utf-8\") as reader:\n",
    "        data = json.load(reader)\n",
    "    return data[\"questions\"], data[\"paragraphs\"]\n",
    "root=r\"/home/jovyan/homework/dataset/hw7\"\n",
    "train_questions, train_paragraphs = read_data(os.path.join(root,\"hw7_train.json\"))\n",
    "dev_questions, dev_paragraphs = read_data(os.path.join(root,\"hw7_dev.json\"))\n",
    "test_questions, test_paragraphs = read_data(os.path.join(root,\"hw7_test.json\"))"
   ]
  },
  {
   "cell_type": "code",
   "execution_count": 12,
   "id": "f67c6465-865c-4d0e-be14-6bd67b9403d9",
   "metadata": {},
   "outputs": [
    {
     "name": "stderr",
     "output_type": "stream",
     "text": [
      "Token indices sequence length is longer than the specified maximum sequence length for this model (570 > 512). Running this sequence through the model will result in indexing errors\n"
     ]
    }
   ],
   "source": [
    "# Tokenize questions and paragraphs separately\n",
    "# 「add_special_tokens」 is set to False since special tokens will be added when tokenized questions and paragraphs are combined in datset __getitem__ \n",
    "\n",
    "train_questions_tokenized = tokenizer([train_question[\"question_text\"] for train_question in train_questions], add_special_tokens=False)\n",
    "dev_questions_tokenized = tokenizer([dev_question[\"question_text\"] for dev_question in dev_questions], add_special_tokens=False)\n",
    "test_questions_tokenized = tokenizer([test_question[\"question_text\"] for test_question in test_questions], add_special_tokens=False) \n",
    "\n",
    "train_paragraphs_tokenized = tokenizer(train_paragraphs, add_special_tokens=False)\n",
    "dev_paragraphs_tokenized = tokenizer(dev_paragraphs, add_special_tokens=False)\n",
    "test_paragraphs_tokenized = tokenizer(test_paragraphs, add_special_tokens=False)\n",
    "\n",
    "# You can safely ignore the warning message as tokenized sequences will be futher processed in datset __getitem__ before passing to model"
   ]
  },
  {
   "cell_type": "code",
   "execution_count": 13,
   "id": "318e7e11-aa3f-4d78-aa9e-ac92c692a531",
   "metadata": {},
   "outputs": [],
   "source": [
    "class QA_Dataset(Dataset):\n",
    "    def __init__(self, split, questions, tokenized_questions, tokenized_paragraphs):\n",
    "        self.split = split\n",
    "        self.questions = questions\n",
    "        self.tokenized_questions = tokenized_questions\n",
    "        self.tokenized_paragraphs = tokenized_paragraphs\n",
    "        self.max_question_len = 40\n",
    "        self.max_paragraph_len = 150\n",
    "        \n",
    "        ##### TODO: Change value of doc_stride #####\n",
    "        self.doc_stride = 150\n",
    "\n",
    "        # Input sequence length = [CLS] + question + [SEP] + paragraph + [SEP]\n",
    "        self.max_seq_len = 1 + self.max_question_len + 1 + self.max_paragraph_len + 1\n",
    "\n",
    "    def __len__(self):\n",
    "        return len(self.questions)\n",
    "\n",
    "    def __getitem__(self, idx):\n",
    "        question = self.questions[idx]\n",
    "        tokenized_question = self.tokenized_questions[idx]\n",
    "        tokenized_paragraph = self.tokenized_paragraphs[question[\"paragraph_id\"]]\n",
    "\n",
    "        ##### TODO: Preprocessing #####\n",
    "        # Hint: How to prevent model from learning something it should not learn\n",
    "\n",
    "        if self.split == \"train\":\n",
    "            # Convert answer's start/end positions in paragraph_text to start/end positions in tokenized_paragraph  \n",
    "            answer_start_token = tokenized_paragraph.char_to_token(question[\"answer_start\"])\n",
    "            answer_end_token = tokenized_paragraph.char_to_token(question[\"answer_end\"])\n",
    "\n",
    "            # A single window is obtained by slicing the portion of paragraph containing the answer\n",
    "            mid = (answer_start_token + answer_end_token) // 2\n",
    "            paragraph_start = max(0, min(mid - self.max_paragraph_len // 2, len(tokenized_paragraph) - self.max_paragraph_len))\n",
    "            paragraph_end = paragraph_start + self.max_paragraph_len\n",
    "            \n",
    "            # Slice question/paragraph and add special tokens (101: CLS, 102: SEP)\n",
    "            input_ids_question = [101] + tokenized_question.ids[:self.max_question_len] + [102] \n",
    "            input_ids_paragraph = tokenized_paragraph.ids[paragraph_start : paragraph_end] + [102]\t\t\n",
    "            \n",
    "            # Convert answer's start/end positions in tokenized_paragraph to start/end positions in the window  \n",
    "            answer_start_token += len(input_ids_question) - paragraph_start\n",
    "            answer_end_token += len(input_ids_question) - paragraph_start\n",
    "            \n",
    "            # Pad sequence and obtain inputs to model \n",
    "            input_ids, token_type_ids, attention_mask = self.padding(input_ids_question, input_ids_paragraph)\n",
    "            return torch.tensor(input_ids), torch.tensor(token_type_ids), torch.tensor(attention_mask), answer_start_token, answer_end_token\n",
    "\n",
    "        # Validation/Testing\n",
    "        else:\n",
    "            input_ids_list, token_type_ids_list, attention_mask_list = [], [], []\n",
    "            \n",
    "            # Paragraph is split into several windows, each with start positions separated by step \"doc_stride\"\n",
    "            for i in range(0, len(tokenized_paragraph), self.doc_stride):\n",
    "                \n",
    "                # Slice question/paragraph and add special tokens (101: CLS, 102: SEP)\n",
    "                input_ids_question = [101] + tokenized_question.ids[:self.max_question_len] + [102]\n",
    "                input_ids_paragraph = tokenized_paragraph.ids[i : i + self.max_paragraph_len] + [102]\n",
    "                \n",
    "                # Pad sequence and obtain inputs to model\n",
    "                input_ids, token_type_ids, attention_mask = self.padding(input_ids_question, input_ids_paragraph)\n",
    "                \n",
    "                input_ids_list.append(input_ids)\n",
    "                token_type_ids_list.append(token_type_ids)\n",
    "                attention_mask_list.append(attention_mask)\n",
    "            \n",
    "            return torch.tensor(input_ids_list), torch.tensor(token_type_ids_list), torch.tensor(attention_mask_list)\n",
    "\n",
    "    def padding(self, input_ids_question, input_ids_paragraph):\n",
    "        # Pad zeros if sequence length is shorter than max_seq_len\n",
    "        padding_len = self.max_seq_len - len(input_ids_question) - len(input_ids_paragraph)\n",
    "        # Indices of input sequence tokens in the vocabulary\n",
    "        input_ids = input_ids_question + input_ids_paragraph + [0] * padding_len\n",
    "        # Segment token indices to indicate first and second portions of the inputs. Indices are selected in [0, 1]\n",
    "        token_type_ids = [0] * len(input_ids_question) + [1] * len(input_ids_paragraph) + [0] * padding_len\n",
    "        # Mask to avoid performing attention on padding token indices. Mask values selected in [0, 1]\n",
    "        attention_mask = [1] * (len(input_ids_question) + len(input_ids_paragraph)) + [0] * padding_len\n",
    "        \n",
    "        return input_ids, token_type_ids, attention_mask\n",
    "\n",
    "train_set = QA_Dataset(\"train\", train_questions, train_questions_tokenized, train_paragraphs_tokenized)\n",
    "dev_set = QA_Dataset(\"dev\", dev_questions, dev_questions_tokenized, dev_paragraphs_tokenized)\n",
    "test_set = QA_Dataset(\"test\", test_questions, test_questions_tokenized, test_paragraphs_tokenized)\n",
    "\n",
    "train_batch_size = 32\n",
    "\n",
    "# Note: Do NOT change batch size of dev_loader / test_loader !\n",
    "# Although batch size=1, it is actually a batch consisting of several windows from the same QA pair\n",
    "train_loader = DataLoader(train_set, batch_size=train_batch_size, shuffle=True, pin_memory=True)\n",
    "dev_loader = DataLoader(dev_set, batch_size=1, shuffle=False, pin_memory=True)\n",
    "test_loader = DataLoader(test_set, batch_size=1, shuffle=False, pin_memory=True)"
   ]
  },
  {
   "cell_type": "code",
   "execution_count": 14,
   "id": "b6ba2007-1904-4e43-8e9f-c5df781b0a02",
   "metadata": {},
   "outputs": [],
   "source": [
    "def evaluate(data, output):\n",
    "    ##### TODO: Postprocessing #####\n",
    "    # There is a bug and room for improvement in postprocessing \n",
    "    # Hint: Open your prediction file to see what is wrong \n",
    "    \n",
    "    answer = ''\n",
    "    max_prob = float('-inf')\n",
    "    num_of_windows = data[0].shape[1]\n",
    "    \n",
    "    for k in range(num_of_windows):\n",
    "        # Obtain answer by choosing the most probable start position / end position\n",
    "        start_prob, start_index = torch.max(output.start_logits[k], dim=0)\n",
    "        end_prob, end_index = torch.max(output.end_logits[k], dim=0)\n",
    "        \n",
    "        # Probability of answer is calculated as sum of start_prob and end_prob\n",
    "        prob = start_prob + end_prob\n",
    "        \n",
    "        # Replace answer if calculated probability is larger than previous windows\n",
    "        if prob > max_prob:\n",
    "            max_prob = prob\n",
    "            # Convert tokens to chars (e.g. [1920, 7032] --> \"大 金\")\n",
    "            answer = tokenizer.decode(data[0][0][k][start_index : end_index + 1])\n",
    "    \n",
    "    # Remove spaces in answer (e.g. \"大 金\" --> \"大金\")\n",
    "    return answer.replace(' ','')"
   ]
  },
  {
   "cell_type": "code",
   "execution_count": 15,
   "id": "a8d8ea46-cef5-448f-8643-8e800225669f",
   "metadata": {},
   "outputs": [
    {
     "name": "stdout",
     "output_type": "stream",
     "text": [
      "Start Training ...\n"
     ]
    },
    {
     "data": {
      "application/vnd.jupyter.widget-view+json": {
       "model_id": "830b177b71c24ec1a050bf86adf88f12",
       "version_major": 2,
       "version_minor": 0
      },
      "text/plain": [
       "  0%|          | 0/991 [00:00<?, ?it/s]"
      ]
     },
     "metadata": {},
     "output_type": "display_data"
    },
    {
     "name": "stdout",
     "output_type": "stream",
     "text": [
      "Epoch 1 | Step 100 | loss = 1.674, acc = 0.437\n",
      "Epoch 1 | Step 200 | loss = 0.846, acc = 0.656\n",
      "Epoch 1 | Step 300 | loss = 0.713, acc = 0.711\n",
      "Epoch 1 | Step 400 | loss = 0.680, acc = 0.713\n",
      "Epoch 1 | Step 500 | loss = 0.714, acc = 0.711\n",
      "Epoch 1 | Step 600 | loss = 0.636, acc = 0.738\n",
      "Epoch 1 | Step 700 | loss = 0.556, acc = 0.761\n",
      "Epoch 1 | Step 800 | loss = 0.595, acc = 0.746\n",
      "Epoch 1 | Step 900 | loss = 0.608, acc = 0.741\n",
      "Evaluating Dev Set ...\n"
     ]
    },
    {
     "data": {
      "application/vnd.jupyter.widget-view+json": {
       "model_id": "1a8d1bfddf7648c7b232ae213b8addcf",
       "version_major": 2,
       "version_minor": 0
      },
      "text/plain": [
       "  0%|          | 0/4131 [00:00<?, ?it/s]"
      ]
     },
     "metadata": {},
     "output_type": "display_data"
    },
    {
     "name": "stdout",
     "output_type": "stream",
     "text": [
      "Validation | Epoch 1 | acc = 0.421\n"
     ]
    },
    {
     "data": {
      "application/vnd.jupyter.widget-view+json": {
       "model_id": "e01ce3fdab7f40dab9a95ad08575386b",
       "version_major": 2,
       "version_minor": 0
      },
      "text/plain": [
       "  0%|          | 0/991 [00:00<?, ?it/s]"
      ]
     },
     "metadata": {},
     "output_type": "display_data"
    },
    {
     "name": "stdout",
     "output_type": "stream",
     "text": [
      "Epoch 2 | Step 100 | loss = 0.340, acc = 0.822\n",
      "Epoch 2 | Step 200 | loss = 0.343, acc = 0.842\n",
      "Epoch 2 | Step 300 | loss = 0.355, acc = 0.834\n",
      "Epoch 2 | Step 400 | loss = 0.363, acc = 0.825\n",
      "Epoch 2 | Step 500 | loss = 0.406, acc = 0.809\n",
      "Epoch 2 | Step 600 | loss = 0.402, acc = 0.812\n",
      "Epoch 2 | Step 700 | loss = 0.394, acc = 0.821\n",
      "Epoch 2 | Step 800 | loss = 0.397, acc = 0.817\n",
      "Epoch 2 | Step 900 | loss = 0.389, acc = 0.829\n",
      "Evaluating Dev Set ...\n"
     ]
    },
    {
     "data": {
      "application/vnd.jupyter.widget-view+json": {
       "model_id": "0ea85e19f30e4fa194dd41906c6598ec",
       "version_major": 2,
       "version_minor": 0
      },
      "text/plain": [
       "  0%|          | 0/4131 [00:00<?, ?it/s]"
      ]
     },
     "metadata": {},
     "output_type": "display_data"
    },
    {
     "name": "stdout",
     "output_type": "stream",
     "text": [
      "Validation | Epoch 2 | acc = 0.485\n"
     ]
    },
    {
     "data": {
      "application/vnd.jupyter.widget-view+json": {
       "model_id": "350f66499a254300900f1e087ecf7e85",
       "version_major": 2,
       "version_minor": 0
      },
      "text/plain": [
       "  0%|          | 0/991 [00:00<?, ?it/s]"
      ]
     },
     "metadata": {},
     "output_type": "display_data"
    },
    {
     "name": "stdout",
     "output_type": "stream",
     "text": [
      "Epoch 3 | Step 100 | loss = 0.227, acc = 0.876\n",
      "Epoch 3 | Step 200 | loss = 0.236, acc = 0.879\n",
      "Epoch 3 | Step 300 | loss = 0.244, acc = 0.882\n",
      "Epoch 3 | Step 400 | loss = 0.269, acc = 0.862\n",
      "Epoch 3 | Step 500 | loss = 0.278, acc = 0.862\n",
      "Epoch 3 | Step 600 | loss = 0.284, acc = 0.867\n",
      "Epoch 3 | Step 700 | loss = 0.281, acc = 0.860\n",
      "Epoch 3 | Step 800 | loss = 0.285, acc = 0.859\n",
      "Epoch 3 | Step 900 | loss = 0.290, acc = 0.861\n",
      "Evaluating Dev Set ...\n"
     ]
    },
    {
     "data": {
      "application/vnd.jupyter.widget-view+json": {
       "model_id": "f253272e08a440e9b7b33742f4e71fb1",
       "version_major": 2,
       "version_minor": 0
      },
      "text/plain": [
       "  0%|          | 0/4131 [00:00<?, ?it/s]"
      ]
     },
     "metadata": {},
     "output_type": "display_data"
    },
    {
     "name": "stdout",
     "output_type": "stream",
     "text": [
      "Validation | Epoch 3 | acc = 0.451\n"
     ]
    },
    {
     "data": {
      "application/vnd.jupyter.widget-view+json": {
       "model_id": "0243444ef3cb403299acba3be5ac9dfd",
       "version_major": 2,
       "version_minor": 0
      },
      "text/plain": [
       "  0%|          | 0/991 [00:00<?, ?it/s]"
      ]
     },
     "metadata": {},
     "output_type": "display_data"
    },
    {
     "name": "stdout",
     "output_type": "stream",
     "text": [
      "Epoch 4 | Step 100 | loss = 0.190, acc = 0.889\n",
      "Epoch 4 | Step 200 | loss = 0.173, acc = 0.909\n",
      "Epoch 4 | Step 300 | loss = 0.203, acc = 0.898\n",
      "Epoch 4 | Step 400 | loss = 0.264, acc = 0.866\n",
      "Epoch 4 | Step 500 | loss = 0.225, acc = 0.889\n",
      "Epoch 4 | Step 600 | loss = 0.234, acc = 0.883\n",
      "Epoch 4 | Step 700 | loss = 0.233, acc = 0.881\n",
      "Epoch 4 | Step 800 | loss = 0.257, acc = 0.882\n",
      "Epoch 4 | Step 900 | loss = 0.251, acc = 0.875\n",
      "Evaluating Dev Set ...\n"
     ]
    },
    {
     "data": {
      "application/vnd.jupyter.widget-view+json": {
       "model_id": "ab474796fa67487d8a772d924fbb2e57",
       "version_major": 2,
       "version_minor": 0
      },
      "text/plain": [
       "  0%|          | 0/4131 [00:00<?, ?it/s]"
      ]
     },
     "metadata": {},
     "output_type": "display_data"
    },
    {
     "name": "stdout",
     "output_type": "stream",
     "text": [
      "Validation | Epoch 4 | acc = 0.426\n"
     ]
    },
    {
     "data": {
      "application/vnd.jupyter.widget-view+json": {
       "model_id": "d02590bab8ee478387abdf77930553ed",
       "version_major": 2,
       "version_minor": 0
      },
      "text/plain": [
       "  0%|          | 0/991 [00:00<?, ?it/s]"
      ]
     },
     "metadata": {},
     "output_type": "display_data"
    },
    {
     "name": "stdout",
     "output_type": "stream",
     "text": [
      "Epoch 5 | Step 100 | loss = 0.142, acc = 0.917\n",
      "Epoch 5 | Step 200 | loss = 0.128, acc = 0.934\n",
      "Epoch 5 | Step 300 | loss = 0.206, acc = 0.898\n",
      "Epoch 5 | Step 400 | loss = 0.200, acc = 0.902\n",
      "Epoch 5 | Step 500 | loss = 0.210, acc = 0.898\n",
      "Epoch 5 | Step 600 | loss = 0.184, acc = 0.912\n",
      "Epoch 5 | Step 700 | loss = 0.188, acc = 0.906\n",
      "Epoch 5 | Step 800 | loss = 0.213, acc = 0.889\n",
      "Epoch 5 | Step 900 | loss = 0.204, acc = 0.897\n",
      "Evaluating Dev Set ...\n"
     ]
    },
    {
     "data": {
      "application/vnd.jupyter.widget-view+json": {
       "model_id": "fe74fb2a02cf491687cc090db9279912",
       "version_major": 2,
       "version_minor": 0
      },
      "text/plain": [
       "  0%|          | 0/4131 [00:00<?, ?it/s]"
      ]
     },
     "metadata": {},
     "output_type": "display_data"
    },
    {
     "name": "stdout",
     "output_type": "stream",
     "text": [
      "Validation | Epoch 5 | acc = 0.502\n"
     ]
    },
    {
     "data": {
      "application/vnd.jupyter.widget-view+json": {
       "model_id": "f2c601650f114757a7c00d9b0e7f206f",
       "version_major": 2,
       "version_minor": 0
      },
      "text/plain": [
       "  0%|          | 0/991 [00:00<?, ?it/s]"
      ]
     },
     "metadata": {},
     "output_type": "display_data"
    },
    {
     "name": "stdout",
     "output_type": "stream",
     "text": [
      "Epoch 6 | Step 100 | loss = 0.135, acc = 0.917\n",
      "Epoch 6 | Step 200 | loss = 0.153, acc = 0.922\n",
      "Epoch 6 | Step 300 | loss = 0.149, acc = 0.932\n",
      "Epoch 6 | Step 400 | loss = 0.201, acc = 0.909\n",
      "Epoch 6 | Step 500 | loss = 0.170, acc = 0.913\n",
      "Epoch 6 | Step 600 | loss = 0.181, acc = 0.908\n",
      "Epoch 6 | Step 700 | loss = 0.174, acc = 0.912\n",
      "Epoch 6 | Step 800 | loss = 0.179, acc = 0.911\n",
      "Epoch 6 | Step 900 | loss = 0.185, acc = 0.906\n",
      "Evaluating Dev Set ...\n"
     ]
    },
    {
     "data": {
      "application/vnd.jupyter.widget-view+json": {
       "model_id": "0ed9a5218e0b4ef4b43c2b28d93671f2",
       "version_major": 2,
       "version_minor": 0
      },
      "text/plain": [
       "  0%|          | 0/4131 [00:00<?, ?it/s]"
      ]
     },
     "metadata": {},
     "output_type": "display_data"
    },
    {
     "name": "stdout",
     "output_type": "stream",
     "text": [
      "Validation | Epoch 6 | acc = 0.472\n"
     ]
    },
    {
     "data": {
      "application/vnd.jupyter.widget-view+json": {
       "model_id": "7e96ee41f85a46dab96e562aeeaa0292",
       "version_major": 2,
       "version_minor": 0
      },
      "text/plain": [
       "  0%|          | 0/991 [00:00<?, ?it/s]"
      ]
     },
     "metadata": {},
     "output_type": "display_data"
    },
    {
     "name": "stdout",
     "output_type": "stream",
     "text": [
      "Epoch 7 | Step 100 | loss = 0.114, acc = 0.933\n",
      "Epoch 7 | Step 200 | loss = 0.112, acc = 0.945\n",
      "Epoch 7 | Step 300 | loss = 0.118, acc = 0.942\n",
      "Epoch 7 | Step 400 | loss = 0.126, acc = 0.940\n",
      "Epoch 7 | Step 500 | loss = 0.179, acc = 0.911\n",
      "Epoch 7 | Step 600 | loss = 0.175, acc = 0.910\n",
      "Epoch 7 | Step 700 | loss = 0.174, acc = 0.903\n",
      "Epoch 7 | Step 800 | loss = 0.177, acc = 0.910\n",
      "Epoch 7 | Step 900 | loss = 0.165, acc = 0.919\n",
      "Evaluating Dev Set ...\n"
     ]
    },
    {
     "data": {
      "application/vnd.jupyter.widget-view+json": {
       "model_id": "1d02d9c6bcf74f45ae7ebcb897be4960",
       "version_major": 2,
       "version_minor": 0
      },
      "text/plain": [
       "  0%|          | 0/4131 [00:00<?, ?it/s]"
      ]
     },
     "metadata": {},
     "output_type": "display_data"
    },
    {
     "name": "stdout",
     "output_type": "stream",
     "text": [
      "Validation | Epoch 7 | acc = 0.467\n"
     ]
    },
    {
     "data": {
      "application/vnd.jupyter.widget-view+json": {
       "model_id": "d0208297ae044db8af84f5e810a77ffc",
       "version_major": 2,
       "version_minor": 0
      },
      "text/plain": [
       "  0%|          | 0/991 [00:00<?, ?it/s]"
      ]
     },
     "metadata": {},
     "output_type": "display_data"
    },
    {
     "name": "stdout",
     "output_type": "stream",
     "text": [
      "Epoch 8 | Step 100 | loss = 0.109, acc = 0.934\n",
      "Epoch 8 | Step 200 | loss = 0.152, acc = 0.926\n",
      "Epoch 8 | Step 300 | loss = 0.131, acc = 0.935\n",
      "Epoch 8 | Step 400 | loss = 0.249, acc = 0.890\n",
      "Epoch 8 | Step 500 | loss = 0.344, acc = 0.843\n",
      "Epoch 8 | Step 600 | loss = 0.343, acc = 0.844\n",
      "Epoch 8 | Step 700 | loss = 0.222, acc = 0.892\n",
      "Epoch 8 | Step 800 | loss = 0.189, acc = 0.910\n",
      "Epoch 8 | Step 900 | loss = 0.173, acc = 0.908\n",
      "Evaluating Dev Set ...\n"
     ]
    },
    {
     "data": {
      "application/vnd.jupyter.widget-view+json": {
       "model_id": "c99a4ede3187456b8ead5c463e5c4ac4",
       "version_major": 2,
       "version_minor": 0
      },
      "text/plain": [
       "  0%|          | 0/4131 [00:00<?, ?it/s]"
      ]
     },
     "metadata": {},
     "output_type": "display_data"
    },
    {
     "name": "stdout",
     "output_type": "stream",
     "text": [
      "Validation | Epoch 8 | acc = 0.468\n"
     ]
    },
    {
     "data": {
      "application/vnd.jupyter.widget-view+json": {
       "model_id": "827ac54eabf741a0af85cb32ce73d25e",
       "version_major": 2,
       "version_minor": 0
      },
      "text/plain": [
       "  0%|          | 0/991 [00:00<?, ?it/s]"
      ]
     },
     "metadata": {},
     "output_type": "display_data"
    },
    {
     "name": "stdout",
     "output_type": "stream",
     "text": [
      "Epoch 9 | Step 100 | loss = 0.094, acc = 0.943\n",
      "Epoch 9 | Step 200 | loss = 0.168, acc = 0.924\n",
      "Epoch 9 | Step 300 | loss = 0.129, acc = 0.936\n",
      "Epoch 9 | Step 400 | loss = 0.139, acc = 0.929\n",
      "Epoch 9 | Step 500 | loss = 0.320, acc = 0.870\n",
      "Epoch 9 | Step 600 | loss = 0.210, acc = 0.900\n",
      "Epoch 9 | Step 700 | loss = 0.191, acc = 0.913\n",
      "Epoch 9 | Step 800 | loss = 0.160, acc = 0.923\n",
      "Epoch 9 | Step 900 | loss = 0.143, acc = 0.923\n",
      "Evaluating Dev Set ...\n"
     ]
    },
    {
     "data": {
      "application/vnd.jupyter.widget-view+json": {
       "model_id": "36e0ee9b4da2435eb6735ef6a1d851d9",
       "version_major": 2,
       "version_minor": 0
      },
      "text/plain": [
       "  0%|          | 0/4131 [00:00<?, ?it/s]"
      ]
     },
     "metadata": {},
     "output_type": "display_data"
    },
    {
     "name": "stdout",
     "output_type": "stream",
     "text": [
      "Validation | Epoch 9 | acc = 0.435\n"
     ]
    },
    {
     "data": {
      "application/vnd.jupyter.widget-view+json": {
       "model_id": "d66a3840a9c144f4908febbbfd919ab8",
       "version_major": 2,
       "version_minor": 0
      },
      "text/plain": [
       "  0%|          | 0/991 [00:00<?, ?it/s]"
      ]
     },
     "metadata": {},
     "output_type": "display_data"
    },
    {
     "name": "stdout",
     "output_type": "stream",
     "text": [
      "Epoch 10 | Step 100 | loss = 0.118, acc = 0.932\n",
      "Epoch 10 | Step 200 | loss = 0.091, acc = 0.951\n",
      "Epoch 10 | Step 300 | loss = 0.105, acc = 0.944\n",
      "Epoch 10 | Step 400 | loss = 0.094, acc = 0.952\n",
      "Epoch 10 | Step 500 | loss = 0.108, acc = 0.940\n",
      "Epoch 10 | Step 600 | loss = 0.100, acc = 0.949\n",
      "Epoch 10 | Step 700 | loss = 0.113, acc = 0.942\n",
      "Epoch 10 | Step 800 | loss = 0.114, acc = 0.942\n",
      "Epoch 10 | Step 900 | loss = 0.099, acc = 0.951\n",
      "Evaluating Dev Set ...\n"
     ]
    },
    {
     "data": {
      "application/vnd.jupyter.widget-view+json": {
       "model_id": "574d974c5e9d4824a621bf3a9ef4937f",
       "version_major": 2,
       "version_minor": 0
      },
      "text/plain": [
       "  0%|          | 0/4131 [00:00<?, ?it/s]"
      ]
     },
     "metadata": {},
     "output_type": "display_data"
    },
    {
     "name": "stdout",
     "output_type": "stream",
     "text": [
      "Validation | Epoch 10 | acc = 0.492\n"
     ]
    },
    {
     "data": {
      "application/vnd.jupyter.widget-view+json": {
       "model_id": "43731b941d8546cd93c87f33d835e532",
       "version_major": 2,
       "version_minor": 0
      },
      "text/plain": [
       "  0%|          | 0/991 [00:00<?, ?it/s]"
      ]
     },
     "metadata": {},
     "output_type": "display_data"
    },
    {
     "name": "stdout",
     "output_type": "stream",
     "text": [
      "Epoch 11 | Step 100 | loss = 0.088, acc = 0.945\n",
      "Epoch 11 | Step 200 | loss = 0.091, acc = 0.955\n",
      "Epoch 11 | Step 300 | loss = 0.090, acc = 0.952\n",
      "Epoch 11 | Step 400 | loss = 0.114, acc = 0.942\n",
      "Epoch 11 | Step 500 | loss = 0.127, acc = 0.942\n",
      "Epoch 11 | Step 600 | loss = 0.125, acc = 0.937\n",
      "Epoch 11 | Step 700 | loss = 0.131, acc = 0.938\n",
      "Epoch 11 | Step 800 | loss = 0.143, acc = 0.923\n",
      "Epoch 11 | Step 900 | loss = 0.122, acc = 0.940\n",
      "Evaluating Dev Set ...\n"
     ]
    },
    {
     "data": {
      "application/vnd.jupyter.widget-view+json": {
       "model_id": "cc78e35f07674f0fa7a9c98f4bfd0114",
       "version_major": 2,
       "version_minor": 0
      },
      "text/plain": [
       "  0%|          | 0/4131 [00:00<?, ?it/s]"
      ]
     },
     "metadata": {},
     "output_type": "display_data"
    },
    {
     "name": "stdout",
     "output_type": "stream",
     "text": [
      "Validation | Epoch 11 | acc = 0.439\n"
     ]
    },
    {
     "data": {
      "application/vnd.jupyter.widget-view+json": {
       "model_id": "4f56b70819e84ba6a7b3c8f01e8be7dd",
       "version_major": 2,
       "version_minor": 0
      },
      "text/plain": [
       "  0%|          | 0/991 [00:00<?, ?it/s]"
      ]
     },
     "metadata": {},
     "output_type": "display_data"
    },
    {
     "name": "stdout",
     "output_type": "stream",
     "text": [
      "Epoch 12 | Step 100 | loss = 0.101, acc = 0.942\n",
      "Epoch 12 | Step 200 | loss = 0.090, acc = 0.957\n",
      "Epoch 12 | Step 300 | loss = 0.145, acc = 0.932\n",
      "Epoch 12 | Step 400 | loss = 0.181, acc = 0.914\n",
      "Epoch 12 | Step 500 | loss = 0.270, acc = 0.892\n",
      "Epoch 12 | Step 600 | loss = 0.165, acc = 0.921\n",
      "Epoch 12 | Step 700 | loss = 0.151, acc = 0.925\n",
      "Epoch 12 | Step 800 | loss = 0.131, acc = 0.937\n",
      "Epoch 12 | Step 900 | loss = 0.146, acc = 0.934\n",
      "Evaluating Dev Set ...\n"
     ]
    },
    {
     "data": {
      "application/vnd.jupyter.widget-view+json": {
       "model_id": "395a0eda62d34c6e8581e14cea343ed8",
       "version_major": 2,
       "version_minor": 0
      },
      "text/plain": [
       "  0%|          | 0/4131 [00:00<?, ?it/s]"
      ]
     },
     "metadata": {},
     "output_type": "display_data"
    },
    {
     "name": "stdout",
     "output_type": "stream",
     "text": [
      "Validation | Epoch 12 | acc = 0.478\n"
     ]
    },
    {
     "data": {
      "application/vnd.jupyter.widget-view+json": {
       "model_id": "eb5acf68d04a4384b643d0008752e7b6",
       "version_major": 2,
       "version_minor": 0
      },
      "text/plain": [
       "  0%|          | 0/991 [00:00<?, ?it/s]"
      ]
     },
     "metadata": {},
     "output_type": "display_data"
    },
    {
     "name": "stdout",
     "output_type": "stream",
     "text": [
      "Epoch 13 | Step 100 | loss = 0.112, acc = 0.938\n",
      "Epoch 13 | Step 200 | loss = 0.084, acc = 0.958\n",
      "Epoch 13 | Step 300 | loss = 0.121, acc = 0.943\n",
      "Epoch 13 | Step 400 | loss = 0.102, acc = 0.951\n",
      "Epoch 13 | Step 500 | loss = 0.103, acc = 0.948\n",
      "Epoch 13 | Step 600 | loss = 0.106, acc = 0.949\n",
      "Epoch 13 | Step 700 | loss = 0.113, acc = 0.948\n",
      "Epoch 13 | Step 800 | loss = 0.143, acc = 0.933\n",
      "Epoch 13 | Step 900 | loss = 0.124, acc = 0.942\n",
      "Evaluating Dev Set ...\n"
     ]
    },
    {
     "data": {
      "application/vnd.jupyter.widget-view+json": {
       "model_id": "191f16f02a724ab7963d870bfef913ec",
       "version_major": 2,
       "version_minor": 0
      },
      "text/plain": [
       "  0%|          | 0/4131 [00:00<?, ?it/s]"
      ]
     },
     "metadata": {},
     "output_type": "display_data"
    },
    {
     "name": "stdout",
     "output_type": "stream",
     "text": [
      "Validation | Epoch 13 | acc = 0.419\n"
     ]
    },
    {
     "data": {
      "application/vnd.jupyter.widget-view+json": {
       "model_id": "e59e47ec9abe4c6f8096dfe580cbfa9d",
       "version_major": 2,
       "version_minor": 0
      },
      "text/plain": [
       "  0%|          | 0/991 [00:00<?, ?it/s]"
      ]
     },
     "metadata": {},
     "output_type": "display_data"
    },
    {
     "name": "stdout",
     "output_type": "stream",
     "text": [
      "Epoch 14 | Step 100 | loss = 0.099, acc = 0.945\n",
      "Epoch 14 | Step 200 | loss = 0.088, acc = 0.949\n",
      "Epoch 14 | Step 300 | loss = 0.097, acc = 0.953\n",
      "Epoch 14 | Step 400 | loss = 0.094, acc = 0.956\n",
      "Epoch 14 | Step 500 | loss = 0.109, acc = 0.949\n",
      "Epoch 14 | Step 600 | loss = 0.108, acc = 0.945\n",
      "Epoch 14 | Step 700 | loss = 0.114, acc = 0.941\n",
      "Epoch 14 | Step 800 | loss = 0.103, acc = 0.953\n",
      "Epoch 14 | Step 900 | loss = 0.113, acc = 0.941\n",
      "Evaluating Dev Set ...\n"
     ]
    },
    {
     "data": {
      "application/vnd.jupyter.widget-view+json": {
       "model_id": "86a04c351cc0476fbf4d5c4766f3ce23",
       "version_major": 2,
       "version_minor": 0
      },
      "text/plain": [
       "  0%|          | 0/4131 [00:00<?, ?it/s]"
      ]
     },
     "metadata": {},
     "output_type": "display_data"
    },
    {
     "name": "stdout",
     "output_type": "stream",
     "text": [
      "Validation | Epoch 14 | acc = 0.460\n"
     ]
    },
    {
     "data": {
      "application/vnd.jupyter.widget-view+json": {
       "model_id": "f31f6195ae1c4e38bdace8e517f5fd2d",
       "version_major": 2,
       "version_minor": 0
      },
      "text/plain": [
       "  0%|          | 0/991 [00:00<?, ?it/s]"
      ]
     },
     "metadata": {},
     "output_type": "display_data"
    },
    {
     "name": "stdout",
     "output_type": "stream",
     "text": [
      "Epoch 15 | Step 100 | loss = 0.059, acc = 0.959\n",
      "Epoch 15 | Step 200 | loss = 0.068, acc = 0.968\n",
      "Epoch 15 | Step 300 | loss = 0.078, acc = 0.955\n",
      "Epoch 15 | Step 400 | loss = 0.085, acc = 0.959\n",
      "Epoch 15 | Step 500 | loss = 0.096, acc = 0.951\n",
      "Epoch 15 | Step 600 | loss = 0.106, acc = 0.946\n",
      "Epoch 15 | Step 700 | loss = 0.166, acc = 0.926\n",
      "Epoch 15 | Step 800 | loss = 0.131, acc = 0.939\n",
      "Epoch 15 | Step 900 | loss = 0.125, acc = 0.938\n",
      "Evaluating Dev Set ...\n"
     ]
    },
    {
     "data": {
      "application/vnd.jupyter.widget-view+json": {
       "model_id": "9b1b69f030c94f9da54fd871db7e7875",
       "version_major": 2,
       "version_minor": 0
      },
      "text/plain": [
       "  0%|          | 0/4131 [00:00<?, ?it/s]"
      ]
     },
     "metadata": {},
     "output_type": "display_data"
    },
    {
     "name": "stdout",
     "output_type": "stream",
     "text": [
      "Validation | Epoch 15 | acc = 0.432\n"
     ]
    },
    {
     "data": {
      "application/vnd.jupyter.widget-view+json": {
       "model_id": "eaa24f31440e486c9f2a6dbf021b3de2",
       "version_major": 2,
       "version_minor": 0
      },
      "text/plain": [
       "  0%|          | 0/991 [00:00<?, ?it/s]"
      ]
     },
     "metadata": {},
     "output_type": "display_data"
    },
    {
     "name": "stdout",
     "output_type": "stream",
     "text": [
      "Epoch 16 | Step 100 | loss = 0.085, acc = 0.947\n",
      "Epoch 16 | Step 200 | loss = 0.089, acc = 0.954\n",
      "Epoch 16 | Step 300 | loss = 0.088, acc = 0.957\n",
      "Epoch 16 | Step 400 | loss = 0.088, acc = 0.951\n",
      "Epoch 16 | Step 500 | loss = 0.105, acc = 0.949\n",
      "Epoch 16 | Step 600 | loss = 0.116, acc = 0.945\n",
      "Epoch 16 | Step 700 | loss = 0.089, acc = 0.954\n",
      "Epoch 16 | Step 800 | loss = 0.096, acc = 0.951\n",
      "Epoch 16 | Step 900 | loss = 0.126, acc = 0.939\n",
      "Evaluating Dev Set ...\n"
     ]
    },
    {
     "data": {
      "application/vnd.jupyter.widget-view+json": {
       "model_id": "742bf19275a446acb8eb79da78b1c853",
       "version_major": 2,
       "version_minor": 0
      },
      "text/plain": [
       "  0%|          | 0/4131 [00:00<?, ?it/s]"
      ]
     },
     "metadata": {},
     "output_type": "display_data"
    },
    {
     "name": "stdout",
     "output_type": "stream",
     "text": [
      "Validation | Epoch 16 | acc = 0.425\n"
     ]
    },
    {
     "data": {
      "application/vnd.jupyter.widget-view+json": {
       "model_id": "471dc524bcb9404bb9d6846fc050828e",
       "version_major": 2,
       "version_minor": 0
      },
      "text/plain": [
       "  0%|          | 0/991 [00:00<?, ?it/s]"
      ]
     },
     "metadata": {},
     "output_type": "display_data"
    },
    {
     "name": "stdout",
     "output_type": "stream",
     "text": [
      "Epoch 17 | Step 100 | loss = 0.054, acc = 0.960\n",
      "Epoch 17 | Step 200 | loss = 0.068, acc = 0.966\n",
      "Epoch 17 | Step 300 | loss = 0.072, acc = 0.958\n",
      "Epoch 17 | Step 400 | loss = 0.075, acc = 0.961\n",
      "Epoch 17 | Step 500 | loss = 0.089, acc = 0.955\n",
      "Epoch 17 | Step 600 | loss = 0.094, acc = 0.951\n",
      "Epoch 17 | Step 700 | loss = 0.087, acc = 0.953\n",
      "Epoch 17 | Step 800 | loss = 0.107, acc = 0.949\n",
      "Epoch 17 | Step 900 | loss = 0.101, acc = 0.953\n",
      "Evaluating Dev Set ...\n"
     ]
    },
    {
     "data": {
      "application/vnd.jupyter.widget-view+json": {
       "model_id": "a3c70ac8530e43acaed8cd849c178f2c",
       "version_major": 2,
       "version_minor": 0
      },
      "text/plain": [
       "  0%|          | 0/4131 [00:00<?, ?it/s]"
      ]
     },
     "metadata": {},
     "output_type": "display_data"
    },
    {
     "name": "stdout",
     "output_type": "stream",
     "text": [
      "Validation | Epoch 17 | acc = 0.443\n"
     ]
    },
    {
     "data": {
      "application/vnd.jupyter.widget-view+json": {
       "model_id": "5043076cb51c4212a46c396a83aca4a2",
       "version_major": 2,
       "version_minor": 0
      },
      "text/plain": [
       "  0%|          | 0/991 [00:00<?, ?it/s]"
      ]
     },
     "metadata": {},
     "output_type": "display_data"
    },
    {
     "name": "stdout",
     "output_type": "stream",
     "text": [
      "Epoch 18 | Step 100 | loss = 0.085, acc = 0.952\n",
      "Epoch 18 | Step 200 | loss = 0.093, acc = 0.954\n",
      "Epoch 18 | Step 300 | loss = 0.091, acc = 0.957\n",
      "Epoch 18 | Step 400 | loss = 0.085, acc = 0.957\n",
      "Epoch 18 | Step 500 | loss = 0.109, acc = 0.950\n",
      "Epoch 18 | Step 600 | loss = 0.096, acc = 0.956\n",
      "Epoch 18 | Step 700 | loss = 0.099, acc = 0.952\n",
      "Epoch 18 | Step 800 | loss = 0.104, acc = 0.948\n",
      "Epoch 18 | Step 900 | loss = 0.093, acc = 0.957\n",
      "Evaluating Dev Set ...\n"
     ]
    },
    {
     "data": {
      "application/vnd.jupyter.widget-view+json": {
       "model_id": "201585b2691c465db8bf2497e14e7e28",
       "version_major": 2,
       "version_minor": 0
      },
      "text/plain": [
       "  0%|          | 0/4131 [00:00<?, ?it/s]"
      ]
     },
     "metadata": {},
     "output_type": "display_data"
    },
    {
     "name": "stdout",
     "output_type": "stream",
     "text": [
      "Validation | Epoch 18 | acc = 0.429\n"
     ]
    },
    {
     "data": {
      "application/vnd.jupyter.widget-view+json": {
       "model_id": "9c45e3c6a11c4b6da6122e7ef7478cc0",
       "version_major": 2,
       "version_minor": 0
      },
      "text/plain": [
       "  0%|          | 0/991 [00:00<?, ?it/s]"
      ]
     },
     "metadata": {},
     "output_type": "display_data"
    },
    {
     "name": "stdout",
     "output_type": "stream",
     "text": [
      "Epoch 19 | Step 100 | loss = 0.062, acc = 0.957\n",
      "Epoch 19 | Step 200 | loss = 0.085, acc = 0.957\n",
      "Epoch 19 | Step 300 | loss = 0.104, acc = 0.952\n",
      "Epoch 19 | Step 400 | loss = 0.074, acc = 0.963\n",
      "Epoch 19 | Step 500 | loss = 0.092, acc = 0.957\n",
      "Epoch 19 | Step 600 | loss = 0.091, acc = 0.953\n",
      "Epoch 19 | Step 700 | loss = 0.100, acc = 0.947\n",
      "Epoch 19 | Step 800 | loss = 0.098, acc = 0.956\n",
      "Epoch 19 | Step 900 | loss = 0.110, acc = 0.944\n",
      "Evaluating Dev Set ...\n"
     ]
    },
    {
     "data": {
      "application/vnd.jupyter.widget-view+json": {
       "model_id": "36801f3e6b484569a2c335b6994d3fb9",
       "version_major": 2,
       "version_minor": 0
      },
      "text/plain": [
       "  0%|          | 0/4131 [00:00<?, ?it/s]"
      ]
     },
     "metadata": {},
     "output_type": "display_data"
    },
    {
     "name": "stdout",
     "output_type": "stream",
     "text": [
      "Validation | Epoch 19 | acc = 0.447\n"
     ]
    },
    {
     "data": {
      "application/vnd.jupyter.widget-view+json": {
       "model_id": "c91cffd5b92040f38d568adde82fa3d8",
       "version_major": 2,
       "version_minor": 0
      },
      "text/plain": [
       "  0%|          | 0/991 [00:00<?, ?it/s]"
      ]
     },
     "metadata": {},
     "output_type": "display_data"
    },
    {
     "name": "stdout",
     "output_type": "stream",
     "text": [
      "Epoch 20 | Step 100 | loss = 0.076, acc = 0.953\n",
      "Epoch 20 | Step 200 | loss = 0.081, acc = 0.958\n",
      "Epoch 20 | Step 300 | loss = 0.091, acc = 0.955\n",
      "Epoch 20 | Step 400 | loss = 0.104, acc = 0.951\n",
      "Epoch 20 | Step 500 | loss = 0.092, acc = 0.950\n",
      "Epoch 20 | Step 600 | loss = 0.092, acc = 0.954\n",
      "Epoch 20 | Step 700 | loss = 0.083, acc = 0.956\n",
      "Epoch 20 | Step 800 | loss = 0.095, acc = 0.953\n",
      "Epoch 20 | Step 900 | loss = 0.085, acc = 0.955\n",
      "Evaluating Dev Set ...\n"
     ]
    },
    {
     "data": {
      "application/vnd.jupyter.widget-view+json": {
       "model_id": "a3e3464048d343f5bcef1f9b89094e14",
       "version_major": 2,
       "version_minor": 0
      },
      "text/plain": [
       "  0%|          | 0/4131 [00:00<?, ?it/s]"
      ]
     },
     "metadata": {},
     "output_type": "display_data"
    },
    {
     "name": "stdout",
     "output_type": "stream",
     "text": [
      "Validation | Epoch 20 | acc = 0.439\n"
     ]
    },
    {
     "data": {
      "application/vnd.jupyter.widget-view+json": {
       "model_id": "fecd4f0eb8c94bcdb85ce38be42a011b",
       "version_major": 2,
       "version_minor": 0
      },
      "text/plain": [
       "  0%|          | 0/991 [00:00<?, ?it/s]"
      ]
     },
     "metadata": {},
     "output_type": "display_data"
    },
    {
     "name": "stdout",
     "output_type": "stream",
     "text": [
      "Epoch 21 | Step 100 | loss = 0.067, acc = 0.956\n",
      "Epoch 21 | Step 200 | loss = 0.089, acc = 0.954\n",
      "Epoch 21 | Step 300 | loss = 0.079, acc = 0.960\n",
      "Epoch 21 | Step 400 | loss = 0.071, acc = 0.964\n",
      "Epoch 21 | Step 500 | loss = 0.078, acc = 0.959\n",
      "Epoch 21 | Step 600 | loss = 0.084, acc = 0.959\n",
      "Epoch 21 | Step 700 | loss = 0.096, acc = 0.954\n",
      "Epoch 21 | Step 800 | loss = 0.079, acc = 0.961\n",
      "Epoch 21 | Step 900 | loss = 0.093, acc = 0.960\n",
      "Evaluating Dev Set ...\n"
     ]
    },
    {
     "data": {
      "application/vnd.jupyter.widget-view+json": {
       "model_id": "c4c349506aaa4261a3c624ee749609cd",
       "version_major": 2,
       "version_minor": 0
      },
      "text/plain": [
       "  0%|          | 0/4131 [00:00<?, ?it/s]"
      ]
     },
     "metadata": {},
     "output_type": "display_data"
    },
    {
     "name": "stdout",
     "output_type": "stream",
     "text": [
      "Validation | Epoch 21 | acc = 0.474\n"
     ]
    },
    {
     "data": {
      "application/vnd.jupyter.widget-view+json": {
       "model_id": "af9a4ab9c0af4ccf8a41d180aed41489",
       "version_major": 2,
       "version_minor": 0
      },
      "text/plain": [
       "  0%|          | 0/991 [00:00<?, ?it/s]"
      ]
     },
     "metadata": {},
     "output_type": "display_data"
    },
    {
     "name": "stdout",
     "output_type": "stream",
     "text": [
      "Epoch 22 | Step 100 | loss = 0.066, acc = 0.954\n",
      "Epoch 22 | Step 200 | loss = 0.071, acc = 0.965\n",
      "Epoch 22 | Step 300 | loss = 0.065, acc = 0.969\n",
      "Epoch 22 | Step 400 | loss = 0.083, acc = 0.954\n",
      "Epoch 22 | Step 500 | loss = 0.079, acc = 0.965\n",
      "Epoch 22 | Step 600 | loss = 0.099, acc = 0.952\n",
      "Epoch 22 | Step 700 | loss = 0.103, acc = 0.950\n",
      "Epoch 22 | Step 800 | loss = 0.108, acc = 0.945\n",
      "Epoch 22 | Step 900 | loss = 0.102, acc = 0.948\n",
      "Evaluating Dev Set ...\n"
     ]
    },
    {
     "data": {
      "application/vnd.jupyter.widget-view+json": {
       "model_id": "cd63bc766b924e76904968cf720d39b4",
       "version_major": 2,
       "version_minor": 0
      },
      "text/plain": [
       "  0%|          | 0/4131 [00:00<?, ?it/s]"
      ]
     },
     "metadata": {},
     "output_type": "display_data"
    },
    {
     "name": "stdout",
     "output_type": "stream",
     "text": [
      "Validation | Epoch 22 | acc = 0.479\n"
     ]
    },
    {
     "data": {
      "application/vnd.jupyter.widget-view+json": {
       "model_id": "51abab2058e348f59d03a3382b69814a",
       "version_major": 2,
       "version_minor": 0
      },
      "text/plain": [
       "  0%|          | 0/991 [00:00<?, ?it/s]"
      ]
     },
     "metadata": {},
     "output_type": "display_data"
    },
    {
     "name": "stdout",
     "output_type": "stream",
     "text": [
      "Epoch 23 | Step 100 | loss = 0.072, acc = 0.955\n",
      "Epoch 23 | Step 200 | loss = 0.063, acc = 0.969\n",
      "Epoch 23 | Step 300 | loss = 0.087, acc = 0.958\n",
      "Epoch 23 | Step 400 | loss = 0.078, acc = 0.958\n",
      "Epoch 23 | Step 500 | loss = 0.116, acc = 0.942\n",
      "Epoch 23 | Step 600 | loss = 0.074, acc = 0.965\n",
      "Epoch 23 | Step 700 | loss = 0.095, acc = 0.952\n",
      "Epoch 23 | Step 800 | loss = 0.093, acc = 0.954\n",
      "Epoch 23 | Step 900 | loss = 0.082, acc = 0.955\n",
      "Evaluating Dev Set ...\n"
     ]
    },
    {
     "data": {
      "application/vnd.jupyter.widget-view+json": {
       "model_id": "715fcaab0f5e47db99ff763414786e45",
       "version_major": 2,
       "version_minor": 0
      },
      "text/plain": [
       "  0%|          | 0/4131 [00:00<?, ?it/s]"
      ]
     },
     "metadata": {},
     "output_type": "display_data"
    },
    {
     "name": "stdout",
     "output_type": "stream",
     "text": [
      "Validation | Epoch 23 | acc = 0.406\n"
     ]
    },
    {
     "data": {
      "application/vnd.jupyter.widget-view+json": {
       "model_id": "2b05f259b0ab4cceb5b04f8be0ec8224",
       "version_major": 2,
       "version_minor": 0
      },
      "text/plain": [
       "  0%|          | 0/991 [00:00<?, ?it/s]"
      ]
     },
     "metadata": {},
     "output_type": "display_data"
    },
    {
     "name": "stdout",
     "output_type": "stream",
     "text": [
      "Epoch 24 | Step 100 | loss = 0.058, acc = 0.958\n",
      "Epoch 24 | Step 200 | loss = 0.059, acc = 0.971\n",
      "Epoch 24 | Step 300 | loss = 0.064, acc = 0.970\n",
      "Epoch 24 | Step 400 | loss = 0.070, acc = 0.964\n",
      "Epoch 24 | Step 500 | loss = 0.075, acc = 0.964\n",
      "Epoch 24 | Step 600 | loss = 0.083, acc = 0.958\n",
      "Epoch 24 | Step 700 | loss = 0.067, acc = 0.965\n",
      "Epoch 24 | Step 800 | loss = 0.080, acc = 0.958\n",
      "Epoch 24 | Step 900 | loss = 0.069, acc = 0.967\n",
      "Evaluating Dev Set ...\n"
     ]
    },
    {
     "data": {
      "application/vnd.jupyter.widget-view+json": {
       "model_id": "3cca5ca6373a424f899bf1232119de53",
       "version_major": 2,
       "version_minor": 0
      },
      "text/plain": [
       "  0%|          | 0/4131 [00:00<?, ?it/s]"
      ]
     },
     "metadata": {},
     "output_type": "display_data"
    },
    {
     "name": "stdout",
     "output_type": "stream",
     "text": [
      "Validation | Epoch 24 | acc = 0.433\n"
     ]
    },
    {
     "data": {
      "application/vnd.jupyter.widget-view+json": {
       "model_id": "a0787df9443b47fdb90b096d66f4eb02",
       "version_major": 2,
       "version_minor": 0
      },
      "text/plain": [
       "  0%|          | 0/991 [00:00<?, ?it/s]"
      ]
     },
     "metadata": {},
     "output_type": "display_data"
    },
    {
     "name": "stdout",
     "output_type": "stream",
     "text": [
      "Epoch 25 | Step 100 | loss = 0.067, acc = 0.959\n",
      "Epoch 25 | Step 200 | loss = 0.081, acc = 0.966\n",
      "Epoch 25 | Step 300 | loss = 0.077, acc = 0.961\n",
      "Epoch 25 | Step 400 | loss = 0.077, acc = 0.965\n",
      "Epoch 25 | Step 500 | loss = 0.078, acc = 0.959\n",
      "Epoch 25 | Step 600 | loss = 0.076, acc = 0.966\n",
      "Epoch 25 | Step 700 | loss = 0.075, acc = 0.963\n",
      "Epoch 25 | Step 800 | loss = 0.082, acc = 0.960\n",
      "Epoch 25 | Step 900 | loss = 0.082, acc = 0.960\n",
      "Evaluating Dev Set ...\n"
     ]
    },
    {
     "data": {
      "application/vnd.jupyter.widget-view+json": {
       "model_id": "ae1904018f5d48d681c0b98afb86022f",
       "version_major": 2,
       "version_minor": 0
      },
      "text/plain": [
       "  0%|          | 0/4131 [00:00<?, ?it/s]"
      ]
     },
     "metadata": {},
     "output_type": "display_data"
    },
    {
     "name": "stdout",
     "output_type": "stream",
     "text": [
      "Validation | Epoch 25 | acc = 0.424\n"
     ]
    },
    {
     "data": {
      "application/vnd.jupyter.widget-view+json": {
       "model_id": "fe39a3226fcf4ad58e1f3bc91f776ed2",
       "version_major": 2,
       "version_minor": 0
      },
      "text/plain": [
       "  0%|          | 0/991 [00:00<?, ?it/s]"
      ]
     },
     "metadata": {},
     "output_type": "display_data"
    },
    {
     "name": "stdout",
     "output_type": "stream",
     "text": [
      "Epoch 26 | Step 100 | loss = 0.069, acc = 0.957\n",
      "Epoch 26 | Step 200 | loss = 0.047, acc = 0.975\n",
      "Epoch 26 | Step 300 | loss = 0.083, acc = 0.958\n",
      "Epoch 26 | Step 400 | loss = 0.068, acc = 0.967\n",
      "Epoch 26 | Step 500 | loss = 0.078, acc = 0.961\n",
      "Epoch 26 | Step 600 | loss = 0.089, acc = 0.954\n",
      "Epoch 26 | Step 700 | loss = 0.075, acc = 0.965\n",
      "Epoch 26 | Step 800 | loss = 0.096, acc = 0.953\n",
      "Epoch 26 | Step 900 | loss = 0.083, acc = 0.959\n",
      "Evaluating Dev Set ...\n"
     ]
    },
    {
     "data": {
      "application/vnd.jupyter.widget-view+json": {
       "model_id": "3743f0c6a39543c8b6b4302f60f24140",
       "version_major": 2,
       "version_minor": 0
      },
      "text/plain": [
       "  0%|          | 0/4131 [00:00<?, ?it/s]"
      ]
     },
     "metadata": {},
     "output_type": "display_data"
    },
    {
     "name": "stdout",
     "output_type": "stream",
     "text": [
      "Validation | Epoch 26 | acc = 0.459\n"
     ]
    },
    {
     "data": {
      "application/vnd.jupyter.widget-view+json": {
       "model_id": "46dd6b187f5145018752afaab2276844",
       "version_major": 2,
       "version_minor": 0
      },
      "text/plain": [
       "  0%|          | 0/991 [00:00<?, ?it/s]"
      ]
     },
     "metadata": {},
     "output_type": "display_data"
    },
    {
     "name": "stdout",
     "output_type": "stream",
     "text": [
      "Epoch 27 | Step 100 | loss = 0.060, acc = 0.962\n",
      "Epoch 27 | Step 200 | loss = 0.073, acc = 0.967\n",
      "Epoch 27 | Step 300 | loss = 0.071, acc = 0.964\n",
      "Epoch 27 | Step 400 | loss = 0.082, acc = 0.963\n",
      "Epoch 27 | Step 500 | loss = 0.069, acc = 0.970\n",
      "Epoch 27 | Step 600 | loss = 0.087, acc = 0.961\n",
      "Epoch 27 | Step 700 | loss = 0.078, acc = 0.963\n",
      "Epoch 27 | Step 800 | loss = 0.074, acc = 0.968\n",
      "Epoch 27 | Step 900 | loss = 0.070, acc = 0.967\n",
      "Evaluating Dev Set ...\n"
     ]
    },
    {
     "data": {
      "application/vnd.jupyter.widget-view+json": {
       "model_id": "edba8560195e41febf686662acb51c67",
       "version_major": 2,
       "version_minor": 0
      },
      "text/plain": [
       "  0%|          | 0/4131 [00:00<?, ?it/s]"
      ]
     },
     "metadata": {},
     "output_type": "display_data"
    },
    {
     "name": "stdout",
     "output_type": "stream",
     "text": [
      "Validation | Epoch 27 | acc = 0.384\n"
     ]
    },
    {
     "data": {
      "application/vnd.jupyter.widget-view+json": {
       "model_id": "c24c10fa3c7b45af837dc870aa208afd",
       "version_major": 2,
       "version_minor": 0
      },
      "text/plain": [
       "  0%|          | 0/991 [00:00<?, ?it/s]"
      ]
     },
     "metadata": {},
     "output_type": "display_data"
    },
    {
     "name": "stdout",
     "output_type": "stream",
     "text": [
      "Epoch 28 | Step 100 | loss = 0.058, acc = 0.964\n",
      "Epoch 28 | Step 200 | loss = 0.062, acc = 0.970\n",
      "Epoch 28 | Step 300 | loss = 0.067, acc = 0.967\n",
      "Epoch 28 | Step 400 | loss = 0.073, acc = 0.965\n",
      "Epoch 28 | Step 500 | loss = 0.082, acc = 0.963\n",
      "Epoch 28 | Step 600 | loss = 0.087, acc = 0.963\n",
      "Epoch 28 | Step 700 | loss = 0.080, acc = 0.965\n",
      "Epoch 28 | Step 800 | loss = 0.077, acc = 0.963\n",
      "Epoch 28 | Step 900 | loss = 0.070, acc = 0.967\n",
      "Evaluating Dev Set ...\n"
     ]
    },
    {
     "data": {
      "application/vnd.jupyter.widget-view+json": {
       "model_id": "06ec401524cf4a45b084d79689a95a85",
       "version_major": 2,
       "version_minor": 0
      },
      "text/plain": [
       "  0%|          | 0/4131 [00:00<?, ?it/s]"
      ]
     },
     "metadata": {},
     "output_type": "display_data"
    },
    {
     "name": "stdout",
     "output_type": "stream",
     "text": [
      "Validation | Epoch 28 | acc = 0.453\n"
     ]
    },
    {
     "data": {
      "application/vnd.jupyter.widget-view+json": {
       "model_id": "9e1c391a475d48b788e0229610fc7f9c",
       "version_major": 2,
       "version_minor": 0
      },
      "text/plain": [
       "  0%|          | 0/991 [00:00<?, ?it/s]"
      ]
     },
     "metadata": {},
     "output_type": "display_data"
    },
    {
     "name": "stdout",
     "output_type": "stream",
     "text": [
      "Epoch 29 | Step 100 | loss = 0.065, acc = 0.958\n",
      "Epoch 29 | Step 200 | loss = 0.063, acc = 0.969\n",
      "Epoch 29 | Step 300 | loss = 0.065, acc = 0.972\n",
      "Epoch 29 | Step 400 | loss = 0.056, acc = 0.972\n",
      "Epoch 29 | Step 500 | loss = 0.059, acc = 0.969\n",
      "Epoch 29 | Step 600 | loss = 0.083, acc = 0.958\n",
      "Epoch 29 | Step 700 | loss = 0.101, acc = 0.958\n",
      "Epoch 29 | Step 800 | loss = 0.075, acc = 0.962\n",
      "Epoch 29 | Step 900 | loss = 0.084, acc = 0.958\n",
      "Evaluating Dev Set ...\n"
     ]
    },
    {
     "data": {
      "application/vnd.jupyter.widget-view+json": {
       "model_id": "ddb064c003d0456fb6c41999eea05ae6",
       "version_major": 2,
       "version_minor": 0
      },
      "text/plain": [
       "  0%|          | 0/4131 [00:00<?, ?it/s]"
      ]
     },
     "metadata": {},
     "output_type": "display_data"
    },
    {
     "name": "stdout",
     "output_type": "stream",
     "text": [
      "Validation | Epoch 29 | acc = 0.396\n"
     ]
    },
    {
     "data": {
      "application/vnd.jupyter.widget-view+json": {
       "model_id": "82444637c6b942a09f6c0e9115008fbd",
       "version_major": 2,
       "version_minor": 0
      },
      "text/plain": [
       "  0%|          | 0/991 [00:00<?, ?it/s]"
      ]
     },
     "metadata": {},
     "output_type": "display_data"
    },
    {
     "name": "stdout",
     "output_type": "stream",
     "text": [
      "Epoch 30 | Step 100 | loss = 0.071, acc = 0.955\n",
      "Epoch 30 | Step 200 | loss = 0.074, acc = 0.962\n",
      "Epoch 30 | Step 300 | loss = 0.067, acc = 0.965\n",
      "Epoch 30 | Step 400 | loss = 0.073, acc = 0.962\n",
      "Epoch 30 | Step 500 | loss = 0.088, acc = 0.957\n",
      "Epoch 30 | Step 600 | loss = 0.080, acc = 0.963\n",
      "Epoch 30 | Step 700 | loss = 0.079, acc = 0.960\n",
      "Epoch 30 | Step 800 | loss = 0.081, acc = 0.959\n",
      "Epoch 30 | Step 900 | loss = 0.081, acc = 0.959\n",
      "Evaluating Dev Set ...\n"
     ]
    },
    {
     "data": {
      "application/vnd.jupyter.widget-view+json": {
       "model_id": "98469c5fc0954309bb874f5a37c95b6c",
       "version_major": 2,
       "version_minor": 0
      },
      "text/plain": [
       "  0%|          | 0/4131 [00:00<?, ?it/s]"
      ]
     },
     "metadata": {},
     "output_type": "display_data"
    },
    {
     "name": "stdout",
     "output_type": "stream",
     "text": [
      "Validation | Epoch 30 | acc = 0.458\n"
     ]
    },
    {
     "data": {
      "application/vnd.jupyter.widget-view+json": {
       "model_id": "35d7252c6d484e9a94f6586d6efa5629",
       "version_major": 2,
       "version_minor": 0
      },
      "text/plain": [
       "  0%|          | 0/991 [00:00<?, ?it/s]"
      ]
     },
     "metadata": {},
     "output_type": "display_data"
    },
    {
     "name": "stdout",
     "output_type": "stream",
     "text": [
      "Epoch 31 | Step 100 | loss = 0.054, acc = 0.962\n",
      "Epoch 31 | Step 200 | loss = 0.060, acc = 0.969\n",
      "Epoch 31 | Step 300 | loss = 0.056, acc = 0.972\n",
      "Epoch 31 | Step 400 | loss = 0.078, acc = 0.962\n",
      "Epoch 31 | Step 500 | loss = 0.084, acc = 0.963\n",
      "Epoch 31 | Step 600 | loss = 0.069, acc = 0.972\n",
      "Epoch 31 | Step 700 | loss = 0.070, acc = 0.967\n",
      "Epoch 31 | Step 800 | loss = 0.088, acc = 0.958\n",
      "Epoch 31 | Step 900 | loss = 0.064, acc = 0.964\n",
      "Evaluating Dev Set ...\n"
     ]
    },
    {
     "data": {
      "application/vnd.jupyter.widget-view+json": {
       "model_id": "19609c28d10f4d089d8d3858a9dd64c0",
       "version_major": 2,
       "version_minor": 0
      },
      "text/plain": [
       "  0%|          | 0/4131 [00:00<?, ?it/s]"
      ]
     },
     "metadata": {},
     "output_type": "display_data"
    },
    {
     "name": "stdout",
     "output_type": "stream",
     "text": [
      "Validation | Epoch 31 | acc = 0.407\n"
     ]
    },
    {
     "data": {
      "application/vnd.jupyter.widget-view+json": {
       "model_id": "c078d128734546b1aaf8afa3e5b8422c",
       "version_major": 2,
       "version_minor": 0
      },
      "text/plain": [
       "  0%|          | 0/991 [00:00<?, ?it/s]"
      ]
     },
     "metadata": {},
     "output_type": "display_data"
    },
    {
     "name": "stdout",
     "output_type": "stream",
     "text": [
      "Epoch 32 | Step 100 | loss = 0.049, acc = 0.968\n",
      "Epoch 32 | Step 200 | loss = 0.054, acc = 0.969\n",
      "Epoch 32 | Step 300 | loss = 0.054, acc = 0.974\n",
      "Epoch 32 | Step 400 | loss = 0.059, acc = 0.970\n",
      "Epoch 32 | Step 500 | loss = 0.067, acc = 0.964\n",
      "Epoch 32 | Step 600 | loss = 0.062, acc = 0.966\n",
      "Epoch 32 | Step 700 | loss = 0.071, acc = 0.962\n",
      "Epoch 32 | Step 800 | loss = 0.077, acc = 0.959\n",
      "Epoch 32 | Step 900 | loss = 0.083, acc = 0.962\n",
      "Evaluating Dev Set ...\n"
     ]
    },
    {
     "data": {
      "application/vnd.jupyter.widget-view+json": {
       "model_id": "0e07da6db3ab4d438a07664436ac6981",
       "version_major": 2,
       "version_minor": 0
      },
      "text/plain": [
       "  0%|          | 0/4131 [00:00<?, ?it/s]"
      ]
     },
     "metadata": {},
     "output_type": "display_data"
    },
    {
     "name": "stdout",
     "output_type": "stream",
     "text": [
      "Validation | Epoch 32 | acc = 0.412\n"
     ]
    },
    {
     "data": {
      "application/vnd.jupyter.widget-view+json": {
       "model_id": "2bcafdbaf545422fbd0160f0aa80db16",
       "version_major": 2,
       "version_minor": 0
      },
      "text/plain": [
       "  0%|          | 0/991 [00:00<?, ?it/s]"
      ]
     },
     "metadata": {},
     "output_type": "display_data"
    },
    {
     "name": "stdout",
     "output_type": "stream",
     "text": [
      "Epoch 33 | Step 100 | loss = 0.044, acc = 0.967\n",
      "Epoch 33 | Step 200 | loss = 0.047, acc = 0.979\n",
      "Epoch 33 | Step 300 | loss = 0.069, acc = 0.967\n",
      "Epoch 33 | Step 400 | loss = 0.058, acc = 0.970\n",
      "Epoch 33 | Step 500 | loss = 0.063, acc = 0.967\n",
      "Epoch 33 | Step 600 | loss = 0.071, acc = 0.966\n",
      "Epoch 33 | Step 700 | loss = 0.063, acc = 0.969\n",
      "Epoch 33 | Step 800 | loss = 0.052, acc = 0.972\n",
      "Epoch 33 | Step 900 | loss = 0.067, acc = 0.971\n",
      "Evaluating Dev Set ...\n"
     ]
    },
    {
     "data": {
      "application/vnd.jupyter.widget-view+json": {
       "model_id": "c736737974fc406293c0738034932dd4",
       "version_major": 2,
       "version_minor": 0
      },
      "text/plain": [
       "  0%|          | 0/4131 [00:00<?, ?it/s]"
      ]
     },
     "metadata": {},
     "output_type": "display_data"
    },
    {
     "name": "stdout",
     "output_type": "stream",
     "text": [
      "Validation | Epoch 33 | acc = 0.377\n"
     ]
    },
    {
     "data": {
      "application/vnd.jupyter.widget-view+json": {
       "model_id": "7b488f3566084774a52138c005ed554a",
       "version_major": 2,
       "version_minor": 0
      },
      "text/plain": [
       "  0%|          | 0/991 [00:00<?, ?it/s]"
      ]
     },
     "metadata": {},
     "output_type": "display_data"
    },
    {
     "name": "stdout",
     "output_type": "stream",
     "text": [
      "Epoch 34 | Step 100 | loss = 0.060, acc = 0.961\n",
      "Epoch 34 | Step 200 | loss = 0.057, acc = 0.971\n",
      "Epoch 34 | Step 300 | loss = 0.076, acc = 0.961\n",
      "Epoch 34 | Step 400 | loss = 0.081, acc = 0.965\n",
      "Epoch 34 | Step 500 | loss = 0.071, acc = 0.965\n",
      "Epoch 34 | Step 600 | loss = 0.066, acc = 0.966\n",
      "Epoch 34 | Step 700 | loss = 0.067, acc = 0.964\n",
      "Epoch 34 | Step 800 | loss = 0.068, acc = 0.967\n",
      "Epoch 34 | Step 900 | loss = 0.086, acc = 0.964\n",
      "Evaluating Dev Set ...\n"
     ]
    },
    {
     "data": {
      "application/vnd.jupyter.widget-view+json": {
       "model_id": "579c73e86c434275990d9467f8580753",
       "version_major": 2,
       "version_minor": 0
      },
      "text/plain": [
       "  0%|          | 0/4131 [00:00<?, ?it/s]"
      ]
     },
     "metadata": {},
     "output_type": "display_data"
    },
    {
     "name": "stdout",
     "output_type": "stream",
     "text": [
      "Validation | Epoch 34 | acc = 0.400\n"
     ]
    },
    {
     "data": {
      "application/vnd.jupyter.widget-view+json": {
       "model_id": "5a62065e82fc4ef18be7a3e1a0fb8b25",
       "version_major": 2,
       "version_minor": 0
      },
      "text/plain": [
       "  0%|          | 0/991 [00:00<?, ?it/s]"
      ]
     },
     "metadata": {},
     "output_type": "display_data"
    },
    {
     "name": "stdout",
     "output_type": "stream",
     "text": [
      "Epoch 35 | Step 100 | loss = 0.060, acc = 0.959\n",
      "Epoch 35 | Step 200 | loss = 0.055, acc = 0.970\n",
      "Epoch 35 | Step 300 | loss = 0.062, acc = 0.971\n",
      "Epoch 35 | Step 400 | loss = 0.055, acc = 0.974\n",
      "Epoch 35 | Step 500 | loss = 0.050, acc = 0.977\n",
      "Epoch 35 | Step 600 | loss = 0.057, acc = 0.972\n",
      "Epoch 35 | Step 700 | loss = 0.062, acc = 0.973\n",
      "Epoch 35 | Step 800 | loss = 0.047, acc = 0.976\n",
      "Epoch 35 | Step 900 | loss = 0.066, acc = 0.970\n",
      "Evaluating Dev Set ...\n"
     ]
    },
    {
     "data": {
      "application/vnd.jupyter.widget-view+json": {
       "model_id": "02e1724a94844fa2b95a15266d6f4e6a",
       "version_major": 2,
       "version_minor": 0
      },
      "text/plain": [
       "  0%|          | 0/4131 [00:00<?, ?it/s]"
      ]
     },
     "metadata": {},
     "output_type": "display_data"
    },
    {
     "name": "stdout",
     "output_type": "stream",
     "text": [
      "Validation | Epoch 35 | acc = 0.375\n"
     ]
    },
    {
     "data": {
      "application/vnd.jupyter.widget-view+json": {
       "model_id": "cd16c3c26d624865886c71988d22ec59",
       "version_major": 2,
       "version_minor": 0
      },
      "text/plain": [
       "  0%|          | 0/991 [00:00<?, ?it/s]"
      ]
     },
     "metadata": {},
     "output_type": "display_data"
    },
    {
     "name": "stdout",
     "output_type": "stream",
     "text": [
      "Epoch 36 | Step 100 | loss = 0.055, acc = 0.963\n",
      "Epoch 36 | Step 200 | loss = 0.059, acc = 0.969\n",
      "Epoch 36 | Step 300 | loss = 0.055, acc = 0.971\n",
      "Epoch 36 | Step 400 | loss = 0.062, acc = 0.972\n",
      "Epoch 36 | Step 500 | loss = 0.060, acc = 0.971\n",
      "Epoch 36 | Step 600 | loss = 0.057, acc = 0.971\n",
      "Epoch 36 | Step 700 | loss = 0.059, acc = 0.970\n",
      "Epoch 36 | Step 800 | loss = 0.071, acc = 0.962\n",
      "Epoch 36 | Step 900 | loss = 0.074, acc = 0.963\n",
      "Evaluating Dev Set ...\n"
     ]
    },
    {
     "data": {
      "application/vnd.jupyter.widget-view+json": {
       "model_id": "6908f18585ee43e0b9351fffb40b1626",
       "version_major": 2,
       "version_minor": 0
      },
      "text/plain": [
       "  0%|          | 0/4131 [00:00<?, ?it/s]"
      ]
     },
     "metadata": {},
     "output_type": "display_data"
    },
    {
     "name": "stdout",
     "output_type": "stream",
     "text": [
      "Validation | Epoch 36 | acc = 0.402\n"
     ]
    },
    {
     "data": {
      "application/vnd.jupyter.widget-view+json": {
       "model_id": "539ad5c1ed6d41ca9437e454b08a37fc",
       "version_major": 2,
       "version_minor": 0
      },
      "text/plain": [
       "  0%|          | 0/991 [00:00<?, ?it/s]"
      ]
     },
     "metadata": {},
     "output_type": "display_data"
    },
    {
     "name": "stdout",
     "output_type": "stream",
     "text": [
      "Epoch 37 | Step 100 | loss = 0.062, acc = 0.962\n",
      "Epoch 37 | Step 200 | loss = 0.068, acc = 0.970\n",
      "Epoch 37 | Step 300 | loss = 0.078, acc = 0.957\n",
      "Epoch 37 | Step 400 | loss = 0.061, acc = 0.971\n",
      "Epoch 37 | Step 500 | loss = 0.064, acc = 0.966\n",
      "Epoch 37 | Step 600 | loss = 0.066, acc = 0.968\n",
      "Epoch 37 | Step 700 | loss = 0.066, acc = 0.971\n",
      "Epoch 37 | Step 800 | loss = 0.055, acc = 0.972\n",
      "Epoch 37 | Step 900 | loss = 0.051, acc = 0.971\n",
      "Evaluating Dev Set ...\n"
     ]
    },
    {
     "data": {
      "application/vnd.jupyter.widget-view+json": {
       "model_id": "575e70c3eb574b97a9374b65e933d5a9",
       "version_major": 2,
       "version_minor": 0
      },
      "text/plain": [
       "  0%|          | 0/4131 [00:00<?, ?it/s]"
      ]
     },
     "metadata": {},
     "output_type": "display_data"
    },
    {
     "name": "stdout",
     "output_type": "stream",
     "text": [
      "Validation | Epoch 37 | acc = 0.399\n"
     ]
    },
    {
     "data": {
      "application/vnd.jupyter.widget-view+json": {
       "model_id": "203a160bbb214d458212f937e7fe1f86",
       "version_major": 2,
       "version_minor": 0
      },
      "text/plain": [
       "  0%|          | 0/991 [00:00<?, ?it/s]"
      ]
     },
     "metadata": {},
     "output_type": "display_data"
    },
    {
     "name": "stdout",
     "output_type": "stream",
     "text": [
      "Epoch 38 | Step 100 | loss = 0.060, acc = 0.966\n",
      "Epoch 38 | Step 200 | loss = 0.041, acc = 0.977\n",
      "Epoch 38 | Step 300 | loss = 0.064, acc = 0.971\n",
      "Epoch 38 | Step 400 | loss = 0.072, acc = 0.962\n",
      "Epoch 38 | Step 500 | loss = 0.043, acc = 0.978\n",
      "Epoch 38 | Step 600 | loss = 0.062, acc = 0.971\n",
      "Epoch 38 | Step 700 | loss = 0.096, acc = 0.957\n",
      "Epoch 38 | Step 800 | loss = 0.076, acc = 0.963\n",
      "Epoch 38 | Step 900 | loss = 0.082, acc = 0.958\n",
      "Evaluating Dev Set ...\n"
     ]
    },
    {
     "data": {
      "application/vnd.jupyter.widget-view+json": {
       "model_id": "707b8b65940f49ce9019e03aaa34ec7f",
       "version_major": 2,
       "version_minor": 0
      },
      "text/plain": [
       "  0%|          | 0/4131 [00:00<?, ?it/s]"
      ]
     },
     "metadata": {},
     "output_type": "display_data"
    },
    {
     "name": "stdout",
     "output_type": "stream",
     "text": [
      "Validation | Epoch 38 | acc = 0.456\n"
     ]
    },
    {
     "data": {
      "application/vnd.jupyter.widget-view+json": {
       "model_id": "4d9f058f47e346e1bb09f9c2d14e91f7",
       "version_major": 2,
       "version_minor": 0
      },
      "text/plain": [
       "  0%|          | 0/991 [00:00<?, ?it/s]"
      ]
     },
     "metadata": {},
     "output_type": "display_data"
    },
    {
     "name": "stdout",
     "output_type": "stream",
     "text": [
      "Epoch 39 | Step 100 | loss = 0.049, acc = 0.967\n",
      "Epoch 39 | Step 200 | loss = 0.050, acc = 0.977\n",
      "Epoch 39 | Step 300 | loss = 0.053, acc = 0.972\n",
      "Epoch 39 | Step 400 | loss = 0.066, acc = 0.967\n",
      "Epoch 39 | Step 500 | loss = 0.086, acc = 0.965\n",
      "Epoch 39 | Step 600 | loss = 0.074, acc = 0.964\n",
      "Epoch 39 | Step 700 | loss = 0.075, acc = 0.966\n",
      "Epoch 39 | Step 800 | loss = 0.058, acc = 0.973\n",
      "Epoch 39 | Step 900 | loss = 0.073, acc = 0.965\n",
      "Evaluating Dev Set ...\n"
     ]
    },
    {
     "data": {
      "application/vnd.jupyter.widget-view+json": {
       "model_id": "57305b8365f74f0ab404bdafdee14b23",
       "version_major": 2,
       "version_minor": 0
      },
      "text/plain": [
       "  0%|          | 0/4131 [00:00<?, ?it/s]"
      ]
     },
     "metadata": {},
     "output_type": "display_data"
    },
    {
     "name": "stdout",
     "output_type": "stream",
     "text": [
      "Validation | Epoch 39 | acc = 0.359\n"
     ]
    },
    {
     "data": {
      "application/vnd.jupyter.widget-view+json": {
       "model_id": "ce7fbff059a94eb09a5e0b08c7fbece0",
       "version_major": 2,
       "version_minor": 0
      },
      "text/plain": [
       "  0%|          | 0/991 [00:00<?, ?it/s]"
      ]
     },
     "metadata": {},
     "output_type": "display_data"
    },
    {
     "name": "stdout",
     "output_type": "stream",
     "text": [
      "Epoch 40 | Step 100 | loss = 0.047, acc = 0.966\n",
      "Epoch 40 | Step 200 | loss = 0.055, acc = 0.976\n",
      "Epoch 40 | Step 300 | loss = 0.081, acc = 0.961\n",
      "Epoch 40 | Step 400 | loss = 0.070, acc = 0.962\n",
      "Epoch 40 | Step 500 | loss = 0.057, acc = 0.972\n",
      "Epoch 40 | Step 600 | loss = 0.066, acc = 0.973\n",
      "Epoch 40 | Step 700 | loss = 0.061, acc = 0.972\n",
      "Epoch 40 | Step 800 | loss = 0.046, acc = 0.975\n",
      "Epoch 40 | Step 900 | loss = 0.074, acc = 0.967\n",
      "Evaluating Dev Set ...\n"
     ]
    },
    {
     "data": {
      "application/vnd.jupyter.widget-view+json": {
       "model_id": "8782ad093f2a4807ac215bbcd32e4b04",
       "version_major": 2,
       "version_minor": 0
      },
      "text/plain": [
       "  0%|          | 0/4131 [00:00<?, ?it/s]"
      ]
     },
     "metadata": {},
     "output_type": "display_data"
    },
    {
     "name": "stdout",
     "output_type": "stream",
     "text": [
      "Validation | Epoch 40 | acc = 0.363\n"
     ]
    },
    {
     "data": {
      "application/vnd.jupyter.widget-view+json": {
       "model_id": "1e97f5e1bafe495290ae93ac15736e78",
       "version_major": 2,
       "version_minor": 0
      },
      "text/plain": [
       "  0%|          | 0/991 [00:00<?, ?it/s]"
      ]
     },
     "metadata": {},
     "output_type": "display_data"
    },
    {
     "name": "stdout",
     "output_type": "stream",
     "text": [
      "Epoch 41 | Step 100 | loss = 0.564, acc = 0.800\n",
      "Epoch 41 | Step 200 | loss = 0.237, acc = 0.900\n",
      "Epoch 41 | Step 300 | loss = 0.121, acc = 0.941\n",
      "Epoch 41 | Step 400 | loss = 0.093, acc = 0.957\n",
      "Epoch 41 | Step 500 | loss = 0.084, acc = 0.958\n",
      "Epoch 41 | Step 600 | loss = 0.072, acc = 0.962\n",
      "Epoch 41 | Step 700 | loss = 0.061, acc = 0.970\n",
      "Epoch 41 | Step 800 | loss = 0.059, acc = 0.970\n",
      "Epoch 41 | Step 900 | loss = 0.057, acc = 0.975\n",
      "Evaluating Dev Set ...\n"
     ]
    },
    {
     "data": {
      "application/vnd.jupyter.widget-view+json": {
       "model_id": "30e19d11f36e4f9888ab88ef3c080a88",
       "version_major": 2,
       "version_minor": 0
      },
      "text/plain": [
       "  0%|          | 0/4131 [00:00<?, ?it/s]"
      ]
     },
     "metadata": {},
     "output_type": "display_data"
    },
    {
     "name": "stdout",
     "output_type": "stream",
     "text": [
      "Validation | Epoch 41 | acc = 0.405\n"
     ]
    },
    {
     "data": {
      "application/vnd.jupyter.widget-view+json": {
       "model_id": "1731546b3d5e4d068be08a6c3de268d3",
       "version_major": 2,
       "version_minor": 0
      },
      "text/plain": [
       "  0%|          | 0/991 [00:00<?, ?it/s]"
      ]
     },
     "metadata": {},
     "output_type": "display_data"
    },
    {
     "name": "stdout",
     "output_type": "stream",
     "text": [
      "Epoch 42 | Step 100 | loss = 0.029, acc = 0.972\n",
      "Epoch 42 | Step 200 | loss = 0.028, acc = 0.984\n",
      "Epoch 42 | Step 300 | loss = 0.032, acc = 0.981\n",
      "Epoch 42 | Step 400 | loss = 0.027, acc = 0.989\n",
      "Epoch 42 | Step 500 | loss = 0.041, acc = 0.980\n",
      "Epoch 42 | Step 600 | loss = 0.042, acc = 0.978\n",
      "Epoch 42 | Step 700 | loss = 0.025, acc = 0.987\n",
      "Epoch 42 | Step 800 | loss = 0.030, acc = 0.985\n",
      "Epoch 42 | Step 900 | loss = 0.033, acc = 0.982\n",
      "Evaluating Dev Set ...\n"
     ]
    },
    {
     "data": {
      "application/vnd.jupyter.widget-view+json": {
       "model_id": "ad3ce2286eb34834a10ce0f6c2ebcbfc",
       "version_major": 2,
       "version_minor": 0
      },
      "text/plain": [
       "  0%|          | 0/4131 [00:00<?, ?it/s]"
      ]
     },
     "metadata": {},
     "output_type": "display_data"
    },
    {
     "name": "stdout",
     "output_type": "stream",
     "text": [
      "Validation | Epoch 42 | acc = 0.436\n"
     ]
    },
    {
     "data": {
      "application/vnd.jupyter.widget-view+json": {
       "model_id": "1625d74d04ac48e5a42e86588b462075",
       "version_major": 2,
       "version_minor": 0
      },
      "text/plain": [
       "  0%|          | 0/991 [00:00<?, ?it/s]"
      ]
     },
     "metadata": {},
     "output_type": "display_data"
    },
    {
     "name": "stdout",
     "output_type": "stream",
     "text": [
      "Epoch 43 | Step 100 | loss = 0.028, acc = 0.975\n",
      "Epoch 43 | Step 200 | loss = 0.038, acc = 0.979\n",
      "Epoch 43 | Step 300 | loss = 0.025, acc = 0.988\n",
      "Epoch 43 | Step 400 | loss = 0.044, acc = 0.979\n",
      "Epoch 43 | Step 500 | loss = 0.043, acc = 0.978\n",
      "Epoch 43 | Step 600 | loss = 0.036, acc = 0.981\n",
      "Epoch 43 | Step 700 | loss = 0.035, acc = 0.982\n",
      "Epoch 43 | Step 800 | loss = 0.037, acc = 0.981\n",
      "Epoch 43 | Step 900 | loss = 0.040, acc = 0.981\n",
      "Evaluating Dev Set ...\n"
     ]
    },
    {
     "data": {
      "application/vnd.jupyter.widget-view+json": {
       "model_id": "2b55260656ed432da4911df5d8725482",
       "version_major": 2,
       "version_minor": 0
      },
      "text/plain": [
       "  0%|          | 0/4131 [00:00<?, ?it/s]"
      ]
     },
     "metadata": {},
     "output_type": "display_data"
    },
    {
     "name": "stdout",
     "output_type": "stream",
     "text": [
      "Validation | Epoch 43 | acc = 0.375\n"
     ]
    },
    {
     "data": {
      "application/vnd.jupyter.widget-view+json": {
       "model_id": "530c09b8310b4828ab7378f36b4fd602",
       "version_major": 2,
       "version_minor": 0
      },
      "text/plain": [
       "  0%|          | 0/991 [00:00<?, ?it/s]"
      ]
     },
     "metadata": {},
     "output_type": "display_data"
    },
    {
     "name": "stdout",
     "output_type": "stream",
     "text": [
      "Epoch 44 | Step 100 | loss = 0.036, acc = 0.968\n",
      "Epoch 44 | Step 200 | loss = 0.036, acc = 0.981\n",
      "Epoch 44 | Step 300 | loss = 0.038, acc = 0.978\n",
      "Epoch 44 | Step 400 | loss = 0.062, acc = 0.969\n",
      "Epoch 44 | Step 500 | loss = 0.048, acc = 0.979\n",
      "Epoch 44 | Step 600 | loss = 0.058, acc = 0.974\n",
      "Epoch 44 | Step 700 | loss = 0.063, acc = 0.967\n",
      "Epoch 44 | Step 800 | loss = 0.056, acc = 0.974\n",
      "Epoch 44 | Step 900 | loss = 0.056, acc = 0.969\n",
      "Evaluating Dev Set ...\n"
     ]
    },
    {
     "data": {
      "application/vnd.jupyter.widget-view+json": {
       "model_id": "cda8709dc3f848618d4eb9f32edb7793",
       "version_major": 2,
       "version_minor": 0
      },
      "text/plain": [
       "  0%|          | 0/4131 [00:00<?, ?it/s]"
      ]
     },
     "metadata": {},
     "output_type": "display_data"
    },
    {
     "name": "stdout",
     "output_type": "stream",
     "text": [
      "Validation | Epoch 44 | acc = 0.396\n"
     ]
    },
    {
     "data": {
      "application/vnd.jupyter.widget-view+json": {
       "model_id": "7e0472579ba64c768e30ef1fa423afd1",
       "version_major": 2,
       "version_minor": 0
      },
      "text/plain": [
       "  0%|          | 0/991 [00:00<?, ?it/s]"
      ]
     },
     "metadata": {},
     "output_type": "display_data"
    },
    {
     "name": "stdout",
     "output_type": "stream",
     "text": [
      "Epoch 45 | Step 100 | loss = 0.033, acc = 0.973\n",
      "Epoch 45 | Step 200 | loss = 0.041, acc = 0.980\n",
      "Epoch 45 | Step 300 | loss = 0.044, acc = 0.975\n",
      "Epoch 45 | Step 400 | loss = 0.056, acc = 0.969\n",
      "Epoch 45 | Step 500 | loss = 0.069, acc = 0.967\n",
      "Epoch 45 | Step 600 | loss = 0.059, acc = 0.974\n",
      "Epoch 45 | Step 700 | loss = 0.060, acc = 0.967\n",
      "Epoch 45 | Step 800 | loss = 0.063, acc = 0.968\n",
      "Epoch 45 | Step 900 | loss = 0.083, acc = 0.962\n",
      "Evaluating Dev Set ...\n"
     ]
    },
    {
     "data": {
      "application/vnd.jupyter.widget-view+json": {
       "model_id": "bf2e5381941545d9a6c7861c7a38c09d",
       "version_major": 2,
       "version_minor": 0
      },
      "text/plain": [
       "  0%|          | 0/4131 [00:00<?, ?it/s]"
      ]
     },
     "metadata": {},
     "output_type": "display_data"
    },
    {
     "name": "stdout",
     "output_type": "stream",
     "text": [
      "Validation | Epoch 45 | acc = 0.385\n"
     ]
    },
    {
     "data": {
      "application/vnd.jupyter.widget-view+json": {
       "model_id": "0483512bfbca4c92966eb9fb32ed0fbb",
       "version_major": 2,
       "version_minor": 0
      },
      "text/plain": [
       "  0%|          | 0/991 [00:00<?, ?it/s]"
      ]
     },
     "metadata": {},
     "output_type": "display_data"
    },
    {
     "name": "stdout",
     "output_type": "stream",
     "text": [
      "Epoch 46 | Step 100 | loss = 0.058, acc = 0.959\n",
      "Epoch 46 | Step 200 | loss = 0.080, acc = 0.963\n",
      "Epoch 46 | Step 300 | loss = 0.056, acc = 0.972\n",
      "Epoch 46 | Step 400 | loss = 0.060, acc = 0.971\n",
      "Epoch 46 | Step 500 | loss = 0.046, acc = 0.977\n",
      "Epoch 46 | Step 600 | loss = 0.064, acc = 0.967\n",
      "Epoch 46 | Step 700 | loss = 0.054, acc = 0.975\n",
      "Epoch 46 | Step 800 | loss = 0.060, acc = 0.970\n",
      "Epoch 46 | Step 900 | loss = 0.069, acc = 0.968\n",
      "Evaluating Dev Set ...\n"
     ]
    },
    {
     "data": {
      "application/vnd.jupyter.widget-view+json": {
       "model_id": "8f9626e05a3144ec8235df0abb7ba893",
       "version_major": 2,
       "version_minor": 0
      },
      "text/plain": [
       "  0%|          | 0/4131 [00:00<?, ?it/s]"
      ]
     },
     "metadata": {},
     "output_type": "display_data"
    },
    {
     "name": "stdout",
     "output_type": "stream",
     "text": [
      "Validation | Epoch 46 | acc = 0.381\n"
     ]
    },
    {
     "data": {
      "application/vnd.jupyter.widget-view+json": {
       "model_id": "706ef90c1a854afcac69fa8797952866",
       "version_major": 2,
       "version_minor": 0
      },
      "text/plain": [
       "  0%|          | 0/991 [00:00<?, ?it/s]"
      ]
     },
     "metadata": {},
     "output_type": "display_data"
    },
    {
     "name": "stdout",
     "output_type": "stream",
     "text": [
      "Epoch 47 | Step 100 | loss = 0.045, acc = 0.969\n",
      "Epoch 47 | Step 200 | loss = 0.039, acc = 0.983\n",
      "Epoch 47 | Step 300 | loss = 0.093, acc = 0.953\n",
      "Epoch 47 | Step 400 | loss = 0.100, acc = 0.953\n",
      "Epoch 47 | Step 500 | loss = 0.071, acc = 0.963\n",
      "Epoch 47 | Step 600 | loss = 0.061, acc = 0.972\n",
      "Epoch 47 | Step 700 | loss = 0.072, acc = 0.967\n",
      "Epoch 47 | Step 800 | loss = 0.061, acc = 0.970\n",
      "Epoch 47 | Step 900 | loss = 0.050, acc = 0.975\n",
      "Evaluating Dev Set ...\n"
     ]
    },
    {
     "data": {
      "application/vnd.jupyter.widget-view+json": {
       "model_id": "4a6d2ab6062244d88b253c9e1dd26501",
       "version_major": 2,
       "version_minor": 0
      },
      "text/plain": [
       "  0%|          | 0/4131 [00:00<?, ?it/s]"
      ]
     },
     "metadata": {},
     "output_type": "display_data"
    },
    {
     "name": "stdout",
     "output_type": "stream",
     "text": [
      "Validation | Epoch 47 | acc = 0.427\n"
     ]
    },
    {
     "data": {
      "application/vnd.jupyter.widget-view+json": {
       "model_id": "1af252819550409a84990ff927edd29a",
       "version_major": 2,
       "version_minor": 0
      },
      "text/plain": [
       "  0%|          | 0/991 [00:00<?, ?it/s]"
      ]
     },
     "metadata": {},
     "output_type": "display_data"
    },
    {
     "name": "stdout",
     "output_type": "stream",
     "text": [
      "Epoch 48 | Step 100 | loss = 0.053, acc = 0.966\n",
      "Epoch 48 | Step 200 | loss = 0.061, acc = 0.968\n",
      "Epoch 48 | Step 300 | loss = 0.048, acc = 0.975\n",
      "Epoch 48 | Step 400 | loss = 0.053, acc = 0.972\n",
      "Epoch 48 | Step 500 | loss = 0.047, acc = 0.979\n",
      "Epoch 48 | Step 600 | loss = 0.048, acc = 0.979\n",
      "Epoch 48 | Step 700 | loss = 0.057, acc = 0.975\n",
      "Epoch 48 | Step 800 | loss = 0.053, acc = 0.974\n",
      "Epoch 48 | Step 900 | loss = 0.056, acc = 0.971\n",
      "Evaluating Dev Set ...\n"
     ]
    },
    {
     "data": {
      "application/vnd.jupyter.widget-view+json": {
       "model_id": "7a5a0c73f9a744b484e7875364e19c8a",
       "version_major": 2,
       "version_minor": 0
      },
      "text/plain": [
       "  0%|          | 0/4131 [00:00<?, ?it/s]"
      ]
     },
     "metadata": {},
     "output_type": "display_data"
    },
    {
     "name": "stdout",
     "output_type": "stream",
     "text": [
      "Validation | Epoch 48 | acc = 0.355\n"
     ]
    },
    {
     "data": {
      "application/vnd.jupyter.widget-view+json": {
       "model_id": "c77f4c128ada40998cc58158c476595a",
       "version_major": 2,
       "version_minor": 0
      },
      "text/plain": [
       "  0%|          | 0/991 [00:00<?, ?it/s]"
      ]
     },
     "metadata": {},
     "output_type": "display_data"
    },
    {
     "name": "stdout",
     "output_type": "stream",
     "text": [
      "Epoch 49 | Step 100 | loss = 0.046, acc = 0.969\n",
      "Epoch 49 | Step 200 | loss = 0.038, acc = 0.979\n",
      "Epoch 49 | Step 300 | loss = 0.045, acc = 0.977\n",
      "Epoch 49 | Step 400 | loss = 0.050, acc = 0.974\n",
      "Epoch 49 | Step 500 | loss = 0.040, acc = 0.981\n",
      "Epoch 49 | Step 600 | loss = 0.054, acc = 0.977\n",
      "Epoch 49 | Step 700 | loss = 0.059, acc = 0.973\n",
      "Epoch 49 | Step 800 | loss = 0.054, acc = 0.973\n",
      "Epoch 49 | Step 900 | loss = 0.059, acc = 0.968\n",
      "Evaluating Dev Set ...\n"
     ]
    },
    {
     "data": {
      "application/vnd.jupyter.widget-view+json": {
       "model_id": "56a112e56993480598b7628ed7278a39",
       "version_major": 2,
       "version_minor": 0
      },
      "text/plain": [
       "  0%|          | 0/4131 [00:00<?, ?it/s]"
      ]
     },
     "metadata": {},
     "output_type": "display_data"
    },
    {
     "name": "stdout",
     "output_type": "stream",
     "text": [
      "Validation | Epoch 49 | acc = 0.389\n"
     ]
    },
    {
     "data": {
      "application/vnd.jupyter.widget-view+json": {
       "model_id": "3288900de314493db7f4d89b175cc5ad",
       "version_major": 2,
       "version_minor": 0
      },
      "text/plain": [
       "  0%|          | 0/991 [00:00<?, ?it/s]"
      ]
     },
     "metadata": {},
     "output_type": "display_data"
    },
    {
     "name": "stdout",
     "output_type": "stream",
     "text": [
      "Epoch 50 | Step 100 | loss = 0.053, acc = 0.965\n",
      "Epoch 50 | Step 200 | loss = 0.047, acc = 0.980\n",
      "Epoch 50 | Step 300 | loss = 0.045, acc = 0.980\n",
      "Epoch 50 | Step 400 | loss = 0.051, acc = 0.975\n",
      "Epoch 50 | Step 500 | loss = 0.048, acc = 0.975\n",
      "Epoch 50 | Step 600 | loss = 0.040, acc = 0.978\n",
      "Epoch 50 | Step 700 | loss = 0.048, acc = 0.976\n",
      "Epoch 50 | Step 800 | loss = 0.065, acc = 0.966\n",
      "Epoch 50 | Step 900 | loss = 0.054, acc = 0.974\n",
      "Evaluating Dev Set ...\n"
     ]
    },
    {
     "data": {
      "application/vnd.jupyter.widget-view+json": {
       "model_id": "4e4c5233f98b4050ab42ea51615bb2f6",
       "version_major": 2,
       "version_minor": 0
      },
      "text/plain": [
       "  0%|          | 0/4131 [00:00<?, ?it/s]"
      ]
     },
     "metadata": {},
     "output_type": "display_data"
    },
    {
     "name": "stdout",
     "output_type": "stream",
     "text": [
      "Validation | Epoch 50 | acc = 0.381\n"
     ]
    },
    {
     "data": {
      "application/vnd.jupyter.widget-view+json": {
       "model_id": "277e4ea7fdc944bb933bbbf292098f08",
       "version_major": 2,
       "version_minor": 0
      },
      "text/plain": [
       "  0%|          | 0/991 [00:00<?, ?it/s]"
      ]
     },
     "metadata": {},
     "output_type": "display_data"
    },
    {
     "name": "stdout",
     "output_type": "stream",
     "text": [
      "Epoch 51 | Step 100 | loss = 0.047, acc = 0.968\n",
      "Epoch 51 | Step 200 | loss = 0.053, acc = 0.975\n",
      "Epoch 51 | Step 300 | loss = 0.048, acc = 0.979\n",
      "Epoch 51 | Step 400 | loss = 0.047, acc = 0.972\n",
      "Epoch 51 | Step 500 | loss = 0.053, acc = 0.974\n",
      "Epoch 51 | Step 600 | loss = 0.059, acc = 0.970\n",
      "Epoch 51 | Step 700 | loss = 0.061, acc = 0.966\n",
      "Epoch 51 | Step 800 | loss = 0.058, acc = 0.969\n",
      "Epoch 51 | Step 900 | loss = 0.064, acc = 0.967\n",
      "Evaluating Dev Set ...\n"
     ]
    },
    {
     "data": {
      "application/vnd.jupyter.widget-view+json": {
       "model_id": "8bcbb4d7ed1244ee912b195e619d2c6f",
       "version_major": 2,
       "version_minor": 0
      },
      "text/plain": [
       "  0%|          | 0/4131 [00:00<?, ?it/s]"
      ]
     },
     "metadata": {},
     "output_type": "display_data"
    },
    {
     "name": "stdout",
     "output_type": "stream",
     "text": [
      "Validation | Epoch 51 | acc = 0.356\n"
     ]
    },
    {
     "data": {
      "application/vnd.jupyter.widget-view+json": {
       "model_id": "29848a95329348f59514c423204068cd",
       "version_major": 2,
       "version_minor": 0
      },
      "text/plain": [
       "  0%|          | 0/991 [00:00<?, ?it/s]"
      ]
     },
     "metadata": {},
     "output_type": "display_data"
    },
    {
     "name": "stdout",
     "output_type": "stream",
     "text": [
      "Epoch 52 | Step 100 | loss = 0.043, acc = 0.967\n",
      "Epoch 52 | Step 200 | loss = 0.064, acc = 0.970\n",
      "Epoch 52 | Step 300 | loss = 0.084, acc = 0.963\n",
      "Epoch 52 | Step 400 | loss = 0.066, acc = 0.970\n",
      "Epoch 52 | Step 500 | loss = 0.053, acc = 0.971\n",
      "Epoch 52 | Step 600 | loss = 0.052, acc = 0.971\n",
      "Epoch 52 | Step 700 | loss = 0.099, acc = 0.960\n",
      "Epoch 52 | Step 800 | loss = 0.066, acc = 0.969\n",
      "Epoch 52 | Step 900 | loss = 0.060, acc = 0.975\n",
      "Evaluating Dev Set ...\n"
     ]
    },
    {
     "data": {
      "application/vnd.jupyter.widget-view+json": {
       "model_id": "0120e2a5df22438c9b4007cbb34e0e10",
       "version_major": 2,
       "version_minor": 0
      },
      "text/plain": [
       "  0%|          | 0/4131 [00:00<?, ?it/s]"
      ]
     },
     "metadata": {},
     "output_type": "display_data"
    },
    {
     "name": "stdout",
     "output_type": "stream",
     "text": [
      "Validation | Epoch 52 | acc = 0.399\n"
     ]
    },
    {
     "data": {
      "application/vnd.jupyter.widget-view+json": {
       "model_id": "641f45b2c5f548b3a40d930cabbbe404",
       "version_major": 2,
       "version_minor": 0
      },
      "text/plain": [
       "  0%|          | 0/991 [00:00<?, ?it/s]"
      ]
     },
     "metadata": {},
     "output_type": "display_data"
    },
    {
     "name": "stdout",
     "output_type": "stream",
     "text": [
      "Epoch 53 | Step 100 | loss = 0.050, acc = 0.968\n",
      "Epoch 53 | Step 200 | loss = 0.044, acc = 0.978\n",
      "Epoch 53 | Step 300 | loss = 0.048, acc = 0.972\n",
      "Epoch 53 | Step 400 | loss = 0.057, acc = 0.970\n",
      "Epoch 53 | Step 500 | loss = 0.044, acc = 0.979\n",
      "Epoch 53 | Step 600 | loss = 0.046, acc = 0.978\n",
      "Epoch 53 | Step 700 | loss = 0.055, acc = 0.974\n",
      "Epoch 53 | Step 800 | loss = 0.058, acc = 0.974\n",
      "Epoch 53 | Step 900 | loss = 0.055, acc = 0.972\n",
      "Evaluating Dev Set ...\n"
     ]
    },
    {
     "data": {
      "application/vnd.jupyter.widget-view+json": {
       "model_id": "3ce9978a32e94bc9a4b72e1d0053f8c7",
       "version_major": 2,
       "version_minor": 0
      },
      "text/plain": [
       "  0%|          | 0/4131 [00:00<?, ?it/s]"
      ]
     },
     "metadata": {},
     "output_type": "display_data"
    },
    {
     "name": "stdout",
     "output_type": "stream",
     "text": [
      "Validation | Epoch 53 | acc = 0.360\n"
     ]
    },
    {
     "data": {
      "application/vnd.jupyter.widget-view+json": {
       "model_id": "a3d314f560024f6983d13b31cf614360",
       "version_major": 2,
       "version_minor": 0
      },
      "text/plain": [
       "  0%|          | 0/991 [00:00<?, ?it/s]"
      ]
     },
     "metadata": {},
     "output_type": "display_data"
    },
    {
     "name": "stdout",
     "output_type": "stream",
     "text": [
      "Epoch 54 | Step 100 | loss = 0.046, acc = 0.966\n",
      "Epoch 54 | Step 200 | loss = 0.035, acc = 0.980\n",
      "Epoch 54 | Step 300 | loss = 0.048, acc = 0.976\n",
      "Epoch 54 | Step 400 | loss = 0.049, acc = 0.974\n",
      "Epoch 54 | Step 500 | loss = 0.056, acc = 0.975\n",
      "Epoch 54 | Step 600 | loss = 0.052, acc = 0.972\n",
      "Epoch 54 | Step 700 | loss = 0.048, acc = 0.975\n",
      "Epoch 54 | Step 800 | loss = 0.065, acc = 0.970\n",
      "Epoch 54 | Step 900 | loss = 0.051, acc = 0.978\n",
      "Evaluating Dev Set ...\n"
     ]
    },
    {
     "data": {
      "application/vnd.jupyter.widget-view+json": {
       "model_id": "b5740548343a4201afff66ae5896ce65",
       "version_major": 2,
       "version_minor": 0
      },
      "text/plain": [
       "  0%|          | 0/4131 [00:00<?, ?it/s]"
      ]
     },
     "metadata": {},
     "output_type": "display_data"
    },
    {
     "name": "stdout",
     "output_type": "stream",
     "text": [
      "Validation | Epoch 54 | acc = 0.366\n"
     ]
    },
    {
     "data": {
      "application/vnd.jupyter.widget-view+json": {
       "model_id": "1a315b3f34544f0c89f7aa26f94a3f54",
       "version_major": 2,
       "version_minor": 0
      },
      "text/plain": [
       "  0%|          | 0/991 [00:00<?, ?it/s]"
      ]
     },
     "metadata": {},
     "output_type": "display_data"
    },
    {
     "name": "stdout",
     "output_type": "stream",
     "text": [
      "Epoch 55 | Step 100 | loss = 0.037, acc = 0.975\n",
      "Epoch 55 | Step 200 | loss = 0.039, acc = 0.978\n",
      "Epoch 55 | Step 300 | loss = 0.052, acc = 0.976\n",
      "Epoch 55 | Step 400 | loss = 0.049, acc = 0.973\n",
      "Epoch 55 | Step 500 | loss = 0.050, acc = 0.979\n",
      "Epoch 55 | Step 600 | loss = 0.043, acc = 0.975\n",
      "Epoch 55 | Step 700 | loss = 0.056, acc = 0.976\n",
      "Epoch 55 | Step 800 | loss = 0.042, acc = 0.981\n",
      "Epoch 55 | Step 900 | loss = 0.038, acc = 0.977\n",
      "Evaluating Dev Set ...\n"
     ]
    },
    {
     "data": {
      "application/vnd.jupyter.widget-view+json": {
       "model_id": "66e70feb106d48488559764ca8261c8f",
       "version_major": 2,
       "version_minor": 0
      },
      "text/plain": [
       "  0%|          | 0/4131 [00:00<?, ?it/s]"
      ]
     },
     "metadata": {},
     "output_type": "display_data"
    },
    {
     "name": "stdout",
     "output_type": "stream",
     "text": [
      "Validation | Epoch 55 | acc = 0.377\n"
     ]
    },
    {
     "data": {
      "application/vnd.jupyter.widget-view+json": {
       "model_id": "cef9026527f846a8bd23f6e6dba2d52f",
       "version_major": 2,
       "version_minor": 0
      },
      "text/plain": [
       "  0%|          | 0/991 [00:00<?, ?it/s]"
      ]
     },
     "metadata": {},
     "output_type": "display_data"
    },
    {
     "name": "stdout",
     "output_type": "stream",
     "text": [
      "Epoch 56 | Step 100 | loss = 0.049, acc = 0.968\n",
      "Epoch 56 | Step 200 | loss = 0.043, acc = 0.978\n",
      "Epoch 56 | Step 300 | loss = 0.060, acc = 0.975\n",
      "Epoch 56 | Step 400 | loss = 0.043, acc = 0.977\n",
      "Epoch 56 | Step 500 | loss = 0.054, acc = 0.975\n",
      "Epoch 56 | Step 600 | loss = 0.053, acc = 0.975\n",
      "Epoch 56 | Step 700 | loss = 0.076, acc = 0.967\n",
      "Epoch 56 | Step 800 | loss = 0.118, acc = 0.954\n",
      "Epoch 56 | Step 900 | loss = 0.082, acc = 0.962\n",
      "Evaluating Dev Set ...\n"
     ]
    },
    {
     "data": {
      "application/vnd.jupyter.widget-view+json": {
       "model_id": "858f7a32d8214c90b3c0b86dbe2aa632",
       "version_major": 2,
       "version_minor": 0
      },
      "text/plain": [
       "  0%|          | 0/4131 [00:00<?, ?it/s]"
      ]
     },
     "metadata": {},
     "output_type": "display_data"
    },
    {
     "name": "stdout",
     "output_type": "stream",
     "text": [
      "Validation | Epoch 56 | acc = 0.349\n"
     ]
    },
    {
     "data": {
      "application/vnd.jupyter.widget-view+json": {
       "model_id": "8aeac9bd778e4aefb521ea6afa96c3e7",
       "version_major": 2,
       "version_minor": 0
      },
      "text/plain": [
       "  0%|          | 0/991 [00:00<?, ?it/s]"
      ]
     },
     "metadata": {},
     "output_type": "display_data"
    },
    {
     "name": "stdout",
     "output_type": "stream",
     "text": [
      "Epoch 57 | Step 100 | loss = 0.044, acc = 0.967\n",
      "Epoch 57 | Step 200 | loss = 0.043, acc = 0.978\n",
      "Epoch 57 | Step 300 | loss = 0.050, acc = 0.976\n",
      "Epoch 57 | Step 400 | loss = 0.041, acc = 0.981\n",
      "Epoch 57 | Step 500 | loss = 0.039, acc = 0.981\n",
      "Epoch 57 | Step 600 | loss = 0.044, acc = 0.978\n",
      "Epoch 57 | Step 700 | loss = 0.062, acc = 0.971\n",
      "Epoch 57 | Step 800 | loss = 0.050, acc = 0.974\n",
      "Epoch 57 | Step 900 | loss = 0.057, acc = 0.971\n",
      "Evaluating Dev Set ...\n"
     ]
    },
    {
     "data": {
      "application/vnd.jupyter.widget-view+json": {
       "model_id": "b581d11bf79b4bf29b81965b90e39172",
       "version_major": 2,
       "version_minor": 0
      },
      "text/plain": [
       "  0%|          | 0/4131 [00:00<?, ?it/s]"
      ]
     },
     "metadata": {},
     "output_type": "display_data"
    },
    {
     "name": "stdout",
     "output_type": "stream",
     "text": [
      "Validation | Epoch 57 | acc = 0.404\n"
     ]
    },
    {
     "data": {
      "application/vnd.jupyter.widget-view+json": {
       "model_id": "771b8f3a76474c7c98315dd7b9238766",
       "version_major": 2,
       "version_minor": 0
      },
      "text/plain": [
       "  0%|          | 0/991 [00:00<?, ?it/s]"
      ]
     },
     "metadata": {},
     "output_type": "display_data"
    },
    {
     "name": "stdout",
     "output_type": "stream",
     "text": [
      "Epoch 58 | Step 100 | loss = 0.039, acc = 0.970\n",
      "Epoch 58 | Step 200 | loss = 0.045, acc = 0.975\n",
      "Epoch 58 | Step 300 | loss = 0.056, acc = 0.974\n",
      "Epoch 58 | Step 400 | loss = 0.055, acc = 0.973\n",
      "Epoch 58 | Step 500 | loss = 0.051, acc = 0.978\n",
      "Epoch 58 | Step 600 | loss = 0.043, acc = 0.977\n",
      "Epoch 58 | Step 700 | loss = 0.058, acc = 0.971\n",
      "Epoch 58 | Step 800 | loss = 0.045, acc = 0.980\n",
      "Epoch 58 | Step 900 | loss = 0.064, acc = 0.971\n",
      "Evaluating Dev Set ...\n"
     ]
    },
    {
     "data": {
      "application/vnd.jupyter.widget-view+json": {
       "model_id": "5f8e2f8afd5145669a033bd42c0dea28",
       "version_major": 2,
       "version_minor": 0
      },
      "text/plain": [
       "  0%|          | 0/4131 [00:00<?, ?it/s]"
      ]
     },
     "metadata": {},
     "output_type": "display_data"
    },
    {
     "name": "stdout",
     "output_type": "stream",
     "text": [
      "Validation | Epoch 58 | acc = 0.404\n"
     ]
    },
    {
     "data": {
      "application/vnd.jupyter.widget-view+json": {
       "model_id": "f63ca4d4152746899b06b6a9bd9a8d78",
       "version_major": 2,
       "version_minor": 0
      },
      "text/plain": [
       "  0%|          | 0/991 [00:00<?, ?it/s]"
      ]
     },
     "metadata": {},
     "output_type": "display_data"
    },
    {
     "name": "stdout",
     "output_type": "stream",
     "text": [
      "Epoch 59 | Step 100 | loss = 0.036, acc = 0.974\n",
      "Epoch 59 | Step 200 | loss = 0.041, acc = 0.977\n",
      "Epoch 59 | Step 300 | loss = 0.043, acc = 0.977\n",
      "Epoch 59 | Step 400 | loss = 0.045, acc = 0.977\n",
      "Epoch 59 | Step 500 | loss = 0.043, acc = 0.978\n",
      "Epoch 59 | Step 600 | loss = 0.054, acc = 0.974\n",
      "Epoch 59 | Step 700 | loss = 0.041, acc = 0.980\n",
      "Epoch 59 | Step 800 | loss = 0.051, acc = 0.976\n",
      "Epoch 59 | Step 900 | loss = 0.056, acc = 0.971\n",
      "Evaluating Dev Set ...\n"
     ]
    },
    {
     "data": {
      "application/vnd.jupyter.widget-view+json": {
       "model_id": "5cfdfe38e05f499f927f7bb0fb038938",
       "version_major": 2,
       "version_minor": 0
      },
      "text/plain": [
       "  0%|          | 0/4131 [00:00<?, ?it/s]"
      ]
     },
     "metadata": {},
     "output_type": "display_data"
    },
    {
     "name": "stdout",
     "output_type": "stream",
     "text": [
      "Validation | Epoch 59 | acc = 0.395\n"
     ]
    },
    {
     "data": {
      "application/vnd.jupyter.widget-view+json": {
       "model_id": "0ca47781c459427d832984dc318f16c7",
       "version_major": 2,
       "version_minor": 0
      },
      "text/plain": [
       "  0%|          | 0/991 [00:00<?, ?it/s]"
      ]
     },
     "metadata": {},
     "output_type": "display_data"
    },
    {
     "name": "stdout",
     "output_type": "stream",
     "text": [
      "Epoch 60 | Step 100 | loss = 0.038, acc = 0.971\n",
      "Epoch 60 | Step 200 | loss = 0.042, acc = 0.980\n",
      "Epoch 60 | Step 300 | loss = 0.029, acc = 0.986\n",
      "Epoch 60 | Step 400 | loss = 0.055, acc = 0.970\n",
      "Epoch 60 | Step 500 | loss = 0.036, acc = 0.980\n",
      "Epoch 60 | Step 600 | loss = 0.071, acc = 0.967\n",
      "Epoch 60 | Step 700 | loss = 0.054, acc = 0.974\n",
      "Epoch 60 | Step 800 | loss = 0.049, acc = 0.974\n",
      "Epoch 60 | Step 900 | loss = 0.040, acc = 0.978\n",
      "Evaluating Dev Set ...\n"
     ]
    },
    {
     "data": {
      "application/vnd.jupyter.widget-view+json": {
       "model_id": "918ce9c3a5de460cbbf786f5af85a798",
       "version_major": 2,
       "version_minor": 0
      },
      "text/plain": [
       "  0%|          | 0/4131 [00:00<?, ?it/s]"
      ]
     },
     "metadata": {},
     "output_type": "display_data"
    },
    {
     "name": "stdout",
     "output_type": "stream",
     "text": [
      "Validation | Epoch 60 | acc = 0.396\n"
     ]
    },
    {
     "data": {
      "application/vnd.jupyter.widget-view+json": {
       "model_id": "f2cccf4feb1e41339684c6de3e36d70e",
       "version_major": 2,
       "version_minor": 0
      },
      "text/plain": [
       "  0%|          | 0/991 [00:00<?, ?it/s]"
      ]
     },
     "metadata": {},
     "output_type": "display_data"
    },
    {
     "name": "stdout",
     "output_type": "stream",
     "text": [
      "Epoch 61 | Step 100 | loss = 0.029, acc = 0.972\n",
      "Epoch 61 | Step 200 | loss = 0.035, acc = 0.981\n",
      "Epoch 61 | Step 300 | loss = 0.038, acc = 0.982\n",
      "Epoch 61 | Step 400 | loss = 0.041, acc = 0.978\n",
      "Epoch 61 | Step 500 | loss = 0.038, acc = 0.980\n",
      "Epoch 61 | Step 600 | loss = 0.046, acc = 0.975\n",
      "Epoch 61 | Step 700 | loss = 0.047, acc = 0.977\n",
      "Epoch 61 | Step 800 | loss = 0.046, acc = 0.976\n",
      "Epoch 61 | Step 900 | loss = 0.049, acc = 0.974\n",
      "Evaluating Dev Set ...\n"
     ]
    },
    {
     "data": {
      "application/vnd.jupyter.widget-view+json": {
       "model_id": "224c5f83def549318dca4c07106bc575",
       "version_major": 2,
       "version_minor": 0
      },
      "text/plain": [
       "  0%|          | 0/4131 [00:00<?, ?it/s]"
      ]
     },
     "metadata": {},
     "output_type": "display_data"
    },
    {
     "name": "stdout",
     "output_type": "stream",
     "text": [
      "Validation | Epoch 61 | acc = 0.382\n"
     ]
    },
    {
     "data": {
      "application/vnd.jupyter.widget-view+json": {
       "model_id": "b42c5f1a2d6d4cbf8b6d37f8f41fcf39",
       "version_major": 2,
       "version_minor": 0
      },
      "text/plain": [
       "  0%|          | 0/991 [00:00<?, ?it/s]"
      ]
     },
     "metadata": {},
     "output_type": "display_data"
    },
    {
     "name": "stdout",
     "output_type": "stream",
     "text": [
      "Epoch 62 | Step 100 | loss = 0.045, acc = 0.968\n",
      "Epoch 62 | Step 200 | loss = 0.039, acc = 0.982\n",
      "Epoch 62 | Step 300 | loss = 0.046, acc = 0.980\n",
      "Epoch 62 | Step 400 | loss = 0.042, acc = 0.982\n",
      "Epoch 62 | Step 500 | loss = 0.042, acc = 0.979\n",
      "Epoch 62 | Step 600 | loss = 0.064, acc = 0.970\n",
      "Epoch 62 | Step 700 | loss = 0.061, acc = 0.974\n",
      "Epoch 62 | Step 800 | loss = 0.055, acc = 0.973\n",
      "Epoch 62 | Step 900 | loss = 0.054, acc = 0.971\n",
      "Evaluating Dev Set ...\n"
     ]
    },
    {
     "data": {
      "application/vnd.jupyter.widget-view+json": {
       "model_id": "20824df4866a483b9a50fe313d1dc879",
       "version_major": 2,
       "version_minor": 0
      },
      "text/plain": [
       "  0%|          | 0/4131 [00:00<?, ?it/s]"
      ]
     },
     "metadata": {},
     "output_type": "display_data"
    },
    {
     "name": "stdout",
     "output_type": "stream",
     "text": [
      "Validation | Epoch 62 | acc = 0.390\n"
     ]
    },
    {
     "data": {
      "application/vnd.jupyter.widget-view+json": {
       "model_id": "221804891f83465c8657b8b2f916c688",
       "version_major": 2,
       "version_minor": 0
      },
      "text/plain": [
       "  0%|          | 0/991 [00:00<?, ?it/s]"
      ]
     },
     "metadata": {},
     "output_type": "display_data"
    },
    {
     "name": "stdout",
     "output_type": "stream",
     "text": [
      "Epoch 63 | Step 100 | loss = 0.041, acc = 0.968\n",
      "Epoch 63 | Step 200 | loss = 0.044, acc = 0.980\n",
      "Epoch 63 | Step 300 | loss = 0.055, acc = 0.975\n",
      "Epoch 63 | Step 400 | loss = 0.040, acc = 0.984\n",
      "Epoch 63 | Step 500 | loss = 0.037, acc = 0.981\n",
      "Epoch 63 | Step 600 | loss = 0.052, acc = 0.978\n",
      "Epoch 63 | Step 700 | loss = 0.043, acc = 0.981\n",
      "Epoch 63 | Step 800 | loss = 0.033, acc = 0.985\n",
      "Epoch 63 | Step 900 | loss = 0.043, acc = 0.976\n",
      "Evaluating Dev Set ...\n"
     ]
    },
    {
     "data": {
      "application/vnd.jupyter.widget-view+json": {
       "model_id": "9f9e783d6e3b400196bfd2a6da8b0762",
       "version_major": 2,
       "version_minor": 0
      },
      "text/plain": [
       "  0%|          | 0/4131 [00:00<?, ?it/s]"
      ]
     },
     "metadata": {},
     "output_type": "display_data"
    },
    {
     "name": "stdout",
     "output_type": "stream",
     "text": [
      "Validation | Epoch 63 | acc = 0.391\n"
     ]
    },
    {
     "data": {
      "application/vnd.jupyter.widget-view+json": {
       "model_id": "a8347ad83c3444ea978a051004367af5",
       "version_major": 2,
       "version_minor": 0
      },
      "text/plain": [
       "  0%|          | 0/991 [00:00<?, ?it/s]"
      ]
     },
     "metadata": {},
     "output_type": "display_data"
    },
    {
     "name": "stdout",
     "output_type": "stream",
     "text": [
      "Epoch 64 | Step 100 | loss = 0.045, acc = 0.971\n",
      "Epoch 64 | Step 200 | loss = 0.033, acc = 0.983\n",
      "Epoch 64 | Step 300 | loss = 0.040, acc = 0.981\n",
      "Epoch 64 | Step 400 | loss = 0.050, acc = 0.975\n",
      "Epoch 64 | Step 500 | loss = 0.045, acc = 0.979\n",
      "Epoch 64 | Step 600 | loss = 0.049, acc = 0.973\n",
      "Epoch 64 | Step 700 | loss = 0.052, acc = 0.969\n",
      "Epoch 64 | Step 800 | loss = 0.053, acc = 0.976\n",
      "Epoch 64 | Step 900 | loss = 0.046, acc = 0.975\n",
      "Evaluating Dev Set ...\n"
     ]
    },
    {
     "data": {
      "application/vnd.jupyter.widget-view+json": {
       "model_id": "81c18fda32024b9ca4ea824ee4feccd8",
       "version_major": 2,
       "version_minor": 0
      },
      "text/plain": [
       "  0%|          | 0/4131 [00:00<?, ?it/s]"
      ]
     },
     "metadata": {},
     "output_type": "display_data"
    },
    {
     "name": "stdout",
     "output_type": "stream",
     "text": [
      "Validation | Epoch 64 | acc = 0.384\n"
     ]
    },
    {
     "data": {
      "application/vnd.jupyter.widget-view+json": {
       "model_id": "37e633eaf07e4852a8a1453f34d404ff",
       "version_major": 2,
       "version_minor": 0
      },
      "text/plain": [
       "  0%|          | 0/991 [00:00<?, ?it/s]"
      ]
     },
     "metadata": {},
     "output_type": "display_data"
    },
    {
     "name": "stdout",
     "output_type": "stream",
     "text": [
      "Epoch 65 | Step 100 | loss = 0.024, acc = 0.974\n",
      "Epoch 65 | Step 200 | loss = 0.039, acc = 0.982\n",
      "Epoch 65 | Step 300 | loss = 0.039, acc = 0.982\n",
      "Epoch 65 | Step 400 | loss = 0.042, acc = 0.982\n",
      "Epoch 65 | Step 500 | loss = 0.041, acc = 0.977\n",
      "Epoch 65 | Step 600 | loss = 0.042, acc = 0.980\n",
      "Epoch 65 | Step 700 | loss = 0.048, acc = 0.975\n",
      "Epoch 65 | Step 800 | loss = 0.040, acc = 0.979\n",
      "Epoch 65 | Step 900 | loss = 0.082, acc = 0.964\n",
      "Evaluating Dev Set ...\n"
     ]
    },
    {
     "data": {
      "application/vnd.jupyter.widget-view+json": {
       "model_id": "7baef37a031846f78f2516aa96c170bf",
       "version_major": 2,
       "version_minor": 0
      },
      "text/plain": [
       "  0%|          | 0/4131 [00:00<?, ?it/s]"
      ]
     },
     "metadata": {},
     "output_type": "display_data"
    },
    {
     "name": "stdout",
     "output_type": "stream",
     "text": [
      "Validation | Epoch 65 | acc = 0.375\n"
     ]
    },
    {
     "data": {
      "application/vnd.jupyter.widget-view+json": {
       "model_id": "56871f74bce44d94aa90749e314d067a",
       "version_major": 2,
       "version_minor": 0
      },
      "text/plain": [
       "  0%|          | 0/991 [00:00<?, ?it/s]"
      ]
     },
     "metadata": {},
     "output_type": "display_data"
    },
    {
     "name": "stdout",
     "output_type": "stream",
     "text": [
      "Epoch 66 | Step 100 | loss = 0.043, acc = 0.967\n",
      "Epoch 66 | Step 200 | loss = 0.035, acc = 0.982\n",
      "Epoch 66 | Step 300 | loss = 0.049, acc = 0.977\n",
      "Epoch 66 | Step 400 | loss = 0.068, acc = 0.969\n",
      "Epoch 66 | Step 500 | loss = 0.053, acc = 0.974\n",
      "Epoch 66 | Step 600 | loss = 0.061, acc = 0.968\n",
      "Epoch 66 | Step 700 | loss = 0.057, acc = 0.975\n",
      "Epoch 66 | Step 800 | loss = 0.048, acc = 0.975\n",
      "Epoch 66 | Step 900 | loss = 0.049, acc = 0.975\n",
      "Evaluating Dev Set ...\n"
     ]
    },
    {
     "data": {
      "application/vnd.jupyter.widget-view+json": {
       "model_id": "3a42116cf3ab4f328c6f4e744c834788",
       "version_major": 2,
       "version_minor": 0
      },
      "text/plain": [
       "  0%|          | 0/4131 [00:00<?, ?it/s]"
      ]
     },
     "metadata": {},
     "output_type": "display_data"
    },
    {
     "name": "stdout",
     "output_type": "stream",
     "text": [
      "Validation | Epoch 66 | acc = 0.356\n"
     ]
    },
    {
     "data": {
      "application/vnd.jupyter.widget-view+json": {
       "model_id": "b4f4dbc3411c42ccae962a7adf19beba",
       "version_major": 2,
       "version_minor": 0
      },
      "text/plain": [
       "  0%|          | 0/991 [00:00<?, ?it/s]"
      ]
     },
     "metadata": {},
     "output_type": "display_data"
    },
    {
     "name": "stdout",
     "output_type": "stream",
     "text": [
      "Epoch 67 | Step 100 | loss = 0.032, acc = 0.974\n",
      "Epoch 67 | Step 200 | loss = 0.034, acc = 0.985\n",
      "Epoch 67 | Step 300 | loss = 0.030, acc = 0.986\n",
      "Epoch 67 | Step 400 | loss = 0.038, acc = 0.983\n",
      "Epoch 67 | Step 500 | loss = 0.031, acc = 0.983\n",
      "Epoch 67 | Step 600 | loss = 0.047, acc = 0.977\n",
      "Epoch 67 | Step 700 | loss = 0.050, acc = 0.974\n",
      "Epoch 67 | Step 800 | loss = 0.047, acc = 0.977\n",
      "Epoch 67 | Step 900 | loss = 0.052, acc = 0.974\n",
      "Evaluating Dev Set ...\n"
     ]
    },
    {
     "data": {
      "application/vnd.jupyter.widget-view+json": {
       "model_id": "0fcbfeafface40d99c1759c14dd06f84",
       "version_major": 2,
       "version_minor": 0
      },
      "text/plain": [
       "  0%|          | 0/4131 [00:00<?, ?it/s]"
      ]
     },
     "metadata": {},
     "output_type": "display_data"
    },
    {
     "name": "stdout",
     "output_type": "stream",
     "text": [
      "Validation | Epoch 67 | acc = 0.371\n"
     ]
    },
    {
     "data": {
      "application/vnd.jupyter.widget-view+json": {
       "model_id": "11514691a8424f6eb652d65a4a60be1c",
       "version_major": 2,
       "version_minor": 0
      },
      "text/plain": [
       "  0%|          | 0/991 [00:00<?, ?it/s]"
      ]
     },
     "metadata": {},
     "output_type": "display_data"
    },
    {
     "name": "stdout",
     "output_type": "stream",
     "text": [
      "Epoch 68 | Step 100 | loss = 0.045, acc = 0.970\n",
      "Epoch 68 | Step 200 | loss = 0.042, acc = 0.975\n",
      "Epoch 68 | Step 300 | loss = 0.041, acc = 0.978\n",
      "Epoch 68 | Step 400 | loss = 0.047, acc = 0.976\n",
      "Epoch 68 | Step 500 | loss = 0.033, acc = 0.983\n",
      "Epoch 68 | Step 600 | loss = 0.032, acc = 0.982\n",
      "Epoch 68 | Step 700 | loss = 0.040, acc = 0.979\n",
      "Epoch 68 | Step 800 | loss = 0.040, acc = 0.980\n",
      "Epoch 68 | Step 900 | loss = 0.042, acc = 0.981\n",
      "Evaluating Dev Set ...\n"
     ]
    },
    {
     "data": {
      "application/vnd.jupyter.widget-view+json": {
       "model_id": "eacb925634ea4bdb8e2b3fc18102fe77",
       "version_major": 2,
       "version_minor": 0
      },
      "text/plain": [
       "  0%|          | 0/4131 [00:00<?, ?it/s]"
      ]
     },
     "metadata": {},
     "output_type": "display_data"
    },
    {
     "name": "stdout",
     "output_type": "stream",
     "text": [
      "Validation | Epoch 68 | acc = 0.376\n"
     ]
    },
    {
     "data": {
      "application/vnd.jupyter.widget-view+json": {
       "model_id": "35dbace5165243b1961ba5fcef684abe",
       "version_major": 2,
       "version_minor": 0
      },
      "text/plain": [
       "  0%|          | 0/991 [00:00<?, ?it/s]"
      ]
     },
     "metadata": {},
     "output_type": "display_data"
    },
    {
     "name": "stdout",
     "output_type": "stream",
     "text": [
      "Epoch 69 | Step 100 | loss = 0.023, acc = 0.980\n",
      "Epoch 69 | Step 200 | loss = 0.035, acc = 0.986\n",
      "Epoch 69 | Step 300 | loss = 0.033, acc = 0.981\n",
      "Epoch 69 | Step 400 | loss = 0.039, acc = 0.982\n",
      "Epoch 69 | Step 500 | loss = 0.039, acc = 0.982\n",
      "Epoch 69 | Step 600 | loss = 0.045, acc = 0.980\n",
      "Epoch 69 | Step 700 | loss = 0.045, acc = 0.976\n",
      "Epoch 69 | Step 800 | loss = 0.057, acc = 0.973\n",
      "Epoch 69 | Step 900 | loss = 0.041, acc = 0.975\n",
      "Evaluating Dev Set ...\n"
     ]
    },
    {
     "data": {
      "application/vnd.jupyter.widget-view+json": {
       "model_id": "ce7ae3babf964c658f1a7f6176b3dd96",
       "version_major": 2,
       "version_minor": 0
      },
      "text/plain": [
       "  0%|          | 0/4131 [00:00<?, ?it/s]"
      ]
     },
     "metadata": {},
     "output_type": "display_data"
    },
    {
     "name": "stdout",
     "output_type": "stream",
     "text": [
      "Validation | Epoch 69 | acc = 0.386\n"
     ]
    },
    {
     "data": {
      "application/vnd.jupyter.widget-view+json": {
       "model_id": "6fba62c86709423ebd868cd55f8514e2",
       "version_major": 2,
       "version_minor": 0
      },
      "text/plain": [
       "  0%|          | 0/991 [00:00<?, ?it/s]"
      ]
     },
     "metadata": {},
     "output_type": "display_data"
    },
    {
     "name": "stdout",
     "output_type": "stream",
     "text": [
      "Epoch 70 | Step 100 | loss = 0.045, acc = 0.969\n",
      "Epoch 70 | Step 200 | loss = 0.041, acc = 0.977\n",
      "Epoch 70 | Step 300 | loss = 0.036, acc = 0.981\n",
      "Epoch 70 | Step 400 | loss = 0.036, acc = 0.980\n",
      "Epoch 70 | Step 500 | loss = 0.040, acc = 0.980\n",
      "Epoch 70 | Step 600 | loss = 0.044, acc = 0.977\n",
      "Epoch 70 | Step 700 | loss = 0.045, acc = 0.978\n",
      "Epoch 70 | Step 800 | loss = 0.049, acc = 0.974\n",
      "Epoch 70 | Step 900 | loss = 0.057, acc = 0.971\n",
      "Evaluating Dev Set ...\n"
     ]
    },
    {
     "data": {
      "application/vnd.jupyter.widget-view+json": {
       "model_id": "649615fcfecc46189f56643f44230eb4",
       "version_major": 2,
       "version_minor": 0
      },
      "text/plain": [
       "  0%|          | 0/4131 [00:00<?, ?it/s]"
      ]
     },
     "metadata": {},
     "output_type": "display_data"
    },
    {
     "name": "stdout",
     "output_type": "stream",
     "text": [
      "Validation | Epoch 70 | acc = 0.336\n"
     ]
    },
    {
     "data": {
      "application/vnd.jupyter.widget-view+json": {
       "model_id": "00a2db7c61414360956cd22cb8c00d05",
       "version_major": 2,
       "version_minor": 0
      },
      "text/plain": [
       "  0%|          | 0/991 [00:00<?, ?it/s]"
      ]
     },
     "metadata": {},
     "output_type": "display_data"
    },
    {
     "name": "stdout",
     "output_type": "stream",
     "text": [
      "Epoch 71 | Step 100 | loss = 0.051, acc = 0.966\n",
      "Epoch 71 | Step 200 | loss = 0.032, acc = 0.983\n",
      "Epoch 71 | Step 300 | loss = 0.039, acc = 0.983\n",
      "Epoch 71 | Step 400 | loss = 0.044, acc = 0.978\n",
      "Epoch 71 | Step 500 | loss = 0.063, acc = 0.975\n",
      "Epoch 71 | Step 600 | loss = 0.052, acc = 0.976\n",
      "Epoch 71 | Step 700 | loss = 0.053, acc = 0.978\n",
      "Epoch 71 | Step 800 | loss = 0.055, acc = 0.976\n",
      "Epoch 71 | Step 900 | loss = 0.028, acc = 0.988\n",
      "Evaluating Dev Set ...\n"
     ]
    },
    {
     "data": {
      "application/vnd.jupyter.widget-view+json": {
       "model_id": "f6ef8f645a814775ab69bbbe1fd5134e",
       "version_major": 2,
       "version_minor": 0
      },
      "text/plain": [
       "  0%|          | 0/4131 [00:00<?, ?it/s]"
      ]
     },
     "metadata": {},
     "output_type": "display_data"
    },
    {
     "name": "stdout",
     "output_type": "stream",
     "text": [
      "Validation | Epoch 71 | acc = 0.399\n"
     ]
    },
    {
     "data": {
      "application/vnd.jupyter.widget-view+json": {
       "model_id": "7a6b3a437b2a4e87941a8bb2d8d19536",
       "version_major": 2,
       "version_minor": 0
      },
      "text/plain": [
       "  0%|          | 0/991 [00:00<?, ?it/s]"
      ]
     },
     "metadata": {},
     "output_type": "display_data"
    },
    {
     "name": "stdout",
     "output_type": "stream",
     "text": [
      "Epoch 72 | Step 100 | loss = 0.043, acc = 0.969\n",
      "Epoch 72 | Step 200 | loss = 0.058, acc = 0.970\n",
      "Epoch 72 | Step 300 | loss = 0.042, acc = 0.978\n",
      "Epoch 72 | Step 400 | loss = 0.036, acc = 0.981\n",
      "Epoch 72 | Step 500 | loss = 0.033, acc = 0.982\n",
      "Epoch 72 | Step 600 | loss = 0.039, acc = 0.981\n",
      "Epoch 72 | Step 700 | loss = 0.050, acc = 0.975\n",
      "Epoch 72 | Step 800 | loss = 0.046, acc = 0.979\n",
      "Epoch 72 | Step 900 | loss = 0.049, acc = 0.976\n",
      "Evaluating Dev Set ...\n"
     ]
    },
    {
     "data": {
      "application/vnd.jupyter.widget-view+json": {
       "model_id": "7a3597f3606849f2a12611d7c62c2d8d",
       "version_major": 2,
       "version_minor": 0
      },
      "text/plain": [
       "  0%|          | 0/4131 [00:00<?, ?it/s]"
      ]
     },
     "metadata": {},
     "output_type": "display_data"
    },
    {
     "name": "stdout",
     "output_type": "stream",
     "text": [
      "Validation | Epoch 72 | acc = 0.394\n"
     ]
    },
    {
     "data": {
      "application/vnd.jupyter.widget-view+json": {
       "model_id": "c8d97b93841f437baa28dc9fd0e06759",
       "version_major": 2,
       "version_minor": 0
      },
      "text/plain": [
       "  0%|          | 0/991 [00:00<?, ?it/s]"
      ]
     },
     "metadata": {},
     "output_type": "display_data"
    },
    {
     "name": "stdout",
     "output_type": "stream",
     "text": [
      "Epoch 73 | Step 100 | loss = 0.046, acc = 0.971\n",
      "Epoch 73 | Step 200 | loss = 0.029, acc = 0.985\n",
      "Epoch 73 | Step 300 | loss = 0.021, acc = 0.991\n",
      "Epoch 73 | Step 400 | loss = 0.028, acc = 0.986\n",
      "Epoch 73 | Step 500 | loss = 0.034, acc = 0.984\n",
      "Epoch 73 | Step 600 | loss = 0.047, acc = 0.978\n",
      "Epoch 73 | Step 700 | loss = 0.045, acc = 0.981\n",
      "Epoch 73 | Step 800 | loss = 0.040, acc = 0.979\n",
      "Epoch 73 | Step 900 | loss = 0.044, acc = 0.977\n",
      "Evaluating Dev Set ...\n"
     ]
    },
    {
     "data": {
      "application/vnd.jupyter.widget-view+json": {
       "model_id": "71f39ea0daa745649adcc8ab1c3d0c7f",
       "version_major": 2,
       "version_minor": 0
      },
      "text/plain": [
       "  0%|          | 0/4131 [00:00<?, ?it/s]"
      ]
     },
     "metadata": {},
     "output_type": "display_data"
    },
    {
     "name": "stdout",
     "output_type": "stream",
     "text": [
      "Validation | Epoch 73 | acc = 0.363\n"
     ]
    },
    {
     "data": {
      "application/vnd.jupyter.widget-view+json": {
       "model_id": "96ca39988c294e8381749f37171af747",
       "version_major": 2,
       "version_minor": 0
      },
      "text/plain": [
       "  0%|          | 0/991 [00:00<?, ?it/s]"
      ]
     },
     "metadata": {},
     "output_type": "display_data"
    },
    {
     "name": "stdout",
     "output_type": "stream",
     "text": [
      "Epoch 74 | Step 100 | loss = 0.029, acc = 0.975\n",
      "Epoch 74 | Step 200 | loss = 0.040, acc = 0.981\n",
      "Epoch 74 | Step 300 | loss = 0.040, acc = 0.982\n",
      "Epoch 74 | Step 400 | loss = 0.031, acc = 0.986\n",
      "Epoch 74 | Step 500 | loss = 0.036, acc = 0.984\n",
      "Epoch 74 | Step 600 | loss = 0.033, acc = 0.984\n",
      "Epoch 74 | Step 700 | loss = 0.042, acc = 0.981\n",
      "Epoch 74 | Step 800 | loss = 0.047, acc = 0.978\n",
      "Epoch 74 | Step 900 | loss = 0.050, acc = 0.978\n",
      "Evaluating Dev Set ...\n"
     ]
    },
    {
     "data": {
      "application/vnd.jupyter.widget-view+json": {
       "model_id": "d1b5da617f12415c9f058e26a00389b6",
       "version_major": 2,
       "version_minor": 0
      },
      "text/plain": [
       "  0%|          | 0/4131 [00:00<?, ?it/s]"
      ]
     },
     "metadata": {},
     "output_type": "display_data"
    },
    {
     "name": "stdout",
     "output_type": "stream",
     "text": [
      "Validation | Epoch 74 | acc = 0.352\n"
     ]
    },
    {
     "data": {
      "application/vnd.jupyter.widget-view+json": {
       "model_id": "d6738193b9f440a58f182c3f75e2f834",
       "version_major": 2,
       "version_minor": 0
      },
      "text/plain": [
       "  0%|          | 0/991 [00:00<?, ?it/s]"
      ]
     },
     "metadata": {},
     "output_type": "display_data"
    },
    {
     "name": "stdout",
     "output_type": "stream",
     "text": [
      "Epoch 75 | Step 100 | loss = 0.042, acc = 0.969\n",
      "Epoch 75 | Step 200 | loss = 0.036, acc = 0.983\n",
      "Epoch 75 | Step 300 | loss = 0.036, acc = 0.982\n",
      "Epoch 75 | Step 400 | loss = 0.034, acc = 0.982\n",
      "Epoch 75 | Step 500 | loss = 0.055, acc = 0.973\n",
      "Epoch 75 | Step 600 | loss = 0.049, acc = 0.977\n",
      "Epoch 75 | Step 700 | loss = 0.034, acc = 0.982\n",
      "Epoch 75 | Step 800 | loss = 0.047, acc = 0.977\n",
      "Epoch 75 | Step 900 | loss = 0.047, acc = 0.975\n",
      "Evaluating Dev Set ...\n"
     ]
    },
    {
     "data": {
      "application/vnd.jupyter.widget-view+json": {
       "model_id": "a451a89bba004114a69456fa8d0a816d",
       "version_major": 2,
       "version_minor": 0
      },
      "text/plain": [
       "  0%|          | 0/4131 [00:00<?, ?it/s]"
      ]
     },
     "metadata": {},
     "output_type": "display_data"
    },
    {
     "name": "stdout",
     "output_type": "stream",
     "text": [
      "Validation | Epoch 75 | acc = 0.368\n"
     ]
    },
    {
     "data": {
      "application/vnd.jupyter.widget-view+json": {
       "model_id": "46470ea611c544aa9583298138300085",
       "version_major": 2,
       "version_minor": 0
      },
      "text/plain": [
       "  0%|          | 0/991 [00:00<?, ?it/s]"
      ]
     },
     "metadata": {},
     "output_type": "display_data"
    },
    {
     "name": "stdout",
     "output_type": "stream",
     "text": [
      "Epoch 76 | Step 100 | loss = 0.033, acc = 0.973\n",
      "Epoch 76 | Step 200 | loss = 0.039, acc = 0.982\n",
      "Epoch 76 | Step 300 | loss = 0.049, acc = 0.977\n",
      "Epoch 76 | Step 400 | loss = 0.040, acc = 0.982\n",
      "Epoch 76 | Step 500 | loss = 0.035, acc = 0.981\n",
      "Epoch 76 | Step 600 | loss = 0.028, acc = 0.985\n",
      "Epoch 76 | Step 700 | loss = 0.055, acc = 0.976\n",
      "Epoch 76 | Step 800 | loss = 0.045, acc = 0.979\n",
      "Epoch 76 | Step 900 | loss = 0.039, acc = 0.982\n",
      "Evaluating Dev Set ...\n"
     ]
    },
    {
     "data": {
      "application/vnd.jupyter.widget-view+json": {
       "model_id": "b0c110932fd8439bbc8542cc9a078d4a",
       "version_major": 2,
       "version_minor": 0
      },
      "text/plain": [
       "  0%|          | 0/4131 [00:00<?, ?it/s]"
      ]
     },
     "metadata": {},
     "output_type": "display_data"
    },
    {
     "name": "stdout",
     "output_type": "stream",
     "text": [
      "Validation | Epoch 76 | acc = 0.371\n"
     ]
    },
    {
     "data": {
      "application/vnd.jupyter.widget-view+json": {
       "model_id": "bc462581e4294958a15dd8717b25a8fb",
       "version_major": 2,
       "version_minor": 0
      },
      "text/plain": [
       "  0%|          | 0/991 [00:00<?, ?it/s]"
      ]
     },
     "metadata": {},
     "output_type": "display_data"
    },
    {
     "name": "stdout",
     "output_type": "stream",
     "text": [
      "Epoch 77 | Step 100 | loss = 0.037, acc = 0.971\n",
      "Epoch 77 | Step 200 | loss = 0.025, acc = 0.987\n",
      "Epoch 77 | Step 300 | loss = 0.029, acc = 0.983\n",
      "Epoch 77 | Step 400 | loss = 0.030, acc = 0.982\n",
      "Epoch 77 | Step 500 | loss = 0.050, acc = 0.973\n",
      "Epoch 77 | Step 600 | loss = 0.049, acc = 0.976\n",
      "Epoch 77 | Step 700 | loss = 0.052, acc = 0.978\n",
      "Epoch 77 | Step 800 | loss = 0.042, acc = 0.979\n",
      "Epoch 77 | Step 900 | loss = 0.045, acc = 0.980\n",
      "Evaluating Dev Set ...\n"
     ]
    },
    {
     "data": {
      "application/vnd.jupyter.widget-view+json": {
       "model_id": "46d3ab320a5b4b3887ce37d1627f1646",
       "version_major": 2,
       "version_minor": 0
      },
      "text/plain": [
       "  0%|          | 0/4131 [00:00<?, ?it/s]"
      ]
     },
     "metadata": {},
     "output_type": "display_data"
    },
    {
     "name": "stdout",
     "output_type": "stream",
     "text": [
      "Validation | Epoch 77 | acc = 0.359\n"
     ]
    },
    {
     "data": {
      "application/vnd.jupyter.widget-view+json": {
       "model_id": "a4e59c19018a457aa1c8641cb2dde009",
       "version_major": 2,
       "version_minor": 0
      },
      "text/plain": [
       "  0%|          | 0/991 [00:00<?, ?it/s]"
      ]
     },
     "metadata": {},
     "output_type": "display_data"
    },
    {
     "name": "stdout",
     "output_type": "stream",
     "text": [
      "Epoch 78 | Step 100 | loss = 0.040, acc = 0.970\n",
      "Epoch 78 | Step 200 | loss = 0.037, acc = 0.979\n",
      "Epoch 78 | Step 300 | loss = 0.040, acc = 0.980\n",
      "Epoch 78 | Step 400 | loss = 0.034, acc = 0.984\n",
      "Epoch 78 | Step 500 | loss = 0.029, acc = 0.986\n",
      "Epoch 78 | Step 600 | loss = 0.042, acc = 0.980\n",
      "Epoch 78 | Step 700 | loss = 0.036, acc = 0.982\n",
      "Epoch 78 | Step 800 | loss = 0.053, acc = 0.976\n",
      "Epoch 78 | Step 900 | loss = 0.044, acc = 0.981\n",
      "Evaluating Dev Set ...\n"
     ]
    },
    {
     "data": {
      "application/vnd.jupyter.widget-view+json": {
       "model_id": "69b0e46e9d584e269dd441a0badbd75e",
       "version_major": 2,
       "version_minor": 0
      },
      "text/plain": [
       "  0%|          | 0/4131 [00:00<?, ?it/s]"
      ]
     },
     "metadata": {},
     "output_type": "display_data"
    },
    {
     "name": "stdout",
     "output_type": "stream",
     "text": [
      "Validation | Epoch 78 | acc = 0.368\n"
     ]
    },
    {
     "data": {
      "application/vnd.jupyter.widget-view+json": {
       "model_id": "0df158bbd00943c3a74cdfaf0b999290",
       "version_major": 2,
       "version_minor": 0
      },
      "text/plain": [
       "  0%|          | 0/991 [00:00<?, ?it/s]"
      ]
     },
     "metadata": {},
     "output_type": "display_data"
    },
    {
     "name": "stdout",
     "output_type": "stream",
     "text": [
      "Epoch 79 | Step 100 | loss = 0.026, acc = 0.977\n",
      "Epoch 79 | Step 200 | loss = 0.046, acc = 0.979\n",
      "Epoch 79 | Step 300 | loss = 0.056, acc = 0.973\n",
      "Epoch 79 | Step 400 | loss = 0.059, acc = 0.972\n",
      "Epoch 79 | Step 500 | loss = 0.037, acc = 0.983\n",
      "Epoch 79 | Step 600 | loss = 0.037, acc = 0.982\n",
      "Epoch 79 | Step 700 | loss = 0.040, acc = 0.983\n",
      "Epoch 79 | Step 800 | loss = 0.042, acc = 0.980\n",
      "Epoch 79 | Step 900 | loss = 0.061, acc = 0.973\n",
      "Evaluating Dev Set ...\n"
     ]
    },
    {
     "data": {
      "application/vnd.jupyter.widget-view+json": {
       "model_id": "73b72974fb4048d7b6c57bb50130b61d",
       "version_major": 2,
       "version_minor": 0
      },
      "text/plain": [
       "  0%|          | 0/4131 [00:00<?, ?it/s]"
      ]
     },
     "metadata": {},
     "output_type": "display_data"
    },
    {
     "name": "stdout",
     "output_type": "stream",
     "text": [
      "Validation | Epoch 79 | acc = 0.362\n"
     ]
    },
    {
     "data": {
      "application/vnd.jupyter.widget-view+json": {
       "model_id": "c4c0cde862354abcbf2136ff7677176a",
       "version_major": 2,
       "version_minor": 0
      },
      "text/plain": [
       "  0%|          | 0/991 [00:00<?, ?it/s]"
      ]
     },
     "metadata": {},
     "output_type": "display_data"
    },
    {
     "name": "stdout",
     "output_type": "stream",
     "text": [
      "Epoch 80 | Step 100 | loss = 0.033, acc = 0.972\n",
      "Epoch 80 | Step 200 | loss = 0.025, acc = 0.984\n",
      "Epoch 80 | Step 300 | loss = 0.030, acc = 0.987\n",
      "Epoch 80 | Step 400 | loss = 0.025, acc = 0.984\n",
      "Epoch 80 | Step 500 | loss = 0.038, acc = 0.979\n",
      "Epoch 80 | Step 600 | loss = 0.047, acc = 0.977\n",
      "Epoch 80 | Step 700 | loss = 0.046, acc = 0.977\n",
      "Epoch 80 | Step 800 | loss = 0.044, acc = 0.973\n",
      "Epoch 80 | Step 900 | loss = 0.038, acc = 0.981\n",
      "Evaluating Dev Set ...\n"
     ]
    },
    {
     "data": {
      "application/vnd.jupyter.widget-view+json": {
       "model_id": "975a4264862d4fc4ab39697966e2ba47",
       "version_major": 2,
       "version_minor": 0
      },
      "text/plain": [
       "  0%|          | 0/4131 [00:00<?, ?it/s]"
      ]
     },
     "metadata": {},
     "output_type": "display_data"
    },
    {
     "name": "stdout",
     "output_type": "stream",
     "text": [
      "Validation | Epoch 80 | acc = 0.374\n"
     ]
    },
    {
     "data": {
      "application/vnd.jupyter.widget-view+json": {
       "model_id": "a270730cbab54616b4aaa7a706d86269",
       "version_major": 2,
       "version_minor": 0
      },
      "text/plain": [
       "  0%|          | 0/991 [00:00<?, ?it/s]"
      ]
     },
     "metadata": {},
     "output_type": "display_data"
    },
    {
     "name": "stdout",
     "output_type": "stream",
     "text": [
      "Epoch 81 | Step 100 | loss = 0.027, acc = 0.974\n",
      "Epoch 81 | Step 200 | loss = 0.030, acc = 0.982\n",
      "Epoch 81 | Step 300 | loss = 0.039, acc = 0.978\n",
      "Epoch 81 | Step 400 | loss = 0.029, acc = 0.984\n",
      "Epoch 81 | Step 500 | loss = 0.053, acc = 0.976\n",
      "Epoch 81 | Step 600 | loss = 0.044, acc = 0.977\n",
      "Epoch 81 | Step 700 | loss = 0.050, acc = 0.976\n",
      "Epoch 81 | Step 800 | loss = 0.037, acc = 0.983\n",
      "Epoch 81 | Step 900 | loss = 0.046, acc = 0.980\n",
      "Evaluating Dev Set ...\n"
     ]
    },
    {
     "data": {
      "application/vnd.jupyter.widget-view+json": {
       "model_id": "c8a27049fb804f00be67352e60a5c9f1",
       "version_major": 2,
       "version_minor": 0
      },
      "text/plain": [
       "  0%|          | 0/4131 [00:00<?, ?it/s]"
      ]
     },
     "metadata": {},
     "output_type": "display_data"
    },
    {
     "name": "stdout",
     "output_type": "stream",
     "text": [
      "Validation | Epoch 81 | acc = 0.385\n"
     ]
    },
    {
     "data": {
      "application/vnd.jupyter.widget-view+json": {
       "model_id": "3b6c16bbec27415ba07787226845333e",
       "version_major": 2,
       "version_minor": 0
      },
      "text/plain": [
       "  0%|          | 0/991 [00:00<?, ?it/s]"
      ]
     },
     "metadata": {},
     "output_type": "display_data"
    },
    {
     "name": "stdout",
     "output_type": "stream",
     "text": [
      "Epoch 82 | Step 100 | loss = 0.037, acc = 0.972\n",
      "Epoch 82 | Step 200 | loss = 0.035, acc = 0.979\n",
      "Epoch 82 | Step 300 | loss = 0.031, acc = 0.985\n",
      "Epoch 82 | Step 400 | loss = 0.044, acc = 0.980\n",
      "Epoch 82 | Step 500 | loss = 0.043, acc = 0.982\n",
      "Epoch 82 | Step 600 | loss = 0.038, acc = 0.983\n",
      "Epoch 82 | Step 700 | loss = 0.039, acc = 0.982\n",
      "Epoch 82 | Step 800 | loss = 0.041, acc = 0.984\n",
      "Epoch 82 | Step 900 | loss = 0.045, acc = 0.978\n",
      "Evaluating Dev Set ...\n"
     ]
    },
    {
     "data": {
      "application/vnd.jupyter.widget-view+json": {
       "model_id": "1967dba877874c83a43b0522c6f4f404",
       "version_major": 2,
       "version_minor": 0
      },
      "text/plain": [
       "  0%|          | 0/4131 [00:00<?, ?it/s]"
      ]
     },
     "metadata": {},
     "output_type": "display_data"
    },
    {
     "name": "stdout",
     "output_type": "stream",
     "text": [
      "Validation | Epoch 82 | acc = 0.353\n"
     ]
    },
    {
     "data": {
      "application/vnd.jupyter.widget-view+json": {
       "model_id": "3cc56cc6790f4e1580e2fd166bfe408f",
       "version_major": 2,
       "version_minor": 0
      },
      "text/plain": [
       "  0%|          | 0/991 [00:00<?, ?it/s]"
      ]
     },
     "metadata": {},
     "output_type": "display_data"
    },
    {
     "name": "stdout",
     "output_type": "stream",
     "text": [
      "Epoch 83 | Step 100 | loss = 0.032, acc = 0.972\n",
      "Epoch 83 | Step 200 | loss = 0.037, acc = 0.982\n",
      "Epoch 83 | Step 300 | loss = 0.028, acc = 0.986\n",
      "Epoch 83 | Step 400 | loss = 0.041, acc = 0.980\n",
      "Epoch 83 | Step 500 | loss = 0.045, acc = 0.978\n",
      "Epoch 83 | Step 600 | loss = 0.037, acc = 0.982\n",
      "Epoch 83 | Step 700 | loss = 0.033, acc = 0.984\n",
      "Epoch 83 | Step 800 | loss = 0.049, acc = 0.978\n",
      "Epoch 83 | Step 900 | loss = 0.044, acc = 0.976\n",
      "Evaluating Dev Set ...\n"
     ]
    },
    {
     "data": {
      "application/vnd.jupyter.widget-view+json": {
       "model_id": "f02bb0f37fd04514bf290dcbf8fcdaa7",
       "version_major": 2,
       "version_minor": 0
      },
      "text/plain": [
       "  0%|          | 0/4131 [00:00<?, ?it/s]"
      ]
     },
     "metadata": {},
     "output_type": "display_data"
    },
    {
     "name": "stdout",
     "output_type": "stream",
     "text": [
      "Validation | Epoch 83 | acc = 0.389\n"
     ]
    },
    {
     "data": {
      "application/vnd.jupyter.widget-view+json": {
       "model_id": "730535169083443c88642b04f0d84175",
       "version_major": 2,
       "version_minor": 0
      },
      "text/plain": [
       "  0%|          | 0/991 [00:00<?, ?it/s]"
      ]
     },
     "metadata": {},
     "output_type": "display_data"
    },
    {
     "name": "stdout",
     "output_type": "stream",
     "text": [
      "Epoch 84 | Step 100 | loss = 0.026, acc = 0.974\n",
      "Epoch 84 | Step 200 | loss = 0.043, acc = 0.979\n",
      "Epoch 84 | Step 300 | loss = 0.031, acc = 0.985\n",
      "Epoch 84 | Step 400 | loss = 0.040, acc = 0.980\n",
      "Epoch 84 | Step 500 | loss = 0.044, acc = 0.978\n",
      "Epoch 84 | Step 600 | loss = 0.106, acc = 0.965\n",
      "Epoch 84 | Step 700 | loss = 0.088, acc = 0.967\n",
      "Epoch 84 | Step 800 | loss = 0.072, acc = 0.972\n",
      "Epoch 84 | Step 900 | loss = 0.063, acc = 0.970\n",
      "Evaluating Dev Set ...\n"
     ]
    },
    {
     "data": {
      "application/vnd.jupyter.widget-view+json": {
       "model_id": "de3c10b634b04545921e4d2cc09aeb08",
       "version_major": 2,
       "version_minor": 0
      },
      "text/plain": [
       "  0%|          | 0/4131 [00:00<?, ?it/s]"
      ]
     },
     "metadata": {},
     "output_type": "display_data"
    },
    {
     "name": "stdout",
     "output_type": "stream",
     "text": [
      "Validation | Epoch 84 | acc = 0.000\n"
     ]
    },
    {
     "data": {
      "application/vnd.jupyter.widget-view+json": {
       "model_id": "e586d5ab3c124ebea5d9d1e594fd376c",
       "version_major": 2,
       "version_minor": 0
      },
      "text/plain": [
       "  0%|          | 0/991 [00:00<?, ?it/s]"
      ]
     },
     "metadata": {},
     "output_type": "display_data"
    },
    {
     "name": "stdout",
     "output_type": "stream",
     "text": [
      "Epoch 85 | Step 100 | loss = 5.216, acc = 0.000\n",
      "Epoch 85 | Step 200 | loss = 5.268, acc = 0.000\n",
      "Epoch 85 | Step 300 | loss = 5.287, acc = 0.000\n",
      "Epoch 85 | Step 400 | loss = 5.273, acc = 0.000\n",
      "Epoch 85 | Step 500 | loss = 5.275, acc = 0.000\n",
      "Epoch 85 | Step 600 | loss = 5.273, acc = 0.000\n",
      "Epoch 85 | Step 700 | loss = 5.269, acc = 0.000\n",
      "Epoch 85 | Step 800 | loss = 5.274, acc = 0.000\n",
      "Epoch 85 | Step 900 | loss = 5.269, acc = 0.000\n",
      "Evaluating Dev Set ...\n"
     ]
    },
    {
     "data": {
      "application/vnd.jupyter.widget-view+json": {
       "model_id": "9406d0fc9d464857ac182772d48d1d0f",
       "version_major": 2,
       "version_minor": 0
      },
      "text/plain": [
       "  0%|          | 0/4131 [00:00<?, ?it/s]"
      ]
     },
     "metadata": {},
     "output_type": "display_data"
    },
    {
     "name": "stdout",
     "output_type": "stream",
     "text": [
      "Validation | Epoch 85 | acc = 0.000\n"
     ]
    },
    {
     "data": {
      "application/vnd.jupyter.widget-view+json": {
       "model_id": "41f4ced28d63473fa1a75fef2dcb1ca1",
       "version_major": 2,
       "version_minor": 0
      },
      "text/plain": [
       "  0%|          | 0/991 [00:00<?, ?it/s]"
      ]
     },
     "metadata": {},
     "output_type": "display_data"
    },
    {
     "name": "stdout",
     "output_type": "stream",
     "text": [
      "Epoch 86 | Step 100 | loss = 5.216, acc = 0.000\n",
      "Epoch 86 | Step 200 | loss = 5.267, acc = 0.000\n",
      "Epoch 86 | Step 300 | loss = 5.267, acc = 0.000\n",
      "Epoch 86 | Step 400 | loss = 5.270, acc = 0.000\n",
      "Epoch 86 | Step 500 | loss = 5.268, acc = 0.000\n",
      "Epoch 86 | Step 600 | loss = 5.267, acc = 0.000\n",
      "Epoch 86 | Step 700 | loss = 5.267, acc = 0.000\n",
      "Epoch 86 | Step 800 | loss = 5.266, acc = 0.000\n",
      "Epoch 86 | Step 900 | loss = 5.266, acc = 0.000\n",
      "Evaluating Dev Set ...\n"
     ]
    },
    {
     "data": {
      "application/vnd.jupyter.widget-view+json": {
       "model_id": "4c2904568597419584a64deba66db0f7",
       "version_major": 2,
       "version_minor": 0
      },
      "text/plain": [
       "  0%|          | 0/4131 [00:00<?, ?it/s]"
      ]
     },
     "metadata": {},
     "output_type": "display_data"
    },
    {
     "name": "stdout",
     "output_type": "stream",
     "text": [
      "Validation | Epoch 86 | acc = 0.000\n"
     ]
    },
    {
     "data": {
      "application/vnd.jupyter.widget-view+json": {
       "model_id": "5142711de6864b51b5003fa4743c3ae6",
       "version_major": 2,
       "version_minor": 0
      },
      "text/plain": [
       "  0%|          | 0/991 [00:00<?, ?it/s]"
      ]
     },
     "metadata": {},
     "output_type": "display_data"
    },
    {
     "name": "stdout",
     "output_type": "stream",
     "text": [
      "Epoch 87 | Step 100 | loss = 5.213, acc = 0.000\n",
      "Epoch 87 | Step 200 | loss = 5.266, acc = 0.000\n",
      "Epoch 87 | Step 300 | loss = 5.267, acc = 0.000\n",
      "Epoch 87 | Step 400 | loss = 5.265, acc = 0.000\n",
      "Epoch 87 | Step 500 | loss = 5.267, acc = 0.000\n",
      "Epoch 87 | Step 600 | loss = 5.264, acc = 0.000\n",
      "Epoch 87 | Step 700 | loss = 5.265, acc = 0.000\n",
      "Epoch 87 | Step 800 | loss = 5.266, acc = 0.000\n",
      "Epoch 87 | Step 900 | loss = 5.266, acc = 0.000\n",
      "Evaluating Dev Set ...\n"
     ]
    },
    {
     "data": {
      "application/vnd.jupyter.widget-view+json": {
       "model_id": "f3809d627a63463ea5e0a86eef7fd4e6",
       "version_major": 2,
       "version_minor": 0
      },
      "text/plain": [
       "  0%|          | 0/4131 [00:00<?, ?it/s]"
      ]
     },
     "metadata": {},
     "output_type": "display_data"
    },
    {
     "name": "stdout",
     "output_type": "stream",
     "text": [
      "Validation | Epoch 87 | acc = 0.000\n"
     ]
    },
    {
     "data": {
      "application/vnd.jupyter.widget-view+json": {
       "model_id": "040b19e643664dd48664fca3bf623264",
       "version_major": 2,
       "version_minor": 0
      },
      "text/plain": [
       "  0%|          | 0/991 [00:00<?, ?it/s]"
      ]
     },
     "metadata": {},
     "output_type": "display_data"
    },
    {
     "name": "stdout",
     "output_type": "stream",
     "text": [
      "Epoch 88 | Step 100 | loss = 5.213, acc = 0.000\n",
      "Epoch 88 | Step 200 | loss = 5.267, acc = 0.000\n",
      "Epoch 88 | Step 300 | loss = 5.265, acc = 0.000\n",
      "Epoch 88 | Step 400 | loss = 5.263, acc = 0.000\n",
      "Epoch 88 | Step 500 | loss = 5.266, acc = 0.000\n",
      "Epoch 88 | Step 600 | loss = 5.265, acc = 0.000\n",
      "Epoch 88 | Step 700 | loss = 5.264, acc = 0.000\n",
      "Epoch 88 | Step 800 | loss = 5.266, acc = 0.000\n",
      "Epoch 88 | Step 900 | loss = 5.266, acc = 0.000\n",
      "Evaluating Dev Set ...\n"
     ]
    },
    {
     "data": {
      "application/vnd.jupyter.widget-view+json": {
       "model_id": "7ca4253021234e6b83cd76b33e395396",
       "version_major": 2,
       "version_minor": 0
      },
      "text/plain": [
       "  0%|          | 0/4131 [00:00<?, ?it/s]"
      ]
     },
     "metadata": {},
     "output_type": "display_data"
    },
    {
     "name": "stdout",
     "output_type": "stream",
     "text": [
      "Validation | Epoch 88 | acc = 0.000\n"
     ]
    },
    {
     "data": {
      "application/vnd.jupyter.widget-view+json": {
       "model_id": "630b478ae8494561a2278debf0012a99",
       "version_major": 2,
       "version_minor": 0
      },
      "text/plain": [
       "  0%|          | 0/991 [00:00<?, ?it/s]"
      ]
     },
     "metadata": {},
     "output_type": "display_data"
    },
    {
     "name": "stdout",
     "output_type": "stream",
     "text": [
      "Epoch 89 | Step 100 | loss = 5.212, acc = 0.000\n",
      "Epoch 89 | Step 200 | loss = 5.266, acc = 0.000\n",
      "Epoch 89 | Step 300 | loss = 5.265, acc = 0.000\n",
      "Epoch 89 | Step 400 | loss = 5.264, acc = 0.000\n",
      "Epoch 89 | Step 500 | loss = 5.265, acc = 0.000\n",
      "Epoch 89 | Step 600 | loss = 5.264, acc = 0.000\n",
      "Epoch 89 | Step 700 | loss = 5.266, acc = 0.000\n",
      "Epoch 89 | Step 800 | loss = 5.263, acc = 0.000\n",
      "Epoch 89 | Step 900 | loss = 5.266, acc = 0.000\n",
      "Evaluating Dev Set ...\n"
     ]
    },
    {
     "data": {
      "application/vnd.jupyter.widget-view+json": {
       "model_id": "46e5919474504087b5694849b40e6bdf",
       "version_major": 2,
       "version_minor": 0
      },
      "text/plain": [
       "  0%|          | 0/4131 [00:00<?, ?it/s]"
      ]
     },
     "metadata": {},
     "output_type": "display_data"
    },
    {
     "name": "stdout",
     "output_type": "stream",
     "text": [
      "Validation | Epoch 89 | acc = 0.000\n"
     ]
    },
    {
     "data": {
      "application/vnd.jupyter.widget-view+json": {
       "model_id": "8c77edbee55346478f4247caf574d645",
       "version_major": 2,
       "version_minor": 0
      },
      "text/plain": [
       "  0%|          | 0/991 [00:00<?, ?it/s]"
      ]
     },
     "metadata": {},
     "output_type": "display_data"
    },
    {
     "name": "stdout",
     "output_type": "stream",
     "text": [
      "Epoch 90 | Step 100 | loss = 5.211, acc = 0.000\n",
      "Epoch 90 | Step 200 | loss = 5.265, acc = 0.000\n",
      "Epoch 90 | Step 300 | loss = 5.265, acc = 0.000\n",
      "Epoch 90 | Step 400 | loss = 5.264, acc = 0.000\n",
      "Epoch 90 | Step 500 | loss = 5.266, acc = 0.000\n",
      "Epoch 90 | Step 600 | loss = 5.265, acc = 0.000\n",
      "Epoch 90 | Step 700 | loss = 5.264, acc = 0.000\n",
      "Epoch 90 | Step 800 | loss = 5.264, acc = 0.000\n",
      "Epoch 90 | Step 900 | loss = 5.264, acc = 0.000\n",
      "Evaluating Dev Set ...\n"
     ]
    },
    {
     "data": {
      "application/vnd.jupyter.widget-view+json": {
       "model_id": "f328724d855e4e578b854f8a8412ac90",
       "version_major": 2,
       "version_minor": 0
      },
      "text/plain": [
       "  0%|          | 0/4131 [00:00<?, ?it/s]"
      ]
     },
     "metadata": {},
     "output_type": "display_data"
    },
    {
     "name": "stdout",
     "output_type": "stream",
     "text": [
      "Validation | Epoch 90 | acc = 0.000\n"
     ]
    },
    {
     "data": {
      "application/vnd.jupyter.widget-view+json": {
       "model_id": "ab7e2219618947408d107a9cf0220670",
       "version_major": 2,
       "version_minor": 0
      },
      "text/plain": [
       "  0%|          | 0/991 [00:00<?, ?it/s]"
      ]
     },
     "metadata": {},
     "output_type": "display_data"
    },
    {
     "name": "stdout",
     "output_type": "stream",
     "text": [
      "Epoch 91 | Step 100 | loss = 5.212, acc = 0.000\n",
      "Epoch 91 | Step 200 | loss = 5.264, acc = 0.000\n",
      "Epoch 91 | Step 300 | loss = 5.264, acc = 0.000\n",
      "Epoch 91 | Step 400 | loss = 5.264, acc = 0.000\n",
      "Epoch 91 | Step 500 | loss = 5.264, acc = 0.000\n",
      "Epoch 91 | Step 600 | loss = 5.266, acc = 0.000\n",
      "Epoch 91 | Step 700 | loss = 5.264, acc = 0.000\n",
      "Epoch 91 | Step 800 | loss = 5.264, acc = 0.000\n",
      "Epoch 91 | Step 900 | loss = 5.264, acc = 0.000\n",
      "Evaluating Dev Set ...\n"
     ]
    },
    {
     "data": {
      "application/vnd.jupyter.widget-view+json": {
       "model_id": "46c85bd3f4bd4a80909c72803cca64cd",
       "version_major": 2,
       "version_minor": 0
      },
      "text/plain": [
       "  0%|          | 0/4131 [00:00<?, ?it/s]"
      ]
     },
     "metadata": {},
     "output_type": "display_data"
    },
    {
     "name": "stdout",
     "output_type": "stream",
     "text": [
      "Validation | Epoch 91 | acc = 0.000\n"
     ]
    },
    {
     "data": {
      "application/vnd.jupyter.widget-view+json": {
       "model_id": "339d655758f349bdb2a90c466702dcd2",
       "version_major": 2,
       "version_minor": 0
      },
      "text/plain": [
       "  0%|          | 0/991 [00:00<?, ?it/s]"
      ]
     },
     "metadata": {},
     "output_type": "display_data"
    },
    {
     "name": "stdout",
     "output_type": "stream",
     "text": [
      "Epoch 92 | Step 100 | loss = 5.212, acc = 0.000\n",
      "Epoch 92 | Step 200 | loss = 5.264, acc = 0.000\n",
      "Epoch 92 | Step 300 | loss = 5.265, acc = 0.000\n",
      "Epoch 92 | Step 400 | loss = 5.263, acc = 0.000\n",
      "Epoch 92 | Step 500 | loss = 5.264, acc = 0.000\n",
      "Epoch 92 | Step 600 | loss = 5.264, acc = 0.000\n",
      "Epoch 92 | Step 700 | loss = 5.264, acc = 0.000\n",
      "Epoch 92 | Step 800 | loss = 5.264, acc = 0.000\n",
      "Epoch 92 | Step 900 | loss = 5.265, acc = 0.000\n",
      "Evaluating Dev Set ...\n"
     ]
    },
    {
     "data": {
      "application/vnd.jupyter.widget-view+json": {
       "model_id": "ea5a8aaccfd140dd80d95c6ea7256919",
       "version_major": 2,
       "version_minor": 0
      },
      "text/plain": [
       "  0%|          | 0/4131 [00:00<?, ?it/s]"
      ]
     },
     "metadata": {},
     "output_type": "display_data"
    },
    {
     "name": "stdout",
     "output_type": "stream",
     "text": [
      "Validation | Epoch 92 | acc = 0.000\n"
     ]
    },
    {
     "data": {
      "application/vnd.jupyter.widget-view+json": {
       "model_id": "d0a158aff1da44dc9c062612599d6d9f",
       "version_major": 2,
       "version_minor": 0
      },
      "text/plain": [
       "  0%|          | 0/991 [00:00<?, ?it/s]"
      ]
     },
     "metadata": {},
     "output_type": "display_data"
    },
    {
     "name": "stdout",
     "output_type": "stream",
     "text": [
      "Epoch 93 | Step 100 | loss = 5.211, acc = 0.000\n",
      "Epoch 93 | Step 200 | loss = 5.264, acc = 0.000\n",
      "Epoch 93 | Step 300 | loss = 5.264, acc = 0.000\n",
      "Epoch 93 | Step 400 | loss = 5.263, acc = 0.000\n",
      "Epoch 93 | Step 500 | loss = 5.263, acc = 0.000\n",
      "Epoch 93 | Step 600 | loss = 5.264, acc = 0.000\n",
      "Epoch 93 | Step 700 | loss = 5.265, acc = 0.000\n",
      "Epoch 93 | Step 800 | loss = 5.263, acc = 0.000\n",
      "Epoch 93 | Step 900 | loss = 5.264, acc = 0.000\n",
      "Evaluating Dev Set ...\n"
     ]
    },
    {
     "data": {
      "application/vnd.jupyter.widget-view+json": {
       "model_id": "2a375515619a44048a5a602cc1a81594",
       "version_major": 2,
       "version_minor": 0
      },
      "text/plain": [
       "  0%|          | 0/4131 [00:00<?, ?it/s]"
      ]
     },
     "metadata": {},
     "output_type": "display_data"
    },
    {
     "name": "stdout",
     "output_type": "stream",
     "text": [
      "Validation | Epoch 93 | acc = 0.000\n"
     ]
    },
    {
     "data": {
      "application/vnd.jupyter.widget-view+json": {
       "model_id": "0273c2962fcc4b2485f1a9290f8ba1ee",
       "version_major": 2,
       "version_minor": 0
      },
      "text/plain": [
       "  0%|          | 0/991 [00:00<?, ?it/s]"
      ]
     },
     "metadata": {},
     "output_type": "display_data"
    },
    {
     "name": "stdout",
     "output_type": "stream",
     "text": [
      "Epoch 94 | Step 100 | loss = 5.211, acc = 0.000\n",
      "Epoch 94 | Step 200 | loss = 5.263, acc = 0.000\n",
      "Epoch 94 | Step 300 | loss = 5.264, acc = 0.000\n",
      "Epoch 94 | Step 400 | loss = 5.264, acc = 0.000\n",
      "Epoch 94 | Step 500 | loss = 5.263, acc = 0.000\n",
      "Epoch 94 | Step 600 | loss = 5.263, acc = 0.000\n",
      "Epoch 94 | Step 700 | loss = 5.263, acc = 0.000\n",
      "Epoch 94 | Step 800 | loss = 5.264, acc = 0.000\n",
      "Epoch 94 | Step 900 | loss = 5.263, acc = 0.000\n",
      "Evaluating Dev Set ...\n"
     ]
    },
    {
     "data": {
      "application/vnd.jupyter.widget-view+json": {
       "model_id": "3584ffbea73147159bf9998d92fe40d8",
       "version_major": 2,
       "version_minor": 0
      },
      "text/plain": [
       "  0%|          | 0/4131 [00:00<?, ?it/s]"
      ]
     },
     "metadata": {},
     "output_type": "display_data"
    },
    {
     "name": "stdout",
     "output_type": "stream",
     "text": [
      "Validation | Epoch 94 | acc = 0.000\n"
     ]
    },
    {
     "data": {
      "application/vnd.jupyter.widget-view+json": {
       "model_id": "8c01e1fada9a4d578e27e2a1fba267a9",
       "version_major": 2,
       "version_minor": 0
      },
      "text/plain": [
       "  0%|          | 0/991 [00:00<?, ?it/s]"
      ]
     },
     "metadata": {},
     "output_type": "display_data"
    },
    {
     "name": "stdout",
     "output_type": "stream",
     "text": [
      "Epoch 95 | Step 100 | loss = 5.211, acc = 0.000\n",
      "Epoch 95 | Step 200 | loss = 5.263, acc = 0.000\n",
      "Epoch 95 | Step 300 | loss = 5.263, acc = 0.000\n",
      "Epoch 95 | Step 400 | loss = 5.263, acc = 0.000\n",
      "Epoch 95 | Step 500 | loss = 5.265, acc = 0.000\n",
      "Epoch 95 | Step 600 | loss = 5.264, acc = 0.000\n",
      "Epoch 95 | Step 700 | loss = 5.264, acc = 0.000\n",
      "Epoch 95 | Step 800 | loss = 5.263, acc = 0.000\n",
      "Epoch 95 | Step 900 | loss = 5.264, acc = 0.000\n",
      "Evaluating Dev Set ...\n"
     ]
    },
    {
     "data": {
      "application/vnd.jupyter.widget-view+json": {
       "model_id": "cd91646c00c04a82b2314e11eabd51cf",
       "version_major": 2,
       "version_minor": 0
      },
      "text/plain": [
       "  0%|          | 0/4131 [00:00<?, ?it/s]"
      ]
     },
     "metadata": {},
     "output_type": "display_data"
    },
    {
     "name": "stdout",
     "output_type": "stream",
     "text": [
      "Validation | Epoch 95 | acc = 0.000\n"
     ]
    },
    {
     "data": {
      "application/vnd.jupyter.widget-view+json": {
       "model_id": "11070c98135748cdb43436607a086f71",
       "version_major": 2,
       "version_minor": 0
      },
      "text/plain": [
       "  0%|          | 0/991 [00:00<?, ?it/s]"
      ]
     },
     "metadata": {},
     "output_type": "display_data"
    },
    {
     "name": "stdout",
     "output_type": "stream",
     "text": [
      "Epoch 96 | Step 100 | loss = 5.209, acc = 0.000\n",
      "Epoch 96 | Step 200 | loss = 5.264, acc = 0.000\n",
      "Epoch 96 | Step 300 | loss = 5.264, acc = 0.000\n",
      "Epoch 96 | Step 400 | loss = 5.264, acc = 0.000\n",
      "Epoch 96 | Step 500 | loss = 5.264, acc = 0.000\n",
      "Epoch 96 | Step 600 | loss = 5.264, acc = 0.000\n",
      "Epoch 96 | Step 700 | loss = 5.264, acc = 0.000\n",
      "Epoch 96 | Step 800 | loss = 5.265, acc = 0.000\n",
      "Epoch 96 | Step 900 | loss = 5.264, acc = 0.000\n",
      "Evaluating Dev Set ...\n"
     ]
    },
    {
     "data": {
      "application/vnd.jupyter.widget-view+json": {
       "model_id": "e6596af102aa43c287c8fe885277ac14",
       "version_major": 2,
       "version_minor": 0
      },
      "text/plain": [
       "  0%|          | 0/4131 [00:00<?, ?it/s]"
      ]
     },
     "metadata": {},
     "output_type": "display_data"
    },
    {
     "name": "stdout",
     "output_type": "stream",
     "text": [
      "Validation | Epoch 96 | acc = 0.000\n"
     ]
    },
    {
     "data": {
      "application/vnd.jupyter.widget-view+json": {
       "model_id": "b1451d8193344d7aa0b561c131432304",
       "version_major": 2,
       "version_minor": 0
      },
      "text/plain": [
       "  0%|          | 0/991 [00:00<?, ?it/s]"
      ]
     },
     "metadata": {},
     "output_type": "display_data"
    },
    {
     "name": "stdout",
     "output_type": "stream",
     "text": [
      "Epoch 97 | Step 100 | loss = 5.212, acc = 0.000\n",
      "Epoch 97 | Step 200 | loss = 5.265, acc = 0.000\n",
      "Epoch 97 | Step 300 | loss = 5.263, acc = 0.000\n",
      "Epoch 97 | Step 400 | loss = 5.263, acc = 0.000\n",
      "Epoch 97 | Step 500 | loss = 5.263, acc = 0.000\n",
      "Epoch 97 | Step 600 | loss = 5.263, acc = 0.000\n",
      "Epoch 97 | Step 700 | loss = 5.264, acc = 0.000\n",
      "Epoch 97 | Step 800 | loss = 5.263, acc = 0.000\n",
      "Epoch 97 | Step 900 | loss = 5.264, acc = 0.000\n",
      "Evaluating Dev Set ...\n"
     ]
    },
    {
     "data": {
      "application/vnd.jupyter.widget-view+json": {
       "model_id": "703a66aa87dc4f35a528578c93cd3a2d",
       "version_major": 2,
       "version_minor": 0
      },
      "text/plain": [
       "  0%|          | 0/4131 [00:00<?, ?it/s]"
      ]
     },
     "metadata": {},
     "output_type": "display_data"
    },
    {
     "name": "stdout",
     "output_type": "stream",
     "text": [
      "Validation | Epoch 97 | acc = 0.000\n"
     ]
    },
    {
     "data": {
      "application/vnd.jupyter.widget-view+json": {
       "model_id": "52c1439c107c4908ac0a7d80fa7d974a",
       "version_major": 2,
       "version_minor": 0
      },
      "text/plain": [
       "  0%|          | 0/991 [00:00<?, ?it/s]"
      ]
     },
     "metadata": {},
     "output_type": "display_data"
    },
    {
     "name": "stdout",
     "output_type": "stream",
     "text": [
      "Epoch 98 | Step 100 | loss = 5.210, acc = 0.000\n",
      "Epoch 98 | Step 200 | loss = 5.264, acc = 0.000\n",
      "Epoch 98 | Step 300 | loss = 5.263, acc = 0.000\n",
      "Epoch 98 | Step 400 | loss = 5.263, acc = 0.000\n",
      "Epoch 98 | Step 500 | loss = 5.265, acc = 0.000\n",
      "Epoch 98 | Step 600 | loss = 5.264, acc = 0.000\n",
      "Epoch 98 | Step 700 | loss = 5.264, acc = 0.000\n",
      "Epoch 98 | Step 800 | loss = 5.264, acc = 0.000\n",
      "Epoch 98 | Step 900 | loss = 5.264, acc = 0.000\n",
      "Evaluating Dev Set ...\n"
     ]
    },
    {
     "data": {
      "application/vnd.jupyter.widget-view+json": {
       "model_id": "1928a8b4b1224cfc97df7bdc4941d96f",
       "version_major": 2,
       "version_minor": 0
      },
      "text/plain": [
       "  0%|          | 0/4131 [00:00<?, ?it/s]"
      ]
     },
     "metadata": {},
     "output_type": "display_data"
    },
    {
     "name": "stdout",
     "output_type": "stream",
     "text": [
      "Validation | Epoch 98 | acc = 0.000\n"
     ]
    },
    {
     "data": {
      "application/vnd.jupyter.widget-view+json": {
       "model_id": "c1ab145dea8445a38861f67ac57f6e4e",
       "version_major": 2,
       "version_minor": 0
      },
      "text/plain": [
       "  0%|          | 0/991 [00:00<?, ?it/s]"
      ]
     },
     "metadata": {},
     "output_type": "display_data"
    },
    {
     "name": "stdout",
     "output_type": "stream",
     "text": [
      "Epoch 99 | Step 100 | loss = 5.210, acc = 0.000\n",
      "Epoch 99 | Step 200 | loss = 5.264, acc = 0.000\n",
      "Epoch 99 | Step 300 | loss = 5.264, acc = 0.000\n",
      "Epoch 99 | Step 400 | loss = 5.264, acc = 0.000\n",
      "Epoch 99 | Step 500 | loss = 5.263, acc = 0.000\n",
      "Epoch 99 | Step 600 | loss = 5.264, acc = 0.000\n",
      "Epoch 99 | Step 700 | loss = 5.263, acc = 0.000\n",
      "Epoch 99 | Step 800 | loss = 5.264, acc = 0.000\n",
      "Epoch 99 | Step 900 | loss = 5.263, acc = 0.000\n",
      "Evaluating Dev Set ...\n"
     ]
    },
    {
     "data": {
      "application/vnd.jupyter.widget-view+json": {
       "model_id": "e8e3b89ce9414eb5bbe427ca6d30b24c",
       "version_major": 2,
       "version_minor": 0
      },
      "text/plain": [
       "  0%|          | 0/4131 [00:00<?, ?it/s]"
      ]
     },
     "metadata": {},
     "output_type": "display_data"
    },
    {
     "name": "stdout",
     "output_type": "stream",
     "text": [
      "Validation | Epoch 99 | acc = 0.000\n"
     ]
    },
    {
     "data": {
      "application/vnd.jupyter.widget-view+json": {
       "model_id": "5c6e887014df4ee28ddc83125120dd11",
       "version_major": 2,
       "version_minor": 0
      },
      "text/plain": [
       "  0%|          | 0/991 [00:00<?, ?it/s]"
      ]
     },
     "metadata": {},
     "output_type": "display_data"
    },
    {
     "name": "stdout",
     "output_type": "stream",
     "text": [
      "Epoch 100 | Step 100 | loss = 5.210, acc = 0.000\n",
      "Epoch 100 | Step 200 | loss = 5.264, acc = 0.000\n",
      "Epoch 100 | Step 300 | loss = 5.263, acc = 0.000\n",
      "Epoch 100 | Step 400 | loss = 5.264, acc = 0.000\n",
      "Epoch 100 | Step 500 | loss = 5.264, acc = 0.000\n",
      "Epoch 100 | Step 600 | loss = 5.264, acc = 0.000\n",
      "Epoch 100 | Step 700 | loss = 5.263, acc = 0.000\n",
      "Epoch 100 | Step 800 | loss = 5.263, acc = 0.000\n",
      "Epoch 100 | Step 900 | loss = 5.264, acc = 0.000\n",
      "Evaluating Dev Set ...\n"
     ]
    },
    {
     "data": {
      "application/vnd.jupyter.widget-view+json": {
       "model_id": "cbaa58a726824fb999a5bb502daa3d2c",
       "version_major": 2,
       "version_minor": 0
      },
      "text/plain": [
       "  0%|          | 0/4131 [00:00<?, ?it/s]"
      ]
     },
     "metadata": {},
     "output_type": "display_data"
    },
    {
     "name": "stdout",
     "output_type": "stream",
     "text": [
      "Validation | Epoch 100 | acc = 0.000\n",
      "Saving Model ...\n"
     ]
    }
   ],
   "source": [
    "num_epoch = 100\n",
    "validation = True\n",
    "logging_step = 100\n",
    "learning_rate = 1e-4\n",
    "optimizer = AdamW(model.parameters(), lr=learning_rate)\n",
    "\n",
    "if fp16_training:\n",
    "    model, optimizer, train_loader = accelerator.prepare(model, optimizer, train_loader) \n",
    "\n",
    "model.train()\n",
    "\n",
    "print(\"Start Training ...\")\n",
    "\n",
    "for epoch in range(num_epoch):\n",
    "    step = 1\n",
    "    train_loss = train_acc = 0\n",
    "    \n",
    "    for data in tqdm(train_loader):\t\n",
    "        # Load all data into GPU\n",
    "        data = [i.to(device) for i in data]\n",
    "        \n",
    "        # Model inputs: input_ids, token_type_ids, attention_mask, start_positions, end_positions (Note: only \"input_ids\" is mandatory)\n",
    "        # Model outputs: start_logits, end_logits, loss (return when start_positions/end_positions are provided)  \n",
    "        output = model(input_ids=data[0], token_type_ids=data[1], attention_mask=data[2], start_positions=data[3], end_positions=data[4])\n",
    "\n",
    "        # Choose the most probable start position / end position\n",
    "        start_index = torch.argmax(output.start_logits, dim=1)\n",
    "        end_index = torch.argmax(output.end_logits, dim=1)\n",
    "        \n",
    "        # Prediction is correct only if both start_index and end_index are correct\n",
    "        train_acc += ((start_index == data[3]) & (end_index == data[4])).float().mean()\n",
    "        train_loss += output.loss\n",
    "        \n",
    "        if fp16_training:\n",
    "            accelerator.backward(output.loss)\n",
    "        else:\n",
    "            output.loss.backward()\n",
    "        \n",
    "        optimizer.step()\n",
    "        optimizer.zero_grad()\n",
    "        step += 1\n",
    "\n",
    "        ##### TODO: Apply linear learning rate decay #####\n",
    "        \n",
    "        \n",
    "        # Print training loss and accuracy over past logging step\n",
    "        if step % logging_step == 0:\n",
    "            print(f\"Epoch {epoch + 1} | Step {step} | loss = {train_loss.item() / logging_step:.3f}, acc = {train_acc / logging_step:.3f}\")\n",
    "            train_loss = train_acc = 0\n",
    "\n",
    "    if validation:\n",
    "        print(\"Evaluating Dev Set ...\")\n",
    "        model.eval()\n",
    "        with torch.no_grad():\n",
    "            dev_acc = 0\n",
    "            for i, data in enumerate(tqdm(dev_loader)):\n",
    "                output = model(input_ids=data[0].squeeze(dim=0).to(device), token_type_ids=data[1].squeeze(dim=0).to(device),\n",
    "                       attention_mask=data[2].squeeze(dim=0).to(device))\n",
    "                # prediction is correct only if answer text exactly matches\n",
    "                dev_acc += evaluate(data, output) == dev_questions[i][\"answer_text\"]\n",
    "            print(f\"Validation | Epoch {epoch + 1} | acc = {dev_acc / len(dev_loader):.3f}\")\n",
    "        model.train()\n",
    "\n",
    "# Save a model and its configuration file to the directory 「saved_model」 \n",
    "# i.e. there are two files under the direcory 「saved_model」: 「pytorch_model.bin」 and 「config.json」\n",
    "# Saved model can be re-loaded using 「model = BertForQuestionAnswering.from_pretrained(\"saved_model\")」\n",
    "print(\"Saving Model ...\")\n",
    "model_save_dir = \"saved_model\" \n",
    "model.save_pretrained(model_save_dir)"
   ]
  },
  {
   "cell_type": "code",
   "execution_count": 16,
   "id": "a771c1c8-9385-47aa-93cb-ed1951fd2431",
   "metadata": {},
   "outputs": [
    {
     "name": "stdout",
     "output_type": "stream",
     "text": [
      "Evaluating Test Set ...\n"
     ]
    },
    {
     "data": {
      "application/vnd.jupyter.widget-view+json": {
       "model_id": "63e954a214d2495da7d41d5c572f5481",
       "version_major": 2,
       "version_minor": 0
      },
      "text/plain": [
       "  0%|          | 0/4957 [00:00<?, ?it/s]"
      ]
     },
     "metadata": {},
     "output_type": "display_data"
    },
    {
     "name": "stdout",
     "output_type": "stream",
     "text": [
      "Completed! Result is in result.csv\n"
     ]
    }
   ],
   "source": [
    "print(\"Evaluating Test Set ...\")\n",
    "\n",
    "result = []\n",
    "\n",
    "model.eval()\n",
    "with torch.no_grad():\n",
    "    for data in tqdm(test_loader):\n",
    "        output = model(input_ids=data[0].squeeze(dim=0).to(device), token_type_ids=data[1].squeeze(dim=0).to(device),\n",
    "                       attention_mask=data[2].squeeze(dim=0).to(device))\n",
    "        result.append(evaluate(data, output))\n",
    "\n",
    "result_file = \"result.csv\"\n",
    "with open(result_file, 'w') as f:\t\n",
    "\t  f.write(\"ID,Answer\\n\")\n",
    "\t  for i, test_question in enumerate(test_questions):\n",
    "        # Replace commas in answers with empty strings (since csv is separated by comma)\n",
    "        # Answers in kaggle are processed in the same way\n",
    "\t\t    f.write(f\"{test_question['id']},{result[i].replace(',','')}\\n\")\n",
    "\n",
    "print(f\"Completed! Result is in {result_file}\")"
   ]
  }
 ],
 "metadata": {
  "kernelspec": {
   "display_name": "knowledgegraphcommon-py3.8",
   "language": "python",
   "name": "knowledgegraphcommon-py3.8"
  },
  "language_info": {
   "codemirror_mode": {
    "name": "ipython",
    "version": 3
   },
   "file_extension": ".py",
   "mimetype": "text/x-python",
   "name": "python",
   "nbconvert_exporter": "python",
   "pygments_lexer": "ipython3",
   "version": "3.8.12"
  }
 },
 "nbformat": 4,
 "nbformat_minor": 5
}
